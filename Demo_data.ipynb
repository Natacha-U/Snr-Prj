{
 "cells": [
  {
   "cell_type": "code",
   "execution_count": 2,
   "id": "secondary-paragraph",
   "metadata": {},
   "outputs": [],
   "source": [
    "from astropy.io import fits\n",
    "import numpy as np\n",
    "import matplotlib.pyplot as plt\n",
    "from matplotlib import cm"
   ]
  },
  {
   "cell_type": "code",
   "execution_count": 62,
   "id": "oriented-execution",
   "metadata": {},
   "outputs": [],
   "source": [
    "# For demonstration perposes, the object is chosen at random from the sample list - \n",
    "# Nothing significant about it\n",
    "\n",
    "# data = fits.open('/Volumes/WD_External/MaNGA_Sample_with_[OIII]/manga-8318-6102-LOGCUBE.fits.gz')"
   ]
  },
  {
   "cell_type": "code",
   "execution_count": 24,
   "id": "exceptional-swiss",
   "metadata": {},
   "outputs": [],
   "source": [
    "# data.info()"
   ]
  },
  {
   "cell_type": "code",
   "execution_count": 25,
   "id": "alive-colombia",
   "metadata": {},
   "outputs": [],
   "source": [
    "# flux = np.transpose(data['FLUX'].data, axes=(2, 1, 0))"
   ]
  },
  {
   "cell_type": "code",
   "execution_count": 30,
   "id": "accurate-handbook",
   "metadata": {},
   "outputs": [],
   "source": [
    "# z = 0.129080"
   ]
  },
  {
   "cell_type": "code",
   "execution_count": 31,
   "id": "unique-italian",
   "metadata": {},
   "outputs": [],
   "source": [
    "# mask = np.transpose(data['MASK'].data, axes=(2, 1, 0))"
   ]
  },
  {
   "cell_type": "code",
   "execution_count": 32,
   "id": "endless-secret",
   "metadata": {},
   "outputs": [],
   "source": [
    "# wave = data['WAVE'].data"
   ]
  },
  {
   "cell_type": "code",
   "execution_count": 33,
   "id": "proprietary-genealogy",
   "metadata": {},
   "outputs": [],
   "source": [
    "# flux_header  = data['FLUX'].header"
   ]
  },
  {
   "cell_type": "code",
   "execution_count": 57,
   "id": "manual-porter",
   "metadata": {},
   "outputs": [],
   "source": [
    "# x_center = int(flux_header['CRPIX1']) - 1\n",
    "# y_center = int(flux_header['CRPIX2']) - 1\n",
    "\n",
    "# do_not_use = (mask & 2**10) != 0\n",
    "# flux_m = np.ma.array(flux, mask=do_not_use)\n",
    "\n",
    "# redshift = 0.131681\n",
    "# ind_wave = np.where((wave / (1 + redshift) > 5000) & (wave / (1 + redshift) < 5150))[0]\n",
    "# halpha = flux_m[:, :, ind_wave].sum(axis=2)\n",
    "# im = halpha.T\n",
    "\n",
    "# # Convert from array indices to arcsec relative to IFU center\n",
    "# dx = flux_header['CD1_1'] * 3600.  # deg to arcsec\n",
    "# dy = flux_header['CD2_2'] * 3600.  # deg to arcsec\n",
    "# x_extent = (np.array([0., im.shape[0]]) - (im.shape[0] - x_center)) * dx * (-1)\n",
    "# y_extent = (np.array([0., im.shape[1]]) - (im.shape[1] - y_center)) * dy\n",
    "# extent = [x_extent[0], x_extent[1], y_extent[0], y_extent[1]]"
   ]
  },
  {
   "cell_type": "code",
   "execution_count": 58,
   "id": "different-dubai",
   "metadata": {},
   "outputs": [],
   "source": [
    "# dimension = [0, len(flux[0]), 0, len(flux)]"
   ]
  },
  {
   "cell_type": "code",
   "execution_count": 60,
   "id": "timely-truck",
   "metadata": {},
   "outputs": [],
   "source": [
    "# plt.figure(figsize = (8,8))\n",
    "# # plt.grid()\n",
    "# plt.imshow(im, extent=dimension, cmap=cm.YlGnBu_r, vmin=0.1, vmax=100, origin='lower', interpolation='none')\n",
    "# plt.xlabel('pixels')\n",
    "# plt.ylabel('pixels')\n",
    "# plt.title('MaNGA ID = 1-284293')\n",
    "# plt.plot()\n",
    "# # plt.savefig('Images/demo_2d_pixels')"
   ]
  },
  {
   "cell_type": "code",
   "execution_count": 61,
   "id": "biological-bernard",
   "metadata": {},
   "outputs": [],
   "source": [
    "# plt.figure(figsize = (8,8))\n",
    "# # plt.grid()\n",
    "# plt.imshow(im, extent=extent, cmap=cm.YlGnBu_r, vmin=0.1, vmax=100, origin='lower', interpolation='none')\n",
    "# plt.xlabel('arcsec')\n",
    "# plt.ylabel('arcsec')\n",
    "# plt.title('MaNGA ID = 1-284293')\n",
    "# plt.plot()\n",
    "# # plt.savefig('Images/demo_2d')"
   ]
  },
  {
   "cell_type": "code",
   "execution_count": 54,
   "id": "uniform-newcastle",
   "metadata": {},
   "outputs": [],
   "source": [
    "def imageGenerator(data, z, mangaID):\n",
    "    flux = np.transpose(data['FLUX'].data, axes=(2, 1, 0))\n",
    "    mask = np.transpose(data['MASK'].data, axes=(2, 1, 0))\n",
    "    wave = data['WAVE'].data\n",
    "    flux_header  = data['FLUX'].header\n",
    "    \n",
    "    x_center = int(flux_header['CRPIX1']) - 1\n",
    "    y_center = int(flux_header['CRPIX2']) - 1\n",
    "\n",
    "    do_not_use = (mask & 2**10) != 0\n",
    "    flux_m = np.ma.array(flux, mask=do_not_use)\n",
    "\n",
    "    redshift = 0.131681\n",
    "    ind_wave = np.where((wave / (1 + redshift) > 5000) & (wave / (1 + redshift) < 5150))[0]\n",
    "    halpha = flux_m[:, :, ind_wave].sum(axis=2)\n",
    "    im = halpha.T\n",
    "\n",
    "    # Convert from array indices to arcsec relative to IFU center\n",
    "    dx = flux_header['CD1_1'] * 3600.  # deg to arcsec\n",
    "    dy = flux_header['CD2_2'] * 3600.  # deg to arcsec\n",
    "\n",
    "    dimension = [0, len(flux[0]), 0, len(flux)]\n",
    "    \n",
    "    plt.figure(figsize = (8,8))\n",
    "    plt.imshow(im, extent=dimension, cmap=cm.YlGnBu_r, vmin=0.1, vmax=100, origin='lower', interpolation='none')\n",
    "    plt.xlabel('pixels')\n",
    "    plt.ylabel('pixels')\n",
    "    plt.title('MaNGA ID = ', mangaID)\n",
    "    plt.plot()"
   ]
  },
  {
   "cell_type": "code",
   "execution_count": null,
   "id": "dedicated-jefferson",
   "metadata": {},
   "outputs": [],
   "source": []
  },
  {
   "cell_type": "code",
   "execution_count": 43,
   "id": "reduced-service",
   "metadata": {},
   "outputs": [],
   "source": [
    "# n = len(flux[0])\n",
    "# sumflux = [0.]*(4563)\n",
    "\n",
    "# for i in range(n):\n",
    "#     for j in range(n):\n",
    "#         sumflux = [sum(x) for x in zip(sumflux,flux[i][j])]"
   ]
  },
  {
   "cell_type": "code",
   "execution_count": 44,
   "id": "unnecessary-column",
   "metadata": {},
   "outputs": [],
   "source": [
    "# plt.figure(figsize = (17,7))\n",
    "# plt.grid()\n",
    "# plt.xlabel('Observed Wavelength (ang)')\n",
    "# plt.ylabel('Flux Density')\n",
    "# plt.ylim(0,800)\n",
    "# # plt.xlim(6500,6600)\n",
    "# # plt.vlines(x=[5550,5600], ymin = min(sumflux), ymax = max(sumflux), linewidth = 3)\n",
    "# plt.vlines(x=[4840,4880], ymin = min(sumflux), ymax = max(sumflux), color = 'orange', linewidth = 3)\n",
    "# plt.axvline(5007, color = 'mediumseagreen', linewidth = 3)\n",
    "# plt.title('MaNGA ID = 1-109308')\n",
    "# plt.plot(wave, sumflux, color = 'darkmagenta')\n",
    "# # plt.savefig('Screenshots_/Demo_flux_density', bbox_inches= \"tight\")"
   ]
  },
  {
   "cell_type": "code",
   "execution_count": 45,
   "id": "liable-falls",
   "metadata": {},
   "outputs": [],
   "source": [
    "# emitwave = np.array(wave) / (1+0.135043)"
   ]
  },
  {
   "cell_type": "code",
   "execution_count": 46,
   "id": "bright-subject",
   "metadata": {},
   "outputs": [],
   "source": [
    "# plt.figure(figsize = (17,7))\n",
    "# plt.grid()\n",
    "# plt.xlabel('Emitted Wavelength (ang)')\n",
    "# plt.ylabel('Flux Density')\n",
    "# plt.ylim(0,800)\n",
    "# plt.xlim(4200,5020)\n",
    "# plt.vlines(x=[4900,4950], ymin = min(sumflux), ymax = max(sumflux), linewidth = 3)\n",
    "# plt.vlines(x=[4280,4320], ymin = min(sumflux), ymax = max(sumflux), color = 'orange', linewidth = 3)\n",
    "# plt.axvline(5007, color = 'mediumseagreen', linewidth = 3)\n",
    "# plt.title('MaNGA ID = 1-109308')\n",
    "# plt.plot(emitwave, sumflux, color = 'darkmagenta')\n",
    "# # plt.savefig('Screenshots_/Demo_flux_density', bbox_inches= \"tight\")"
   ]
  },
  {
   "cell_type": "code",
   "execution_count": null,
   "id": "incorporate-hartford",
   "metadata": {},
   "outputs": [],
   "source": []
  },
  {
   "cell_type": "code",
   "execution_count": 47,
   "id": "centered-appointment",
   "metadata": {},
   "outputs": [],
   "source": [
    "# data1 = fits.open('/Volumes/WD_External/MaNGA_Sample/manga-7815-3701-LOGCUBE.fits.gz')"
   ]
  },
  {
   "cell_type": "code",
   "execution_count": 48,
   "id": "subject-spotlight",
   "metadata": {},
   "outputs": [],
   "source": [
    "# flux1 = np.transpose(data1['FLUX'].data, axes=(2, 1, 0))\n",
    "\n",
    "# z1 = 0.136342\n",
    "\n",
    "# mask1 = np.transpose(data1['MASK'].data, axes=(2, 1, 0))\n",
    "\n",
    "# wave1 = data1['WAVE'].data"
   ]
  },
  {
   "cell_type": "code",
   "execution_count": 49,
   "id": "separate-apparel",
   "metadata": {},
   "outputs": [],
   "source": [
    "# n1 = len(flux1[0])\n",
    "# sumflux1 = [0.]*(4563)\n",
    "\n",
    "# for i in range(n1):\n",
    "#     for j in range(n1):\n",
    "#         sumflux1 = [sum(x) for x in zip(sumflux1,flux1[i][j])]"
   ]
  },
  {
   "cell_type": "code",
   "execution_count": 50,
   "id": "above-check",
   "metadata": {},
   "outputs": [],
   "source": [
    "# plt.figure(figsize = (17,7))\n",
    "# plt.grid()\n",
    "# plt.xlabel('Observed Wavelength (ang)')\n",
    "# plt.ylabel('Flux Density')\n",
    "# plt.ylim(0,100)\n",
    "# # plt.xlim(4800,6000)\n",
    "# plt.vlines(x=[5550,5600], ymin = min(sumflux), ymax = max(sumflux), linewidth = 3)\n",
    "# # plt.vlines(x=[4840,4880], ymin = min(sumflux), ymax = max(sumflux), color = 'orange', linewidth = 3)\n",
    "# # plt.axvline(5007, color = 'mediumseagreen', linewidth = 3)\n",
    "# plt.title('MaNGA ID = 1-113468')\n",
    "# plt.plot(wave1, sumflux1, color = 'darkmagenta')\n",
    "# # plt.savefig('Screenshots_/Demo_flux_density', bbox_inches= \"tight\")"
   ]
  },
  {
   "cell_type": "code",
   "execution_count": 51,
   "id": "adverse-apple",
   "metadata": {},
   "outputs": [],
   "source": [
    "# emitwave1 = np.array(wave1) / (1+0.136342)"
   ]
  },
  {
   "cell_type": "code",
   "execution_count": 52,
   "id": "legitimate-letters",
   "metadata": {},
   "outputs": [],
   "source": [
    "# plt.figure(figsize = (17,7))\n",
    "# plt.grid()\n",
    "# plt.xlabel('Emitted Wavelength (ang)')\n",
    "# plt.ylabel('Flux Density')\n",
    "# plt.ylim(-400,800)\n",
    "# plt.xlim(4200,5500)\n",
    "# plt.vlines(x=[4880,4930], ymin = min(sumflux), ymax = max(sumflux), linewidth = 3)\n",
    "# # plt.vlines(x=[4280,4320], ymin = min(sumflux), ymax = max(sumflux), color = 'orange', linewidth = 3)\n",
    "# # plt.axvline(5007, color = 'mediumseagreen', linewidth = 3)\n",
    "# plt.title('MaNGA ID = 1-113468')\n",
    "# plt.plot(emitwave1, sumflux1, color = 'darkmagenta')\n",
    "# # plt.savefig('Screenshots_/Demo_flux_density', bbox_inches= \"tight\")"
   ]
  },
  {
   "cell_type": "code",
   "execution_count": null,
   "id": "pregnant-perry",
   "metadata": {},
   "outputs": [],
   "source": []
  }
 ],
 "metadata": {
  "kernelspec": {
   "display_name": "Python 3",
   "language": "python",
   "name": "python3"
  },
  "language_info": {
   "codemirror_mode": {
    "name": "ipython",
    "version": 3
   },
   "file_extension": ".py",
   "mimetype": "text/x-python",
   "name": "python",
   "nbconvert_exporter": "python",
   "pygments_lexer": "ipython3",
   "version": "3.7.9"
  }
 },
 "nbformat": 4,
 "nbformat_minor": 5
}
