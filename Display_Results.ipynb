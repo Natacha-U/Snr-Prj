{
 "cells": [
  {
   "cell_type": "code",
   "execution_count": 1,
   "id": "million-daisy",
   "metadata": {},
   "outputs": [],
   "source": [
    "import numpy as np\n",
    "import matplotlib.pyplot as plt\n",
    "from io import StringIO\n",
    "import pandas as pd"
   ]
  },
  {
   "cell_type": "code",
   "execution_count": 2,
   "id": "wrapped-arrest",
   "metadata": {},
   "outputs": [],
   "source": [
    "mangaid = ['1-22948', \n",
    "           '1-258599',\n",
    "           '1-269632', \n",
    "           '1-284293', \n",
    "           '1-43214', \n",
    "           '1-574402', \n",
    "           '1-72322']"
   ]
  },
  {
   "cell_type": "code",
   "execution_count": 3,
   "id": "caroline-establishment",
   "metadata": {},
   "outputs": [],
   "source": [
    "# log(BHM / M_sol)\n",
    "# With the subtraction\n",
    "\n",
    "BHM = np.array([6.71948883891525, \n",
    "                7.33128032916919, \n",
    "                6.839322249505392, \n",
    "                6.827554980631541, \n",
    "                7.681937925706926, \n",
    "                7.0965842507199905, \n",
    "                7.123886031520744])\n",
    "\n",
    "BHM_ub = np.array([6.8269667680669635,\n",
    "                  7.4345306610627935,\n",
    "                  7.001535501567974,\n",
    "                  6.9721968203332105,\n",
    "                  7.776998486988183,\n",
    "                  7.152161602269709,\n",
    "                  7.1647433217242265])\n",
    "\n",
    "BHM_lb = np.array([6.624029835721038,\n",
    "                  7.218649709251427,\n",
    "                  6.686113578192184,\n",
    "                  6.724212947960884,\n",
    "                  7.58675043978049,\n",
    "                  7.048771820893122,\n",
    "                  7.096588344779924])"
   ]
  },
  {
   "cell_type": "code",
   "execution_count": 4,
   "id": "mounted-title",
   "metadata": {},
   "outputs": [
    {
     "data": {
      "text/plain": [
       "[array([0.10747793, 0.10325033, 0.16221325, 0.14464184, 0.09506056,\n",
       "        0.05557735, 0.04085729]),\n",
       " array([0.095459  , 0.11263062, 0.15320867, 0.10334203, 0.09518749,\n",
       "        0.04781243, 0.02729769])]"
      ]
     },
     "execution_count": 4,
     "metadata": {},
     "output_type": "execute_result"
    }
   ],
   "source": [
    "BHM_ub_diff = BHM_ub - BHM\n",
    "BHM_lb_diff = BHM - BHM_lb\n",
    "BHM_error = [BHM_ub_diff, BHM_lb_diff]\n",
    "BHM_error"
   ]
  },
  {
   "cell_type": "code",
   "execution_count": 5,
   "id": "directed-opposition",
   "metadata": {},
   "outputs": [],
   "source": [
    "lum = np.array([7.730212704307023, \n",
    "                8.342004194560964, \n",
    "                7.850046114897165, \n",
    "                7.838278846023314,\n",
    "                8.692661791098699, \n",
    "                8.107308116111763, \n",
    "                8.134609896912517])\n",
    "\n",
    "lum_ub = np.array([7.837690633458736,\n",
    "                  8.445254526454567,\n",
    "                  8.012259366959748,\n",
    "                  7.9829206857249835,\n",
    "                  8.787722352379955,\n",
    "                  8.162885467661482,\n",
    "                  8.175467187116])\n",
    "\n",
    "lum_lb = np.array([7.634753701112811,\n",
    "                  8.2293735746432,\n",
    "                  7.696837443583957,\n",
    "                  7.734936813352657,\n",
    "                  8.597474305172263,\n",
    "                  8.059495686284894,\n",
    "                  8.107312210171697])"
   ]
  },
  {
   "cell_type": "code",
   "execution_count": 6,
   "id": "ordered-agreement",
   "metadata": {},
   "outputs": [
    {
     "data": {
      "text/plain": [
       "[array([0.10747793, 0.10325033, 0.16221325, 0.14464184, 0.09506056,\n",
       "        0.05557735, 0.04085729]),\n",
       " array([0.095459  , 0.11263062, 0.15320867, 0.10334203, 0.09518749,\n",
       "        0.04781243, 0.02729769])]"
      ]
     },
     "execution_count": 6,
     "metadata": {},
     "output_type": "execute_result"
    }
   ],
   "source": [
    "lum_ub_diff = lum_ub - lum\n",
    "lum_lb_diff = lum - lum_lb\n",
    "lum_error = [lum_ub_diff, lum_lb_diff]\n",
    "lum_error"
   ]
  },
  {
   "cell_type": "code",
   "execution_count": 7,
   "id": "anticipated-excitement",
   "metadata": {},
   "outputs": [
    {
     "name": "stdout",
     "output_type": "stream",
     "text": [
      "0.09545900319421197 0.09545900319421197\n",
      "True\n",
      "0.11263061991776446 0.11263061991776357\n",
      "False\n",
      "0.1532086713132088 0.15320867131320792\n",
      "False\n",
      "0.10334203267065778 0.10334203267065778\n",
      "True\n",
      "0.09518748592643611 0.09518748592643611\n",
      "True\n",
      "0.04781242982686962 0.04781242982686873\n",
      "False\n",
      "0.02729768674081967 0.02729768674081967\n",
      "True\n"
     ]
    }
   ],
   "source": [
    "for i in range(7):\n",
    "#     print(i)\n",
    "    print(lum_error[1][i], BHM_error[1][i])\n",
    "    print(lum_error[1][i] == BHM_error[1][i])"
   ]
  },
  {
   "cell_type": "code",
   "execution_count": 8,
   "id": "appointed-purse",
   "metadata": {},
   "outputs": [],
   "source": [
    "x = [1,2,3,4,5,6,7]"
   ]
  },
  {
   "cell_type": "code",
   "execution_count": 9,
   "id": "continuous-founder",
   "metadata": {},
   "outputs": [],
   "source": [
    "lum_dist = np.array([556.7,\n",
    "                     587.9,\n",
    "                     617.7,\n",
    "                     605.6,\n",
    "                     549.6,\n",
    "                     620.5,\n",
    "                     590.8])"
   ]
  },
  {
   "cell_type": "code",
   "execution_count": 10,
   "id": "norman-tsunami",
   "metadata": {},
   "outputs": [],
   "source": [
    "flux = np.array([557.2728773803908,\n",
    "                2044.0660206541372,\n",
    "                596.4699334581728,\n",
    "                603.9552456592205,\n",
    "                5244.039902714659,\n",
    "                1068.8633578390657,\n",
    "                1255.528479208609])"
   ]
  },
  {
   "cell_type": "code",
   "execution_count": 11,
   "id": "closing-corner",
   "metadata": {},
   "outputs": [],
   "source": [
    "flux_ub = np.array([713.74953036226,\n",
    "                   2592.6581097198673,\n",
    "                   866.5663264114205,\n",
    "                   842.6487820321281,\n",
    "                   6527.19442114737,\n",
    "                   1214.78533557637,\n",
    "                   1379.3797895449093])\n",
    "flux_ub_diff = flux_ub - flux"
   ]
  },
  {
   "cell_type": "code",
   "execution_count": 12,
   "id": "spoken-outdoors",
   "metadata": {},
   "outputs": [],
   "source": [
    "flux_lb = np.array([447.3103047062093,\n",
    "                   1577.1184010857412,\n",
    "                   419.1600519950521,\n",
    "                   476.06113206429995,\n",
    "                   4211.904366279141,\n",
    "                   957.4360135685508,\n",
    "                   1179.0409294591475])\n",
    "flux_lb_diff = flux - flux_lb"
   ]
  },
  {
   "cell_type": "code",
   "execution_count": 13,
   "id": "italic-resort",
   "metadata": {},
   "outputs": [
    {
     "data": {
      "text/plain": [
       "[array([ 109.96257267,  466.94761957,  177.30988146,  127.89411359,\n",
       "        1032.13553644,  111.42734427,   76.48754975]),\n",
       " array([ 156.47665298,  548.59208907,  270.09639295,  238.69353637,\n",
       "        1283.15451843,  145.92197774,  123.85131034])]"
      ]
     },
     "execution_count": 13,
     "metadata": {},
     "output_type": "execute_result"
    }
   ],
   "source": [
    "asymmetric_error = [flux_lb_diff, flux_ub_diff]\n",
    "asymmetric_error"
   ]
  },
  {
   "cell_type": "code",
   "execution_count": 14,
   "id": "relevant-signature",
   "metadata": {},
   "outputs": [],
   "source": [
    "x_axis = np.arange(len(mangaid))"
   ]
  },
  {
   "cell_type": "markdown",
   "id": "treated-cartridge",
   "metadata": {},
   "source": [
    "### BH mass"
   ]
  },
  {
   "cell_type": "code",
   "execution_count": 15,
   "id": "remarkable-showcase",
   "metadata": {},
   "outputs": [],
   "source": [
    "# plt.figure(figsize = (15, 8))\n",
    "# plt.grid()\n",
    "# plt.xlabel('mangaid')\n",
    "# plt.ylabel('log(M_BH / M_sol)')\n",
    "# plt.bar(x_axis - 0.2, BHM, 0.4, color = 'deeppink', label = 'with subtraction')\n",
    "# plt.bar(x_axis + 0.2, BHM_without_subtract, 0.4, color = 'cyan', label = 'without subtraction')\n",
    "# plt.xticks(x_axis, mangaid)\n",
    "# plt.legend()\n",
    "# plt.title('BH MASS')\n",
    "# # plt.savefig('Images/bar_BHM.png', bbox_inches = 'tight')"
   ]
  },
  {
   "cell_type": "code",
   "execution_count": 16,
   "id": "alternative-reggae",
   "metadata": {},
   "outputs": [],
   "source": [
    "# plt.figure(figsize = (15,7))\n",
    "# plt.grid()\n",
    "# plt.ylim(0,8.5)\n",
    "# plt.scatter(mangaid, BHM, s = 100, color = 'tomato', marker = '*', label = 'with subtraction')\n",
    "# plt.scatter(mangaid, BHM_without_subtract, s = 130, color = 'limegreen', marker = '*', \n",
    "#             label = 'without subtraction')\n",
    "# plt.legend()\n",
    "# plt.xlabel('mangaid')\n",
    "# plt.ylabel('log(M_BH / M_sol)')\n",
    "# plt.title('BH MASS')\n",
    "# # plt.savefig('Images/scatter_BHM.png', bbox_inches = 'tight')"
   ]
  },
  {
   "cell_type": "markdown",
   "id": "qualified-celebration",
   "metadata": {},
   "source": [
    "### Luminosity"
   ]
  },
  {
   "cell_type": "code",
   "execution_count": 17,
   "id": "actual-specification",
   "metadata": {},
   "outputs": [],
   "source": [
    "# plt.figure(figsize = (15, 8))\n",
    "# plt.grid()\n",
    "# plt.xlabel('mangaid')\n",
    "# plt.ylabel('log(luminosity / sol_lum)')\n",
    "# plt.bar(x_axis - 0.2, lum, 0.4, color = 'yellow', label = 'with subtraction')\n",
    "# plt.bar(x_axis + 0.2, lum_without_subtract, 0.4, color = 'darkorchid', label = 'without subtraction')\n",
    "# plt.xticks(x_axis, mangaid)\n",
    "# plt.legend()\n",
    "# plt.title('Luminosity')\n",
    "# # plt.savefig('Images/bar_luminosity.png', bbox_inches = 'tight')"
   ]
  },
  {
   "cell_type": "code",
   "execution_count": 18,
   "id": "pharmaceutical-amplifier",
   "metadata": {},
   "outputs": [],
   "source": [
    "# plt.figure(figsize = (15,7))\n",
    "# plt.grid()\n",
    "# plt.ylim(0,10)\n",
    "# plt.scatter(mangaid, lum, s = 100, color = 'turquoise', marker = '*', label = 'with subtraction')\n",
    "# plt.scatter(mangaid, lum_without_subtract, s = 130, color = 'fuchsia', marker = '*', \n",
    "#             label = 'without subtraction')\n",
    "# plt.legend()\n",
    "# plt.xlabel('mangaid')\n",
    "# plt.ylabel('log(luminosity / sol_lum)')\n",
    "# plt.title('Luminosity')\n",
    "# # plt.savefig('Images/scatter_luminosity.png', bbox_inches = 'tight')"
   ]
  },
  {
   "cell_type": "markdown",
   "id": "prepared-discrimination",
   "metadata": {},
   "source": [
    "## Why...just why ? "
   ]
  },
  {
   "cell_type": "code",
   "execution_count": 19,
   "id": "loving-brave",
   "metadata": {},
   "outputs": [],
   "source": [
    "# plt.figure(figsize = (18,10))\n",
    "# plt.grid()\n",
    "# plt.xlabel('log [OIII] luminosity (in solar luminosity)')\n",
    "# plt.ylabel('log MBH (in solar mass)')\n",
    "# plt.scatter(lum, BHM, marker = 'o', color = 'dodgerblue')\n",
    "\n",
    "# a, b = np.polyfit(lum, BHM, 1)\n",
    "# plt.plot(lum, a*lum + b, linewidth = 0.5, color = 'salmon')\n",
    "\n",
    "# for i in range(len(mangaid)):\n",
    "#     plt.text(lum[i], BHM[i], '({})'.format(mangaid[i]))\n",
    "\n",
    "# # plt.savefig('Images/Expectations.png')"
   ]
  },
  {
   "cell_type": "markdown",
   "id": "gothic-ratio",
   "metadata": {},
   "source": [
    "## [OIII] lum from the file"
   ]
  },
  {
   "cell_type": "code",
   "execution_count": 20,
   "id": "hydraulic-luxembourg",
   "metadata": {},
   "outputs": [],
   "source": [
    "# convert txt to csv and make dataframe\n",
    "df = pd.read_csv('/Users/natachaupra/Desktop/Snr_Prj/Snr-Prj/DAP.csv', sep=',')"
   ]
  },
  {
   "cell_type": "code",
   "execution_count": 21,
   "id": "norman-combat",
   "metadata": {},
   "outputs": [],
   "source": [
    "df1 = df.copy()"
   ]
  },
  {
   "cell_type": "code",
   "execution_count": 22,
   "id": "obvious-helicopter",
   "metadata": {},
   "outputs": [],
   "source": [
    "pd.set_option(\"display.max_rows\", None)\n",
    "# df1"
   ]
  },
  {
   "cell_type": "code",
   "execution_count": 23,
   "id": "super-crack",
   "metadata": {},
   "outputs": [],
   "source": [
    "df2 = df1[['mangaid', 'dapdone','emline_sflux_cen_oiii_5008', 'emline_sflux_1re_oiii_5008', \n",
    "           'emline_sflux_tot_oiii_5008','emline_ssb_1re_oiii_5008', 'emline_ssb_peak_oiii_5008', \n",
    "           'emline_sew_1re_oiii_5008', 'emline_sflux_cen_oiii_5008', 'ldist_nsa_z', 'stellar_sigma_1re']]"
   ]
  },
  {
   "cell_type": "code",
   "execution_count": 24,
   "id": "talented-douglas",
   "metadata": {},
   "outputs": [],
   "source": [
    "df4 = df1[['emline_gflux_cen_oiii_5008', 'emline_gflux_1re_oiii_5008', 'emline_gflux_tot_oiii_5008',\n",
    "          'emline_gsb_1re_oiii_5008', 'emline_gsb_peak_oiii_5008', 'emline_gew_1re_oiii_5008', \n",
    "          'emline_gew_peak_oiii_5008']]"
   ]
  },
  {
   "cell_type": "code",
   "execution_count": 25,
   "id": "enormous-wellington",
   "metadata": {},
   "outputs": [
    {
     "data": {
      "text/html": [
       "<div>\n",
       "<style scoped>\n",
       "    .dataframe tbody tr th:only-of-type {\n",
       "        vertical-align: middle;\n",
       "    }\n",
       "\n",
       "    .dataframe tbody tr th {\n",
       "        vertical-align: top;\n",
       "    }\n",
       "\n",
       "    .dataframe thead th {\n",
       "        text-align: right;\n",
       "    }\n",
       "</style>\n",
       "<table border=\"1\" class=\"dataframe\">\n",
       "  <thead>\n",
       "    <tr style=\"text-align: right;\">\n",
       "      <th></th>\n",
       "      <th>mangaid</th>\n",
       "      <th>dapdone</th>\n",
       "      <th>emline_sflux_cen_oiii_5008</th>\n",
       "      <th>emline_sflux_1re_oiii_5008</th>\n",
       "      <th>emline_sflux_tot_oiii_5008</th>\n",
       "      <th>emline_ssb_1re_oiii_5008</th>\n",
       "      <th>emline_ssb_peak_oiii_5008</th>\n",
       "      <th>emline_sew_1re_oiii_5008</th>\n",
       "      <th>emline_sflux_cen_oiii_5008</th>\n",
       "      <th>ldist_nsa_z</th>\n",
       "      <th>stellar_sigma_1re</th>\n",
       "    </tr>\n",
       "  </thead>\n",
       "  <tbody>\n",
       "    <tr>\n",
       "      <th>8</th>\n",
       "      <td>1-22948</td>\n",
       "      <td>True</td>\n",
       "      <td>421.8831</td>\n",
       "      <td>825.0736</td>\n",
       "      <td>880.6146</td>\n",
       "      <td>5.15671</td>\n",
       "      <td>26.3755</td>\n",
       "      <td>10.89063</td>\n",
       "      <td>421.8831</td>\n",
       "      <td>389.6841</td>\n",
       "      <td>135.54</td>\n",
       "    </tr>\n",
       "  </tbody>\n",
       "</table>\n",
       "</div>"
      ],
      "text/plain": [
       "   mangaid  dapdone  emline_sflux_cen_oiii_5008  emline_sflux_1re_oiii_5008  \\\n",
       "8  1-22948     True                    421.8831                    825.0736   \n",
       "\n",
       "   emline_sflux_tot_oiii_5008  emline_ssb_1re_oiii_5008  \\\n",
       "8                    880.6146                   5.15671   \n",
       "\n",
       "   emline_ssb_peak_oiii_5008  emline_sew_1re_oiii_5008  \\\n",
       "8                    26.3755                  10.89063   \n",
       "\n",
       "   emline_sflux_cen_oiii_5008  ldist_nsa_z  stellar_sigma_1re  \n",
       "8                    421.8831     389.6841             135.54  "
      ]
     },
     "execution_count": 25,
     "metadata": {},
     "output_type": "execute_result"
    }
   ],
   "source": [
    "df2.loc[df2['mangaid'] == mangaid[0]]"
   ]
  },
  {
   "cell_type": "code",
   "execution_count": 26,
   "id": "liked-charity",
   "metadata": {},
   "outputs": [
    {
     "data": {
      "text/html": [
       "<div>\n",
       "<style scoped>\n",
       "    .dataframe tbody tr th:only-of-type {\n",
       "        vertical-align: middle;\n",
       "    }\n",
       "\n",
       "    .dataframe tbody tr th {\n",
       "        vertical-align: top;\n",
       "    }\n",
       "\n",
       "    .dataframe thead th {\n",
       "        text-align: right;\n",
       "    }\n",
       "</style>\n",
       "<table border=\"1\" class=\"dataframe\">\n",
       "  <thead>\n",
       "    <tr style=\"text-align: right;\">\n",
       "      <th></th>\n",
       "      <th>mangaid</th>\n",
       "      <th>dapdone</th>\n",
       "      <th>emline_sflux_cen_oiii_5008</th>\n",
       "      <th>emline_sflux_1re_oiii_5008</th>\n",
       "      <th>emline_sflux_tot_oiii_5008</th>\n",
       "      <th>emline_ssb_1re_oiii_5008</th>\n",
       "      <th>emline_ssb_peak_oiii_5008</th>\n",
       "      <th>emline_sew_1re_oiii_5008</th>\n",
       "      <th>emline_sflux_cen_oiii_5008</th>\n",
       "      <th>ldist_nsa_z</th>\n",
       "      <th>stellar_sigma_1re</th>\n",
       "    </tr>\n",
       "  </thead>\n",
       "  <tbody>\n",
       "    <tr>\n",
       "      <th>84</th>\n",
       "      <td>1-258599</td>\n",
       "      <td>True</td>\n",
       "      <td>937.6492</td>\n",
       "      <td>2095.584</td>\n",
       "      <td>2586.609</td>\n",
       "      <td>18.38232</td>\n",
       "      <td>60.21983</td>\n",
       "      <td>36.82235</td>\n",
       "      <td>937.6492</td>\n",
       "      <td>411.5134</td>\n",
       "      <td>363.1804</td>\n",
       "    </tr>\n",
       "  </tbody>\n",
       "</table>\n",
       "</div>"
      ],
      "text/plain": [
       "     mangaid  dapdone  emline_sflux_cen_oiii_5008  emline_sflux_1re_oiii_5008  \\\n",
       "84  1-258599     True                    937.6492                    2095.584   \n",
       "\n",
       "    emline_sflux_tot_oiii_5008  emline_ssb_1re_oiii_5008  \\\n",
       "84                    2586.609                  18.38232   \n",
       "\n",
       "    emline_ssb_peak_oiii_5008  emline_sew_1re_oiii_5008  \\\n",
       "84                   60.21983                  36.82235   \n",
       "\n",
       "    emline_sflux_cen_oiii_5008  ldist_nsa_z  stellar_sigma_1re  \n",
       "84                    937.6492     411.5134           363.1804  "
      ]
     },
     "execution_count": 26,
     "metadata": {},
     "output_type": "execute_result"
    }
   ],
   "source": [
    "df2.loc[df2['mangaid'] == mangaid[1]]"
   ]
  },
  {
   "cell_type": "code",
   "execution_count": 27,
   "id": "wooden-consortium",
   "metadata": {},
   "outputs": [
    {
     "data": {
      "text/html": [
       "<div>\n",
       "<style scoped>\n",
       "    .dataframe tbody tr th:only-of-type {\n",
       "        vertical-align: middle;\n",
       "    }\n",
       "\n",
       "    .dataframe tbody tr th {\n",
       "        vertical-align: top;\n",
       "    }\n",
       "\n",
       "    .dataframe thead th {\n",
       "        text-align: right;\n",
       "    }\n",
       "</style>\n",
       "<table border=\"1\" class=\"dataframe\">\n",
       "  <thead>\n",
       "    <tr style=\"text-align: right;\">\n",
       "      <th></th>\n",
       "      <th>mangaid</th>\n",
       "      <th>dapdone</th>\n",
       "      <th>emline_sflux_cen_oiii_5008</th>\n",
       "      <th>emline_sflux_1re_oiii_5008</th>\n",
       "      <th>emline_sflux_tot_oiii_5008</th>\n",
       "      <th>emline_ssb_1re_oiii_5008</th>\n",
       "      <th>emline_ssb_peak_oiii_5008</th>\n",
       "      <th>emline_sew_1re_oiii_5008</th>\n",
       "      <th>emline_sflux_cen_oiii_5008</th>\n",
       "      <th>ldist_nsa_z</th>\n",
       "      <th>stellar_sigma_1re</th>\n",
       "    </tr>\n",
       "  </thead>\n",
       "  <tbody>\n",
       "    <tr>\n",
       "      <th>165</th>\n",
       "      <td>1-269632</td>\n",
       "      <td>True</td>\n",
       "      <td>310.3747</td>\n",
       "      <td>677.6347</td>\n",
       "      <td>763.6225</td>\n",
       "      <td>5.019516</td>\n",
       "      <td>19.89272</td>\n",
       "      <td>7.764029</td>\n",
       "      <td>310.3747</td>\n",
       "      <td>432.3984</td>\n",
       "      <td>126.7388</td>\n",
       "    </tr>\n",
       "  </tbody>\n",
       "</table>\n",
       "</div>"
      ],
      "text/plain": [
       "      mangaid  dapdone  emline_sflux_cen_oiii_5008  \\\n",
       "165  1-269632     True                    310.3747   \n",
       "\n",
       "     emline_sflux_1re_oiii_5008  emline_sflux_tot_oiii_5008  \\\n",
       "165                    677.6347                    763.6225   \n",
       "\n",
       "     emline_ssb_1re_oiii_5008  emline_ssb_peak_oiii_5008  \\\n",
       "165                  5.019516                   19.89272   \n",
       "\n",
       "     emline_sew_1re_oiii_5008  emline_sflux_cen_oiii_5008  ldist_nsa_z  \\\n",
       "165                  7.764029                    310.3747     432.3984   \n",
       "\n",
       "     stellar_sigma_1re  \n",
       "165           126.7388  "
      ]
     },
     "execution_count": 27,
     "metadata": {},
     "output_type": "execute_result"
    }
   ],
   "source": [
    "df2.loc[df2['mangaid'] == mangaid[2]]"
   ]
  },
  {
   "cell_type": "code",
   "execution_count": 28,
   "id": "southwest-removal",
   "metadata": {},
   "outputs": [
    {
     "data": {
      "text/html": [
       "<div>\n",
       "<style scoped>\n",
       "    .dataframe tbody tr th:only-of-type {\n",
       "        vertical-align: middle;\n",
       "    }\n",
       "\n",
       "    .dataframe tbody tr th {\n",
       "        vertical-align: top;\n",
       "    }\n",
       "\n",
       "    .dataframe thead th {\n",
       "        text-align: right;\n",
       "    }\n",
       "</style>\n",
       "<table border=\"1\" class=\"dataframe\">\n",
       "  <thead>\n",
       "    <tr style=\"text-align: right;\">\n",
       "      <th></th>\n",
       "      <th>mangaid</th>\n",
       "      <th>dapdone</th>\n",
       "      <th>emline_sflux_cen_oiii_5008</th>\n",
       "      <th>emline_sflux_1re_oiii_5008</th>\n",
       "      <th>emline_sflux_tot_oiii_5008</th>\n",
       "      <th>emline_ssb_1re_oiii_5008</th>\n",
       "      <th>emline_ssb_peak_oiii_5008</th>\n",
       "      <th>emline_sew_1re_oiii_5008</th>\n",
       "      <th>emline_sflux_cen_oiii_5008</th>\n",
       "      <th>ldist_nsa_z</th>\n",
       "      <th>stellar_sigma_1re</th>\n",
       "    </tr>\n",
       "  </thead>\n",
       "  <tbody>\n",
       "    <tr>\n",
       "      <th>54</th>\n",
       "      <td>1-284293</td>\n",
       "      <td>True</td>\n",
       "      <td>240.2331</td>\n",
       "      <td>600.6941</td>\n",
       "      <td>749.2232</td>\n",
       "      <td>3.080482</td>\n",
       "      <td>15.07118</td>\n",
       "      <td>7.474648</td>\n",
       "      <td>240.2331</td>\n",
       "      <td>423.9317</td>\n",
       "      <td>176.9117</td>\n",
       "    </tr>\n",
       "  </tbody>\n",
       "</table>\n",
       "</div>"
      ],
      "text/plain": [
       "     mangaid  dapdone  emline_sflux_cen_oiii_5008  emline_sflux_1re_oiii_5008  \\\n",
       "54  1-284293     True                    240.2331                    600.6941   \n",
       "\n",
       "    emline_sflux_tot_oiii_5008  emline_ssb_1re_oiii_5008  \\\n",
       "54                    749.2232                  3.080482   \n",
       "\n",
       "    emline_ssb_peak_oiii_5008  emline_sew_1re_oiii_5008  \\\n",
       "54                   15.07118                  7.474648   \n",
       "\n",
       "    emline_sflux_cen_oiii_5008  ldist_nsa_z  stellar_sigma_1re  \n",
       "54                    240.2331     423.9317           176.9117  "
      ]
     },
     "execution_count": 28,
     "metadata": {},
     "output_type": "execute_result"
    }
   ],
   "source": [
    "df2.loc[df2['mangaid'] == mangaid[3]]"
   ]
  },
  {
   "cell_type": "code",
   "execution_count": 29,
   "id": "moral-attitude",
   "metadata": {},
   "outputs": [
    {
     "data": {
      "text/html": [
       "<div>\n",
       "<style scoped>\n",
       "    .dataframe tbody tr th:only-of-type {\n",
       "        vertical-align: middle;\n",
       "    }\n",
       "\n",
       "    .dataframe tbody tr th {\n",
       "        vertical-align: top;\n",
       "    }\n",
       "\n",
       "    .dataframe thead th {\n",
       "        text-align: right;\n",
       "    }\n",
       "</style>\n",
       "<table border=\"1\" class=\"dataframe\">\n",
       "  <thead>\n",
       "    <tr style=\"text-align: right;\">\n",
       "      <th></th>\n",
       "      <th>mangaid</th>\n",
       "      <th>dapdone</th>\n",
       "      <th>emline_sflux_cen_oiii_5008</th>\n",
       "      <th>emline_sflux_1re_oiii_5008</th>\n",
       "      <th>emline_sflux_tot_oiii_5008</th>\n",
       "      <th>emline_ssb_1re_oiii_5008</th>\n",
       "      <th>emline_ssb_peak_oiii_5008</th>\n",
       "      <th>emline_sew_1re_oiii_5008</th>\n",
       "      <th>emline_sflux_cen_oiii_5008</th>\n",
       "      <th>ldist_nsa_z</th>\n",
       "      <th>stellar_sigma_1re</th>\n",
       "    </tr>\n",
       "  </thead>\n",
       "  <tbody>\n",
       "    <tr>\n",
       "      <th>30</th>\n",
       "      <td>1-43214</td>\n",
       "      <td>True</td>\n",
       "      <td>2693.01</td>\n",
       "      <td>1352.847</td>\n",
       "      <td>6344.681</td>\n",
       "      <td>150.3164</td>\n",
       "      <td>166.1201</td>\n",
       "      <td>31.65118</td>\n",
       "      <td>2693.01</td>\n",
       "      <td>384.7559</td>\n",
       "      <td>-999.0</td>\n",
       "    </tr>\n",
       "  </tbody>\n",
       "</table>\n",
       "</div>"
      ],
      "text/plain": [
       "    mangaid  dapdone  emline_sflux_cen_oiii_5008  emline_sflux_1re_oiii_5008  \\\n",
       "30  1-43214     True                     2693.01                    1352.847   \n",
       "\n",
       "    emline_sflux_tot_oiii_5008  emline_ssb_1re_oiii_5008  \\\n",
       "30                    6344.681                  150.3164   \n",
       "\n",
       "    emline_ssb_peak_oiii_5008  emline_sew_1re_oiii_5008  \\\n",
       "30                   166.1201                  31.65118   \n",
       "\n",
       "    emline_sflux_cen_oiii_5008  ldist_nsa_z  stellar_sigma_1re  \n",
       "30                     2693.01     384.7559             -999.0  "
      ]
     },
     "execution_count": 29,
     "metadata": {},
     "output_type": "execute_result"
    }
   ],
   "source": [
    "df2.loc[df2['mangaid'] == mangaid[4]]"
   ]
  },
  {
   "cell_type": "code",
   "execution_count": 30,
   "id": "muslim-mission",
   "metadata": {},
   "outputs": [
    {
     "data": {
      "text/html": [
       "<div>\n",
       "<style scoped>\n",
       "    .dataframe tbody tr th:only-of-type {\n",
       "        vertical-align: middle;\n",
       "    }\n",
       "\n",
       "    .dataframe tbody tr th {\n",
       "        vertical-align: top;\n",
       "    }\n",
       "\n",
       "    .dataframe thead th {\n",
       "        text-align: right;\n",
       "    }\n",
       "</style>\n",
       "<table border=\"1\" class=\"dataframe\">\n",
       "  <thead>\n",
       "    <tr style=\"text-align: right;\">\n",
       "      <th></th>\n",
       "      <th>mangaid</th>\n",
       "      <th>dapdone</th>\n",
       "      <th>emline_sflux_cen_oiii_5008</th>\n",
       "      <th>emline_sflux_1re_oiii_5008</th>\n",
       "      <th>emline_sflux_tot_oiii_5008</th>\n",
       "      <th>emline_ssb_1re_oiii_5008</th>\n",
       "      <th>emline_ssb_peak_oiii_5008</th>\n",
       "      <th>emline_sew_1re_oiii_5008</th>\n",
       "      <th>emline_sflux_cen_oiii_5008</th>\n",
       "      <th>ldist_nsa_z</th>\n",
       "      <th>stellar_sigma_1re</th>\n",
       "    </tr>\n",
       "  </thead>\n",
       "  <tbody>\n",
       "    <tr>\n",
       "      <th>31</th>\n",
       "      <td>1-574402</td>\n",
       "      <td>True</td>\n",
       "      <td>354.5117</td>\n",
       "      <td>1017.098</td>\n",
       "      <td>1323.864</td>\n",
       "      <td>7.647352</td>\n",
       "      <td>21.11577</td>\n",
       "      <td>23.16815</td>\n",
       "      <td>354.5117</td>\n",
       "      <td>434.325</td>\n",
       "      <td>136.5246</td>\n",
       "    </tr>\n",
       "  </tbody>\n",
       "</table>\n",
       "</div>"
      ],
      "text/plain": [
       "     mangaid  dapdone  emline_sflux_cen_oiii_5008  emline_sflux_1re_oiii_5008  \\\n",
       "31  1-574402     True                    354.5117                    1017.098   \n",
       "\n",
       "    emline_sflux_tot_oiii_5008  emline_ssb_1re_oiii_5008  \\\n",
       "31                    1323.864                  7.647352   \n",
       "\n",
       "    emline_ssb_peak_oiii_5008  emline_sew_1re_oiii_5008  \\\n",
       "31                   21.11577                  23.16815   \n",
       "\n",
       "    emline_sflux_cen_oiii_5008  ldist_nsa_z  stellar_sigma_1re  \n",
       "31                    354.5117      434.325           136.5246  "
      ]
     },
     "execution_count": 30,
     "metadata": {},
     "output_type": "execute_result"
    }
   ],
   "source": [
    "df2.loc[df2['mangaid'] == mangaid[5]]"
   ]
  },
  {
   "cell_type": "code",
   "execution_count": 31,
   "id": "chemical-verification",
   "metadata": {},
   "outputs": [
    {
     "data": {
      "text/html": [
       "<div>\n",
       "<style scoped>\n",
       "    .dataframe tbody tr th:only-of-type {\n",
       "        vertical-align: middle;\n",
       "    }\n",
       "\n",
       "    .dataframe tbody tr th {\n",
       "        vertical-align: top;\n",
       "    }\n",
       "\n",
       "    .dataframe thead th {\n",
       "        text-align: right;\n",
       "    }\n",
       "</style>\n",
       "<table border=\"1\" class=\"dataframe\">\n",
       "  <thead>\n",
       "    <tr style=\"text-align: right;\">\n",
       "      <th></th>\n",
       "      <th>mangaid</th>\n",
       "      <th>dapdone</th>\n",
       "      <th>emline_sflux_cen_oiii_5008</th>\n",
       "      <th>emline_sflux_1re_oiii_5008</th>\n",
       "      <th>emline_sflux_tot_oiii_5008</th>\n",
       "      <th>emline_ssb_1re_oiii_5008</th>\n",
       "      <th>emline_ssb_peak_oiii_5008</th>\n",
       "      <th>emline_sew_1re_oiii_5008</th>\n",
       "      <th>emline_sflux_cen_oiii_5008</th>\n",
       "      <th>ldist_nsa_z</th>\n",
       "      <th>stellar_sigma_1re</th>\n",
       "    </tr>\n",
       "  </thead>\n",
       "  <tbody>\n",
       "    <tr>\n",
       "      <th>34</th>\n",
       "      <td>1-72322</td>\n",
       "      <td>True</td>\n",
       "      <td>395.5347</td>\n",
       "      <td>1364.73</td>\n",
       "      <td>1679.07</td>\n",
       "      <td>3.678516</td>\n",
       "      <td>24.70059</td>\n",
       "      <td>10.24312</td>\n",
       "      <td>395.5347</td>\n",
       "      <td>413.5903</td>\n",
       "      <td>222.9631</td>\n",
       "    </tr>\n",
       "  </tbody>\n",
       "</table>\n",
       "</div>"
      ],
      "text/plain": [
       "    mangaid  dapdone  emline_sflux_cen_oiii_5008  emline_sflux_1re_oiii_5008  \\\n",
       "34  1-72322     True                    395.5347                     1364.73   \n",
       "\n",
       "    emline_sflux_tot_oiii_5008  emline_ssb_1re_oiii_5008  \\\n",
       "34                     1679.07                  3.678516   \n",
       "\n",
       "    emline_ssb_peak_oiii_5008  emline_sew_1re_oiii_5008  \\\n",
       "34                   24.70059                  10.24312   \n",
       "\n",
       "    emline_sflux_cen_oiii_5008  ldist_nsa_z  stellar_sigma_1re  \n",
       "34                    395.5347     413.5903           222.9631  "
      ]
     },
     "execution_count": 31,
     "metadata": {},
     "output_type": "execute_result"
    }
   ],
   "source": [
    "df2.loc[df2['mangaid'] == mangaid[6]]"
   ]
  },
  {
   "cell_type": "markdown",
   "id": "atmospheric-interview",
   "metadata": {},
   "source": [
    "1. **emline_sflux_cen_oiii_5008** = Summed emission-line flux integrated within a 2.5 arcsec aperture at the galaxy center. Measurements specifically for OIII_5008.\n",
    "\n",
    "\n",
    "2. **emline_sflux_1re_oiii_5008** = Summed emission-line flux integrated within 1 effective-radius aperture at the galaxy. Measurements specifically for OIII_5008.\n",
    "\n",
    "\n",
    "3. **emline_sflux_tot_oiii_5008** = Total integrated flux of each summed emission measurement within the full MaNGA field-of-view. Measurements specifically for OIII_5008.\n",
    "\n",
    "\n",
    "4. **emline_ssb_1re_oiii_5008** = Mean emission-line surface-brightness from the summed flux measurements within 1 R_{e}. Measurements specifically for OIII_5008.\n",
    "\n",
    "\n",
    "5. **emline_ssb_peak_oiii_5008** = Peak summed-flux emission-line surface brightness. Measurements specificallyfor OIII_5008.\n",
    "\n",
    "\n",
    "6. **emline_sew_1re_oiii_5008** = Mean emission-line equivalent width from the summed flux measurements within 1 R_{e}. Measurements specifically for OIII_5008.\n",
    "\n",
    "\n",
    "7. **emline_sew_peak_oiii_5008** = Peak emission-line equivalent width from the summed flux measurements. Measurements specifically for OIII_5008.\n",
    "\n",
    "\n",
    "8. **emline_gflux_cen_oiii_5008** = Gaussian-fitted emission-line flux integrated within a 2.5 arcsec aperture at the galaxy center. Measurements specifically for OIII_5008.\n",
    "\n",
    "\n",
    "9. **emline_gflux_1re_oiii_5008** = Gaussian-fitted emission-line flux integrated within 1 effective-radius aperture at the galaxy. Measurements specifically for OIII_5008.\n",
    "\n",
    "\n",
    "10. **emline_gflux_tot_oiii_5008** = Total integrated flux of the Gaussian fit to each emission line within the full MaNGA field-of-view. Measurements specifically for OIII_5008.\n",
    "\n",
    "\n",
    "11. **emline_gsb_1re_oiii_5008** = Mean emission-line surface-brightness from the Gaussian-fitted flux measurements within 1 R_{e}. Measurements specifically for OIII_5008.\n",
    "\n",
    "\n",
    "12. **emline_gsb_peak_oiii_5008** = Peak Gaussian-fitted emission-line surface brightness. Measurements specifically for OIII_5008.\n",
    "\n",
    "\n",
    "13. **emline_gew_1re_oiii_5008** = Mean emission-line equivalent width from the Gaussian-fitted flux measurements within 1 R_{e}. Measurements specifically for OIII_5008.\n",
    "\n",
    "\n",
    "14. **emline_gew_peak_oiii_5008** = Peak emission-line equivalent width from the Gaussian-fitted flux measurements. Measurements specifically for OIII_5008.\n",
    "\n",
    "\n",
    "15. **emline_sflux_cen_oiii_5008** = Summed emission-line flux integrated within a 2.5 arcsec aperture at the galaxy center. Measurements specifically for OIII_5008.\n",
    "\n",
    "\n",
    "16. **ldist_nsa_z** = Luminosity distance based on NSA_Z and a standard cosmology (h=1; +¬_{M}=0.3; +¬_{+¢}=0.7)\n",
    "\n",
    "\n",
    "17. **stellar_sigma_1re** = Flux-weighted mean stellar velocity dispersion of all spaxels within 1 R_{e}.\n"
   ]
  },
  {
   "cell_type": "code",
   "execution_count": 32,
   "id": "accessory-reaction",
   "metadata": {},
   "outputs": [],
   "source": [
    "index = [8, 84, 165, 54, 30, 31, 34]"
   ]
  },
  {
   "cell_type": "code",
   "execution_count": 33,
   "id": "compact-grant",
   "metadata": {},
   "outputs": [],
   "source": [
    "df_ldist = df1[['ldist_nsa_z']]\n",
    "df_flux = df1[['emline_sflux_tot_oiii_5008']]\n",
    "df_vdis = df1[['stellar_sigma_1re']]"
   ]
  },
  {
   "cell_type": "markdown",
   "id": "round-lithuania",
   "metadata": {},
   "source": [
    "## Luminosity Distance "
   ]
  },
  {
   "cell_type": "code",
   "execution_count": 34,
   "id": "noticed-oxide",
   "metadata": {},
   "outputs": [
    {
     "data": {
      "text/plain": [
       "array([389.6841, 411.5134, 432.3984, 423.9317, 384.7559, 434.325 ,\n",
       "       413.5903])"
      ]
     },
     "execution_count": 34,
     "metadata": {},
     "output_type": "execute_result"
    }
   ],
   "source": [
    "file_lum_dist = np.array([df_ldist.loc[index[num]][0] for num in range(7)])\n",
    "file_lum_dist"
   ]
  },
  {
   "cell_type": "code",
   "execution_count": 35,
   "id": "balanced-bermuda",
   "metadata": {},
   "outputs": [
    {
     "name": "stdout",
     "output_type": "stream",
     "text": [
      "[1.42859306 1.42862906 1.42854368 1.428532   1.42843813 1.42865366\n",
      " 1.42846677]\n",
      "avg factor = 1.4285509077193692\n"
     ]
    }
   ],
   "source": [
    "lum_dist_factor = lum_dist/file_lum_dist\n",
    "print(lum_dist_factor)\n",
    "avg = np.average(lum_dist_factor)\n",
    "print('avg factor =' , np.average(lum_dist_factor))\n",
    "\n",
    "# which is the value of the h thing. They use h = 1"
   ]
  },
  {
   "cell_type": "code",
   "execution_count": 36,
   "id": "mysterious-topic",
   "metadata": {},
   "outputs": [
    {
     "data": {
      "image/png": "[encoded data removed]",
      "text/plain": [
       "<Figure size 1080x576 with 1 Axes>"
      ]
     },
     "metadata": {
      "needs_background": "light"
     },
     "output_type": "display_data"
    }
   ],
   "source": [
    "plt.figure(figsize = (15,8))\n",
    "plt.grid()\n",
    "plt.xlabel('My Values of Luminosity Distance')\n",
    "plt.ylabel('Their Luminosity Distance')\n",
    "plt.title('Luminosity Distance')\n",
    "plt.scatter(lum_dist, file_lum_dist, marker = 'o', color = 'dodgerblue')\n",
    "\n",
    "a, b = np.polyfit(lum_dist, file_lum_dist, 1)\n",
    "plt.plot(lum_dist, a*lum_dist + b, linewidth = 0.5, color = 'salmon')\n",
    "\n",
    "for i in range(len(mangaid)):\n",
    "    plt.text(lum_dist[i], file_lum_dist[i], '({})'.format(mangaid[i]))"
   ]
  },
  {
   "cell_type": "markdown",
   "id": "corporate-economy",
   "metadata": {},
   "source": [
    "^ My values are greater than their values, but the graph shows a perfect straight line, so is it just a problem of a different factor of multiplication or sth ? \n",
    "\n",
    "Yes, it is. The factor of $h$"
   ]
  },
  {
   "cell_type": "markdown",
   "id": "developing-stock",
   "metadata": {},
   "source": [
    "## Flux"
   ]
  },
  {
   "cell_type": "code",
   "execution_count": 37,
   "id": "analyzed-identifier",
   "metadata": {},
   "outputs": [
    {
     "data": {
      "text/plain": [
       "array([ 880.6146, 2586.609 ,  763.6225,  749.2232, 6344.681 , 1323.864 ,\n",
       "       1679.07  ])"
      ]
     },
     "execution_count": 37,
     "metadata": {},
     "output_type": "execute_result"
    }
   ],
   "source": [
    "file_flux = np.array([df_flux.loc[index[num]][0] for num in range(len(mangaid))])\n",
    "file_flux"
   ]
  },
  {
   "cell_type": "code",
   "execution_count": 38,
   "id": "interim-chicken",
   "metadata": {},
   "outputs": [
    {
     "name": "stdout",
     "output_type": "stream",
     "text": [
      "[0.63282266 0.79024933 0.78110576 0.80610857 0.82652538 0.80738154\n",
      " 0.74775231]\n"
     ]
    }
   ],
   "source": [
    "flux_factor = flux/file_flux\n",
    "print(flux_factor)"
   ]
  },
  {
   "cell_type": "code",
   "execution_count": 39,
   "id": "retained-orchestra",
   "metadata": {},
   "outputs": [],
   "source": [
    "# plt.figure(figsize = (15,10))\n",
    "# plt.grid()\n",
    "# plt.xlim(0, 7000)\n",
    "# plt.ylim(0, 7000)\n",
    "# plt.xlabel('My Values of Flux')\n",
    "# plt.ylabel('Their Flux - emline_sflux_tot_oiii_5008')\n",
    "# plt.title('Flux')\n",
    "# plt.scatter(flux, file_flux, marker = '+', color = 'firebrick', s = 50)\n",
    "\n",
    "# a, b = np.polyfit(flux, file_flux, 1)\n",
    "# plt.plot(flux, a*flux + b, linewidth = 0.7, color = 'lightseagreen')\n",
    "\n",
    "# # for i in range(len(mangaid)):\n",
    "# #     plt.text(flux[i], file_flux[i], '({})'.format(mangaid[i]))"
   ]
  },
  {
   "cell_type": "code",
   "execution_count": 40,
   "id": "hispanic-welsh",
   "metadata": {},
   "outputs": [
    {
     "data": {
      "text/plain": [
       "[<matplotlib.lines.Line2D at 0x7fba1116ee90>]"
      ]
     },
     "execution_count": 40,
     "metadata": {},
     "output_type": "execute_result"
    },
    {
     "data": {
      "image/png": "[encoded data removed]",
      "text/plain": [
       "<Figure size 1080x720 with 1 Axes>"
      ]
     },
     "metadata": {
      "needs_background": "light"
     },
     "output_type": "display_data"
    }
   ],
   "source": [
    "plt.figure(figsize = (15,10))\n",
    "plt.grid()\n",
    "plt.xlim(0, 7000)\n",
    "plt.ylim(0, 7000)\n",
    "plt.xlabel('My Values of Flux')\n",
    "plt.ylabel('Their Flux - emline_sflux_tot_oiii_5008')\n",
    "plt.title('Flux')\n",
    "plt.errorbar(flux, file_flux, xerr = asymmetric_error, fmt = '.', color = 'firebrick', ms = 10, capsize = 5)\n",
    "\n",
    "a, b = np.polyfit(flux, file_flux, 1)\n",
    "plt.plot(flux, a*flux + b, linewidth = 0.7, color = 'lightseagreen')\n",
    "\n",
    "# for i in range(len(mangaid)):\n",
    "#     plt.text(flux[i], file_flux[i], '({})'.format(mangaid[i]))"
   ]
  },
  {
   "cell_type": "code",
   "execution_count": 41,
   "id": "competent-antique",
   "metadata": {},
   "outputs": [
    {
     "data": {
      "text/plain": [
       "<matplotlib.legend.Legend at 0x7fba1140e4d0>"
      ]
     },
     "execution_count": 41,
     "metadata": {},
     "output_type": "execute_result"
    },
    {
     "data": {
      "image/png": "[encoded data removed]",
      "text/plain": [
       "<Figure size 1080x720 with 1 Axes>"
      ]
     },
     "metadata": {
      "needs_background": "light"
     },
     "output_type": "display_data"
    }
   ],
   "source": [
    "plt.figure(figsize = (15,10))\n",
    "plt.grid()\n",
    "plt.ylim(0, 7000)\n",
    "plt.ylabel('Flux')\n",
    "plt.title('Flux - mine vs theirs')\n",
    "plt.xlabel('MaNGA ID')\n",
    "# plt.scatter(x_axis - 0.2, flux, s = 12, color = 'deeppink', label = 'Mine')\n",
    "plt.errorbar(x_axis, flux, yerr = asymmetric_error, fmt = '.', color = 'deeppink', ms = 10, capsize = 5, \n",
    "             label = 'Mine', linewidth = 0.8)\n",
    "plt.scatter(x_axis, file_flux, color = 'limegreen', label = 'Theirs')\n",
    "plt.xticks(x_axis, mangaid)\n",
    "plt.legend()"
   ]
  },
  {
   "cell_type": "markdown",
   "id": "preliminary-aging",
   "metadata": {},
   "source": [
    "## Velocity Dispersion"
   ]
  },
  {
   "cell_type": "code",
   "execution_count": 42,
   "id": "european-inquiry",
   "metadata": {},
   "outputs": [
    {
     "data": {
      "text/plain": [
       "array([ 135.54  ,  363.1804,  126.7388,  176.9117, -999.    ,  136.5246,\n",
       "        222.9631])"
      ]
     },
     "execution_count": 42,
     "metadata": {},
     "output_type": "execute_result"
    }
   ],
   "source": [
    "file_vdis = np.array([df_vdis.loc[index[num]][0] for num in range(len(mangaid))])\n",
    "file_vdis"
   ]
  },
  {
   "cell_type": "code",
   "execution_count": 43,
   "id": "suffering-dover",
   "metadata": {},
   "outputs": [
    {
     "data": {
      "image/png": "[encoded data removed]",
      "text/plain": [
       "<Figure size 1080x576 with 1 Axes>"
      ]
     },
     "metadata": {
      "needs_background": "light"
     },
     "output_type": "display_data"
    }
   ],
   "source": [
    "plt.figure(figsize = (15,8))\n",
    "plt.grid()\n",
    "plt.ylabel('Their Velocity Dispersion')\n",
    "plt.xlabel('My BHM')\n",
    "plt.title('BHM - Velocity Dispersion')\n",
    "plt.scatter(BHM, file_vdis, marker = 'o', color = 'mediumblue')\n",
    "\n",
    "a, b = np.polyfit(BHM, file_vdis, 1)\n",
    "plt.plot(BHM, a*BHM + b, linewidth = 0.7, color = 'gold')\n",
    "\n",
    "for i in range(len(mangaid)):\n",
    "    plt.text(BHM[i], file_vdis[i], '({})'.format(mangaid[i]))"
   ]
  },
  {
   "cell_type": "markdown",
   "id": "amino-brooklyn",
   "metadata": {},
   "source": [
    "Ah, shit. Here we go again..."
   ]
  },
  {
   "cell_type": "markdown",
   "id": "portable-paragraph",
   "metadata": {},
   "source": [
    "## เห็นอย่างนี้แล้วก็เกิดคำถามกับตัวเองว่า...เปลี่ยนโปรเจคทันอยู่มั้ย... 😐"
   ]
  },
  {
   "cell_type": "code",
   "execution_count": null,
   "id": "settled-scope",
   "metadata": {},
   "outputs": [],
   "source": []
  },
  {
   "cell_type": "markdown",
   "id": "charming-lancaster",
   "metadata": {},
   "source": [
    "Obj 1-156039 "
   ]
  },
  {
   "cell_type": "code",
   "execution_count": 57,
   "id": "juvenile-programmer",
   "metadata": {},
   "outputs": [],
   "source": [
    "Flux_156039 = 1959.1763519952528\n",
    "LumDist_156039 = 533.1"
   ]
  },
  {
   "cell_type": "code",
   "execution_count": 58,
   "id": "common-discovery",
   "metadata": {},
   "outputs": [
    {
     "data": {
      "text/plain": [
       "1.4284776436951778"
      ]
     },
     "execution_count": 58,
     "metadata": {},
     "output_type": "execute_result"
    }
   ],
   "source": [
    "533.1/373.1945"
   ]
  },
  {
   "cell_type": "code",
   "execution_count": 56,
   "id": "mineral-preliminary",
   "metadata": {},
   "outputs": [
    {
     "data": {
      "text/plain": [
       "(4.781555, 373.1945)"
      ]
     },
     "execution_count": 56,
     "metadata": {},
     "output_type": "execute_result"
    }
   ],
   "source": [
    "df1.loc[68]['emline_sflux_tot_oiii_5008'], df.loc[68]['ldist_nsa_z']"
   ]
  },
  {
   "cell_type": "code",
   "execution_count": 55,
   "id": "personalized-assignment",
   "metadata": {
    "scrolled": false
   },
   "outputs": [
    {
     "data": {
      "text/plain": [
       "plate                                       8439\n",
       "ifudesign                                   3704\n",
       "plateifu                               8439-3704\n",
       "mangaid                                 1-156039\n",
       "drpallindx                                  7415\n",
       "mode                                        CUBE\n",
       "daptype                        HYB10-GAU-MILESHC\n",
       "dapdone                                     True\n",
       "objra                                 143.940659\n",
       "objdec                                 49.023212\n",
       "ifura                                 143.940659\n",
       "ifudec                                 49.023212\n",
       "mngtarg1                                    2080\n",
       "mngtarg2                                       0\n",
       "mngtarg3                                       0\n",
       "z                                       0.114699\n",
       "ldist_z                                 373.1945\n",
       "adist_z                                 300.3448\n",
       "nsa_z                                   0.114699\n",
       "nsa_zdist                               0.114914\n",
       "ldist_nsa_z                             373.1945\n",
       "adist_nsa_z                             300.3448\n",
       "nsa_elpetro_ba                          0.923981\n",
       "nsa_elpetro_phi                          115.957\n",
       "nsa_elpetro_th50_r                       2.99581\n",
       "nsa_sersic_ba                           0.927412\n",
       "nsa_sersic_phi                           90.0435\n",
       "nsa_sersic_th50                           3.2069\n",
       "nsa_sersic_n                                 6.0\n",
       "versdrp2                                  v2_4_3\n",
       "versdrp3                                  v2_4_3\n",
       "verscore                                  v1_6_2\n",
       "versutil                                 v5_5_32\n",
       "versdap                                    2.2.1\n",
       "drp3qual                                       0\n",
       "dapqual                                        0\n",
       "rdxqakey                                    SNRG\n",
       "binkey                                     HYB10\n",
       "sckey                                GAU-MILESHC\n",
       "elmkey                                     EMOMM\n",
       "elfkey                                   EFITMDB\n",
       "sikey                                     INDXEN\n",
       "bintype                                  voronoi\n",
       "binsnr                                        10\n",
       "tplkey                                   MILESHC\n",
       "datedap                               2018-07-21\n",
       "dapbins                                      750\n",
       "rcov90                                  6.312314\n",
       "snr_med_g                               7.434234\n",
       "snr_med_r                                12.4109\n",
       "snr_med_i                                15.8332\n",
       "snr_med_z                               13.53376\n",
       "snr_ring_g                              24.19409\n",
       "snr_ring_r                              39.74118\n",
       "snr_ring_i                              49.67677\n",
       "snr_ring_z                              23.25781\n",
       "sb_1re                                  0.281846\n",
       "bin_rmax                                2.114881\n",
       "bin_r_n_05                                    93\n",
       "bin_r_n_10                                    98\n",
       "bin_r_n_20                                    16\n",
       "bin_r_snr_05                            20.61699\n",
       "bin_r_snr_10                            15.09033\n",
       "bin_r_snr_20                            4.973079\n",
       "stellar_z                               0.114878\n",
       "stellar_vel_lo                          5.254636\n",
       "stellar_vel_hi                          71.92197\n",
       "stellar_vel_lo_clip                     9.782895\n",
       "stellar_vel_hi_clip                     71.97708\n",
       "stellar_sigma_1re                       240.6849\n",
       "stellar_cont_rchi2_1re                  1.521087\n",
       "ha_z                                    0.116866\n",
       "ha_gvel_lo                             -141.6406\n",
       "ha_gvel_hi                              889.8807\n",
       "ha_gvel_lo_clip                        -123.6895\n",
       "ha_gvel_hi_clip                         124.8846\n",
       "ha_gsigma_1re                           450.6529\n",
       "ha_gsigma_hi                            499.5159\n",
       "ha_gsigma_hi_clip                       233.8589\n",
       "emline_sflux_cen_oiid_3728              3.262068\n",
       "emline_sflux_cen_oii_3729                   -999\n",
       "emline_sflux_cen_hthe_3798              1.163116\n",
       "emline_sflux_cen_heta_3836             -6.219838\n",
       "emline_sflux_cen_neiii_3869            -1.118579\n",
       "emline_sflux_cen_hzet_3890              0.976498\n",
       "emline_sflux_cen_neiii_3968             2.229494\n",
       "emline_sflux_cen_heps_3971              4.011838\n",
       "emline_sflux_cen_hdel_4102             -2.723633\n",
       "emline_sflux_cen_hgam_4341              2.053318\n",
       "emline_sflux_cen_heii_4687             -2.592504\n",
       "emline_sflux_cen_hb_4862               -2.223567\n",
       "emline_sflux_cen_oiii_4960              3.176089\n",
       "emline_sflux_cen_oiii_5008              0.615939\n",
       "emline_sflux_cen_hei_5877               -3.09612\n",
       "emline_sflux_cen_oi_6302                0.258775\n",
       "emline_sflux_cen_oi_6365               -1.563734\n",
       "emline_sflux_cen_nii_6549                1.27291\n",
       "emline_sflux_cen_ha_6564                3.084958\n",
       "emline_sflux_cen_nii_6585               8.393734\n",
       "emline_sflux_cen_sii_6718               -2.88952\n",
       "emline_sflux_cen_sii_6732               -1.75894\n",
       "emline_sflux_1re_oiid_3728               3.43489\n",
       "emline_sflux_1re_oii_3729                   -999\n",
       "emline_sflux_1re_hthe_3798              5.590416\n",
       "emline_sflux_1re_heta_3836             -16.47699\n",
       "emline_sflux_1re_neiii_3869            -2.498491\n",
       "emline_sflux_1re_hzet_3890              0.173726\n",
       "emline_sflux_1re_neiii_3968             2.636083\n",
       "emline_sflux_1re_heps_3971              8.345559\n",
       "emline_sflux_1re_hdel_4102              -10.6593\n",
       "emline_sflux_1re_hgam_4341              4.271326\n",
       "emline_sflux_1re_heii_4687             -5.708946\n",
       "emline_sflux_1re_hb_4862               -10.03224\n",
       "emline_sflux_1re_oiii_4960                7.8566\n",
       "emline_sflux_1re_oiii_5008              1.220571\n",
       "emline_sflux_1re_hei_5877              -7.144705\n",
       "emline_sflux_1re_oi_6302                -5.72157\n",
       "emline_sflux_1re_oi_6365               -4.455639\n",
       "emline_sflux_1re_nii_6549              -0.714063\n",
       "emline_sflux_1re_ha_6564                4.173311\n",
       "emline_sflux_1re_nii_6585               18.47616\n",
       "emline_sflux_1re_sii_6718              -2.713091\n",
       "emline_sflux_1re_sii_6732              -3.357828\n",
       "emline_sflux_tot_oiid_3728               10.8137\n",
       "emline_sflux_tot_oii_3729                   -999\n",
       "emline_sflux_tot_hthe_3798              22.18653\n",
       "emline_sflux_tot_heta_3836             -63.39549\n",
       "emline_sflux_tot_neiii_3869            -24.17566\n",
       "emline_sflux_tot_hzet_3890              -12.5955\n",
       "emline_sflux_tot_neiii_3968            -35.26331\n",
       "emline_sflux_tot_heps_3971             -14.94627\n",
       "emline_sflux_tot_hdel_4102             -23.06361\n",
       "emline_sflux_tot_hgam_4341              20.14357\n",
       "emline_sflux_tot_heii_4687             -2.076991\n",
       "emline_sflux_tot_hb_4862               -17.59286\n",
       "emline_sflux_tot_oiii_4960              11.38874\n",
       "emline_sflux_tot_oiii_5008              4.781555\n",
       "emline_sflux_tot_hei_5877              -9.658302\n",
       "emline_sflux_tot_oi_6302               -0.259536\n",
       "emline_sflux_tot_oi_6365               -4.812979\n",
       "emline_sflux_tot_nii_6549              -36.98476\n",
       "emline_sflux_tot_ha_6564               -1.730546\n",
       "emline_sflux_tot_nii_6585               50.78173\n",
       "emline_sflux_tot_sii_6718               14.14045\n",
       "emline_sflux_tot_sii_6732              -32.90467\n",
       "emline_ssb_1re_oiid_3728                0.033348\n",
       "emline_ssb_1re_oii_3729                     -999\n",
       "emline_ssb_1re_hthe_3798                0.054276\n",
       "emline_ssb_1re_heta_3836               -0.159971\n",
       "emline_ssb_1re_neiii_3869              -0.024257\n",
       "emline_ssb_1re_hzet_3890                0.001687\n",
       "emline_ssb_1re_neiii_3968               0.025593\n",
       "emline_ssb_1re_heps_3971                0.081025\n",
       "emline_ssb_1re_hdel_4102               -0.103488\n",
       "emline_ssb_1re_hgam_4341                0.041469\n",
       "emline_ssb_1re_heii_4687               -0.055427\n",
       "emline_ssb_1re_hb_4862                   -0.0974\n",
       "emline_ssb_1re_oiii_4960                0.076278\n",
       "emline_ssb_1re_oiii_5008                 0.01185\n",
       "emline_ssb_1re_hei_5877                -0.069366\n",
       "emline_ssb_1re_oi_6302                 -0.055549\n",
       "emline_ssb_1re_oi_6365                 -0.043259\n",
       "emline_ssb_1re_nii_6549                -0.006933\n",
       "emline_ssb_1re_ha_6564                  0.040518\n",
       "emline_ssb_1re_nii_6585                  0.17938\n",
       "emline_ssb_1re_sii_6718                -0.026341\n",
       "emline_ssb_1re_sii_6732                  -0.0326\n",
       "emline_ssb_peak_oiid_3728               0.291962\n",
       "emline_ssb_peak_oii_3729                    -999\n",
       "emline_ssb_peak_hthe_3798               0.249003\n",
       "emline_ssb_peak_heta_3836               0.160734\n",
       "emline_ssb_peak_neiii_3869              0.368168\n",
       "emline_ssb_peak_hzet_3890               0.236671\n",
       "emline_ssb_peak_neiii_3968              0.463135\n",
       "emline_ssb_peak_heps_3971               0.468885\n",
       "emline_ssb_peak_hdel_4102               0.156926\n",
       "emline_ssb_peak_hgam_4341               0.228461\n",
       "emline_ssb_peak_heii_4687               0.174005\n",
       "emline_ssb_peak_hb_4862                  0.16166\n",
       "emline_ssb_peak_oiii_4960               0.342443\n",
       "emline_ssb_peak_oiii_5008               0.186177\n",
       "emline_ssb_peak_hei_5877                0.608349\n",
       "emline_ssb_peak_oi_6302                 0.225758\n",
       "emline_ssb_peak_oi_6365                 0.645891\n",
       "emline_ssb_peak_nii_6549                0.248868\n",
       "emline_ssb_peak_ha_6564                 0.465773\n",
       "emline_ssb_peak_nii_6585                0.665603\n",
       "emline_ssb_peak_sii_6718                0.232865\n",
       "emline_ssb_peak_sii_6732                0.343285\n",
       "emline_sew_1re_oiid_3728                 0.08021\n",
       "emline_sew_1re_oii_3729                     -999\n",
       "emline_sew_1re_hthe_3798                0.407357\n",
       "emline_sew_1re_heta_3836                 -0.9805\n",
       "emline_sew_1re_neiii_3869              -0.053993\n",
       "emline_sew_1re_hzet_3890               -0.058043\n",
       "emline_sew_1re_neiii_3968               0.061427\n",
       "emline_sew_1re_heps_3971                0.314225\n",
       "emline_sew_1re_hdel_4102               -0.361839\n",
       "emline_sew_1re_hgam_4341                0.072079\n",
       "emline_sew_1re_heii_4687               -0.112515\n",
       "emline_sew_1re_hb_4862                 -0.221526\n",
       "emline_sew_1re_oiii_4960                0.127967\n",
       "emline_sew_1re_oiii_5008                 0.03172\n",
       "emline_sew_1re_hei_5877                -0.149803\n",
       "emline_sew_1re_oi_6302                 -0.120121\n",
       "emline_sew_1re_oi_6365                 -0.051686\n",
       "emline_sew_1re_nii_6549                -0.046254\n",
       "emline_sew_1re_ha_6564                    0.0351\n",
       "emline_sew_1re_nii_6585                 0.284204\n",
       "emline_sew_1re_sii_6718                 -0.00071\n",
       "emline_sew_1re_sii_6732                -0.042639\n",
       "emline_sew_peak_oiid_3728               317.5593\n",
       "emline_sew_peak_oii_3729                    -999\n",
       "emline_sew_peak_hthe_3798                50.5733\n",
       "emline_sew_peak_heta_3836               24.66672\n",
       "emline_sew_peak_neiii_3869              15.48285\n",
       "emline_sew_peak_hzet_3890               14.75003\n",
       "emline_sew_peak_neiii_3968              8.619062\n",
       "emline_sew_peak_heps_3971               10.29184\n",
       "emline_sew_peak_hdel_4102                16.6476\n",
       "emline_sew_peak_hgam_4341               13.45566\n",
       "emline_sew_peak_heii_4687               6.313481\n",
       "emline_sew_peak_hb_4862                 5.025244\n",
       "emline_sew_peak_oiii_4960               10.14531\n",
       "emline_sew_peak_oiii_5008               2.440147\n",
       "emline_sew_peak_hei_5877                7.812845\n",
       "emline_sew_peak_oi_6302                 6.666884\n",
       "emline_sew_peak_oi_6365                  6.92126\n",
       "emline_sew_peak_nii_6549                2.761071\n",
       "emline_sew_peak_ha_6564                 7.132388\n",
       "emline_sew_peak_nii_6585                9.801663\n",
       "emline_sew_peak_sii_6718                5.472615\n",
       "emline_sew_peak_sii_6732                4.001838\n",
       "emline_gflux_cen_oii_3727               4.043024\n",
       "emline_gflux_cen_oii_3729               1.660425\n",
       "emline_gflux_cen_hthe_3798              1.759896\n",
       "emline_gflux_cen_heta_3836              0.066514\n",
       "emline_gflux_cen_neiii_3869             1.494397\n",
       "emline_gflux_cen_hzet_3890              0.953073\n",
       "emline_gflux_cen_neiii_3968             0.297016\n",
       "emline_gflux_cen_heps_3971              1.985803\n",
       "emline_gflux_cen_hdel_4102              0.042472\n",
       "emline_gflux_cen_hgam_4341               2.58287\n",
       "emline_gflux_cen_heii_4687              0.194691\n",
       "emline_gflux_cen_hb_4862                0.401966\n",
       "emline_gflux_cen_oiii_4960              2.963831\n",
       "emline_gflux_cen_oiii_5008               8.71715\n",
       "emline_gflux_cen_hei_5877                    0.0\n",
       "emline_gflux_cen_oi_6302                 0.05155\n",
       "emline_gflux_cen_oi_6365                0.016909\n",
       "emline_gflux_cen_nii_6549               3.594616\n",
       "emline_gflux_cen_ha_6564                6.645475\n",
       "emline_gflux_cen_nii_6585               10.99271\n",
       "emline_gflux_cen_sii_6718               0.104732\n",
       "emline_gflux_cen_sii_6732                1.21727\n",
       "emline_gflux_1re_oii_3727               5.685348\n",
       "emline_gflux_1re_oii_3729                4.76556\n",
       "emline_gflux_1re_hthe_3798              4.711435\n",
       "emline_gflux_1re_heta_3836              0.240807\n",
       "emline_gflux_1re_neiii_3869             6.133607\n",
       "emline_gflux_1re_hzet_3890               6.54237\n",
       "emline_gflux_1re_neiii_3968             1.734128\n",
       "emline_gflux_1re_heps_3971              4.740261\n",
       "emline_gflux_1re_hdel_4102              0.878424\n",
       "emline_gflux_1re_hgam_4341              7.792609\n",
       "emline_gflux_1re_heii_4687              0.793718\n",
       "emline_gflux_1re_hb_4862                0.746599\n",
       "emline_gflux_1re_oiii_4960              9.182425\n",
       "emline_gflux_1re_oiii_5008              27.00713\n",
       "emline_gflux_1re_hei_5877               1.898389\n",
       "emline_gflux_1re_oi_6302                0.262958\n",
       "emline_gflux_1re_oi_6365                 0.08625\n",
       "emline_gflux_1re_nii_6549                9.25547\n",
       "emline_gflux_1re_ha_6564                16.93351\n",
       "emline_gflux_1re_nii_6585               28.30418\n",
       "emline_gflux_1re_sii_6718               5.008725\n",
       "emline_gflux_1re_sii_6732               4.655579\n",
       "emline_gflux_tot_oii_3727               12.24543\n",
       "emline_gflux_tot_oii_3729               10.91113\n",
       "emline_gflux_tot_hthe_3798              21.11164\n",
       "emline_gflux_tot_heta_3836              4.088971\n",
       "emline_gflux_tot_neiii_3869              18.0658\n",
       "emline_gflux_tot_hzet_3890              20.94692\n",
       "emline_gflux_tot_neiii_3968             6.924423\n",
       "emline_gflux_tot_heps_3971                9.8289\n",
       "emline_gflux_tot_hdel_4102              11.25886\n",
       "emline_gflux_tot_hgam_4341              25.58202\n",
       "emline_gflux_tot_heii_4687              9.478644\n",
       "emline_gflux_tot_hb_4862                8.760085\n",
       "emline_gflux_tot_oiii_4960              28.25374\n",
       "emline_gflux_tot_oiii_5008              83.09926\n",
       "emline_gflux_tot_hei_5877               31.28447\n",
       "emline_gflux_tot_oi_6302                10.67958\n",
       "emline_gflux_tot_oi_6365                3.502903\n",
       "emline_gflux_tot_nii_6549               44.98388\n",
       "emline_gflux_tot_ha_6564                91.26669\n",
       "emline_gflux_tot_nii_6585               137.5654\n",
       "emline_gflux_tot_sii_6718               28.41547\n",
       "emline_gflux_tot_sii_6732                9.32733\n",
       "emline_gsb_1re_oii_3727                 0.057428\n",
       "emline_gsb_1re_oii_3729                 0.048137\n",
       "emline_gsb_1re_hthe_3798                0.054154\n",
       "emline_gsb_1re_heta_3836                0.002384\n",
       "emline_gsb_1re_neiii_3869               0.061336\n",
       "emline_gsb_1re_hzet_3890                0.103847\n",
       "emline_gsb_1re_neiii_3968               0.017695\n",
       "emline_gsb_1re_heps_3971                0.048869\n",
       "emline_gsb_1re_hdel_4102                0.009653\n",
       "emline_gsb_1re_hgam_4341                0.080336\n",
       "emline_gsb_1re_heii_4687                0.007937\n",
       "emline_gsb_1re_hb_4862                   0.00732\n",
       "emline_gsb_1re_oiii_4960                0.100906\n",
       "emline_gsb_1re_oiii_5008                0.296782\n",
       "emline_gsb_1re_hei_5877                 0.019571\n",
       "emline_gsb_1re_oi_6302                  0.002711\n",
       "emline_gsb_1re_oi_6365                  0.000889\n",
       "emline_gsb_1re_nii_6549                 0.101708\n",
       "emline_gsb_1re_ha_6564                  0.182081\n",
       "emline_gsb_1re_nii_6585                 0.311035\n",
       "emline_gsb_1re_sii_6718                 0.053857\n",
       "emline_gsb_1re_sii_6732                  0.05006\n",
       "emline_gsb_peak_oii_3727                0.446232\n",
       "emline_gsb_peak_oii_3729                0.541931\n",
       "emline_gsb_peak_hthe_3798               0.410699\n",
       "emline_gsb_peak_heta_3836               0.129626\n",
       "emline_gsb_peak_neiii_3869              0.460137\n",
       "emline_gsb_peak_hzet_3890               0.430923\n",
       "emline_gsb_peak_neiii_3968              0.331234\n",
       "emline_gsb_peak_heps_3971               0.376279\n",
       "emline_gsb_peak_hdel_4102               0.228754\n",
       "emline_gsb_peak_hgam_4341               0.410366\n",
       "emline_gsb_peak_heii_4687               0.162026\n",
       "emline_gsb_peak_hb_4862                  0.17464\n",
       "emline_gsb_peak_oiii_4960                0.42781\n",
       "emline_gsb_peak_oiii_5008               1.258266\n",
       "emline_gsb_peak_hei_5877                0.390456\n",
       "emline_gsb_peak_oi_6302                 0.188644\n",
       "emline_gsb_peak_oi_6365                 0.061875\n",
       "emline_gsb_peak_nii_6549                0.399794\n",
       "emline_gsb_peak_ha_6564                 1.045695\n",
       "emline_gsb_peak_nii_6585                 1.22261\n",
       "emline_gsb_peak_sii_6718                0.390742\n",
       "emline_gsb_peak_sii_6732                0.515376\n",
       "emline_gew_1re_oii_3727                 0.247396\n",
       "emline_gew_1re_oii_3729                 0.288575\n",
       "emline_gew_1re_hthe_3798                0.317127\n",
       "emline_gew_1re_heta_3836                0.025785\n",
       "emline_gew_1re_neiii_3869               0.401265\n",
       "emline_gew_1re_hzet_3890                0.583208\n",
       "emline_gew_1re_neiii_3968                0.07504\n",
       "emline_gew_1re_heps_3971                0.211559\n",
       "emline_gew_1re_hdel_4102                0.039661\n",
       "emline_gew_1re_hgam_4341                0.230193\n",
       "emline_gew_1re_heii_4687                0.018144\n",
       "emline_gew_1re_hb_4862                  0.011175\n",
       "emline_gew_1re_oiii_4960                0.202722\n",
       "emline_gew_1re_oiii_5008                0.627232\n",
       "emline_gew_1re_hei_5877                 0.045616\n",
       "emline_gew_1re_oi_6302                   0.00957\n",
       "emline_gew_1re_oi_6365                  0.003031\n",
       "emline_gew_1re_nii_6549                 0.180671\n",
       "emline_gew_1re_ha_6564                  0.340573\n",
       "emline_gew_1re_nii_6585                 0.555596\n",
       "emline_gew_1re_sii_6718                 0.142743\n",
       "emline_gew_1re_sii_6732                 0.120824\n",
       "emline_gew_peak_oii_3727                97.23176\n",
       "emline_gew_peak_oii_3729                46.73639\n",
       "emline_gew_peak_hthe_3798               40.64119\n",
       "emline_gew_peak_heta_3836               14.19795\n",
       "emline_gew_peak_neiii_3869               15.5254\n",
       "emline_gew_peak_hzet_3890               11.92981\n",
       "emline_gew_peak_neiii_3968              9.736413\n",
       "emline_gew_peak_heps_3971               9.099109\n",
       "emline_gew_peak_hdel_4102               9.978806\n",
       "emline_gew_peak_hgam_4341               10.97356\n",
       "emline_gew_peak_heii_4687               5.767958\n",
       "emline_gew_peak_hb_4862                 4.520459\n",
       "emline_gew_peak_oiii_4960               4.802464\n",
       "emline_gew_peak_oiii_5008                11.3792\n",
       "emline_gew_peak_hei_5877                9.507133\n",
       "emline_gew_peak_oi_6302                 6.725686\n",
       "emline_gew_peak_oi_6365                 2.042669\n",
       "emline_gew_peak_nii_6549                8.200575\n",
       "emline_gew_peak_ha_6564                 8.341806\n",
       "emline_gew_peak_nii_6585                27.13402\n",
       "emline_gew_peak_sii_6718                15.25318\n",
       "emline_gew_peak_sii_6732                10.78407\n",
       "specindex_lo_cn1                       -0.215659\n",
       "specindex_lo_cn2                       -0.203779\n",
       "specindex_lo_ca4227                    -4.205435\n",
       "specindex_lo_g4300                     -2.869843\n",
       "specindex_lo_fe4383                    -6.333551\n",
       "specindex_lo_ca4455                    -2.891415\n",
       "specindex_lo_fe4531                    -0.376774\n",
       "specindex_lo_c24668                    -3.201467\n",
       "specindex_lo_hb                        -2.434636\n",
       "specindex_lo_fe5015                    -7.797312\n",
       "specindex_lo_mg1                       -0.074498\n",
       "specindex_lo_mg2                        0.083036\n",
       "specindex_lo_mgb                       -1.778885\n",
       "specindex_lo_fe5270                     0.541944\n",
       "specindex_lo_fe5335                    -19.76615\n",
       "specindex_lo_fe5406                    -9.456825\n",
       "specindex_lo_fe5709                     -9.64982\n",
       "specindex_lo_fe5782                    -0.226324\n",
       "specindex_lo_nad                       -6.026769\n",
       "specindex_lo_tio1                       0.013479\n",
       "specindex_lo_tio2                      -0.094238\n",
       "specindex_lo_hdeltaa                   -7.113833\n",
       "specindex_lo_hgammaa                   -14.45544\n",
       "specindex_lo_hdeltaf                   -3.715949\n",
       "specindex_lo_hgammaf                    -7.91028\n",
       "specindex_lo_cahk                       -13.3514\n",
       "specindex_lo_caii1                             0\n",
       "specindex_lo_caii2                             0\n",
       "specindex_lo_caii3                             0\n",
       "specindex_lo_pa17                              0\n",
       "specindex_lo_pa14                              0\n",
       "specindex_lo_pa12                              0\n",
       "specindex_lo_mgicvd                     2.240092\n",
       "specindex_lo_naicvd                            0\n",
       "specindex_lo_mgiir                             0\n",
       "specindex_lo_fehcvd                         -999\n",
       "specindex_lo_nai                               0\n",
       "specindex_lo_btio                      -0.132895\n",
       "specindex_lo_atio                      -0.015781\n",
       "specindex_lo_cah1                      -0.081318\n",
       "specindex_lo_cah2                       0.047114\n",
       "specindex_lo_naisdss                           0\n",
       "specindex_lo_tio2sdss                  -0.091584\n",
       "specindex_lo_d4000                      3.130535\n",
       "specindex_lo_dn4000                     2.696307\n",
       "specindex_lo_tiocvd                    -4.844178\n",
       "specindex_hi_cn1                         0.18469\n",
       "specindex_hi_cn2                        0.315944\n",
       "specindex_hi_ca4227                     3.749156\n",
       "specindex_hi_g4300                       15.2076\n",
       "specindex_hi_fe4383                     10.35287\n",
       "specindex_hi_ca4455                     5.777088\n",
       "specindex_hi_fe4531                     10.06734\n",
       "specindex_hi_c24668                     11.33776\n",
       "specindex_hi_hb                         4.908643\n",
       "specindex_hi_fe5015                      9.49006\n",
       "specindex_hi_mg1                        0.139704\n",
       "specindex_hi_mg2                        0.305042\n",
       "specindex_hi_mgb                        6.437557\n",
       "specindex_hi_fe5270                     22.00538\n",
       "specindex_hi_fe5335                     6.734798\n",
       "specindex_hi_fe5406                     6.018338\n",
       "specindex_hi_fe5709                     1.570534\n",
       "specindex_hi_fe5782                     5.595846\n",
       "specindex_hi_nad                        5.326976\n",
       "specindex_hi_tio1                        0.17717\n",
       "specindex_hi_tio2                       0.093437\n",
       "specindex_hi_hdeltaa                    6.820894\n",
       "specindex_hi_hgammaa                    1.846095\n",
       "specindex_hi_hdeltaf                    8.148777\n",
       "specindex_hi_hgammaf                    2.082637\n",
       "specindex_hi_cahk                       43.63103\n",
       "specindex_hi_caii1                             0\n",
       "specindex_hi_caii2                             0\n",
       "specindex_hi_caii3                             0\n",
       "specindex_hi_pa17                              0\n",
       "specindex_hi_pa14                              0\n",
       "specindex_hi_pa12                              0\n",
       "specindex_hi_mgicvd                     11.32376\n",
       "specindex_hi_naicvd                            0\n",
       "specindex_hi_mgiir                             0\n",
       "specindex_hi_fehcvd                         -999\n",
       "specindex_hi_nai                               0\n",
       "specindex_hi_btio                       0.106101\n",
       "specindex_hi_atio                       0.299536\n",
       "specindex_hi_cah1                       0.128715\n",
       "specindex_hi_cah2                       0.514346\n",
       "specindex_hi_naisdss                           0\n",
       "specindex_hi_tio2sdss                   0.096527\n",
       "specindex_hi_d4000                      5.059436\n",
       "specindex_hi_dn4000                     4.117398\n",
       "specindex_hi_tiocvd                     7.416181\n",
       "specindex_lo_clip_cn1                  -0.152629\n",
       "specindex_lo_clip_cn2                  -0.110671\n",
       "specindex_lo_clip_ca4227                -1.11103\n",
       "specindex_lo_clip_g4300                   2.9056\n",
       "specindex_lo_clip_fe4383               -5.025542\n",
       "specindex_lo_clip_ca4455               -1.148095\n",
       "specindex_lo_clip_fe4531               -0.075253\n",
       "specindex_lo_clip_c24668                -2.62327\n",
       "specindex_lo_clip_hb                   -1.008092\n",
       "specindex_lo_clip_fe5015               -2.734859\n",
       "specindex_lo_clip_mg1                  -0.031134\n",
       "specindex_lo_clip_mg2                   0.103638\n",
       "specindex_lo_clip_mgb                   0.314775\n",
       "specindex_lo_clip_fe5270                0.517988\n",
       "specindex_lo_clip_fe5335               -4.148325\n",
       "specindex_lo_clip_fe5406               -2.218928\n",
       "specindex_lo_clip_fe5709                -7.70324\n",
       "specindex_lo_clip_fe5782               -0.238599\n",
       "specindex_lo_clip_nad                  -2.539284\n",
       "specindex_lo_clip_tio1                  0.015492\n",
       "specindex_lo_clip_tio2                 -0.074217\n",
       "specindex_lo_clip_hdeltaa              -5.890962\n",
       "specindex_lo_clip_hgammaa              -11.49381\n",
       "specindex_lo_clip_hdeltaf              -3.870914\n",
       "specindex_lo_clip_hgammaf              -5.049407\n",
       "specindex_lo_clip_cahk                  7.056242\n",
       "specindex_lo_clip_caii1                        0\n",
       "specindex_lo_clip_caii2                        0\n",
       "specindex_lo_clip_caii3                        0\n",
       "specindex_lo_clip_pa17                         0\n",
       "specindex_lo_clip_pa14                         0\n",
       "specindex_lo_clip_pa12                         0\n",
       "specindex_lo_clip_mgicvd                2.635132\n",
       "specindex_lo_clip_naicvd                       0\n",
       "specindex_lo_clip_mgiir                        0\n",
       "specindex_lo_clip_fehcvd                    -999\n",
       "specindex_lo_clip_nai                          0\n",
       "specindex_lo_clip_btio                 -0.089186\n",
       "specindex_lo_clip_atio                 -0.016668\n",
       "specindex_lo_clip_cah1                 -0.059218\n",
       "specindex_lo_clip_cah2                  0.047048\n",
       "specindex_lo_clip_naisdss                      0\n",
       "specindex_lo_clip_tio2sdss             -0.047714\n",
       "specindex_lo_clip_d4000                 3.106334\n",
       "specindex_lo_clip_dn4000                2.703069\n",
       "specindex_lo_clip_tiocvd               -0.111087\n",
       "specindex_hi_clip_cn1                   0.184025\n",
       "specindex_hi_clip_cn2                   0.278572\n",
       "specindex_hi_clip_ca4227                3.782717\n",
       "specindex_hi_clip_g4300                 12.15716\n",
       "specindex_hi_clip_fe4383                9.928382\n",
       "specindex_hi_clip_ca4455                5.765883\n",
       "specindex_hi_clip_fe4531                8.626174\n",
       "specindex_hi_clip_c24668                10.89067\n",
       "specindex_hi_clip_hb                    4.539765\n",
       "specindex_hi_clip_fe5015                9.540632\n",
       "specindex_hi_clip_mg1                   0.139785\n",
       "specindex_hi_clip_mg2                   0.301861\n",
       "specindex_hi_clip_mgb                   6.255985\n",
       "specindex_hi_clip_fe5270                16.19649\n",
       "specindex_hi_clip_fe5335                6.715448\n",
       "specindex_hi_clip_fe5406                5.388031\n",
       "specindex_hi_clip_fe5709                1.597455\n",
       "specindex_hi_clip_fe5782                5.262907\n",
       "specindex_hi_clip_nad                   5.278195\n",
       "specindex_hi_clip_tio1                  0.153764\n",
       "specindex_hi_clip_tio2                  0.093438\n",
       "specindex_hi_clip_hdeltaa               6.428458\n",
       "specindex_hi_clip_hgammaa              -1.821822\n",
       "specindex_hi_clip_hdeltaf               6.111053\n",
       "specindex_hi_clip_hgammaf               1.621591\n",
       "specindex_hi_clip_cahk                  38.33732\n",
       "specindex_hi_clip_caii1                        0\n",
       "specindex_hi_clip_caii2                        0\n",
       "specindex_hi_clip_caii3                        0\n",
       "specindex_hi_clip_pa17                         0\n",
       "specindex_hi_clip_pa14                         0\n",
       "specindex_hi_clip_pa12                         0\n",
       "specindex_hi_clip_mgicvd                10.86338\n",
       "specindex_hi_clip_naicvd                       0\n",
       "specindex_hi_clip_mgiir                        0\n",
       "specindex_hi_clip_fehcvd                    -999\n",
       "specindex_hi_clip_nai                          0\n",
       "specindex_hi_clip_btio                  0.101358\n",
       "specindex_hi_clip_atio                  0.233139\n",
       "specindex_hi_clip_cah1                  0.101603\n",
       "specindex_hi_clip_cah2                  0.499458\n",
       "specindex_hi_clip_naisdss                      0\n",
       "specindex_hi_clip_tio2sdss              0.096592\n",
       "specindex_hi_clip_d4000                 3.905976\n",
       "specindex_hi_clip_dn4000                3.552652\n",
       "specindex_hi_clip_tiocvd                2.867236\n",
       "specindex_1re_cn1                       0.096344\n",
       "specindex_1re_cn2                       0.139673\n",
       "specindex_1re_ca4227                    1.271242\n",
       "specindex_1re_g4300                     5.923499\n",
       "specindex_1re_fe4383                    5.071237\n",
       "specindex_1re_ca4455                    1.443184\n",
       "specindex_1re_fe4531                    3.141543\n",
       "specindex_1re_c24668                    7.035406\n",
       "specindex_1re_hb                        1.762809\n",
       "specindex_1re_fe5015                    4.170923\n",
       "specindex_1re_mg1                       0.124162\n",
       "specindex_1re_mg2                       0.266174\n",
       "specindex_1re_mgb                       4.322671\n",
       "specindex_1re_fe5270                    3.362934\n",
       "specindex_1re_fe5335                     1.80451\n",
       "specindex_1re_fe5406                    1.741572\n",
       "specindex_1re_fe5709                    0.673308\n",
       "specindex_1re_fe5782                    0.651251\n",
       "specindex_1re_nad                       3.782528\n",
       "specindex_1re_tio1                      0.036796\n",
       "specindex_1re_tio2                      0.080996\n",
       "specindex_1re_hdeltaa                  -2.245514\n",
       "specindex_1re_hgammaa                  -6.377223\n",
       "specindex_1re_hdeltaf                   0.253995\n",
       "specindex_1re_hgammaf                  -1.802996\n",
       "specindex_1re_cahk                      18.73957\n",
       "specindex_1re_caii1                      1.58656\n",
       "specindex_1re_caii2                     4.066171\n",
       "specindex_1re_caii3                     1.623365\n",
       "specindex_1re_pa17                      1.050881\n",
       "specindex_1re_pa14                      0.089995\n",
       "specindex_1re_pa12                     -4.567519\n",
       "specindex_1re_mgicvd                    6.132006\n",
       "specindex_1re_naicvd                     0.61162\n",
       "specindex_1re_mgiir                     0.305627\n",
       "specindex_1re_fehcvd                        -999\n",
       "specindex_1re_nai                        1.08172\n",
       "specindex_1re_btio                       0.02469\n",
       "specindex_1re_atio                      0.025067\n",
       "specindex_1re_cah1                     -0.000095\n",
       "specindex_1re_cah2                      0.068538\n",
       "specindex_1re_naisdss                   0.798431\n",
       "specindex_1re_tio2sdss                  0.083181\n",
       "specindex_1re_d4000                     2.245105\n",
       "specindex_1re_dn4000                    2.035564\n",
       "specindex_1re_tiocvd                    1.149651\n",
       "sfr_1re                                 0.015154\n",
       "sfr_tot                                 0.081676\n",
       "htmID                             16388078145212\n",
       "Name: 68, dtype: object"
      ]
     },
     "execution_count": 55,
     "metadata": {},
     "output_type": "execute_result"
    }
   ],
   "source": [
    "df1.loc[68]"
   ]
  },
  {
   "cell_type": "code",
   "execution_count": null,
   "id": "passive-banner",
   "metadata": {},
   "outputs": [],
   "source": []
  }
 ],
 "metadata": {
  "kernelspec": {
   "display_name": "Python 3",
   "language": "python",
   "name": "python3"
  },
  "language_info": {
   "codemirror_mode": {
    "name": "ipython",
    "version": 3
   },
   "file_extension": ".py",
   "mimetype": "text/x-python",
   "name": "python",
   "nbconvert_exporter": "python",
   "pygments_lexer": "ipython3",
   "version": "3.7.9"
  }
 },
 "nbformat": 4,
 "nbformat_minor": 5
}
