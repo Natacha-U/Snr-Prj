{
 "cells": [
  {
   "cell_type": "code",
   "execution_count": 1,
   "id": "million-daisy",
   "metadata": {},
   "outputs": [],
   "source": [
    "import numpy as np\n",
    "import matplotlib.pyplot as plt\n",
    "from io import StringIO\n",
    "import pandas as pd"
   ]
  },
  {
   "cell_type": "code",
   "execution_count": 53,
   "id": "wrapped-arrest",
   "metadata": {},
   "outputs": [],
   "source": [
    "mangaid = ['1-22948', \n",
    "           '1-258599',\n",
    "           '1-269632', \n",
    "           '1-284293', \n",
    "           '1-43214', \n",
    "           '1-574402', \n",
    "           '1-72322']"
   ]
  },
  {
   "cell_type": "code",
   "execution_count": 54,
   "id": "caroline-establishment",
   "metadata": {},
   "outputs": [],
   "source": [
    "# log(BHM / M_sol)\n",
    "# With the subtraction\n",
    "\n",
    "BHM = np.array([6.8269667680669635, \n",
    "                7.33128032916919, \n",
    "                6.839322249505392, \n",
    "                7.075336108465674, \n",
    "                7.681937925706926, \n",
    "                7.122892560060241, \n",
    "                7.1647433217242265])\n",
    "\n",
    "lum = np.array([7.837690633458736, \n",
    "                8.342004194560964, \n",
    "                7.850046114897165, \n",
    "                8.086059973857447,\n",
    "                8.692661791098699, \n",
    "                8.133616425452015, \n",
    "                8.175467187116])\n",
    "\n",
    "x = [1,2,3,4,5,6,7]"
   ]
  },
  {
   "cell_type": "code",
   "execution_count": 88,
   "id": "communist-burns",
   "metadata": {},
   "outputs": [],
   "source": [
    "lum_dist = np.array([556.7,\n",
    "                     587.9,\n",
    "                     617.7,\n",
    "                     605.6,\n",
    "                     549.6,\n",
    "                     620.5,\n",
    "                     590.8])"
   ]
  },
  {
   "cell_type": "code",
   "execution_count": 141,
   "id": "renewable-portland",
   "metadata": {},
   "outputs": [],
   "source": [
    "flux = np.array([557.2728773803908,\n",
    "                596.4699334581728,\n",
    "                596.4699334581728,\n",
    "                769.8783024060081,\n",
    "                5244.039902714659,\n",
    "                1135.6133737567773,\n",
    "                1255.528479208609])"
   ]
  },
  {
   "cell_type": "code",
   "execution_count": 56,
   "id": "relevant-signature",
   "metadata": {},
   "outputs": [],
   "source": [
    "x_axis = np.arange(len(mangaid))"
   ]
  },
  {
   "cell_type": "markdown",
   "id": "treated-cartridge",
   "metadata": {},
   "source": [
    "### BH mass"
   ]
  },
  {
   "cell_type": "code",
   "execution_count": 7,
   "id": "remarkable-showcase",
   "metadata": {},
   "outputs": [],
   "source": [
    "# plt.figure(figsize = (15, 8))\n",
    "# plt.grid()\n",
    "# plt.xlabel('mangaid')\n",
    "# plt.ylabel('log(M_BH / M_sol)')\n",
    "# plt.bar(x_axis - 0.2, BHM, 0.4, color = 'deeppink', label = 'with subtraction')\n",
    "# plt.bar(x_axis + 0.2, BHM_without_subtract, 0.4, color = 'cyan', label = 'without subtraction')\n",
    "# plt.xticks(x_axis, mangaid)\n",
    "# plt.legend()\n",
    "# plt.title('BH MASS')\n",
    "# # plt.savefig('Images/bar_BHM.png', bbox_inches = 'tight')"
   ]
  },
  {
   "cell_type": "code",
   "execution_count": 8,
   "id": "alternative-reggae",
   "metadata": {},
   "outputs": [],
   "source": [
    "# plt.figure(figsize = (15,7))\n",
    "# plt.grid()\n",
    "# plt.ylim(0,8.5)\n",
    "# plt.scatter(mangaid, BHM, s = 100, color = 'tomato', marker = '*', label = 'with subtraction')\n",
    "# plt.scatter(mangaid, BHM_without_subtract, s = 130, color = 'limegreen', marker = '*', \n",
    "#             label = 'without subtraction')\n",
    "# plt.legend()\n",
    "# plt.xlabel('mangaid')\n",
    "# plt.ylabel('log(M_BH / M_sol)')\n",
    "# plt.title('BH MASS')\n",
    "# # plt.savefig('Images/scatter_BHM.png', bbox_inches = 'tight')"
   ]
  },
  {
   "cell_type": "markdown",
   "id": "qualified-celebration",
   "metadata": {},
   "source": [
    "### Luminosity"
   ]
  },
  {
   "cell_type": "code",
   "execution_count": 9,
   "id": "actual-specification",
   "metadata": {},
   "outputs": [],
   "source": [
    "# plt.figure(figsize = (15, 8))\n",
    "# plt.grid()\n",
    "# plt.xlabel('mangaid')\n",
    "# plt.ylabel('log(luminosity / sol_lum)')\n",
    "# plt.bar(x_axis - 0.2, lum, 0.4, color = 'yellow', label = 'with subtraction')\n",
    "# plt.bar(x_axis + 0.2, lum_without_subtract, 0.4, color = 'darkorchid', label = 'without subtraction')\n",
    "# plt.xticks(x_axis, mangaid)\n",
    "# plt.legend()\n",
    "# plt.title('Luminosity')\n",
    "# # plt.savefig('Images/bar_luminosity.png', bbox_inches = 'tight')"
   ]
  },
  {
   "cell_type": "code",
   "execution_count": 10,
   "id": "pharmaceutical-amplifier",
   "metadata": {},
   "outputs": [],
   "source": [
    "# plt.figure(figsize = (15,7))\n",
    "# plt.grid()\n",
    "# plt.ylim(0,10)\n",
    "# plt.scatter(mangaid, lum, s = 100, color = 'turquoise', marker = '*', label = 'with subtraction')\n",
    "# plt.scatter(mangaid, lum_without_subtract, s = 130, color = 'fuchsia', marker = '*', \n",
    "#             label = 'without subtraction')\n",
    "# plt.legend()\n",
    "# plt.xlabel('mangaid')\n",
    "# plt.ylabel('log(luminosity / sol_lum)')\n",
    "# plt.title('Luminosity')\n",
    "# # plt.savefig('Images/scatter_luminosity.png', bbox_inches = 'tight')"
   ]
  },
  {
   "cell_type": "markdown",
   "id": "obvious-soccer",
   "metadata": {},
   "source": [
    "## Why...just why ? "
   ]
  },
  {
   "cell_type": "code",
   "execution_count": 11,
   "id": "loving-brave",
   "metadata": {},
   "outputs": [],
   "source": [
    "# plt.figure(figsize = (18,10))\n",
    "# plt.grid()\n",
    "# plt.xlabel('log [OIII] luminosity (in solar luminosity)')\n",
    "# plt.ylabel('log MBH (in solar mass)')\n",
    "# plt.scatter(lum, BHM, marker = 'o', color = 'dodgerblue')\n",
    "\n",
    "# a, b = np.polyfit(lum, BHM, 1)\n",
    "# plt.plot(lum, a*lum + b, linewidth = 0.5, color = 'salmon')\n",
    "\n",
    "# for i in range(len(mangaid)):\n",
    "#     plt.text(lum[i], BHM[i], '({})'.format(mangaid[i]))\n",
    "\n",
    "# # plt.savefig('Images/Expectations.png')"
   ]
  },
  {
   "cell_type": "markdown",
   "id": "gothic-ratio",
   "metadata": {},
   "source": [
    "## [OIII] lum from the file"
   ]
  },
  {
   "cell_type": "code",
   "execution_count": 12,
   "id": "inappropriate-helicopter",
   "metadata": {},
   "outputs": [],
   "source": [
    "# with open('/Users/natachaupra/Desktop/Snr_Prj/Snr-Prj/oiii-lum.txt','r') as data :\n",
    "#     sample = data.read()\n",
    "    \n",
    "# data.close()"
   ]
  },
  {
   "cell_type": "code",
   "execution_count": 13,
   "id": "twelve-watershed",
   "metadata": {},
   "outputs": [],
   "source": [
    "# table_data = StringIO(sample)"
   ]
  },
  {
   "cell_type": "code",
   "execution_count": 14,
   "id": "hydraulic-luxembourg",
   "metadata": {},
   "outputs": [],
   "source": [
    "# convert txt to csv and make dataframe\n",
    "df = pd.read_csv('/Users/natachaupra/Desktop/Snr_Prj/Snr-Prj/DAP.csv', sep=',')"
   ]
  },
  {
   "cell_type": "code",
   "execution_count": 15,
   "id": "norman-combat",
   "metadata": {},
   "outputs": [],
   "source": [
    "df1 = df.copy()"
   ]
  },
  {
   "cell_type": "code",
   "execution_count": 30,
   "id": "obvious-helicopter",
   "metadata": {},
   "outputs": [],
   "source": [
    "pd.set_option(\"display.max_rows\", None)\n",
    "# df1"
   ]
  },
  {
   "cell_type": "code",
   "execution_count": 132,
   "id": "super-crack",
   "metadata": {},
   "outputs": [],
   "source": [
    "df2 = df1[['mangaid','emline_sflux_cen_oiii_5008', 'emline_sflux_1re_oiii_5008', 'emline_sflux_tot_oiii_5008',\n",
    "          'emline_ssb_1re_oiii_5008', 'emline_ssb_peak_oiii_5008', 'emline_sew_1re_oiii_5008' , \n",
    "           'emline_sflux_cen_oiii_5008', 'ldist_nsa_z', 'stellar_sigma_1re']]"
   ]
  },
  {
   "cell_type": "code",
   "execution_count": 133,
   "id": "suburban-memorial",
   "metadata": {},
   "outputs": [],
   "source": [
    "df4 = df1[['emline_gflux_cen_oiii_5008', 'emline_gflux_1re_oiii_5008', 'emline_gflux_tot_oiii_5008',\n",
    "          'emline_gsb_1re_oiii_5008', 'emline_gsb_peak_oiii_5008', 'emline_gew_1re_oiii_5008', \n",
    "          'emline_gew_peak_oiii_5008']]"
   ]
  },
  {
   "cell_type": "code",
   "execution_count": 134,
   "id": "thorough-birth",
   "metadata": {},
   "outputs": [
    {
     "data": {
      "text/html": [
       "<div>\n",
       "<style scoped>\n",
       "    .dataframe tbody tr th:only-of-type {\n",
       "        vertical-align: middle;\n",
       "    }\n",
       "\n",
       "    .dataframe tbody tr th {\n",
       "        vertical-align: top;\n",
       "    }\n",
       "\n",
       "    .dataframe thead th {\n",
       "        text-align: right;\n",
       "    }\n",
       "</style>\n",
       "<table border=\"1\" class=\"dataframe\">\n",
       "  <thead>\n",
       "    <tr style=\"text-align: right;\">\n",
       "      <th></th>\n",
       "      <th>mangaid</th>\n",
       "      <th>emline_sflux_cen_oiii_5008</th>\n",
       "      <th>emline_sflux_1re_oiii_5008</th>\n",
       "      <th>emline_sflux_tot_oiii_5008</th>\n",
       "      <th>emline_ssb_1re_oiii_5008</th>\n",
       "      <th>emline_ssb_peak_oiii_5008</th>\n",
       "      <th>emline_sew_1re_oiii_5008</th>\n",
       "      <th>emline_sflux_cen_oiii_5008</th>\n",
       "      <th>ldist_nsa_z</th>\n",
       "    </tr>\n",
       "  </thead>\n",
       "  <tbody>\n",
       "    <tr>\n",
       "      <th>8</th>\n",
       "      <td>1-22948</td>\n",
       "      <td>421.8831</td>\n",
       "      <td>825.0736</td>\n",
       "      <td>880.6146</td>\n",
       "      <td>5.15671</td>\n",
       "      <td>26.3755</td>\n",
       "      <td>10.89063</td>\n",
       "      <td>421.8831</td>\n",
       "      <td>389.6841</td>\n",
       "    </tr>\n",
       "  </tbody>\n",
       "</table>\n",
       "</div>"
      ],
      "text/plain": [
       "   mangaid  emline_sflux_cen_oiii_5008  emline_sflux_1re_oiii_5008  \\\n",
       "8  1-22948                    421.8831                    825.0736   \n",
       "\n",
       "   emline_sflux_tot_oiii_5008  emline_ssb_1re_oiii_5008  \\\n",
       "8                    880.6146                   5.15671   \n",
       "\n",
       "   emline_ssb_peak_oiii_5008  emline_sew_1re_oiii_5008  \\\n",
       "8                    26.3755                  10.89063   \n",
       "\n",
       "   emline_sflux_cen_oiii_5008  ldist_nsa_z  \n",
       "8                    421.8831     389.6841  "
      ]
     },
     "execution_count": 134,
     "metadata": {},
     "output_type": "execute_result"
    }
   ],
   "source": [
    "df2.loc[df2['mangaid'] == mangaid[0]]"
   ]
  },
  {
   "cell_type": "code",
   "execution_count": 135,
   "id": "several-investment",
   "metadata": {},
   "outputs": [
    {
     "data": {
      "text/html": [
       "<div>\n",
       "<style scoped>\n",
       "    .dataframe tbody tr th:only-of-type {\n",
       "        vertical-align: middle;\n",
       "    }\n",
       "\n",
       "    .dataframe tbody tr th {\n",
       "        vertical-align: top;\n",
       "    }\n",
       "\n",
       "    .dataframe thead th {\n",
       "        text-align: right;\n",
       "    }\n",
       "</style>\n",
       "<table border=\"1\" class=\"dataframe\">\n",
       "  <thead>\n",
       "    <tr style=\"text-align: right;\">\n",
       "      <th></th>\n",
       "      <th>mangaid</th>\n",
       "      <th>emline_sflux_cen_oiii_5008</th>\n",
       "      <th>emline_sflux_1re_oiii_5008</th>\n",
       "      <th>emline_sflux_tot_oiii_5008</th>\n",
       "      <th>emline_ssb_1re_oiii_5008</th>\n",
       "      <th>emline_ssb_peak_oiii_5008</th>\n",
       "      <th>emline_sew_1re_oiii_5008</th>\n",
       "      <th>emline_sflux_cen_oiii_5008</th>\n",
       "      <th>ldist_nsa_z</th>\n",
       "    </tr>\n",
       "  </thead>\n",
       "  <tbody>\n",
       "    <tr>\n",
       "      <th>84</th>\n",
       "      <td>1-258599</td>\n",
       "      <td>937.6492</td>\n",
       "      <td>2095.584</td>\n",
       "      <td>2586.609</td>\n",
       "      <td>18.38232</td>\n",
       "      <td>60.21983</td>\n",
       "      <td>36.82235</td>\n",
       "      <td>937.6492</td>\n",
       "      <td>411.5134</td>\n",
       "    </tr>\n",
       "  </tbody>\n",
       "</table>\n",
       "</div>"
      ],
      "text/plain": [
       "     mangaid  emline_sflux_cen_oiii_5008  emline_sflux_1re_oiii_5008  \\\n",
       "84  1-258599                    937.6492                    2095.584   \n",
       "\n",
       "    emline_sflux_tot_oiii_5008  emline_ssb_1re_oiii_5008  \\\n",
       "84                    2586.609                  18.38232   \n",
       "\n",
       "    emline_ssb_peak_oiii_5008  emline_sew_1re_oiii_5008  \\\n",
       "84                   60.21983                  36.82235   \n",
       "\n",
       "    emline_sflux_cen_oiii_5008  ldist_nsa_z  \n",
       "84                    937.6492     411.5134  "
      ]
     },
     "execution_count": 135,
     "metadata": {},
     "output_type": "execute_result"
    }
   ],
   "source": [
    "df2.loc[df2['mangaid'] == mangaid[1]]"
   ]
  },
  {
   "cell_type": "code",
   "execution_count": 136,
   "id": "interesting-statement",
   "metadata": {},
   "outputs": [
    {
     "data": {
      "text/html": [
       "<div>\n",
       "<style scoped>\n",
       "    .dataframe tbody tr th:only-of-type {\n",
       "        vertical-align: middle;\n",
       "    }\n",
       "\n",
       "    .dataframe tbody tr th {\n",
       "        vertical-align: top;\n",
       "    }\n",
       "\n",
       "    .dataframe thead th {\n",
       "        text-align: right;\n",
       "    }\n",
       "</style>\n",
       "<table border=\"1\" class=\"dataframe\">\n",
       "  <thead>\n",
       "    <tr style=\"text-align: right;\">\n",
       "      <th></th>\n",
       "      <th>mangaid</th>\n",
       "      <th>emline_sflux_cen_oiii_5008</th>\n",
       "      <th>emline_sflux_1re_oiii_5008</th>\n",
       "      <th>emline_sflux_tot_oiii_5008</th>\n",
       "      <th>emline_ssb_1re_oiii_5008</th>\n",
       "      <th>emline_ssb_peak_oiii_5008</th>\n",
       "      <th>emline_sew_1re_oiii_5008</th>\n",
       "      <th>emline_sflux_cen_oiii_5008</th>\n",
       "      <th>ldist_nsa_z</th>\n",
       "    </tr>\n",
       "  </thead>\n",
       "  <tbody>\n",
       "    <tr>\n",
       "      <th>165</th>\n",
       "      <td>1-269632</td>\n",
       "      <td>310.3747</td>\n",
       "      <td>677.6347</td>\n",
       "      <td>763.6225</td>\n",
       "      <td>5.019516</td>\n",
       "      <td>19.89272</td>\n",
       "      <td>7.764029</td>\n",
       "      <td>310.3747</td>\n",
       "      <td>432.3984</td>\n",
       "    </tr>\n",
       "  </tbody>\n",
       "</table>\n",
       "</div>"
      ],
      "text/plain": [
       "      mangaid  emline_sflux_cen_oiii_5008  emline_sflux_1re_oiii_5008  \\\n",
       "165  1-269632                    310.3747                    677.6347   \n",
       "\n",
       "     emline_sflux_tot_oiii_5008  emline_ssb_1re_oiii_5008  \\\n",
       "165                    763.6225                  5.019516   \n",
       "\n",
       "     emline_ssb_peak_oiii_5008  emline_sew_1re_oiii_5008  \\\n",
       "165                   19.89272                  7.764029   \n",
       "\n",
       "     emline_sflux_cen_oiii_5008  ldist_nsa_z  \n",
       "165                    310.3747     432.3984  "
      ]
     },
     "execution_count": 136,
     "metadata": {},
     "output_type": "execute_result"
    }
   ],
   "source": [
    "df2.loc[df2['mangaid'] == mangaid[2]]"
   ]
  },
  {
   "cell_type": "code",
   "execution_count": 137,
   "id": "minus-industry",
   "metadata": {},
   "outputs": [
    {
     "data": {
      "text/html": [
       "<div>\n",
       "<style scoped>\n",
       "    .dataframe tbody tr th:only-of-type {\n",
       "        vertical-align: middle;\n",
       "    }\n",
       "\n",
       "    .dataframe tbody tr th {\n",
       "        vertical-align: top;\n",
       "    }\n",
       "\n",
       "    .dataframe thead th {\n",
       "        text-align: right;\n",
       "    }\n",
       "</style>\n",
       "<table border=\"1\" class=\"dataframe\">\n",
       "  <thead>\n",
       "    <tr style=\"text-align: right;\">\n",
       "      <th></th>\n",
       "      <th>mangaid</th>\n",
       "      <th>emline_sflux_cen_oiii_5008</th>\n",
       "      <th>emline_sflux_1re_oiii_5008</th>\n",
       "      <th>emline_sflux_tot_oiii_5008</th>\n",
       "      <th>emline_ssb_1re_oiii_5008</th>\n",
       "      <th>emline_ssb_peak_oiii_5008</th>\n",
       "      <th>emline_sew_1re_oiii_5008</th>\n",
       "      <th>emline_sflux_cen_oiii_5008</th>\n",
       "      <th>ldist_nsa_z</th>\n",
       "    </tr>\n",
       "  </thead>\n",
       "  <tbody>\n",
       "    <tr>\n",
       "      <th>54</th>\n",
       "      <td>1-284293</td>\n",
       "      <td>240.2331</td>\n",
       "      <td>600.6941</td>\n",
       "      <td>749.2232</td>\n",
       "      <td>3.080482</td>\n",
       "      <td>15.07118</td>\n",
       "      <td>7.474648</td>\n",
       "      <td>240.2331</td>\n",
       "      <td>423.9317</td>\n",
       "    </tr>\n",
       "  </tbody>\n",
       "</table>\n",
       "</div>"
      ],
      "text/plain": [
       "     mangaid  emline_sflux_cen_oiii_5008  emline_sflux_1re_oiii_5008  \\\n",
       "54  1-284293                    240.2331                    600.6941   \n",
       "\n",
       "    emline_sflux_tot_oiii_5008  emline_ssb_1re_oiii_5008  \\\n",
       "54                    749.2232                  3.080482   \n",
       "\n",
       "    emline_ssb_peak_oiii_5008  emline_sew_1re_oiii_5008  \\\n",
       "54                   15.07118                  7.474648   \n",
       "\n",
       "    emline_sflux_cen_oiii_5008  ldist_nsa_z  \n",
       "54                    240.2331     423.9317  "
      ]
     },
     "execution_count": 137,
     "metadata": {},
     "output_type": "execute_result"
    }
   ],
   "source": [
    "df2.loc[df2['mangaid'] == mangaid[3]]"
   ]
  },
  {
   "cell_type": "code",
   "execution_count": 138,
   "id": "smaller-beginning",
   "metadata": {},
   "outputs": [
    {
     "data": {
      "text/html": [
       "<div>\n",
       "<style scoped>\n",
       "    .dataframe tbody tr th:only-of-type {\n",
       "        vertical-align: middle;\n",
       "    }\n",
       "\n",
       "    .dataframe tbody tr th {\n",
       "        vertical-align: top;\n",
       "    }\n",
       "\n",
       "    .dataframe thead th {\n",
       "        text-align: right;\n",
       "    }\n",
       "</style>\n",
       "<table border=\"1\" class=\"dataframe\">\n",
       "  <thead>\n",
       "    <tr style=\"text-align: right;\">\n",
       "      <th></th>\n",
       "      <th>mangaid</th>\n",
       "      <th>emline_sflux_cen_oiii_5008</th>\n",
       "      <th>emline_sflux_1re_oiii_5008</th>\n",
       "      <th>emline_sflux_tot_oiii_5008</th>\n",
       "      <th>emline_ssb_1re_oiii_5008</th>\n",
       "      <th>emline_ssb_peak_oiii_5008</th>\n",
       "      <th>emline_sew_1re_oiii_5008</th>\n",
       "      <th>emline_sflux_cen_oiii_5008</th>\n",
       "      <th>ldist_nsa_z</th>\n",
       "    </tr>\n",
       "  </thead>\n",
       "  <tbody>\n",
       "    <tr>\n",
       "      <th>30</th>\n",
       "      <td>1-43214</td>\n",
       "      <td>2693.01</td>\n",
       "      <td>1352.847</td>\n",
       "      <td>6344.681</td>\n",
       "      <td>150.3164</td>\n",
       "      <td>166.1201</td>\n",
       "      <td>31.65118</td>\n",
       "      <td>2693.01</td>\n",
       "      <td>384.7559</td>\n",
       "    </tr>\n",
       "  </tbody>\n",
       "</table>\n",
       "</div>"
      ],
      "text/plain": [
       "    mangaid  emline_sflux_cen_oiii_5008  emline_sflux_1re_oiii_5008  \\\n",
       "30  1-43214                     2693.01                    1352.847   \n",
       "\n",
       "    emline_sflux_tot_oiii_5008  emline_ssb_1re_oiii_5008  \\\n",
       "30                    6344.681                  150.3164   \n",
       "\n",
       "    emline_ssb_peak_oiii_5008  emline_sew_1re_oiii_5008  \\\n",
       "30                   166.1201                  31.65118   \n",
       "\n",
       "    emline_sflux_cen_oiii_5008  ldist_nsa_z  \n",
       "30                     2693.01     384.7559  "
      ]
     },
     "execution_count": 138,
     "metadata": {},
     "output_type": "execute_result"
    }
   ],
   "source": [
    "df2.loc[df2['mangaid'] == mangaid[4]]"
   ]
  },
  {
   "cell_type": "code",
   "execution_count": 139,
   "id": "editorial-things",
   "metadata": {},
   "outputs": [
    {
     "data": {
      "text/html": [
       "<div>\n",
       "<style scoped>\n",
       "    .dataframe tbody tr th:only-of-type {\n",
       "        vertical-align: middle;\n",
       "    }\n",
       "\n",
       "    .dataframe tbody tr th {\n",
       "        vertical-align: top;\n",
       "    }\n",
       "\n",
       "    .dataframe thead th {\n",
       "        text-align: right;\n",
       "    }\n",
       "</style>\n",
       "<table border=\"1\" class=\"dataframe\">\n",
       "  <thead>\n",
       "    <tr style=\"text-align: right;\">\n",
       "      <th></th>\n",
       "      <th>mangaid</th>\n",
       "      <th>emline_sflux_cen_oiii_5008</th>\n",
       "      <th>emline_sflux_1re_oiii_5008</th>\n",
       "      <th>emline_sflux_tot_oiii_5008</th>\n",
       "      <th>emline_ssb_1re_oiii_5008</th>\n",
       "      <th>emline_ssb_peak_oiii_5008</th>\n",
       "      <th>emline_sew_1re_oiii_5008</th>\n",
       "      <th>emline_sflux_cen_oiii_5008</th>\n",
       "      <th>ldist_nsa_z</th>\n",
       "    </tr>\n",
       "  </thead>\n",
       "  <tbody>\n",
       "    <tr>\n",
       "      <th>31</th>\n",
       "      <td>1-574402</td>\n",
       "      <td>354.5117</td>\n",
       "      <td>1017.098</td>\n",
       "      <td>1323.864</td>\n",
       "      <td>7.647352</td>\n",
       "      <td>21.11577</td>\n",
       "      <td>23.16815</td>\n",
       "      <td>354.5117</td>\n",
       "      <td>434.325</td>\n",
       "    </tr>\n",
       "  </tbody>\n",
       "</table>\n",
       "</div>"
      ],
      "text/plain": [
       "     mangaid  emline_sflux_cen_oiii_5008  emline_sflux_1re_oiii_5008  \\\n",
       "31  1-574402                    354.5117                    1017.098   \n",
       "\n",
       "    emline_sflux_tot_oiii_5008  emline_ssb_1re_oiii_5008  \\\n",
       "31                    1323.864                  7.647352   \n",
       "\n",
       "    emline_ssb_peak_oiii_5008  emline_sew_1re_oiii_5008  \\\n",
       "31                   21.11577                  23.16815   \n",
       "\n",
       "    emline_sflux_cen_oiii_5008  ldist_nsa_z  \n",
       "31                    354.5117      434.325  "
      ]
     },
     "execution_count": 139,
     "metadata": {},
     "output_type": "execute_result"
    }
   ],
   "source": [
    "df2.loc[df2['mangaid'] == mangaid[5]]"
   ]
  },
  {
   "cell_type": "code",
   "execution_count": 140,
   "id": "hundred-adelaide",
   "metadata": {},
   "outputs": [
    {
     "data": {
      "text/html": [
       "<div>\n",
       "<style scoped>\n",
       "    .dataframe tbody tr th:only-of-type {\n",
       "        vertical-align: middle;\n",
       "    }\n",
       "\n",
       "    .dataframe tbody tr th {\n",
       "        vertical-align: top;\n",
       "    }\n",
       "\n",
       "    .dataframe thead th {\n",
       "        text-align: right;\n",
       "    }\n",
       "</style>\n",
       "<table border=\"1\" class=\"dataframe\">\n",
       "  <thead>\n",
       "    <tr style=\"text-align: right;\">\n",
       "      <th></th>\n",
       "      <th>mangaid</th>\n",
       "      <th>emline_sflux_cen_oiii_5008</th>\n",
       "      <th>emline_sflux_1re_oiii_5008</th>\n",
       "      <th>emline_sflux_tot_oiii_5008</th>\n",
       "      <th>emline_ssb_1re_oiii_5008</th>\n",
       "      <th>emline_ssb_peak_oiii_5008</th>\n",
       "      <th>emline_sew_1re_oiii_5008</th>\n",
       "      <th>emline_sflux_cen_oiii_5008</th>\n",
       "      <th>ldist_nsa_z</th>\n",
       "    </tr>\n",
       "  </thead>\n",
       "  <tbody>\n",
       "    <tr>\n",
       "      <th>34</th>\n",
       "      <td>1-72322</td>\n",
       "      <td>395.5347</td>\n",
       "      <td>1364.73</td>\n",
       "      <td>1679.07</td>\n",
       "      <td>3.678516</td>\n",
       "      <td>24.70059</td>\n",
       "      <td>10.24312</td>\n",
       "      <td>395.5347</td>\n",
       "      <td>413.5903</td>\n",
       "    </tr>\n",
       "  </tbody>\n",
       "</table>\n",
       "</div>"
      ],
      "text/plain": [
       "    mangaid  emline_sflux_cen_oiii_5008  emline_sflux_1re_oiii_5008  \\\n",
       "34  1-72322                    395.5347                     1364.73   \n",
       "\n",
       "    emline_sflux_tot_oiii_5008  emline_ssb_1re_oiii_5008  \\\n",
       "34                     1679.07                  3.678516   \n",
       "\n",
       "    emline_ssb_peak_oiii_5008  emline_sew_1re_oiii_5008  \\\n",
       "34                   24.70059                  10.24312   \n",
       "\n",
       "    emline_sflux_cen_oiii_5008  ldist_nsa_z  \n",
       "34                    395.5347     413.5903  "
      ]
     },
     "execution_count": 140,
     "metadata": {},
     "output_type": "execute_result"
    }
   ],
   "source": [
    "df2.loc[df2['mangaid'] == mangaid[6]]"
   ]
  },
  {
   "cell_type": "markdown",
   "id": "iraqi-northern",
   "metadata": {},
   "source": [
    "1. **emline_sflux_cen_oiii_5008** = Summed emission-line flux integrated within a 2.5 arcsec aperture at the galaxy center. Measurements specifically for OIII_5008.\n",
    "\n",
    "\n",
    "2. **emline_sflux_1re_oiii_5008** = Summed emission-line flux integrated within 1 effective-radius aperture at the galaxy. Measurements specifically for OIII_5008.\n",
    "\n",
    "\n",
    "3. **emline_sflux_tot_oiii_5008** = Total integrated flux of each summed emission measurement within the full MaNGA field-of-view. Measurements specifically for OIII_5008.\n",
    "\n",
    "\n",
    "4. **emline_ssb_1re_oiii_5008** = Mean emission-line surface-brightness from the summed flux measurements within 1 R_{e}. Measurements specifically for OIII_5008.\n",
    "\n",
    "\n",
    "5. **emline_ssb_peak_oiii_5008** = Peak summed-flux emission-line surface brightness. Measurements specificallyfor OIII_5008.\n",
    "\n",
    "\n",
    "6. **emline_sew_1re_oiii_5008** = Mean emission-line equivalent width from the summed flux measurements within 1 R_{e}. Measurements specifically for OIII_5008.\n",
    "\n",
    "\n",
    "7. **emline_sew_peak_oiii_5008** = Peak emission-line equivalent width from the summed flux measurements. Measurements specifically for OIII_5008.\n",
    "\n",
    "\n",
    "8. **emline_gflux_cen_oiii_5008** = Gaussian-fitted emission-line flux integrated within a 2.5 arcsec aperture at the galaxy center. Measurements specifically for OIII_5008.\n",
    "\n",
    "\n",
    "9. **emline_gflux_1re_oiii_5008** = Gaussian-fitted emission-line flux integrated within 1 effective-radius aperture at the galaxy. Measurements specifically for OIII_5008.\n",
    "\n",
    "\n",
    "10. **emline_gflux_tot_oiii_5008** = Total integrated flux of the Gaussian fit to each emission line within the full MaNGA field-of-view. Measurements specifically for OIII_5008.\n",
    "\n",
    "\n",
    "11. **emline_gsb_1re_oiii_5008** = Mean emission-line surface-brightness from the Gaussian-fitted flux measurements within 1 R_{e}. Measurements specifically for OIII_5008.\n",
    "\n",
    "\n",
    "12. **emline_gsb_peak_oiii_5008** = Peak Gaussian-fitted emission-line surface brightness. Measurements specifically for OIII_5008.\n",
    "\n",
    "\n",
    "13. **emline_gew_1re_oiii_5008** = Mean emission-line equivalent width from the Gaussian-fitted flux measurements within 1 R_{e}. Measurements specifically for OIII_5008.\n",
    "\n",
    "\n",
    "14. **emline_gew_peak_oiii_5008** = Peak emission-line equivalent width from the Gaussian-fitted flux measurements. Measurements specifically for OIII_5008.\n",
    "\n",
    "\n",
    "15. **emline_sflux_cen_oiii_5008** = Summed emission-line flux integrated within a 2.5 arcsec aperture at the galaxy center. Measurements specifically for OIII_5008.\n",
    "\n",
    "\n",
    "16. **ldist_nsa_z** = Luminosity distance based on NSA_Z and a standard cosmology (h=1; +¬_{M}=0.3; +¬_{+¢}=0.7)\n",
    "\n",
    "\n",
    "17. **stellar_sigma_1re** = Flux-weighted mean stellar velocity dispersion of all spaxels within 1 R_{e}.\n"
   ]
  },
  {
   "cell_type": "code",
   "execution_count": 92,
   "id": "important-defeat",
   "metadata": {},
   "outputs": [],
   "source": [
    "index = [8, 84, 165, 54, 30, 31, 34]"
   ]
  },
  {
   "cell_type": "code",
   "execution_count": 198,
   "id": "starting-patrol",
   "metadata": {},
   "outputs": [],
   "source": [
    "df_ldist = df1[['ldist_nsa_z']]\n",
    "df_flux = df1[['emline_sflux_cen_oiii_5008']]\n",
    "df_vdis = df1[['stellar_sigma_1re']]"
   ]
  },
  {
   "cell_type": "markdown",
   "id": "advised-occupation",
   "metadata": {},
   "source": [
    "## Luminosity Distance "
   ]
  },
  {
   "cell_type": "code",
   "execution_count": 199,
   "id": "adopted-decline",
   "metadata": {},
   "outputs": [
    {
     "data": {
      "text/plain": [
       "array([389.6841, 411.5134, 432.3984, 423.9317, 384.7559, 434.325 ,\n",
       "       413.5903])"
      ]
     },
     "execution_count": 199,
     "metadata": {},
     "output_type": "execute_result"
    }
   ],
   "source": [
    "file_lum_dist = np.array([df_ldist.loc[index[num]][0] for num in range(7)])\n",
    "file_lum_dist"
   ]
  },
  {
   "cell_type": "code",
   "execution_count": 200,
   "id": "bright-watch",
   "metadata": {},
   "outputs": [
    {
     "name": "stdout",
     "output_type": "stream",
     "text": [
      "[1.42859306 1.42862906 1.42854368 1.428532   1.42843813 1.42865366\n",
      " 1.42846677]\n",
      "avg factor = 1.4285509077193692\n"
     ]
    }
   ],
   "source": [
    "lum_dist_factor = lum_dist/file_lum_dist\n",
    "print(lum_dist_factor)\n",
    "print('avg factor =' , np.average(lum_dist_factor))"
   ]
  },
  {
   "cell_type": "code",
   "execution_count": 201,
   "id": "divine-silence",
   "metadata": {},
   "outputs": [
    {
     "data": {
      "image/png": "[encoded data removed]",
      "text/plain": [
       "<Figure size 1080x576 with 1 Axes>"
      ]
     },
     "metadata": {
      "needs_background": "light"
     },
     "output_type": "display_data"
    }
   ],
   "source": [
    "plt.figure(figsize = (15,8))\n",
    "plt.grid()\n",
    "plt.xlabel('My Values of Luminosity Distance')\n",
    "plt.ylabel('Their Luminosity Distance')\n",
    "plt.title('Luminosity Distance')\n",
    "plt.scatter(lum_dist, file_lum_dist, marker = 'o', color = 'dodgerblue')\n",
    "\n",
    "a, b = np.polyfit(lum_dist, file_lum_dist, 1)\n",
    "plt.plot(lum_dist, a*lum_dist + b, linewidth = 0.5, color = 'salmon')\n",
    "\n",
    "for i in range(len(mangaid)):\n",
    "    plt.text(lum_dist[i], file_lum_dist[i], '({})'.format(mangaid[i]))"
   ]
  },
  {
   "cell_type": "markdown",
   "id": "miniature-banks",
   "metadata": {},
   "source": [
    "^ My values are greater than their values, but the graph shows a perfect straight line, so is it just a problem of a different factor of multiplication or sth ? "
   ]
  },
  {
   "cell_type": "markdown",
   "id": "british-brooks",
   "metadata": {},
   "source": [
    "## Flux"
   ]
  },
  {
   "cell_type": "code",
   "execution_count": 202,
   "id": "magnetic-andorra",
   "metadata": {},
   "outputs": [
    {
     "data": {
      "text/plain": [
       "array([ 421.8831,  937.6492,  310.3747,  240.2331, 2693.01  ,  354.5117,\n",
       "        395.5347])"
      ]
     },
     "execution_count": 202,
     "metadata": {},
     "output_type": "execute_result"
    }
   ],
   "source": [
    "file_flux = np.array([df_flux.loc[index[num]][0] for num in range(len(mangaid))])\n",
    "file_flux"
   ]
  },
  {
   "cell_type": "code",
   "execution_count": 203,
   "id": "working-leisure",
   "metadata": {},
   "outputs": [
    {
     "name": "stdout",
     "output_type": "stream",
     "text": [
      "[1.32091776 0.63613336 1.92177369 3.20471368 1.94727829 3.20331705\n",
      " 3.17425621]\n"
     ]
    }
   ],
   "source": [
    "flux_factor = flux/file_flux\n",
    "print(flux_factor)"
   ]
  },
  {
   "cell_type": "code",
   "execution_count": 204,
   "id": "driving-medline",
   "metadata": {},
   "outputs": [
    {
     "data": {
      "image/png": "[encoded data removed]",
      "text/plain": [
       "<Figure size 1080x576 with 1 Axes>"
      ]
     },
     "metadata": {
      "needs_background": "light"
     },
     "output_type": "display_data"
    }
   ],
   "source": [
    "plt.figure(figsize = (15,8))\n",
    "plt.grid()\n",
    "plt.xlabel('My Values of Flux')\n",
    "plt.ylabel('Their Flux')\n",
    "plt.title('Flux')\n",
    "plt.scatter(flux, file_flux, marker = 'o', color = 'firebrick')\n",
    "\n",
    "a, b = np.polyfit(flux, file_flux, 1)\n",
    "plt.plot(flux, a*flux + b, linewidth = 0.7, color = 'lightseagreen')\n",
    "\n",
    "for i in range(len(mangaid)):\n",
    "    plt.text(flux[i], file_flux[i], '({})'.format(mangaid[i]))"
   ]
  },
  {
   "cell_type": "markdown",
   "id": "acute-arizona",
   "metadata": {},
   "source": [
    "^ Srsly, what the heck =.=\n",
    "\n",
    "You on crack or sth ? "
   ]
  },
  {
   "cell_type": "markdown",
   "id": "minus-burner",
   "metadata": {},
   "source": [
    "## Velocity Dispersion"
   ]
  },
  {
   "cell_type": "code",
   "execution_count": 196,
   "id": "following-modeling",
   "metadata": {},
   "outputs": [
    {
     "data": {
      "text/plain": [
       "array([ 135.54  ,  363.1804,  126.7388,  176.9117, -999.    ,  136.5246,\n",
       "        222.9631])"
      ]
     },
     "execution_count": 196,
     "metadata": {},
     "output_type": "execute_result"
    }
   ],
   "source": [
    "file_vdis = np.array([df_vdis.loc[index[num]][0] for num in range(len(mangaid))])\n",
    "file_vdis"
   ]
  },
  {
   "cell_type": "code",
   "execution_count": 197,
   "id": "nervous-coral",
   "metadata": {},
   "outputs": [
    {
     "data": {
      "image/png": "[encoded data removed]",
      "text/plain": [
       "<Figure size 1080x576 with 1 Axes>"
      ]
     },
     "metadata": {
      "needs_background": "light"
     },
     "output_type": "display_data"
    }
   ],
   "source": [
    "plt.figure(figsize = (15,8))\n",
    "plt.grid()\n",
    "plt.xlabel('Their Velocity Dispersion')\n",
    "plt.ylabel('My BHM')\n",
    "plt.title('BHM - Velocity Dispersion')\n",
    "plt.scatter(file_vdis, BHM, marker = 'o', color = 'mediumblue')\n",
    "\n",
    "a, b = np.polyfit(file_vdis, BHM, 1)\n",
    "plt.plot(file_vdis, a*file_vdis + b, linewidth = 0.7, color = 'gold')\n",
    "\n",
    "for i in range(len(mangaid)):\n",
    "    plt.text(file_vdis[i], BHM[i], '({})'.format(mangaid[i]))"
   ]
  },
  {
   "cell_type": "markdown",
   "id": "velvet-earthquake",
   "metadata": {},
   "source": [
    "Oh no ..."
   ]
  },
  {
   "cell_type": "code",
   "execution_count": null,
   "id": "valuable-shame",
   "metadata": {},
   "outputs": [],
   "source": []
  }
 ],
 "metadata": {
  "kernelspec": {
   "display_name": "Python 3",
   "language": "python",
   "name": "python3"
  },
  "language_info": {
   "codemirror_mode": {
    "name": "ipython",
    "version": 3
   },
   "file_extension": ".py",
   "mimetype": "text/x-python",
   "name": "python",
   "nbconvert_exporter": "python",
   "pygments_lexer": "ipython3",
   "version": "3.7.9"
  }
 },
 "nbformat": 4,
 "nbformat_minor": 5
}
