{
 "cells": [
  {
   "cell_type": "code",
   "execution_count": 2,
   "id": "useful-thompson",
   "metadata": {},
   "outputs": [],
   "source": [
    "import numpy as np\n",
    "import matplotlib.pyplot as plt\n",
    "from astropy.io import fits\n",
    "from matplotlib import cm\n",
    "from io import StringIO\n",
    "import pandas as pd"
   ]
  },
  {
   "cell_type": "markdown",
   "id": "positive-hypothetical",
   "metadata": {},
   "source": [
    "# How to open and read different files"
   ]
  },
  {
   "cell_type": "markdown",
   "id": "obvious-channel",
   "metadata": {},
   "source": [
    "### The FITS file"
   ]
  },
  {
   "cell_type": "code",
   "execution_count": 3,
   "id": "extra-dover",
   "metadata": {},
   "outputs": [],
   "source": [
    "# open the file\n",
    "data = fits.open('/Users/natachaupra/Downloads/manga-8135-1902-LOGCUBE.fits.gz')"
   ]
  },
  {
   "cell_type": "code",
   "execution_count": 41,
   "id": "ethical-utilization",
   "metadata": {},
   "outputs": [],
   "source": [
    "# To get the info of all subfiles that is in the fits file of each object\n",
    "\n",
    "# data.info() "
   ]
  },
  {
   "cell_type": "code",
   "execution_count": 40,
   "id": "enabling-speaker",
   "metadata": {
    "scrolled": false
   },
   "outputs": [],
   "source": [
    "# To get the information about the object you are using \n",
    "\n",
    "# data[0].header\n",
    "\n",
    "# focus on the RA, Dec, plateifu, mangaid, bunit"
   ]
  },
  {
   "cell_type": "markdown",
   "id": "atmospheric-cursor",
   "metadata": {},
   "source": [
    "<img src = 'Images/TheBread.png' style = \"width:400pt\"/>"
   ]
  },
  {
   "cell_type": "code",
   "execution_count": 11,
   "id": "innocent-monday",
   "metadata": {},
   "outputs": [],
   "source": [
    "# how to open each subfile. Just copy this code\n",
    "\n",
    "flux = np.transpose(data['FLUX'].data, axes=(2, 1, 0))\n",
    "ivar = np.transpose(data['IVAR'].data, axes=(2, 1, 0))\n",
    "mask = np.transpose(data['MASK'].data, axes=(2, 1, 0))\n",
    "wave = data['WAVE'].data"
   ]
  },
  {
   "cell_type": "code",
   "execution_count": 33,
   "id": "advisory-reader",
   "metadata": {},
   "outputs": [
    {
     "name": "stdout",
     "output_type": "stream",
     "text": [
      "Information below is for this particular object only\n",
      "length of the x dimension = 34\n",
      "length of the y dimension = 34\n",
      "length of the wavelength (depth) dimension = 4563\n"
     ]
    }
   ],
   "source": [
    "# flux = [x][y][wavelength] --> value of flux density at any point (x,y) at a certain wavelength\n",
    "# x = y\n",
    "# wavelength = 4563\n",
    "\n",
    "print('Information below is for this particular object only')\n",
    "print('length of the x dimension =', len(flux))\n",
    "print('length of the y dimension =', len(flux[0]))\n",
    "print('length of the wavelength (depth) dimension =', len(flux[0][0]))"
   ]
  },
  {
   "cell_type": "code",
   "execution_count": 34,
   "id": "radical-lender",
   "metadata": {},
   "outputs": [
    {
     "data": {
      "text/plain": [
       "array([0., 0., 0., ..., 0., 0., 0.], dtype=float32)"
      ]
     },
     "execution_count": 34,
     "metadata": {},
     "output_type": "execute_result"
    }
   ],
   "source": [
    "flux[0][0] # example of flux density array at pixel (0,0) for each wavelength. It is a 1D array, 4563 items long"
   ]
  },
  {
   "cell_type": "code",
   "execution_count": 10,
   "id": "waiting-antigua",
   "metadata": {},
   "outputs": [
    {
     "data": {
      "text/plain": [
       "array([5, 7, 9])"
      ]
     },
     "execution_count": 10,
     "metadata": {},
     "output_type": "execute_result"
    }
   ],
   "source": [
    "# Example of how to add arrays element-wise, using numpy array\n",
    "a = np.array([1,2,3])\n",
    "b = np.array([4,5,6])\n",
    "a+b"
   ]
  },
  {
   "cell_type": "code",
   "execution_count": 12,
   "id": "adaptive-truck",
   "metadata": {},
   "outputs": [
    {
     "data": {
      "text/plain": [
       "array([ 3621.59598486,  3622.42998417,  3623.26417553, ...,\n",
       "       10349.03843826, 10351.42166679, 10353.80544415])"
      ]
     },
     "execution_count": 12,
     "metadata": {},
     "output_type": "execute_result"
    }
   ],
   "source": [
    "wave # file containing all the observed wavelengths in the observed frame; 4563 items long"
   ]
  },
  {
   "cell_type": "markdown",
   "id": "employed-shepherd",
   "metadata": {},
   "source": [
    "### The DRP file"
   ]
  },
  {
   "cell_type": "code",
   "execution_count": 19,
   "id": "integrated-nurse",
   "metadata": {},
   "outputs": [],
   "source": [
    "drp_data = fits.open('/Users/natachaupra/Desktop/Project/Senior-Project/drpall-v2_4_3.fits')\n",
    "# drp data containing the information about the object"
   ]
  },
  {
   "cell_type": "code",
   "execution_count": 36,
   "id": "polar-anxiety",
   "metadata": {
    "scrolled": false
   },
   "outputs": [
    {
     "name": "stdout",
     "output_type": "stream",
     "text": [
      "Filename: /Users/natachaupra/Desktop/Project/Senior-Project/drpall-v2_4_3.fits\n",
      "No.    Name      Ver    Type      Cards   Dimensions   Format\n",
      "  0  PRIMARY       1 PrimaryHDU       6   ()      \n",
      "  1                1 BinTableHDU    208   11465R x 99C   ['K', '21A', '11A', '11A', '6A', '6A', '6A', '7A', '4A', '14A', '12A', 'D', 'D', 'D', 'D', 'D', 'D', 'D', 'K', 'D', 'K', 'D', 'D', '35A', 'K', '11A', 'K', 'D', 'D', 'D', 'D', 'D', 'D', 'D', 'D', 'D', 'D', 'D', 'K', 'K', 'K', 'D', 'D', 'D', 'D', 'K', 'K', 'K', 'K', '19A', 'K', '19A', 'K', 'K', 'K', 'D', 'D', 'D', 'D', 'D', 'D', 'D', 'D', 'D', 'D', 'D', 'D', 'D', 'D', 'D', 'D', 'K', 'K', 'K', '6A', 'K', 'K', 'D', 'D', '7D', '7D', '7D', 'D', 'D', 'D', 'D', '7D', 'D', 'D', '7D', '7D', '7D', '7D', 'D', 'D', 'D', 'D', '7D', '7D']   \n"
     ]
    }
   ],
   "source": [
    "drp_data.info() #information in drp data"
   ]
  },
  {
   "cell_type": "code",
   "execution_count": 51,
   "id": "standing-syria",
   "metadata": {
    "scrolled": false
   },
   "outputs": [],
   "source": [
    "#information in the second subfile in drp data. Focus on nsa_z for redshift.\n",
    "\n",
    "# drp_data[1].header "
   ]
  },
  {
   "cell_type": "code",
   "execution_count": 73,
   "id": "irish-script",
   "metadata": {},
   "outputs": [
    {
     "name": "stdout",
     "output_type": "stream",
     "text": [
      "index of object with mangaid 1-43214 in drp file = 4571\n",
      "index of object with mangaid 1-43214 in drp file = 4571\n",
      "Redshift of object with mangaid 1-43214 in drp file = 0.117997\n"
     ]
    }
   ],
   "source": [
    "# np.where to get the index of the object with the mangaid that we want.\n",
    "index = np.where(drp_data[1].data['mangaid'] == '1-43214') \n",
    "print('index of object with mangaid 1-43214 in drp file =', index[0][0])\n",
    "\n",
    "# you can also get index using plateifu\n",
    "plateifu_index = np.where(drp_data[1].data['plateifu'] == '8135-1902')\n",
    "print('index of object with mangaid 1-43214 in drp file =', plateifu_index[0][0])\n",
    "\n",
    "# using the index we found, we can call the drp with that index and get the redshift of the object\n",
    "redshift = drp_data[1].data[index[0][0]]['nsa_z']\n",
    "print('Redshift of object with mangaid 1-43214 in drp file =', redshift)"
   ]
  },
  {
   "cell_type": "markdown",
   "id": "trained-classic",
   "metadata": {},
   "source": [
    "### The DAP file"
   ]
  },
  {
   "cell_type": "code",
   "execution_count": 42,
   "id": "imposed-arrangement",
   "metadata": {},
   "outputs": [],
   "source": [
    "df = pd.read_csv('/Users/natachaupra/Desktop/Snr_Prj/Snr-Prj/DAP.csv', sep=',')"
   ]
  },
  {
   "cell_type": "code",
   "execution_count": 84,
   "id": "incident-referral",
   "metadata": {},
   "outputs": [],
   "source": [
    "# If you want to see the whole dataframe, just run this cell. It's very long tho\n",
    "\n",
    "# pd.set_option(\"display.max_rows\", None)\n",
    "# df"
   ]
  },
  {
   "cell_type": "code",
   "execution_count": 85,
   "id": "informal-confidentiality",
   "metadata": {},
   "outputs": [
    {
     "data": {
      "text/html": [
       "<div>\n",
       "<style scoped>\n",
       "    .dataframe tbody tr th:only-of-type {\n",
       "        vertical-align: middle;\n",
       "    }\n",
       "\n",
       "    .dataframe tbody tr th {\n",
       "        vertical-align: top;\n",
       "    }\n",
       "\n",
       "    .dataframe thead th {\n",
       "        text-align: right;\n",
       "    }\n",
       "</style>\n",
       "<table border=\"1\" class=\"dataframe\">\n",
       "  <thead>\n",
       "    <tr style=\"text-align: right;\">\n",
       "      <th></th>\n",
       "      <th>plate</th>\n",
       "      <th>ifudesign</th>\n",
       "      <th>plateifu</th>\n",
       "      <th>mangaid</th>\n",
       "      <th>drpallindx</th>\n",
       "      <th>mode</th>\n",
       "      <th>daptype</th>\n",
       "      <th>dapdone</th>\n",
       "      <th>objra</th>\n",
       "      <th>objdec</th>\n",
       "      <th>...</th>\n",
       "      <th>specindex_1re_cah1</th>\n",
       "      <th>specindex_1re_cah2</th>\n",
       "      <th>specindex_1re_naisdss</th>\n",
       "      <th>specindex_1re_tio2sdss</th>\n",
       "      <th>specindex_1re_d4000</th>\n",
       "      <th>specindex_1re_dn4000</th>\n",
       "      <th>specindex_1re_tiocvd</th>\n",
       "      <th>sfr_1re</th>\n",
       "      <th>sfr_tot</th>\n",
       "      <th>htmID</th>\n",
       "    </tr>\n",
       "  </thead>\n",
       "  <tbody>\n",
       "    <tr>\n",
       "      <th>30</th>\n",
       "      <td>8135</td>\n",
       "      <td>1902</td>\n",
       "      <td>8135-1902</td>\n",
       "      <td>1-43214</td>\n",
       "      <td>4571</td>\n",
       "      <td>CUBE</td>\n",
       "      <td>HYB10-GAU-MILESHC</td>\n",
       "      <td>True</td>\n",
       "      <td>114.096382</td>\n",
       "      <td>39.438278</td>\n",
       "      <td>...</td>\n",
       "      <td>-0.017145</td>\n",
       "      <td>0.248986</td>\n",
       "      <td>0.425967</td>\n",
       "      <td>0.075008</td>\n",
       "      <td>0.877356</td>\n",
       "      <td>0.896188</td>\n",
       "      <td>0.995518</td>\n",
       "      <td>6.891536</td>\n",
       "      <td>27.41525</td>\n",
       "      <td>16283386537540</td>\n",
       "    </tr>\n",
       "  </tbody>\n",
       "</table>\n",
       "<p>1 rows × 620 columns</p>\n",
       "</div>"
      ],
      "text/plain": [
       "    plate  ifudesign   plateifu  mangaid  drpallindx  mode            daptype  \\\n",
       "30   8135       1902  8135-1902  1-43214        4571  CUBE  HYB10-GAU-MILESHC   \n",
       "\n",
       "    dapdone       objra     objdec  ...  specindex_1re_cah1  \\\n",
       "30     True  114.096382  39.438278  ...           -0.017145   \n",
       "\n",
       "    specindex_1re_cah2  specindex_1re_naisdss  specindex_1re_tio2sdss  \\\n",
       "30            0.248986               0.425967                0.075008   \n",
       "\n",
       "    specindex_1re_d4000  specindex_1re_dn4000  specindex_1re_tiocvd   sfr_1re  \\\n",
       "30             0.877356              0.896188              0.995518  6.891536   \n",
       "\n",
       "     sfr_tot           htmID  \n",
       "30  27.41525  16283386537540  \n",
       "\n",
       "[1 rows x 620 columns]"
      ]
     },
     "execution_count": 85,
     "metadata": {},
     "output_type": "execute_result"
    }
   ],
   "source": [
    "# To get all the information about the object, just call it using the mangaid\n",
    "df.loc[df['mangaid'] == '1-43214']"
   ]
  },
  {
   "cell_type": "code",
   "execution_count": 86,
   "id": "structured-machinery",
   "metadata": {},
   "outputs": [
    {
     "data": {
      "text/html": [
       "<div>\n",
       "<style scoped>\n",
       "    .dataframe tbody tr th:only-of-type {\n",
       "        vertical-align: middle;\n",
       "    }\n",
       "\n",
       "    .dataframe tbody tr th {\n",
       "        vertical-align: top;\n",
       "    }\n",
       "\n",
       "    .dataframe thead th {\n",
       "        text-align: right;\n",
       "    }\n",
       "</style>\n",
       "<table border=\"1\" class=\"dataframe\">\n",
       "  <thead>\n",
       "    <tr style=\"text-align: right;\">\n",
       "      <th></th>\n",
       "      <th>plate</th>\n",
       "      <th>ifudesign</th>\n",
       "      <th>plateifu</th>\n",
       "      <th>mangaid</th>\n",
       "      <th>drpallindx</th>\n",
       "      <th>mode</th>\n",
       "      <th>daptype</th>\n",
       "      <th>dapdone</th>\n",
       "      <th>objra</th>\n",
       "      <th>objdec</th>\n",
       "      <th>...</th>\n",
       "      <th>specindex_1re_cah1</th>\n",
       "      <th>specindex_1re_cah2</th>\n",
       "      <th>specindex_1re_naisdss</th>\n",
       "      <th>specindex_1re_tio2sdss</th>\n",
       "      <th>specindex_1re_d4000</th>\n",
       "      <th>specindex_1re_dn4000</th>\n",
       "      <th>specindex_1re_tiocvd</th>\n",
       "      <th>sfr_1re</th>\n",
       "      <th>sfr_tot</th>\n",
       "      <th>htmID</th>\n",
       "    </tr>\n",
       "  </thead>\n",
       "  <tbody>\n",
       "    <tr>\n",
       "      <th>30</th>\n",
       "      <td>8135</td>\n",
       "      <td>1902</td>\n",
       "      <td>8135-1902</td>\n",
       "      <td>1-43214</td>\n",
       "      <td>4571</td>\n",
       "      <td>CUBE</td>\n",
       "      <td>HYB10-GAU-MILESHC</td>\n",
       "      <td>True</td>\n",
       "      <td>114.096382</td>\n",
       "      <td>39.438278</td>\n",
       "      <td>...</td>\n",
       "      <td>-0.017145</td>\n",
       "      <td>0.248986</td>\n",
       "      <td>0.425967</td>\n",
       "      <td>0.075008</td>\n",
       "      <td>0.877356</td>\n",
       "      <td>0.896188</td>\n",
       "      <td>0.995518</td>\n",
       "      <td>6.891536</td>\n",
       "      <td>27.41525</td>\n",
       "      <td>16283386537540</td>\n",
       "    </tr>\n",
       "  </tbody>\n",
       "</table>\n",
       "<p>1 rows × 620 columns</p>\n",
       "</div>"
      ],
      "text/plain": [
       "    plate  ifudesign   plateifu  mangaid  drpallindx  mode            daptype  \\\n",
       "30   8135       1902  8135-1902  1-43214        4571  CUBE  HYB10-GAU-MILESHC   \n",
       "\n",
       "    dapdone       objra     objdec  ...  specindex_1re_cah1  \\\n",
       "30     True  114.096382  39.438278  ...           -0.017145   \n",
       "\n",
       "    specindex_1re_cah2  specindex_1re_naisdss  specindex_1re_tio2sdss  \\\n",
       "30            0.248986               0.425967                0.075008   \n",
       "\n",
       "    specindex_1re_d4000  specindex_1re_dn4000  specindex_1re_tiocvd   sfr_1re  \\\n",
       "30             0.877356              0.896188              0.995518  6.891536   \n",
       "\n",
       "     sfr_tot           htmID  \n",
       "30  27.41525  16283386537540  \n",
       "\n",
       "[1 rows x 620 columns]"
      ]
     },
     "execution_count": 86,
     "metadata": {},
     "output_type": "execute_result"
    }
   ],
   "source": [
    "# Or call it using plateifu\n",
    "df.loc[df['plateifu'] == '8135-1902']"
   ]
  },
  {
   "cell_type": "code",
   "execution_count": 87,
   "id": "superior-anger",
   "metadata": {},
   "outputs": [
    {
     "data": {
      "text/plain": [
       "30    0.117997\n",
       "Name: nsa_z, dtype: float64"
      ]
     },
     "execution_count": 87,
     "metadata": {},
     "output_type": "execute_result"
    }
   ],
   "source": [
    "# The dataframe is 620 columns wide so not everything maybe displayed. You can just call the things you want\n",
    "# For example, redhsift\n",
    "df.loc[df['mangaid'] == '1-43214']['nsa_z']"
   ]
  },
  {
   "cell_type": "markdown",
   "id": "developing-decimal",
   "metadata": {},
   "source": [
    "# How to plot stuff"
   ]
  },
  {
   "cell_type": "markdown",
   "id": "composite-shareware",
   "metadata": {},
   "source": [
    "### Central Spectrum\n",
    "\n",
    "You can just copy the code below :)"
   ]
  },
  {
   "cell_type": "code",
   "execution_count": 99,
   "id": "exempt-genetics",
   "metadata": {},
   "outputs": [
    {
     "name": "stdout",
     "output_type": "stream",
     "text": [
      "17 17\n"
     ]
    },
    {
     "data": {
      "image/png": "[encoded data removed]",
      "text/plain": [
       "<Figure size 864x432 with 1 Axes>"
      ]
     },
     "metadata": {
      "needs_background": "light"
     },
     "output_type": "display_data"
    }
   ],
   "source": [
    "x_center = int(flux_header['CRPIX1']) - 1\n",
    "y_center = int(flux_header['CRPIX2']) - 1\n",
    "\n",
    "# You can see that it is (17,17) because this object is 34 x 34 pixels, so center pixel is (17,17)\n",
    "print(x_center, y_center) \n",
    "\n",
    "plt.figure(figsize = (12, 6)) # Changing the figure size of the plot # OPTIONAL\n",
    "plt.grid() # Add grid to the plot # OPTIONAL\n",
    "\n",
    "plt.plot(wave, flux[x_center, y_center], color = 'salmon')\n",
    "# You can change the color of the plot if you want. \n",
    "# Choose here : https://matplotlib.org/stable/gallery/color/named_colors.html \n",
    "\n",
    "plt.xlabel('$\\lambda \\, [\\AA]$') # Put label for the x-axis\n",
    "\n",
    "flux_header = data['FLUX'].header # We call this one just so we can get the unit of flux density in the next line\n",
    "plt.ylabel(flux_header['BUNIT']) # Put label for the y-axis \n",
    "\n",
    "plt.title('Central Spectrum') # Put title\n",
    "\n",
    "plt.show()"
   ]
  },
  {
   "cell_type": "markdown",
   "id": "fatty-sunglasses",
   "metadata": {},
   "source": [
    "### The 2D Image"
   ]
  },
  {
   "cell_type": "markdown",
   "id": "hollow-concept",
   "metadata": {},
   "source": [
    "$$ 1+z = \\frac{\\lambda_{Obs}}{\\lambda_{Rest}}$$"
   ]
  },
  {
   "cell_type": "code",
   "execution_count": 105,
   "id": "departmental-guyana",
   "metadata": {},
   "outputs": [
    {
     "name": "stdout",
     "output_type": "stream",
     "text": [
      "extent = [-8.5000068, 8.5000068, -8.5000068, 8.5000068]\n",
      "pixels = [0, 34, 0, 34]\n"
     ]
    }
   ],
   "source": [
    "do_not_use = (mask & 2**10) != 0 # This is the mask criteria, from the MASK array in the FITS file of the object\n",
    "flux_m = np.ma.array(flux, mask=do_not_use) # Masking it \n",
    "\n",
    "redshift = 0.117997 # redshift depends on the object. You can just call the redshift from above too, that you \n",
    "# found from the DRP / DAP file\n",
    "\n",
    "# This is the H-alpha range (H-alpha wavelength = 6563 ang)\n",
    "ind_wave = np.where((wave / (1 + redshift) > 6550) & (wave / (1 + redshift) < 6680))[0]\n",
    "halpha = flux_m[:, :, ind_wave].sum(axis=2)\n",
    "im = halpha.T\n",
    "\n",
    "# Convert from array indices to arcsec relative to IFU center\n",
    "dx = flux_header['CD1_1'] * 3600.  # deg to arcsec\n",
    "dy = flux_header['CD2_2'] * 3600.  # deg to arcsec\n",
    "\n",
    "# extent here gives you the angle subtended by the object in the sky in arcsec\n",
    "x_extent = (np.array([0., im.shape[0]]) - (im.shape[0] - x_center)) * dx * (-1)\n",
    "y_extent = (np.array([0., im.shape[1]]) - (im.shape[1] - y_center)) * dy\n",
    "\n",
    "# The structure is [x_min, x_max, y_min, y_max]\n",
    "extent = [x_extent[0], x_extent[1], y_extent[0], y_extent[1]]\n",
    "print('extent =',extent)\n",
    "\n",
    "# dim gives you the number of pixels in x and y dimensions of the object\n",
    "dim = [0, len(flux), 0, len(flux)]\n",
    "print('pixels =',dim)"
   ]
  },
  {
   "cell_type": "code",
   "execution_count": 117,
   "id": "billion-credits",
   "metadata": {},
   "outputs": [
    {
     "data": {
      "image/png": "[encoded data removed]",
      "text/plain": [
       "<Figure size 432x288 with 2 Axes>"
      ]
     },
     "metadata": {
      "needs_background": "light"
     },
     "output_type": "display_data"
    }
   ],
   "source": [
    "# You can change the size if you want. Use figsize like above\n",
    "# Change the color of the image (cmap) : https://matplotlib.org/3.5.0/tutorials/colors/colormaps.html\n",
    "plt.imshow(im, extent=extent, cmap=cm.YlGnBu_r, vmin=0.1, vmax=100, origin='lower', interpolation='none')\n",
    "plt.colorbar(label=flux_header['BUNIT'])\n",
    "plt.xlabel('arcsec')\n",
    "plt.ylabel('arcsec')\n",
    "plt.title('MaNGA ID = 1-43214')\n",
    "plt.show()"
   ]
  },
  {
   "cell_type": "code",
   "execution_count": 118,
   "id": "major-conditioning",
   "metadata": {},
   "outputs": [
    {
     "data": {
      "image/png": "[encoded data removed]",
      "text/plain": [
       "<Figure size 432x288 with 2 Axes>"
      ]
     },
     "metadata": {
      "needs_background": "light"
     },
     "output_type": "display_data"
    }
   ],
   "source": [
    "plt.imshow(im, extent=dim, cmap=cm.YlGnBu_r, vmin=0.1, vmax=100, origin='lower', interpolation='none')\n",
    "plt.colorbar(label=flux_header['BUNIT'])\n",
    "plt.xlabel('pixels')\n",
    "plt.ylabel('pixels')\n",
    "plt.title('MaNGA ID = 1-43214')\n",
    "plt.show()"
   ]
  },
  {
   "cell_type": "markdown",
   "id": "later-singles",
   "metadata": {},
   "source": [
    "### The Full Spectrum"
   ]
  },
  {
   "cell_type": "code",
   "execution_count": 108,
   "id": "premier-scott",
   "metadata": {},
   "outputs": [],
   "source": [
    "# sum flux density values element wise to get total flux density\n",
    "\n",
    "n = len(flux) # to get the x and the y dimension. They are equal so I can use the same n for both times\n",
    "sumflux = np.zeros(4563) # make empty array to collect the value. Sumflux is an array of 4563 zeros. I will add \n",
    "# the flux density into it\n",
    "    \n",
    "for i in range(n): # double for-loop to loop the x and the y direction \n",
    "    for j in range(n):\n",
    "        flux[i,j] = flux[i,j] * ~do_not_use[i,j] # masking the bad pixels. I explained this part last time already\n",
    "        # but if you are still confused lmk\n",
    "        \n",
    "        # add the masked flux density element-wise to the sumflux array. \n",
    "        sumflux = np.add(sumflux, flux[i,j])\n",
    "        "
   ]
  },
  {
   "cell_type": "code",
   "execution_count": 111,
   "id": "dangerous-envelope",
   "metadata": {},
   "outputs": [
    {
     "data": {
      "text/plain": [
       "[<matplotlib.lines.Line2D at 0x7fe09adf4350>]"
      ]
     },
     "execution_count": 111,
     "metadata": {},
     "output_type": "execute_result"
    },
    {
     "data": {
      "image/png": "[encoded data removed]",
      "text/plain": [
       "<Figure size 864x432 with 1 Axes>"
      ]
     },
     "metadata": {
      "needs_background": "light"
     },
     "output_type": "display_data"
    }
   ],
   "source": [
    "plt.figure(figsize = (12,6))\n",
    "plt.grid()\n",
    "\n",
    "# Setting the limit for x and y axis to sort of zoom the object. You can try playing with this \n",
    "# plt.xlim(7000,8000)\n",
    "# plt.ylim(0, 1050)\n",
    "\n",
    "plt.xlabel('Observed Wavelength ' + r'[$\\AA$]')\n",
    "plt.ylabel('Flux Density [1E-17 erg/sec/'+r'$cm^2$/'+r'$\\AA$]')\n",
    "plt.title('MaNGA ID = 1-43214')\n",
    "\n",
    "plt.plot(wave, sumflux, color = 'cornflowerblue')\n",
    "\n",
    "# If you wanna save the figure, you can use this format\n",
    "# plt.savefig('path_and_name_of_file_(your_choice)', bbox_inches = 'tight')"
   ]
  },
  {
   "cell_type": "markdown",
   "id": "loved-wheat",
   "metadata": {},
   "source": [
    "If you want to plot the flux density spectrum against the rest frame wavelength, divide the wave file by (1+z)"
   ]
  },
  {
   "cell_type": "code",
   "execution_count": 114,
   "id": "listed-semester",
   "metadata": {},
   "outputs": [],
   "source": [
    "rest_wave = wave / (1+redshift)"
   ]
  },
  {
   "cell_type": "code",
   "execution_count": 116,
   "id": "nuclear-cooler",
   "metadata": {},
   "outputs": [
    {
     "data": {
      "text/plain": [
       "[<matplotlib.lines.Line2D at 0x7fe0aaa0d2d0>]"
      ]
     },
     "execution_count": 116,
     "metadata": {},
     "output_type": "execute_result"
    },
    {
     "data": {
      "image/png": "[encoded data removed]",
      "text/plain": [
       "<Figure size 864x432 with 1 Axes>"
      ]
     },
     "metadata": {
      "needs_background": "light"
     },
     "output_type": "display_data"
    }
   ],
   "source": [
    "plt.figure(figsize = (12,6))\n",
    "plt.grid()\n",
    "plt.xlabel('Rest Frame Wavelength ' + r'[$\\AA$]')\n",
    "plt.ylabel('Flux Density [1E-17 erg/sec/'+r'$cm^2$/'+r'$\\AA$]')\n",
    "plt.title('MaNGA ID = 1-43214')\n",
    "plt.plot(rest_wave, sumflux, color = 'cornflowerblue')\n"
   ]
  },
  {
   "cell_type": "code",
   "execution_count": null,
   "id": "victorian-terrorism",
   "metadata": {},
   "outputs": [],
   "source": []
  }
 ],
 "metadata": {
  "kernelspec": {
   "display_name": "Python 3",
   "language": "python",
   "name": "python3"
  },
  "language_info": {
   "codemirror_mode": {
    "name": "ipython",
    "version": 3
   },
   "file_extension": ".py",
   "mimetype": "text/x-python",
   "name": "python",
   "nbconvert_exporter": "python",
   "pygments_lexer": "ipython3",
   "version": "3.7.9"
  }
 },
 "nbformat": 4,
 "nbformat_minor": 5
}
