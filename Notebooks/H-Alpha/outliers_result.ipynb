{
 "cells": [
  {
   "cell_type": "code",
   "execution_count": 6,
   "id": "grand-consumption",
   "metadata": {},
   "outputs": [],
   "source": [
    "import pandas as pd\n",
    "import csv\n",
    "import numpy as np\n",
    "import matplotlib.pyplot as plt"
   ]
  },
  {
   "cell_type": "code",
   "execution_count": 7,
   "id": "opposite-lighting",
   "metadata": {},
   "outputs": [],
   "source": [
    "outlier = [('8616-3703', 0.135063), ('7992-9102', 0.119399), ('8318-6102', 0.12908)]"
   ]
  },
  {
   "cell_type": "code",
   "execution_count": 8,
   "id": "honey-retirement",
   "metadata": {},
   "outputs": [],
   "source": [
    "def Mpc_to_cm(Mpc):\n",
    "    return Mpc * 3.08568*(10**24)\n",
    "\n",
    "def luminosity_calc(luminosity_distance, fluxarea):\n",
    "    return 4 * np.pi * (luminosity_distance**2) * fluxarea * (1e-17)"
   ]
  },
  {
   "cell_type": "code",
   "execution_count": 9,
   "id": "hydraulic-determination",
   "metadata": {},
   "outputs": [],
   "source": [
    "ha_lum_dist = [636.1, 556.7, 605.6,]"
   ]
  },
  {
   "cell_type": "code",
   "execution_count": 10,
   "id": "adverse-update",
   "metadata": {},
   "outputs": [],
   "source": [
    "csv_input = pd.read_csv('outlier.csv')\n",
    "csv_input['D_L Mpc'] = ha_lum_dist\n",
    "csv_input.to_csv('outlier.csv', index=False)"
   ]
  },
  {
   "cell_type": "code",
   "execution_count": 11,
   "id": "fitted-german",
   "metadata": {},
   "outputs": [],
   "source": [
    "ha_table_1 = pd.read_csv('outlier.csv')\n",
    "# ha_table_1"
   ]
  },
  {
   "cell_type": "code",
   "execution_count": 12,
   "id": "binary-device",
   "metadata": {},
   "outputs": [],
   "source": [
    "lum_dist = ha_table_1['D_L Mpc']\n",
    "flux = ha_table_1['flux']\n",
    "\n",
    "lum_dist_cm = []\n",
    "luminosity = []\n",
    "\n",
    "for i in range(len(lum_dist)):\n",
    "    lum_dist_cm.append(Mpc_to_cm(lum_dist[i]))\n",
    "    luminosity.append(luminosity_calc(Mpc_to_cm(lum_dist[i]), flux[i]))"
   ]
  },
  {
   "cell_type": "code",
   "execution_count": 13,
   "id": "present-virginia",
   "metadata": {},
   "outputs": [],
   "source": [
    "csv_input = pd.read_csv('outlier.csv')\n",
    "csv_input['D_L cm'] = lum_dist_cm\n",
    "csv_input.to_csv('outlier.csv', index=False)"
   ]
  },
  {
   "cell_type": "code",
   "execution_count": 14,
   "id": "victorian-election",
   "metadata": {},
   "outputs": [],
   "source": [
    "csv_input = pd.read_csv('outlier.csv')\n",
    "csv_input['L erg/s'] = luminosity\n",
    "csv_input.to_csv('outlier.csv', index=False)"
   ]
  },
  {
   "cell_type": "code",
   "execution_count": 15,
   "id": "studied-railway",
   "metadata": {},
   "outputs": [
    {
     "data": {
      "text/html": [
       "<div>\n",
       "<style scoped>\n",
       "    .dataframe tbody tr th:only-of-type {\n",
       "        vertical-align: middle;\n",
       "    }\n",
       "\n",
       "    .dataframe tbody tr th {\n",
       "        vertical-align: top;\n",
       "    }\n",
       "\n",
       "    .dataframe thead th {\n",
       "        text-align: right;\n",
       "    }\n",
       "</style>\n",
       "<table border=\"1\" class=\"dataframe\">\n",
       "  <thead>\n",
       "    <tr style=\"text-align: right;\">\n",
       "      <th></th>\n",
       "      <th>mangaid</th>\n",
       "      <th>plateifu</th>\n",
       "      <th>nsa_z</th>\n",
       "      <th>flux</th>\n",
       "      <th>FWHM km/s</th>\n",
       "      <th>D_L Mpc</th>\n",
       "      <th>D_L cm</th>\n",
       "      <th>L erg/s</th>\n",
       "    </tr>\n",
       "  </thead>\n",
       "  <tbody>\n",
       "    <tr>\n",
       "      <th>0</th>\n",
       "      <td>1-180308</td>\n",
       "      <td>8616-3703</td>\n",
       "      <td>0.135063</td>\n",
       "      <td>1369.490363</td>\n",
       "      <td>267.402175</td>\n",
       "      <td>636.1</td>\n",
       "      <td>1.962801e+27</td>\n",
       "      <td>6.630120e+41</td>\n",
       "    </tr>\n",
       "    <tr>\n",
       "      <th>1</th>\n",
       "      <td>1-22948</td>\n",
       "      <td>7992-9102</td>\n",
       "      <td>0.119399</td>\n",
       "      <td>901.779496</td>\n",
       "      <td>-98.558656</td>\n",
       "      <td>556.7</td>\n",
       "      <td>1.717798e+27</td>\n",
       "      <td>3.343909e+41</td>\n",
       "    </tr>\n",
       "    <tr>\n",
       "      <th>2</th>\n",
       "      <td>1-284293</td>\n",
       "      <td>8318-6102</td>\n",
       "      <td>0.129080</td>\n",
       "      <td>2809.973360</td>\n",
       "      <td>132.333451</td>\n",
       "      <td>605.6</td>\n",
       "      <td>1.868688e+27</td>\n",
       "      <td>1.233064e+42</td>\n",
       "    </tr>\n",
       "  </tbody>\n",
       "</table>\n",
       "</div>"
      ],
      "text/plain": [
       "    mangaid   plateifu     nsa_z         flux   FWHM km/s  D_L Mpc  \\\n",
       "0  1-180308  8616-3703  0.135063  1369.490363  267.402175    636.1   \n",
       "1   1-22948  7992-9102  0.119399   901.779496  -98.558656    556.7   \n",
       "2  1-284293  8318-6102  0.129080  2809.973360  132.333451    605.6   \n",
       "\n",
       "         D_L cm       L erg/s  \n",
       "0  1.962801e+27  6.630120e+41  \n",
       "1  1.717798e+27  3.343909e+41  \n",
       "2  1.868688e+27  1.233064e+42  "
      ]
     },
     "execution_count": 15,
     "metadata": {},
     "output_type": "execute_result"
    }
   ],
   "source": [
    "ha_table_1 = pd.read_csv('outlier.csv')\n",
    "ha_table_1"
   ]
  },
  {
   "cell_type": "markdown",
   "id": "suburban-overview",
   "metadata": {},
   "source": [
    "# DAP -- Table 1"
   ]
  },
  {
   "cell_type": "code",
   "execution_count": 16,
   "id": "molecular-birthday",
   "metadata": {},
   "outputs": [],
   "source": [
    "DAP = pd.read_csv('/Users/natachaupra/Desktop/Snr_Prj/Snr-Prj/Data/DAP.csv', sep=',')"
   ]
  },
  {
   "cell_type": "code",
   "execution_count": 17,
   "id": "forced-arbitration",
   "metadata": {},
   "outputs": [],
   "source": [
    "DAP1 = DAP.copy()"
   ]
  },
  {
   "cell_type": "code",
   "execution_count": 18,
   "id": "tough-timing",
   "metadata": {},
   "outputs": [],
   "source": [
    "idx = [120, 8, 54]\n",
    "given_lum_dist = []\n",
    "for i in range(len(outlier)):\n",
    "    given_lum_dist.append((DAP1.loc[DAP1['plateifu'] == outlier[i][0]])['ldist_nsa_z'][idx[i]])"
   ]
  },
  {
   "cell_type": "code",
   "execution_count": 19,
   "id": "competitive-stocks",
   "metadata": {},
   "outputs": [],
   "source": [
    "csv_input = pd.read_csv('outlier.csv')\n",
    "csv_input['Given D_L Mpc'] = given_lum_dist\n",
    "csv_input.to_csv('outlier.csv', index=False)\n",
    "ha_table_1 = pd.read_csv('outlier.csv')"
   ]
  },
  {
   "cell_type": "code",
   "execution_count": 20,
   "id": "smooth-davis",
   "metadata": {},
   "outputs": [],
   "source": [
    "given_flux = []\n",
    "for i in range(len(outlier)):\n",
    "    given_flux.append((DAP1.loc[DAP1['plateifu'] == outlier[i][0]])['emline_sflux_tot_ha_6564'][idx[i]])"
   ]
  },
  {
   "cell_type": "code",
   "execution_count": 21,
   "id": "extreme-boutique",
   "metadata": {},
   "outputs": [
    {
     "data": {
      "text/html": [
       "<div>\n",
       "<style scoped>\n",
       "    .dataframe tbody tr th:only-of-type {\n",
       "        vertical-align: middle;\n",
       "    }\n",
       "\n",
       "    .dataframe tbody tr th {\n",
       "        vertical-align: top;\n",
       "    }\n",
       "\n",
       "    .dataframe thead th {\n",
       "        text-align: right;\n",
       "    }\n",
       "</style>\n",
       "<table border=\"1\" class=\"dataframe\">\n",
       "  <thead>\n",
       "    <tr style=\"text-align: right;\">\n",
       "      <th></th>\n",
       "      <th>mangaid</th>\n",
       "      <th>plateifu</th>\n",
       "      <th>nsa_z</th>\n",
       "      <th>flux</th>\n",
       "      <th>FWHM km/s</th>\n",
       "      <th>D_L Mpc</th>\n",
       "      <th>D_L cm</th>\n",
       "      <th>L erg/s</th>\n",
       "      <th>Given D_L Mpc</th>\n",
       "      <th>Given flux</th>\n",
       "    </tr>\n",
       "  </thead>\n",
       "  <tbody>\n",
       "    <tr>\n",
       "      <th>0</th>\n",
       "      <td>1-180308</td>\n",
       "      <td>8616-3703</td>\n",
       "      <td>0.135063</td>\n",
       "      <td>1369.490363</td>\n",
       "      <td>267.402175</td>\n",
       "      <td>636.1</td>\n",
       "      <td>1.962801e+27</td>\n",
       "      <td>6.630120e+41</td>\n",
       "      <td>445.2860</td>\n",
       "      <td>1656.7860</td>\n",
       "    </tr>\n",
       "    <tr>\n",
       "      <th>1</th>\n",
       "      <td>1-22948</td>\n",
       "      <td>7992-9102</td>\n",
       "      <td>0.119399</td>\n",
       "      <td>901.779496</td>\n",
       "      <td>-98.558656</td>\n",
       "      <td>556.7</td>\n",
       "      <td>1.717798e+27</td>\n",
       "      <td>3.343909e+41</td>\n",
       "      <td>389.6841</td>\n",
       "      <td>980.3219</td>\n",
       "    </tr>\n",
       "    <tr>\n",
       "      <th>2</th>\n",
       "      <td>1-284293</td>\n",
       "      <td>8318-6102</td>\n",
       "      <td>0.129080</td>\n",
       "      <td>2809.973360</td>\n",
       "      <td>132.333451</td>\n",
       "      <td>605.6</td>\n",
       "      <td>1.868688e+27</td>\n",
       "      <td>1.233064e+42</td>\n",
       "      <td>423.9317</td>\n",
       "      <td>2352.4330</td>\n",
       "    </tr>\n",
       "  </tbody>\n",
       "</table>\n",
       "</div>"
      ],
      "text/plain": [
       "    mangaid   plateifu     nsa_z         flux   FWHM km/s  D_L Mpc  \\\n",
       "0  1-180308  8616-3703  0.135063  1369.490363  267.402175    636.1   \n",
       "1   1-22948  7992-9102  0.119399   901.779496  -98.558656    556.7   \n",
       "2  1-284293  8318-6102  0.129080  2809.973360  132.333451    605.6   \n",
       "\n",
       "         D_L cm       L erg/s  Given D_L Mpc  Given flux  \n",
       "0  1.962801e+27  6.630120e+41       445.2860   1656.7860  \n",
       "1  1.717798e+27  3.343909e+41       389.6841    980.3219  \n",
       "2  1.868688e+27  1.233064e+42       423.9317   2352.4330  "
      ]
     },
     "execution_count": 21,
     "metadata": {},
     "output_type": "execute_result"
    }
   ],
   "source": [
    "csv_input = pd.read_csv('outlier.csv')\n",
    "csv_input['Given flux'] = given_flux\n",
    "csv_input.to_csv('outlier.csv', index=False)\n",
    "ha_table_1 = pd.read_csv('outlier.csv')\n",
    "ha_table_1"
   ]
  },
  {
   "cell_type": "code",
   "execution_count": 22,
   "id": "connected-carnival",
   "metadata": {},
   "outputs": [
    {
     "data": {
      "text/plain": [
       "array([  0.66331009, 539.70032981])"
      ]
     },
     "execution_count": 22,
     "metadata": {},
     "output_type": "execute_result"
    }
   ],
   "source": [
    "res = np.polyfit(ha_table_1['flux'], ha_table_1['Given flux'], 1)\n",
    "res"
   ]
  },
  {
   "cell_type": "code",
   "execution_count": 23,
   "id": "german-disability",
   "metadata": {},
   "outputs": [
    {
     "data": {
      "text/plain": [
       "[<matplotlib.lines.Line2D at 0x7f8b0a3066d0>]"
      ]
     },
     "execution_count": 23,
     "metadata": {},
     "output_type": "execute_result"
    },
    {
     "data": {
      "image/png": "[encoded data removed]",
      "text/plain": [
       "<Figure size 576x576 with 1 Axes>"
      ]
     },
     "metadata": {
      "needs_background": "light"
     },
     "output_type": "display_data"
    }
   ],
   "source": [
    "plt.figure(figsize = (8,8))\n",
    "plt.grid()\n",
    "plt.xlim(0,6000)\n",
    "plt.ylim(0,6000)\n",
    "plt.xlabel('My Flux')\n",
    "plt.ylabel('Their Flux')\n",
    "plt.title('Flux')\n",
    "plt.plot([0,6000], [0,6000], color = 'salmon')\n",
    "plt.scatter(ha_table_1['flux'], ha_table_1['Given flux'], color = 'mediumseagreen')\n",
    "plt.plot(ha_table_1['flux'], (res[0]*ha_table_1['flux'])+res[1], color = 'mediumseagreen')"
   ]
  },
  {
   "cell_type": "code",
   "execution_count": 24,
   "id": "approximate-village",
   "metadata": {},
   "outputs": [],
   "source": [
    "their_lum = []\n",
    "for i in range(len(idx)):\n",
    "    their_lum.append(luminosity_calc(ha_table_1['D_L cm'][i], ha_table_1['Given flux'][i]))"
   ]
  },
  {
   "cell_type": "code",
   "execution_count": 25,
   "id": "dimensional-pollution",
   "metadata": {},
   "outputs": [
    {
     "data": {
      "text/html": [
       "<div>\n",
       "<style scoped>\n",
       "    .dataframe tbody tr th:only-of-type {\n",
       "        vertical-align: middle;\n",
       "    }\n",
       "\n",
       "    .dataframe tbody tr th {\n",
       "        vertical-align: top;\n",
       "    }\n",
       "\n",
       "    .dataframe thead th {\n",
       "        text-align: right;\n",
       "    }\n",
       "</style>\n",
       "<table border=\"1\" class=\"dataframe\">\n",
       "  <thead>\n",
       "    <tr style=\"text-align: right;\">\n",
       "      <th></th>\n",
       "      <th>mangaid</th>\n",
       "      <th>plateifu</th>\n",
       "      <th>nsa_z</th>\n",
       "      <th>flux</th>\n",
       "      <th>FWHM km/s</th>\n",
       "      <th>D_L Mpc</th>\n",
       "      <th>D_L cm</th>\n",
       "      <th>L erg/s</th>\n",
       "      <th>Given D_L Mpc</th>\n",
       "      <th>Given flux</th>\n",
       "      <th>Their Lum</th>\n",
       "    </tr>\n",
       "  </thead>\n",
       "  <tbody>\n",
       "    <tr>\n",
       "      <th>0</th>\n",
       "      <td>1-180308</td>\n",
       "      <td>8616-3703</td>\n",
       "      <td>0.135063</td>\n",
       "      <td>1369.490363</td>\n",
       "      <td>267.402175</td>\n",
       "      <td>636.1</td>\n",
       "      <td>1.962801e+27</td>\n",
       "      <td>6.630120e+41</td>\n",
       "      <td>445.2860</td>\n",
       "      <td>1656.7860</td>\n",
       "      <td>8.021006e+41</td>\n",
       "    </tr>\n",
       "    <tr>\n",
       "      <th>1</th>\n",
       "      <td>1-22948</td>\n",
       "      <td>7992-9102</td>\n",
       "      <td>0.119399</td>\n",
       "      <td>901.779496</td>\n",
       "      <td>-98.558656</td>\n",
       "      <td>556.7</td>\n",
       "      <td>1.717798e+27</td>\n",
       "      <td>3.343909e+41</td>\n",
       "      <td>389.6841</td>\n",
       "      <td>980.3219</td>\n",
       "      <td>3.635154e+41</td>\n",
       "    </tr>\n",
       "    <tr>\n",
       "      <th>2</th>\n",
       "      <td>1-284293</td>\n",
       "      <td>8318-6102</td>\n",
       "      <td>0.129080</td>\n",
       "      <td>2809.973360</td>\n",
       "      <td>132.333451</td>\n",
       "      <td>605.6</td>\n",
       "      <td>1.868688e+27</td>\n",
       "      <td>1.233064e+42</td>\n",
       "      <td>423.9317</td>\n",
       "      <td>2352.4330</td>\n",
       "      <td>1.032287e+42</td>\n",
       "    </tr>\n",
       "  </tbody>\n",
       "</table>\n",
       "</div>"
      ],
      "text/plain": [
       "    mangaid   plateifu     nsa_z         flux   FWHM km/s  D_L Mpc  \\\n",
       "0  1-180308  8616-3703  0.135063  1369.490363  267.402175    636.1   \n",
       "1   1-22948  7992-9102  0.119399   901.779496  -98.558656    556.7   \n",
       "2  1-284293  8318-6102  0.129080  2809.973360  132.333451    605.6   \n",
       "\n",
       "         D_L cm       L erg/s  Given D_L Mpc  Given flux     Their Lum  \n",
       "0  1.962801e+27  6.630120e+41       445.2860   1656.7860  8.021006e+41  \n",
       "1  1.717798e+27  3.343909e+41       389.6841    980.3219  3.635154e+41  \n",
       "2  1.868688e+27  1.233064e+42       423.9317   2352.4330  1.032287e+42  "
      ]
     },
     "execution_count": 25,
     "metadata": {},
     "output_type": "execute_result"
    }
   ],
   "source": [
    "csv_input = pd.read_csv('outlier.csv')\n",
    "csv_input['Their Lum'] = their_lum\n",
    "csv_input.to_csv('outlier.csv', index=False)\n",
    "ha_table_1 = pd.read_csv('outlier.csv')\n",
    "ha_table_1"
   ]
  },
  {
   "cell_type": "code",
   "execution_count": 26,
   "id": "solved-easter",
   "metadata": {},
   "outputs": [
    {
     "data": {
      "text/plain": [
       "array([0.80592038, 8.12883677])"
      ]
     },
     "execution_count": 26,
     "metadata": {},
     "output_type": "execute_result"
    }
   ],
   "source": [
    "res2 = np.polyfit(np.log10(ha_table_1['L erg/s']), np.log10(ha_table_1['Their Lum']),1)\n",
    "res2"
   ]
  },
  {
   "cell_type": "code",
   "execution_count": 27,
   "id": "statewide-treasury",
   "metadata": {},
   "outputs": [
    {
     "data": {
      "text/plain": [
       "[<matplotlib.lines.Line2D at 0x7f8af8da4450>]"
      ]
     },
     "execution_count": 27,
     "metadata": {},
     "output_type": "execute_result"
    },
    {
     "data": {
      "image/png": "[encoded data removed]",
      "text/plain": [
       "<Figure size 576x576 with 1 Axes>"
      ]
     },
     "metadata": {
      "needs_background": "light"
     },
     "output_type": "display_data"
    }
   ],
   "source": [
    "plt.figure(figsize = (8,8))\n",
    "plt.grid()\n",
    "# plt.xlim(350,650)\n",
    "# plt.ylim(350,650)\n",
    "plt.xlabel('My Values of Luminosity')\n",
    "plt.ylabel('Their Luminosity')\n",
    "plt.title('Luminosity')\n",
    "plt.plot([40,44], [40,44], color = 'salmon')\n",
    "plt.scatter(np.log10(ha_table_1['L erg/s']), np.log10(ha_table_1['Their Lum']), color = 'mediumseagreen')\n",
    "plt.plot(np.log10(ha_table_1['L erg/s']), (res2[0]*np.log10(ha_table_1['L erg/s'])) + res2[1],\n",
    "        color = 'mediumseagreen')"
   ]
  },
  {
   "cell_type": "code",
   "execution_count": null,
   "id": "contemporary-tiger",
   "metadata": {},
   "outputs": [],
   "source": []
  }
 ],
 "metadata": {
  "kernelspec": {
   "display_name": "Python 3",
   "language": "python",
   "name": "python3"
  },
  "language_info": {
   "codemirror_mode": {
    "name": "ipython",
    "version": 3
   },
   "file_extension": ".py",
   "mimetype": "text/x-python",
   "name": "python",
   "nbconvert_exporter": "python",
   "pygments_lexer": "ipython3",
   "version": "3.7.9"
  }
 },
 "nbformat": 4,
 "nbformat_minor": 5
}
