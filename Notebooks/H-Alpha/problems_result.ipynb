{
 "cells": [
  {
   "cell_type": "code",
   "execution_count": 6,
   "id": "weighted-benjamin",
   "metadata": {},
   "outputs": [],
   "source": [
    "import pandas as pd\n",
    "import csv\n",
    "import numpy as np\n",
    "import matplotlib.pyplot as plt"
   ]
  },
  {
   "cell_type": "code",
   "execution_count": 7,
   "id": "affecting-entertainment",
   "metadata": {},
   "outputs": [],
   "source": [
    "problems = [('7991-12705', 0.113153), ('8132-6101', 0.129403), ('8244-12704', 0.115137)]"
   ]
  },
  {
   "cell_type": "code",
   "execution_count": 8,
   "id": "accepting-cincinnati",
   "metadata": {},
   "outputs": [],
   "source": [
    "def Mpc_to_cm(Mpc):\n",
    "    return Mpc * 3.08568*(10**24)\n",
    "\n",
    "def luminosity_calc(luminosity_distance, fluxarea):\n",
    "    return 4 * np.pi * (luminosity_distance**2) * fluxarea * (1e-17)"
   ]
  },
  {
   "cell_type": "code",
   "execution_count": 9,
   "id": "north-meter",
   "metadata": {},
   "outputs": [],
   "source": [
    "ha_lum_dist = [525.4, 607.3, 535.3]"
   ]
  },
  {
   "cell_type": "code",
   "execution_count": 10,
   "id": "polyphonic-rabbit",
   "metadata": {},
   "outputs": [],
   "source": [
    "csv_input = pd.read_csv('problems.csv')\n",
    "csv_input['D_L Mpc'] = ha_lum_dist\n",
    "csv_input.to_csv('problems.csv', index=False)"
   ]
  },
  {
   "cell_type": "code",
   "execution_count": 11,
   "id": "mechanical-colors",
   "metadata": {},
   "outputs": [],
   "source": [
    "ha_table_1 = pd.read_csv('problems.csv')\n",
    "# ha_table_1"
   ]
  },
  {
   "cell_type": "code",
   "execution_count": 12,
   "id": "bright-jason",
   "metadata": {},
   "outputs": [],
   "source": [
    "lum_dist = ha_table_1['D_L Mpc']\n",
    "flux = ha_table_1['flux']\n",
    "\n",
    "lum_dist_cm = []\n",
    "luminosity = []\n",
    "\n",
    "for i in range(len(lum_dist)):\n",
    "    lum_dist_cm.append(Mpc_to_cm(lum_dist[i]))\n",
    "    luminosity.append(luminosity_calc(Mpc_to_cm(lum_dist[i]), flux[i]))"
   ]
  },
  {
   "cell_type": "code",
   "execution_count": 13,
   "id": "progressive-lottery",
   "metadata": {},
   "outputs": [],
   "source": [
    "csv_input = pd.read_csv('problems.csv')\n",
    "csv_input['D_L cm'] = lum_dist_cm\n",
    "csv_input.to_csv('problems.csv', index=False)"
   ]
  },
  {
   "cell_type": "code",
   "execution_count": 14,
   "id": "affecting-costa",
   "metadata": {},
   "outputs": [],
   "source": [
    "csv_input = pd.read_csv('problems.csv')\n",
    "csv_input['L erg/s'] = luminosity\n",
    "csv_input.to_csv('problems.csv', index=False)"
   ]
  },
  {
   "cell_type": "code",
   "execution_count": 15,
   "id": "impaired-retro",
   "metadata": {},
   "outputs": [
    {
     "data": {
      "text/html": [
       "<div>\n",
       "<style scoped>\n",
       "    .dataframe tbody tr th:only-of-type {\n",
       "        vertical-align: middle;\n",
       "    }\n",
       "\n",
       "    .dataframe tbody tr th {\n",
       "        vertical-align: top;\n",
       "    }\n",
       "\n",
       "    .dataframe thead th {\n",
       "        text-align: right;\n",
       "    }\n",
       "</style>\n",
       "<table border=\"1\" class=\"dataframe\">\n",
       "  <thead>\n",
       "    <tr style=\"text-align: right;\">\n",
       "      <th></th>\n",
       "      <th>mangaid</th>\n",
       "      <th>plateifu</th>\n",
       "      <th>nsa_z</th>\n",
       "      <th>flux</th>\n",
       "      <th>FWHM km/s</th>\n",
       "      <th>D_L Mpc</th>\n",
       "      <th>D_L cm</th>\n",
       "      <th>L erg/s</th>\n",
       "    </tr>\n",
       "  </thead>\n",
       "  <tbody>\n",
       "    <tr>\n",
       "      <th>0</th>\n",
       "      <td>1-25937</td>\n",
       "      <td>7991-12705</td>\n",
       "      <td>0.113153</td>\n",
       "      <td>797.674759</td>\n",
       "      <td>323.252696</td>\n",
       "      <td>525.4</td>\n",
       "      <td>1.621216e+27</td>\n",
       "      <td>2.634618e+41</td>\n",
       "    </tr>\n",
       "    <tr>\n",
       "      <th>1</th>\n",
       "      <td>1-548024</td>\n",
       "      <td>8132-6101</td>\n",
       "      <td>0.129403</td>\n",
       "      <td>1289.819078</td>\n",
       "      <td>394.487960</td>\n",
       "      <td>607.3</td>\n",
       "      <td>1.873933e+27</td>\n",
       "      <td>5.691765e+41</td>\n",
       "    </tr>\n",
       "    <tr>\n",
       "      <th>2</th>\n",
       "      <td>1-73638</td>\n",
       "      <td>8244-12704</td>\n",
       "      <td>0.115137</td>\n",
       "      <td>2923.102728</td>\n",
       "      <td>304.486999</td>\n",
       "      <td>535.3</td>\n",
       "      <td>1.651765e+27</td>\n",
       "      <td>1.002190e+42</td>\n",
       "    </tr>\n",
       "  </tbody>\n",
       "</table>\n",
       "</div>"
      ],
      "text/plain": [
       "    mangaid    plateifu     nsa_z         flux   FWHM km/s  D_L Mpc  \\\n",
       "0   1-25937  7991-12705  0.113153   797.674759  323.252696    525.4   \n",
       "1  1-548024   8132-6101  0.129403  1289.819078  394.487960    607.3   \n",
       "2   1-73638  8244-12704  0.115137  2923.102728  304.486999    535.3   \n",
       "\n",
       "         D_L cm       L erg/s  \n",
       "0  1.621216e+27  2.634618e+41  \n",
       "1  1.873933e+27  5.691765e+41  \n",
       "2  1.651765e+27  1.002190e+42  "
      ]
     },
     "execution_count": 15,
     "metadata": {},
     "output_type": "execute_result"
    }
   ],
   "source": [
    "ha_table_1 = pd.read_csv('problems.csv')\n",
    "ha_table_1"
   ]
  },
  {
   "cell_type": "markdown",
   "id": "enabling-grenada",
   "metadata": {},
   "source": [
    "# DAP -- Table 1"
   ]
  },
  {
   "cell_type": "code",
   "execution_count": 16,
   "id": "tested-spread",
   "metadata": {},
   "outputs": [],
   "source": [
    "DAP = pd.read_csv('/Users/natachaupra/Desktop/Snr_Prj/Snr-Prj/Data/DAP.csv', sep=',')"
   ]
  },
  {
   "cell_type": "code",
   "execution_count": 17,
   "id": "prospective-major",
   "metadata": {},
   "outputs": [],
   "source": [
    "DAP1 = DAP.copy()"
   ]
  },
  {
   "cell_type": "code",
   "execution_count": 18,
   "id": "annual-bathroom",
   "metadata": {},
   "outputs": [],
   "source": [
    "idx = [6, 21, 42]\n",
    "given_lum_dist = []\n",
    "for i in range(len(problems)):\n",
    "    given_lum_dist.append((DAP1.loc[DAP1['plateifu'] == problems[i][0]])['ldist_nsa_z'][idx[i]])"
   ]
  },
  {
   "cell_type": "code",
   "execution_count": 19,
   "id": "voluntary-silver",
   "metadata": {},
   "outputs": [],
   "source": [
    "csv_input = pd.read_csv('problems.csv')\n",
    "csv_input['Given D_L Mpc'] = given_lum_dist\n",
    "csv_input.to_csv('problems.csv', index=False)\n",
    "ha_table_1 = pd.read_csv('problems.csv')"
   ]
  },
  {
   "cell_type": "code",
   "execution_count": 20,
   "id": "expressed-modem",
   "metadata": {},
   "outputs": [],
   "source": [
    "given_flux = []\n",
    "for i in range(len(problems)):\n",
    "    given_flux.append((DAP1.loc[DAP1['plateifu'] == problems[i][0]])['emline_sflux_tot_ha_6564'][idx[i]])"
   ]
  },
  {
   "cell_type": "code",
   "execution_count": 21,
   "id": "velvet-spiritual",
   "metadata": {},
   "outputs": [
    {
     "data": {
      "text/html": [
       "<div>\n",
       "<style scoped>\n",
       "    .dataframe tbody tr th:only-of-type {\n",
       "        vertical-align: middle;\n",
       "    }\n",
       "\n",
       "    .dataframe tbody tr th {\n",
       "        vertical-align: top;\n",
       "    }\n",
       "\n",
       "    .dataframe thead th {\n",
       "        text-align: right;\n",
       "    }\n",
       "</style>\n",
       "<table border=\"1\" class=\"dataframe\">\n",
       "  <thead>\n",
       "    <tr style=\"text-align: right;\">\n",
       "      <th></th>\n",
       "      <th>mangaid</th>\n",
       "      <th>plateifu</th>\n",
       "      <th>nsa_z</th>\n",
       "      <th>flux</th>\n",
       "      <th>FWHM km/s</th>\n",
       "      <th>D_L Mpc</th>\n",
       "      <th>D_L cm</th>\n",
       "      <th>L erg/s</th>\n",
       "      <th>Given D_L Mpc</th>\n",
       "      <th>Given flux</th>\n",
       "    </tr>\n",
       "  </thead>\n",
       "  <tbody>\n",
       "    <tr>\n",
       "      <th>0</th>\n",
       "      <td>1-25937</td>\n",
       "      <td>7991-12705</td>\n",
       "      <td>0.113153</td>\n",
       "      <td>797.674759</td>\n",
       "      <td>323.252696</td>\n",
       "      <td>525.4</td>\n",
       "      <td>1.621216e+27</td>\n",
       "      <td>2.634618e+41</td>\n",
       "      <td>367.7903</td>\n",
       "      <td>788.4548</td>\n",
       "    </tr>\n",
       "    <tr>\n",
       "      <th>1</th>\n",
       "      <td>1-548024</td>\n",
       "      <td>8132-6101</td>\n",
       "      <td>0.129403</td>\n",
       "      <td>1289.819078</td>\n",
       "      <td>394.487960</td>\n",
       "      <td>607.3</td>\n",
       "      <td>1.873933e+27</td>\n",
       "      <td>5.691765e+41</td>\n",
       "      <td>425.0809</td>\n",
       "      <td>1110.8870</td>\n",
       "    </tr>\n",
       "    <tr>\n",
       "      <th>2</th>\n",
       "      <td>1-73638</td>\n",
       "      <td>8244-12704</td>\n",
       "      <td>0.115137</td>\n",
       "      <td>2923.102728</td>\n",
       "      <td>304.486999</td>\n",
       "      <td>535.3</td>\n",
       "      <td>1.651765e+27</td>\n",
       "      <td>1.002190e+42</td>\n",
       "      <td>374.7274</td>\n",
       "      <td>2857.8740</td>\n",
       "    </tr>\n",
       "  </tbody>\n",
       "</table>\n",
       "</div>"
      ],
      "text/plain": [
       "    mangaid    plateifu     nsa_z         flux   FWHM km/s  D_L Mpc  \\\n",
       "0   1-25937  7991-12705  0.113153   797.674759  323.252696    525.4   \n",
       "1  1-548024   8132-6101  0.129403  1289.819078  394.487960    607.3   \n",
       "2   1-73638  8244-12704  0.115137  2923.102728  304.486999    535.3   \n",
       "\n",
       "         D_L cm       L erg/s  Given D_L Mpc  Given flux  \n",
       "0  1.621216e+27  2.634618e+41       367.7903    788.4548  \n",
       "1  1.873933e+27  5.691765e+41       425.0809   1110.8870  \n",
       "2  1.651765e+27  1.002190e+42       374.7274   2857.8740  "
      ]
     },
     "execution_count": 21,
     "metadata": {},
     "output_type": "execute_result"
    }
   ],
   "source": [
    "csv_input = pd.read_csv('problems.csv')\n",
    "csv_input['Given flux'] = given_flux\n",
    "csv_input.to_csv('problems.csv', index=False)\n",
    "ha_table_1 = pd.read_csv('problems.csv')\n",
    "ha_table_1"
   ]
  },
  {
   "cell_type": "code",
   "execution_count": 22,
   "id": "numerical-helena",
   "metadata": {},
   "outputs": [
    {
     "data": {
      "text/plain": [
       "array([  0.99773057, -80.66986011])"
      ]
     },
     "execution_count": 22,
     "metadata": {},
     "output_type": "execute_result"
    }
   ],
   "source": [
    "res = np.polyfit(ha_table_1['flux'], ha_table_1['Given flux'], 1)\n",
    "res"
   ]
  },
  {
   "cell_type": "code",
   "execution_count": 23,
   "id": "honey-doctor",
   "metadata": {},
   "outputs": [
    {
     "data": {
      "text/plain": [
       "[<matplotlib.lines.Line2D at 0x7fb2e20af910>]"
      ]
     },
     "execution_count": 23,
     "metadata": {},
     "output_type": "execute_result"
    },
    {
     "data": {
      "image/png": "[encoded data removed]",
      "text/plain": [
       "<Figure size 576x576 with 1 Axes>"
      ]
     },
     "metadata": {
      "needs_background": "light"
     },
     "output_type": "display_data"
    }
   ],
   "source": [
    "plt.figure(figsize = (8,8))\n",
    "plt.grid()\n",
    "plt.xlim(0,6000)\n",
    "plt.ylim(0,6000)\n",
    "plt.xlabel('My Flux')\n",
    "plt.ylabel('Their Flux')\n",
    "plt.title('Flux')\n",
    "plt.plot([0,6000], [0,6000], color = 'salmon')\n",
    "plt.scatter(ha_table_1['flux'], ha_table_1['Given flux'], color = 'mediumseagreen')\n",
    "plt.plot(ha_table_1['flux'], (res[0]*ha_table_1['flux'])+res[1], color = 'mediumseagreen')"
   ]
  },
  {
   "cell_type": "code",
   "execution_count": 24,
   "id": "cathedral-toddler",
   "metadata": {},
   "outputs": [],
   "source": [
    "their_lum = []\n",
    "for i in range(len(idx)):\n",
    "    their_lum.append(luminosity_calc(ha_table_1['D_L cm'][i], ha_table_1['Given flux'][i]))"
   ]
  },
  {
   "cell_type": "code",
   "execution_count": 25,
   "id": "dedicated-perfume",
   "metadata": {},
   "outputs": [
    {
     "data": {
      "text/html": [
       "<div>\n",
       "<style scoped>\n",
       "    .dataframe tbody tr th:only-of-type {\n",
       "        vertical-align: middle;\n",
       "    }\n",
       "\n",
       "    .dataframe tbody tr th {\n",
       "        vertical-align: top;\n",
       "    }\n",
       "\n",
       "    .dataframe thead th {\n",
       "        text-align: right;\n",
       "    }\n",
       "</style>\n",
       "<table border=\"1\" class=\"dataframe\">\n",
       "  <thead>\n",
       "    <tr style=\"text-align: right;\">\n",
       "      <th></th>\n",
       "      <th>mangaid</th>\n",
       "      <th>plateifu</th>\n",
       "      <th>nsa_z</th>\n",
       "      <th>flux</th>\n",
       "      <th>FWHM km/s</th>\n",
       "      <th>D_L Mpc</th>\n",
       "      <th>D_L cm</th>\n",
       "      <th>L erg/s</th>\n",
       "      <th>Given D_L Mpc</th>\n",
       "      <th>Given flux</th>\n",
       "      <th>Their Lum</th>\n",
       "    </tr>\n",
       "  </thead>\n",
       "  <tbody>\n",
       "    <tr>\n",
       "      <th>0</th>\n",
       "      <td>1-25937</td>\n",
       "      <td>7991-12705</td>\n",
       "      <td>0.113153</td>\n",
       "      <td>797.674759</td>\n",
       "      <td>323.252696</td>\n",
       "      <td>525.4</td>\n",
       "      <td>1.621216e+27</td>\n",
       "      <td>2.634618e+41</td>\n",
       "      <td>367.7903</td>\n",
       "      <td>788.4548</td>\n",
       "      <td>2.604165e+41</td>\n",
       "    </tr>\n",
       "    <tr>\n",
       "      <th>1</th>\n",
       "      <td>1-548024</td>\n",
       "      <td>8132-6101</td>\n",
       "      <td>0.129403</td>\n",
       "      <td>1289.819078</td>\n",
       "      <td>394.487960</td>\n",
       "      <td>607.3</td>\n",
       "      <td>1.873933e+27</td>\n",
       "      <td>5.691765e+41</td>\n",
       "      <td>425.0809</td>\n",
       "      <td>1110.8870</td>\n",
       "      <td>4.902167e+41</td>\n",
       "    </tr>\n",
       "    <tr>\n",
       "      <th>2</th>\n",
       "      <td>1-73638</td>\n",
       "      <td>8244-12704</td>\n",
       "      <td>0.115137</td>\n",
       "      <td>2923.102728</td>\n",
       "      <td>304.486999</td>\n",
       "      <td>535.3</td>\n",
       "      <td>1.651765e+27</td>\n",
       "      <td>1.002190e+42</td>\n",
       "      <td>374.7274</td>\n",
       "      <td>2857.8740</td>\n",
       "      <td>9.798265e+41</td>\n",
       "    </tr>\n",
       "  </tbody>\n",
       "</table>\n",
       "</div>"
      ],
      "text/plain": [
       "    mangaid    plateifu     nsa_z         flux   FWHM km/s  D_L Mpc  \\\n",
       "0   1-25937  7991-12705  0.113153   797.674759  323.252696    525.4   \n",
       "1  1-548024   8132-6101  0.129403  1289.819078  394.487960    607.3   \n",
       "2   1-73638  8244-12704  0.115137  2923.102728  304.486999    535.3   \n",
       "\n",
       "         D_L cm       L erg/s  Given D_L Mpc  Given flux     Their Lum  \n",
       "0  1.621216e+27  2.634618e+41       367.7903    788.4548  2.604165e+41  \n",
       "1  1.873933e+27  5.691765e+41       425.0809   1110.8870  4.902167e+41  \n",
       "2  1.651765e+27  1.002190e+42       374.7274   2857.8740  9.798265e+41  "
      ]
     },
     "execution_count": 25,
     "metadata": {},
     "output_type": "execute_result"
    }
   ],
   "source": [
    "csv_input = pd.read_csv('problems.csv')\n",
    "csv_input['Their Lum'] = their_lum\n",
    "csv_input.to_csv('problems.csv', index=False)\n",
    "ha_table_1 = pd.read_csv('problems.csv')\n",
    "ha_table_1"
   ]
  },
  {
   "cell_type": "code",
   "execution_count": 26,
   "id": "strong-academy",
   "metadata": {},
   "outputs": [
    {
     "data": {
      "text/plain": [
       "array([0.9818499 , 0.73075474])"
      ]
     },
     "execution_count": 26,
     "metadata": {},
     "output_type": "execute_result"
    }
   ],
   "source": [
    "res2 = np.polyfit(np.log10(ha_table_1['L erg/s']), np.log10(ha_table_1['Their Lum']),1)\n",
    "res2"
   ]
  },
  {
   "cell_type": "code",
   "execution_count": 27,
   "id": "mysterious-notion",
   "metadata": {},
   "outputs": [
    {
     "data": {
      "text/plain": [
       "[<matplotlib.lines.Line2D at 0x7fb2d163e110>]"
      ]
     },
     "execution_count": 27,
     "metadata": {},
     "output_type": "execute_result"
    },
    {
     "data": {
      "image/png": "[encoded data removed]",
      "text/plain": [
       "<Figure size 576x576 with 1 Axes>"
      ]
     },
     "metadata": {
      "needs_background": "light"
     },
     "output_type": "display_data"
    }
   ],
   "source": [
    "plt.figure(figsize = (8,8))\n",
    "plt.grid()\n",
    "# plt.xlim(350,650)\n",
    "# plt.ylim(350,650)\n",
    "plt.xlabel('My Values of Luminosity')\n",
    "plt.ylabel('Their Luminosity')\n",
    "plt.title('Luminosity')\n",
    "plt.plot([40,44], [40,44], color = 'salmon')\n",
    "plt.scatter(np.log10(ha_table_1['L erg/s']), np.log10(ha_table_1['Their Lum']), color = 'mediumseagreen')\n",
    "plt.plot(np.log10(ha_table_1['L erg/s']), (res2[0]*np.log10(ha_table_1['L erg/s'])) + res2[1],\n",
    "        color = 'mediumseagreen')"
   ]
  },
  {
   "cell_type": "code",
   "execution_count": null,
   "id": "suffering-volume",
   "metadata": {},
   "outputs": [],
   "source": []
  }
 ],
 "metadata": {
  "kernelspec": {
   "display_name": "Python 3",
   "language": "python",
   "name": "python3"
  },
  "language_info": {
   "codemirror_mode": {
    "name": "ipython",
    "version": 3
   },
   "file_extension": ".py",
   "mimetype": "text/x-python",
   "name": "python",
   "nbconvert_exporter": "python",
   "pygments_lexer": "ipython3",
   "version": "3.7.9"
  }
 },
 "nbformat": 4,
 "nbformat_minor": 5
}
