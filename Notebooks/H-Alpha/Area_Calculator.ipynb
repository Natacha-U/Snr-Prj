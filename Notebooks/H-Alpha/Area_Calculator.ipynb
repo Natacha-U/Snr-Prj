{
 "cells": [
  {
   "cell_type": "code",
   "execution_count": 1,
   "id": "growing-british",
   "metadata": {},
   "outputs": [],
   "source": [
    "import pandas as pd\n",
    "import csv\n",
    "import numpy as np\n",
    "import matplotlib.pyplot as plt"
   ]
  },
  {
   "cell_type": "code",
   "execution_count": 2,
   "id": "equipped-animation",
   "metadata": {},
   "outputs": [],
   "source": [
    "def area_finder(height1, height2, width):\n",
    "    area = (height1)*(width)*(1/2) + (height2*width)\n",
    "    return area"
   ]
  },
  {
   "cell_type": "code",
   "execution_count": 3,
   "id": "parliamentary-refrigerator",
   "metadata": {},
   "outputs": [
    {
     "name": "stdout",
     "output_type": "stream",
     "text": [
      "4268.0\n",
      "2178.0\n"
     ]
    }
   ],
   "source": [
    "a = 198\n",
    "b = 95\n",
    "c = 22\n",
    "print(area_finder(a, b, c))\n",
    "print(area_finder(a, b, c) - b*c)"
   ]
  },
  {
   "cell_type": "code",
   "execution_count": 4,
   "id": "quality-procurement",
   "metadata": {},
   "outputs": [
    {
     "data": {
      "text/plain": [
       "(2090, 2128)"
      ]
     },
     "execution_count": 4,
     "metadata": {},
     "output_type": "execute_result"
    }
   ],
   "source": [
    "4268-2178, 3526-1398"
   ]
  },
  {
   "cell_type": "markdown",
   "id": "alike-spice",
   "metadata": {},
   "source": [
    "## ------"
   ]
  },
  {
   "cell_type": "code",
   "execution_count": 5,
   "id": "drawn-timeline",
   "metadata": {},
   "outputs": [],
   "source": [
    "ha_list = [('8133-12705', 0.130943), ('8256-12704', 0.12611), ('8616-3703', 0.135063),\n",
    "             ('8720-12702', 0.134953), ('8721-3701', 0.118101)]\n",
    "#('8137-9101', 0.118865),\n",
    "\n",
    "ha_list_uncertain = ['8155-6103(?)', '8254-6103(?)', '8338-12705(?)', '8606-12704(?)']\n",
    "\n",
    "ha_list2 = [('7815-6103', 0.135043), ('7991-12705', 0.113153), ('7992-9102', 0.119399), ('8132-6101', 0.129403),\n",
    "             ('8132-12703', 0.116056), ('8133-12704', 0.134471), ('8137-3702', 0.131997),\n",
    "             ('8143-6101', 0.126168), ('8244-12704', 0.115137), ('8318-6102', 0.12908), ('8329-6102', 0.142887),\n",
    "             ('8439-3703', 0.138619), ('8448-3703', 0.138746), ('8464-6101', 0.125582), ('9049-1901', 0.131457)]\n",
    "\n",
    "obj1_43214 = [('8135-1902', 0.117997)]\n",
    "\n",
    "ha_list2_uncertain = ['8454-6102(?)', '8552-9102(?)', '8717-1902(?)']"
   ]
  },
  {
   "cell_type": "code",
   "execution_count": 6,
   "id": "administrative-tsunami",
   "metadata": {},
   "outputs": [],
   "source": [
    "def Mpc_to_cm(Mpc):\n",
    "    return Mpc * 3.08568*(10**24)\n",
    "\n",
    "def luminosity_calc(luminosity_distance, fluxarea):\n",
    "    return 4 * np.pi * (luminosity_distance**2) * fluxarea * (1e-17)"
   ]
  },
  {
   "cell_type": "code",
   "execution_count": 7,
   "id": "black-remark",
   "metadata": {},
   "outputs": [],
   "source": [
    "ha_lum_dist = [615.1, 590.5, 636.1, 635.6, 550.2]"
   ]
  },
  {
   "cell_type": "code",
   "execution_count": 8,
   "id": "crude-peter",
   "metadata": {},
   "outputs": [],
   "source": [
    "# csv_input = pd.read_csv('ha_list.csv')\n",
    "# csv_input['D_L Mpc'] = ha_lum_dist\n",
    "# csv_input.to_csv('ha_list.csv', index=False)"
   ]
  },
  {
   "cell_type": "code",
   "execution_count": 9,
   "id": "thorough-natural",
   "metadata": {},
   "outputs": [],
   "source": [
    "ha_table_1 = pd.read_csv('ha_list.csv')"
   ]
  },
  {
   "cell_type": "code",
   "execution_count": 10,
   "id": "convertible-brake",
   "metadata": {},
   "outputs": [],
   "source": [
    "lum_dist = ha_table_1['D_L Mpc']\n",
    "flux = ha_table_1['flux']\n",
    "\n",
    "lum_dist_cm = []\n",
    "luminosity = []\n",
    "\n",
    "for i in range(len(lum_dist)):\n",
    "    lum_dist_cm.append(Mpc_to_cm(lum_dist[i]))\n",
    "    luminosity.append(luminosity_calc(Mpc_to_cm(lum_dist[i]), flux[i]))"
   ]
  },
  {
   "cell_type": "code",
   "execution_count": 11,
   "id": "interested-literature",
   "metadata": {},
   "outputs": [],
   "source": [
    "# csv_input = pd.read_csv('ha_list.csv')\n",
    "# csv_input['L erg/s'] = luminosity\n",
    "# csv_input.to_csv('ha_list.csv', index=False)"
   ]
  },
  {
   "cell_type": "code",
   "execution_count": 47,
   "id": "forty-calibration",
   "metadata": {},
   "outputs": [],
   "source": [
    "# ha_table_1"
   ]
  },
  {
   "cell_type": "code",
   "execution_count": 13,
   "id": "level-stupid",
   "metadata": {},
   "outputs": [],
   "source": [
    "ha_lum_dist2 = [636.0, 525.4, 556.7, 607.3, 539.9, 633.1, \n",
    "                620.5, 590.8, 535.3, 605.6, 676.3, 654.3,\n",
    "                655.0, 587.9, 617.7]"
   ]
  },
  {
   "cell_type": "code",
   "execution_count": 14,
   "id": "threatened-sessions",
   "metadata": {},
   "outputs": [],
   "source": [
    "# csv_input = pd.read_csv('ha_list2.csv')\n",
    "# csv_input['D_L Mpc'] = ha_lum_dist2\n",
    "# csv_input.to_csv('ha_list2.csv', index=False)"
   ]
  },
  {
   "cell_type": "code",
   "execution_count": 15,
   "id": "naval-graduate",
   "metadata": {},
   "outputs": [],
   "source": [
    "ha_table_2 = pd.read_csv('ha_list2.csv')"
   ]
  },
  {
   "cell_type": "code",
   "execution_count": 16,
   "id": "durable-workstation",
   "metadata": {},
   "outputs": [],
   "source": [
    "lum_dist_2 = ha_table_2['D_L Mpc']\n",
    "flux_2 = ha_table_2['flux']\n",
    "\n",
    "lum_dist_cm_2 = []\n",
    "luminosity_2 = []\n",
    "\n",
    "for i in range(len(lum_dist_2)):\n",
    "    lum_dist_cm_2.append(Mpc_to_cm(lum_dist_2[i]))\n",
    "    luminosity_2.append(luminosity_calc(Mpc_to_cm(lum_dist_2[i]), flux_2[i]))"
   ]
  },
  {
   "cell_type": "code",
   "execution_count": 17,
   "id": "third-decrease",
   "metadata": {},
   "outputs": [],
   "source": [
    "# csv_input = pd.read_csv('ha_list2.csv')\n",
    "# csv_input['L erg/s'] = luminosity_2\n",
    "# csv_input.to_csv('ha_list2.csv', index=False)"
   ]
  },
  {
   "cell_type": "code",
   "execution_count": 46,
   "id": "respective-dodge",
   "metadata": {},
   "outputs": [],
   "source": [
    "# ha_table_2"
   ]
  },
  {
   "cell_type": "markdown",
   "id": "unauthorized-phenomenon",
   "metadata": {},
   "source": [
    "# DAP -- Table 1"
   ]
  },
  {
   "cell_type": "code",
   "execution_count": 19,
   "id": "compact-smile",
   "metadata": {},
   "outputs": [],
   "source": [
    "DAP = pd.read_csv('/Users/natachaupra/Desktop/Snr_Prj/Snr-Prj/Data/DAP.csv', sep=',')"
   ]
  },
  {
   "cell_type": "code",
   "execution_count": 20,
   "id": "cordless-orleans",
   "metadata": {},
   "outputs": [],
   "source": [
    "DAP1 = DAP.copy()"
   ]
  },
  {
   "cell_type": "code",
   "execution_count": 21,
   "id": "figured-given",
   "metadata": {},
   "outputs": [],
   "source": [
    "idx = [24, 49, 120, 134, 138]\n",
    "given_lum_dist = []\n",
    "for i in range(len(ha_list)):\n",
    "    given_lum_dist.append((DAP.loc[DAP['plateifu'] == ha_list[i][0]])['ldist_nsa_z'][idx[i]])"
   ]
  },
  {
   "cell_type": "code",
   "execution_count": 22,
   "id": "fewer-yukon",
   "metadata": {},
   "outputs": [],
   "source": [
    "# csv_input = pd.read_csv('ha_list.csv')\n",
    "# csv_input['Given D_L Mpc'] = given_lum_dist\n",
    "# csv_input.to_csv('ha_list.csv', index=False)\n",
    "# ha_table_1 = pd.read_csv('ha_list.csv')"
   ]
  },
  {
   "cell_type": "code",
   "execution_count": 49,
   "id": "accessible-peter",
   "metadata": {},
   "outputs": [],
   "source": [
    "# ha_table_1.rename(columns = {'Given L erg/s':'Given D_L Mpc'}, inplace = True)"
   ]
  },
  {
   "cell_type": "code",
   "execution_count": 24,
   "id": "blocked-carbon",
   "metadata": {},
   "outputs": [],
   "source": [
    "given_flux = []\n",
    "for i in range(len(ha_list)):\n",
    "    given_flux.append((DAP.loc[DAP['plateifu'] == ha_list[i][0]])['emline_sflux_tot_ha_6564'][idx[i]])"
   ]
  },
  {
   "cell_type": "code",
   "execution_count": 56,
   "id": "amateur-synthetic",
   "metadata": {},
   "outputs": [],
   "source": [
    "# csv_input = pd.read_csv('ha_list.csv')\n",
    "# csv_input['Given flux'] = given_flux\n",
    "# csv_input.to_csv('ha_list.csv', index=False)\n",
    "# ha_table_1 = pd.read_csv('ha_list.csv')\n",
    "# ha_table_1"
   ]
  },
  {
   "cell_type": "code",
   "execution_count": 58,
   "id": "direct-retreat",
   "metadata": {},
   "outputs": [
    {
     "data": {
      "text/plain": [
       "<matplotlib.collections.PathCollection at 0x7fc4895fdc50>"
      ]
     },
     "execution_count": 58,
     "metadata": {},
     "output_type": "execute_result"
    },
    {
     "data": {
      "image/png": "[encoded data removed]",
      "text/plain": [
       "<Figure size 576x576 with 1 Axes>"
      ]
     },
     "metadata": {
      "needs_background": "light"
     },
     "output_type": "display_data"
    }
   ],
   "source": [
    "plt.figure(figsize = (8,8))\n",
    "plt.grid()\n",
    "# plt.xlim(350,650)\n",
    "# plt.ylim(350,650)\n",
    "plt.xlabel('My Values of Flux')\n",
    "plt.ylabel('Their Flux')\n",
    "plt.title('Flux')\n",
    "plt.plot([200,1600], [200,1600], color = 'salmon')\n",
    "plt.scatter(ha_table_1['flux'], ha_table_1['Given flux'])"
   ]
  },
  {
   "cell_type": "code",
   "execution_count": 54,
   "id": "agreed-myrtle",
   "metadata": {},
   "outputs": [],
   "source": [
    "their_lum = []\n",
    "for i in range(len(idx)):\n",
    "    their_lum.append(luminosity_calc(ha_table_1['D_L cm'][i], ha_table_1['Given flux'][i]))"
   ]
  },
  {
   "cell_type": "code",
   "execution_count": 55,
   "id": "permanent-little",
   "metadata": {},
   "outputs": [
    {
     "data": {
      "text/html": [
       "<div>\n",
       "<style scoped>\n",
       "    .dataframe tbody tr th:only-of-type {\n",
       "        vertical-align: middle;\n",
       "    }\n",
       "\n",
       "    .dataframe tbody tr th {\n",
       "        vertical-align: top;\n",
       "    }\n",
       "\n",
       "    .dataframe thead th {\n",
       "        text-align: right;\n",
       "    }\n",
       "</style>\n",
       "<table border=\"1\" class=\"dataframe\">\n",
       "  <thead>\n",
       "    <tr style=\"text-align: right;\">\n",
       "      <th></th>\n",
       "      <th>mangaid</th>\n",
       "      <th>plateifu</th>\n",
       "      <th>nsa_z</th>\n",
       "      <th>flux</th>\n",
       "      <th>D_L Mpc</th>\n",
       "      <th>D_L cm</th>\n",
       "      <th>L erg/s</th>\n",
       "      <th>Given L erg/s</th>\n",
       "      <th>Given flux</th>\n",
       "      <th>Their Lum</th>\n",
       "    </tr>\n",
       "  </thead>\n",
       "  <tbody>\n",
       "    <tr>\n",
       "      <th>0</th>\n",
       "      <td>1-377841</td>\n",
       "      <td>8133-12705</td>\n",
       "      <td>0.130943</td>\n",
       "      <td>934.712571</td>\n",
       "      <td>615.1</td>\n",
       "      <td>1.898002e+27</td>\n",
       "      <td>4.231372e+41</td>\n",
       "      <td>430.5657</td>\n",
       "      <td>1138.4650</td>\n",
       "      <td>5.153743e+41</td>\n",
       "    </tr>\n",
       "    <tr>\n",
       "      <th>1</th>\n",
       "      <td>1-558912</td>\n",
       "      <td>8256-12704</td>\n",
       "      <td>0.126110</td>\n",
       "      <td>504.760943</td>\n",
       "      <td>590.5</td>\n",
       "      <td>1.822094e+27</td>\n",
       "      <td>2.105897e+41</td>\n",
       "      <td>413.3847</td>\n",
       "      <td>880.6425</td>\n",
       "      <td>3.674101e+41</td>\n",
       "    </tr>\n",
       "    <tr>\n",
       "      <th>2</th>\n",
       "      <td>1-180308</td>\n",
       "      <td>8616-3703</td>\n",
       "      <td>0.135063</td>\n",
       "      <td>5559.944176</td>\n",
       "      <td>636.1</td>\n",
       "      <td>1.962801e+27</td>\n",
       "      <td>2.691738e+42</td>\n",
       "      <td>445.2860</td>\n",
       "      <td>1656.7860</td>\n",
       "      <td>8.021006e+41</td>\n",
       "    </tr>\n",
       "    <tr>\n",
       "      <th>3</th>\n",
       "      <td>1-351719</td>\n",
       "      <td>8720-12702</td>\n",
       "      <td>0.134953</td>\n",
       "      <td>526.323773</td>\n",
       "      <td>635.6</td>\n",
       "      <td>1.961258e+27</td>\n",
       "      <td>2.544090e+41</td>\n",
       "      <td>444.8922</td>\n",
       "      <td>668.3733</td>\n",
       "      <td>3.230714e+41</td>\n",
       "    </tr>\n",
       "    <tr>\n",
       "      <th>4</th>\n",
       "      <td>1-47511</td>\n",
       "      <td>8721-3701</td>\n",
       "      <td>0.118101</td>\n",
       "      <td>957.464724</td>\n",
       "      <td>550.2</td>\n",
       "      <td>1.697741e+27</td>\n",
       "      <td>3.467972e+41</td>\n",
       "      <td>385.1212</td>\n",
       "      <td>1069.3070</td>\n",
       "      <td>3.873069e+41</td>\n",
       "    </tr>\n",
       "  </tbody>\n",
       "</table>\n",
       "</div>"
      ],
      "text/plain": [
       "    mangaid    plateifu     nsa_z         flux  D_L Mpc        D_L cm  \\\n",
       "0  1-377841  8133-12705  0.130943   934.712571    615.1  1.898002e+27   \n",
       "1  1-558912  8256-12704  0.126110   504.760943    590.5  1.822094e+27   \n",
       "2  1-180308   8616-3703  0.135063  5559.944176    636.1  1.962801e+27   \n",
       "3  1-351719  8720-12702  0.134953   526.323773    635.6  1.961258e+27   \n",
       "4   1-47511   8721-3701  0.118101   957.464724    550.2  1.697741e+27   \n",
       "\n",
       "        L erg/s  Given L erg/s  Given flux     Their Lum  \n",
       "0  4.231372e+41       430.5657   1138.4650  5.153743e+41  \n",
       "1  2.105897e+41       413.3847    880.6425  3.674101e+41  \n",
       "2  2.691738e+42       445.2860   1656.7860  8.021006e+41  \n",
       "3  2.544090e+41       444.8922    668.3733  3.230714e+41  \n",
       "4  3.467972e+41       385.1212   1069.3070  3.873069e+41  "
      ]
     },
     "execution_count": 55,
     "metadata": {},
     "output_type": "execute_result"
    }
   ],
   "source": [
    "# csv_input = pd.read_csv('ha_list.csv')\n",
    "# csv_input['Their Lum'] = their_lum\n",
    "# csv_input.to_csv('ha_list.csv', index=False)\n",
    "# ha_table_1 = pd.read_csv('ha_list.csv')\n",
    "ha_table_1"
   ]
  },
  {
   "cell_type": "code",
   "execution_count": 65,
   "id": "paperback-export",
   "metadata": {},
   "outputs": [
    {
     "data": {
      "text/plain": [
       "<matplotlib.collections.PathCollection at 0x7fc48a406810>"
      ]
     },
     "execution_count": 65,
     "metadata": {},
     "output_type": "execute_result"
    },
    {
     "data": {
      "image/png": "[encoded data removed]",
      "text/plain": [
       "<Figure size 576x576 with 1 Axes>"
      ]
     },
     "metadata": {
      "needs_background": "light"
     },
     "output_type": "display_data"
    }
   ],
   "source": [
    "plt.figure(figsize = (8,8))\n",
    "plt.grid()\n",
    "# plt.xlim(350,650)\n",
    "# plt.ylim(350,650)\n",
    "plt.xlabel('My Values of Luminosity')\n",
    "plt.ylabel('Their Luminosity')\n",
    "plt.title('Luminosity')\n",
    "plt.plot([40,44], [40,44], color = 'salmon')\n",
    "plt.scatter(np.log10(ha_table_1['L erg/s']), np.log10(ha_table_1['Their Lum']))"
   ]
  },
  {
   "cell_type": "markdown",
   "id": "fitting-pencil",
   "metadata": {},
   "source": [
    "# DAP -- Table 2"
   ]
  },
  {
   "cell_type": "code",
   "execution_count": 30,
   "id": "improving-doctor",
   "metadata": {
    "scrolled": false
   },
   "outputs": [],
   "source": [
    "idx2 = [3, 6, 8, 21, 19, 23, 31, 34, 42, 54, 58, 67, 73, 84, 165]\n",
    "given_lum_dist2 = []\n",
    "for i in range(len(ha_list2)):\n",
    "#     print(DAP.loc[DAP['plateifu'] == ha_list2[i][0]])\n",
    "    given_lum_dist2.append((DAP.loc[DAP['plateifu'] == ha_list2[i][0]])['ldist_nsa_z'][idx2[i]])"
   ]
  },
  {
   "cell_type": "code",
   "execution_count": 34,
   "id": "cognitive-therapy",
   "metadata": {},
   "outputs": [],
   "source": [
    "# csv_input = pd.read_csv('ha_list2.csv')\n",
    "# csv_input['Given D_L Mpc'] = given_lum_dist2\n",
    "# csv_input.to_csv('ha_list2.csv', index=False)\n",
    "# ha_table_2 = pd.read_csv('ha_list2.csv')\n",
    "# ha_table_2"
   ]
  },
  {
   "cell_type": "code",
   "execution_count": 33,
   "id": "cognitive-western",
   "metadata": {},
   "outputs": [],
   "source": [
    "given_flux2 = []\n",
    "for i in range(len(ha_list2)):\n",
    "    given_flux2.append((DAP.loc[DAP['plateifu'] == ha_list2[i][0]])['emline_sflux_tot_ha_6564'][idx2[i]])"
   ]
  },
  {
   "cell_type": "code",
   "execution_count": 69,
   "id": "blind-muslim",
   "metadata": {},
   "outputs": [],
   "source": [
    "# csv_input = pd.read_csv('ha_list2.csv')\n",
    "# csv_input['Given flux'] = given_flux2\n",
    "# csv_input.to_csv('ha_list2.csv', index=False)\n",
    "# ha_table_2 = pd.read_csv('ha_list2.csv')\n",
    "# ha_table_2"
   ]
  },
  {
   "cell_type": "code",
   "execution_count": 45,
   "id": "applied-internship",
   "metadata": {},
   "outputs": [
    {
     "data": {
      "text/plain": [
       "<matplotlib.collections.PathCollection at 0x7fc4897a68d0>"
      ]
     },
     "execution_count": 45,
     "metadata": {},
     "output_type": "execute_result"
    },
    {
     "data": {
      "image/png": "[encoded data removed]",
      "text/plain": [
       "<Figure size 576x576 with 1 Axes>"
      ]
     },
     "metadata": {
      "needs_background": "light"
     },
     "output_type": "display_data"
    }
   ],
   "source": [
    "plt.figure(figsize = (8,8))\n",
    "plt.grid()\n",
    "# plt.xlim(0,5000)\n",
    "# plt.ylim(350,650)\n",
    "plt.xlabel('My Values of Flux')\n",
    "plt.ylabel('Their Flux')\n",
    "plt.title('Flux')\n",
    "plt.plot([200,3000], [200,3000], color = 'salmon')\n",
    "plt.scatter(ha_table_2['flux'], ha_table_2['Given flux'])"
   ]
  },
  {
   "cell_type": "code",
   "execution_count": 66,
   "id": "environmental-corner",
   "metadata": {},
   "outputs": [],
   "source": [
    "their_lum2 = []\n",
    "for i in range(len(idx2)):\n",
    "    their_lum2.append(luminosity_calc(ha_table_2['D_L cm'][i], ha_table_2['Given flux'][i]))"
   ]
  },
  {
   "cell_type": "code",
   "execution_count": 68,
   "id": "driven-allowance",
   "metadata": {},
   "outputs": [
    {
     "data": {
      "text/html": [
       "<div>\n",
       "<style scoped>\n",
       "    .dataframe tbody tr th:only-of-type {\n",
       "        vertical-align: middle;\n",
       "    }\n",
       "\n",
       "    .dataframe tbody tr th {\n",
       "        vertical-align: top;\n",
       "    }\n",
       "\n",
       "    .dataframe thead th {\n",
       "        text-align: right;\n",
       "    }\n",
       "</style>\n",
       "<table border=\"1\" class=\"dataframe\">\n",
       "  <thead>\n",
       "    <tr style=\"text-align: right;\">\n",
       "      <th></th>\n",
       "      <th>mangaid</th>\n",
       "      <th>plateifu</th>\n",
       "      <th>nsa_z</th>\n",
       "      <th>flux</th>\n",
       "      <th>D_L Mpc</th>\n",
       "      <th>D_L cm</th>\n",
       "      <th>L erg/s</th>\n",
       "      <th>Given D_L Mpc</th>\n",
       "      <th>Given flux</th>\n",
       "      <th>Their Lum</th>\n",
       "    </tr>\n",
       "  </thead>\n",
       "  <tbody>\n",
       "    <tr>\n",
       "      <th>0</th>\n",
       "      <td>1-113521</td>\n",
       "      <td>7815-6103</td>\n",
       "      <td>0.135043</td>\n",
       "      <td>1.823267e+03</td>\n",
       "      <td>636.0</td>\n",
       "      <td>1.962492e+27</td>\n",
       "      <td>8.824218e+41</td>\n",
       "      <td>445.2144</td>\n",
       "      <td>2307.7280</td>\n",
       "      <td>1.116890e+42</td>\n",
       "    </tr>\n",
       "    <tr>\n",
       "      <th>1</th>\n",
       "      <td>1-25937</td>\n",
       "      <td>7991-12705</td>\n",
       "      <td>0.113153</td>\n",
       "      <td>2.954833e+06</td>\n",
       "      <td>525.4</td>\n",
       "      <td>1.621216e+27</td>\n",
       "      <td>9.759436e+44</td>\n",
       "      <td>367.7903</td>\n",
       "      <td>788.4548</td>\n",
       "      <td>2.604165e+41</td>\n",
       "    </tr>\n",
       "    <tr>\n",
       "      <th>2</th>\n",
       "      <td>1-22948</td>\n",
       "      <td>7992-9102</td>\n",
       "      <td>0.119399</td>\n",
       "      <td>2.028892e+03</td>\n",
       "      <td>556.7</td>\n",
       "      <td>1.717798e+27</td>\n",
       "      <td>7.523381e+41</td>\n",
       "      <td>389.6841</td>\n",
       "      <td>980.3219</td>\n",
       "      <td>3.635154e+41</td>\n",
       "    </tr>\n",
       "    <tr>\n",
       "      <th>3</th>\n",
       "      <td>1-548024</td>\n",
       "      <td>8132-6101</td>\n",
       "      <td>0.129403</td>\n",
       "      <td>3.476036e+06</td>\n",
       "      <td>607.3</td>\n",
       "      <td>1.873933e+27</td>\n",
       "      <td>1.533919e+45</td>\n",
       "      <td>425.0809</td>\n",
       "      <td>1110.8870</td>\n",
       "      <td>4.902167e+41</td>\n",
       "    </tr>\n",
       "    <tr>\n",
       "      <th>4</th>\n",
       "      <td>1-338629</td>\n",
       "      <td>8132-12703</td>\n",
       "      <td>0.116056</td>\n",
       "      <td>2.390394e+03</td>\n",
       "      <td>539.9</td>\n",
       "      <td>1.665959e+27</td>\n",
       "      <td>8.336961e+41</td>\n",
       "      <td>377.9462</td>\n",
       "      <td>2656.6560</td>\n",
       "      <td>9.265601e+41</td>\n",
       "    </tr>\n",
       "    <tr>\n",
       "      <th>5</th>\n",
       "      <td>1-338922</td>\n",
       "      <td>8133-12704</td>\n",
       "      <td>0.134471</td>\n",
       "      <td>3.294040e+02</td>\n",
       "      <td>633.1</td>\n",
       "      <td>1.953544e+27</td>\n",
       "      <td>1.579738e+41</td>\n",
       "      <td>443.1667</td>\n",
       "      <td>686.8413</td>\n",
       "      <td>3.293917e+41</td>\n",
       "    </tr>\n",
       "    <tr>\n",
       "      <th>6</th>\n",
       "      <td>1-574402</td>\n",
       "      <td>8137-3702</td>\n",
       "      <td>0.131997</td>\n",
       "      <td>5.955603e+02</td>\n",
       "      <td>620.5</td>\n",
       "      <td>1.914664e+27</td>\n",
       "      <td>2.743601e+41</td>\n",
       "      <td>434.3250</td>\n",
       "      <td>1029.4190</td>\n",
       "      <td>4.742282e+41</td>\n",
       "    </tr>\n",
       "    <tr>\n",
       "      <th>7</th>\n",
       "      <td>1-72322</td>\n",
       "      <td>8143-6101</td>\n",
       "      <td>0.126168</td>\n",
       "      <td>6.994483e+02</td>\n",
       "      <td>590.8</td>\n",
       "      <td>1.823020e+27</td>\n",
       "      <td>2.921112e+41</td>\n",
       "      <td>413.5903</td>\n",
       "      <td>1429.5290</td>\n",
       "      <td>5.970155e+41</td>\n",
       "    </tr>\n",
       "    <tr>\n",
       "      <th>8</th>\n",
       "      <td>1-73638</td>\n",
       "      <td>8244-12704</td>\n",
       "      <td>0.115137</td>\n",
       "      <td>1.278387e+07</td>\n",
       "      <td>535.3</td>\n",
       "      <td>1.651765e+27</td>\n",
       "      <td>4.382971e+45</td>\n",
       "      <td>374.7274</td>\n",
       "      <td>2857.8740</td>\n",
       "      <td>9.798265e+41</td>\n",
       "    </tr>\n",
       "    <tr>\n",
       "      <th>9</th>\n",
       "      <td>1-284293</td>\n",
       "      <td>8318-6102</td>\n",
       "      <td>0.129080</td>\n",
       "      <td>9.806638e+02</td>\n",
       "      <td>605.6</td>\n",
       "      <td>1.868688e+27</td>\n",
       "      <td>4.303319e+41</td>\n",
       "      <td>423.9317</td>\n",
       "      <td>2352.4330</td>\n",
       "      <td>1.032287e+42</td>\n",
       "    </tr>\n",
       "    <tr>\n",
       "      <th>10</th>\n",
       "      <td>1-286804</td>\n",
       "      <td>8329-6102</td>\n",
       "      <td>0.142887</td>\n",
       "      <td>9.222662e+02</td>\n",
       "      <td>676.3</td>\n",
       "      <td>2.086845e+27</td>\n",
       "      <td>5.047156e+41</td>\n",
       "      <td>473.4268</td>\n",
       "      <td>987.6719</td>\n",
       "      <td>5.405092e+41</td>\n",
       "    </tr>\n",
       "    <tr>\n",
       "      <th>11</th>\n",
       "      <td>1-156158</td>\n",
       "      <td>8439-3703</td>\n",
       "      <td>0.138619</td>\n",
       "      <td>1.376077e+03</td>\n",
       "      <td>654.3</td>\n",
       "      <td>2.018960e+27</td>\n",
       "      <td>7.048688e+41</td>\n",
       "      <td>458.0458</td>\n",
       "      <td>1432.6260</td>\n",
       "      <td>7.338348e+41</td>\n",
       "    </tr>\n",
       "    <tr>\n",
       "      <th>12</th>\n",
       "      <td>1-487379</td>\n",
       "      <td>8448-3703</td>\n",
       "      <td>0.138746</td>\n",
       "      <td>1.487237e+03</td>\n",
       "      <td>655.0</td>\n",
       "      <td>2.021120e+27</td>\n",
       "      <td>7.634393e+41</td>\n",
       "      <td>458.5024</td>\n",
       "      <td>1826.9610</td>\n",
       "      <td>9.378287e+41</td>\n",
       "    </tr>\n",
       "    <tr>\n",
       "      <th>13</th>\n",
       "      <td>1-258599</td>\n",
       "      <td>8464-6101</td>\n",
       "      <td>0.125582</td>\n",
       "      <td>2.791556e+03</td>\n",
       "      <td>587.9</td>\n",
       "      <td>1.814071e+27</td>\n",
       "      <td>1.154423e+42</td>\n",
       "      <td>411.5134</td>\n",
       "      <td>3033.7410</td>\n",
       "      <td>1.254576e+42</td>\n",
       "    </tr>\n",
       "    <tr>\n",
       "      <th>14</th>\n",
       "      <td>1-269632</td>\n",
       "      <td>9049-1901</td>\n",
       "      <td>0.131457</td>\n",
       "      <td>1.398883e+03</td>\n",
       "      <td>617.7</td>\n",
       "      <td>1.906025e+27</td>\n",
       "      <td>6.386284e+41</td>\n",
       "      <td>432.3984</td>\n",
       "      <td>1903.7520</td>\n",
       "      <td>8.691149e+41</td>\n",
       "    </tr>\n",
       "  </tbody>\n",
       "</table>\n",
       "</div>"
      ],
      "text/plain": [
       "     mangaid    plateifu     nsa_z          flux  D_L Mpc        D_L cm  \\\n",
       "0   1-113521   7815-6103  0.135043  1.823267e+03    636.0  1.962492e+27   \n",
       "1    1-25937  7991-12705  0.113153  2.954833e+06    525.4  1.621216e+27   \n",
       "2    1-22948   7992-9102  0.119399  2.028892e+03    556.7  1.717798e+27   \n",
       "3   1-548024   8132-6101  0.129403  3.476036e+06    607.3  1.873933e+27   \n",
       "4   1-338629  8132-12703  0.116056  2.390394e+03    539.9  1.665959e+27   \n",
       "5   1-338922  8133-12704  0.134471  3.294040e+02    633.1  1.953544e+27   \n",
       "6   1-574402   8137-3702  0.131997  5.955603e+02    620.5  1.914664e+27   \n",
       "7    1-72322   8143-6101  0.126168  6.994483e+02    590.8  1.823020e+27   \n",
       "8    1-73638  8244-12704  0.115137  1.278387e+07    535.3  1.651765e+27   \n",
       "9   1-284293   8318-6102  0.129080  9.806638e+02    605.6  1.868688e+27   \n",
       "10  1-286804   8329-6102  0.142887  9.222662e+02    676.3  2.086845e+27   \n",
       "11  1-156158   8439-3703  0.138619  1.376077e+03    654.3  2.018960e+27   \n",
       "12  1-487379   8448-3703  0.138746  1.487237e+03    655.0  2.021120e+27   \n",
       "13  1-258599   8464-6101  0.125582  2.791556e+03    587.9  1.814071e+27   \n",
       "14  1-269632   9049-1901  0.131457  1.398883e+03    617.7  1.906025e+27   \n",
       "\n",
       "         L erg/s  Given D_L Mpc  Given flux     Their Lum  \n",
       "0   8.824218e+41       445.2144   2307.7280  1.116890e+42  \n",
       "1   9.759436e+44       367.7903    788.4548  2.604165e+41  \n",
       "2   7.523381e+41       389.6841    980.3219  3.635154e+41  \n",
       "3   1.533919e+45       425.0809   1110.8870  4.902167e+41  \n",
       "4   8.336961e+41       377.9462   2656.6560  9.265601e+41  \n",
       "5   1.579738e+41       443.1667    686.8413  3.293917e+41  \n",
       "6   2.743601e+41       434.3250   1029.4190  4.742282e+41  \n",
       "7   2.921112e+41       413.5903   1429.5290  5.970155e+41  \n",
       "8   4.382971e+45       374.7274   2857.8740  9.798265e+41  \n",
       "9   4.303319e+41       423.9317   2352.4330  1.032287e+42  \n",
       "10  5.047156e+41       473.4268    987.6719  5.405092e+41  \n",
       "11  7.048688e+41       458.0458   1432.6260  7.338348e+41  \n",
       "12  7.634393e+41       458.5024   1826.9610  9.378287e+41  \n",
       "13  1.154423e+42       411.5134   3033.7410  1.254576e+42  \n",
       "14  6.386284e+41       432.3984   1903.7520  8.691149e+41  "
      ]
     },
     "execution_count": 68,
     "metadata": {},
     "output_type": "execute_result"
    }
   ],
   "source": [
    "# csv_input = pd.read_csv('ha_list2.csv')\n",
    "# csv_input['Their Lum'] = their_lum2\n",
    "# csv_input.to_csv('ha_list2.csv', index=False)\n",
    "# ha_table_2 = pd.read_csv('ha_list2.csv')\n",
    "ha_table_2"
   ]
  },
  {
   "cell_type": "code",
   "execution_count": 70,
   "id": "humanitarian-belgium",
   "metadata": {},
   "outputs": [
    {
     "data": {
      "text/plain": [
       "<matplotlib.collections.PathCollection at 0x7fc49aec4950>"
      ]
     },
     "execution_count": 70,
     "metadata": {},
     "output_type": "execute_result"
    },
    {
     "data": {
      "image/png": "[encoded data removed]",
      "text/plain": [
       "<Figure size 576x576 with 1 Axes>"
      ]
     },
     "metadata": {
      "needs_background": "light"
     },
     "output_type": "display_data"
    }
   ],
   "source": [
    "plt.figure(figsize = (8,8))\n",
    "plt.grid()\n",
    "# plt.xlim(350,650)\n",
    "# plt.ylim(350,650)\n",
    "plt.xlabel('My Values of Luminosity')\n",
    "plt.ylabel('Their Luminosity')\n",
    "plt.title('Luminosity')\n",
    "plt.plot([40,46], [40,46], color = 'salmon')\n",
    "plt.scatter(np.log10(ha_table_2['L erg/s']), np.log10(ha_table_2['Their Lum']))"
   ]
  },
  {
   "cell_type": "code",
   "execution_count": null,
   "id": "owned-violation",
   "metadata": {},
   "outputs": [],
   "source": []
  }
 ],
 "metadata": {
  "kernelspec": {
   "display_name": "Python 3",
   "language": "python",
   "name": "python3"
  },
  "language_info": {
   "codemirror_mode": {
    "name": "ipython",
    "version": 3
   },
   "file_extension": ".py",
   "mimetype": "text/x-python",
   "name": "python",
   "nbconvert_exporter": "python",
   "pygments_lexer": "ipython3",
   "version": "3.7.9"
  }
 },
 "nbformat": 4,
 "nbformat_minor": 5
}
