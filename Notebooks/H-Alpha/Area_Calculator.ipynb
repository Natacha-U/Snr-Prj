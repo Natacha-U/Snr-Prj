{
 "cells": [
  {
   "cell_type": "code",
   "execution_count": 224,
   "id": "growing-british",
   "metadata": {},
   "outputs": [],
   "source": [
    "import pandas as pd\n",
    "import csv\n",
    "import numpy as np\n",
    "import matplotlib.pyplot as plt"
   ]
  },
  {
   "cell_type": "code",
   "execution_count": 225,
   "id": "equipped-animation",
   "metadata": {},
   "outputs": [],
   "source": [
    "def area_finder(height1, height2, width):\n",
    "    area = (height1)*(width)*(1/2) + (height2*width)\n",
    "    return area"
   ]
  },
  {
   "cell_type": "markdown",
   "id": "alike-spice",
   "metadata": {},
   "source": [
    "## ------"
   ]
  },
  {
   "cell_type": "code",
   "execution_count": 226,
   "id": "drawn-timeline",
   "metadata": {},
   "outputs": [],
   "source": [
    "# ha_list = [('8133-12705', 0.130943), ('8256-12704', 0.12611), ('8616-3703', 0.135063),\n",
    "#              ('8720-12702', 0.134953), ('8721-3701', 0.118101)]\n",
    "# #('8137-9101', 0.118865),\n",
    "\n",
    "# ha_list_uncertain = ['8155-6103(?)', '8254-6103(?)', '8338-12705(?)', '8606-12704(?)']\n",
    "\n",
    "# ha_list2 = [('7815-6103', 0.135043), ('7991-12705', 0.113153), ('7992-9102', 0.119399), ('8132-6101', 0.129403),\n",
    "#              ('8132-12703', 0.116056), ('8133-12704', 0.134471), ('8137-3702', 0.131997),\n",
    "#              ('8143-6101', 0.126168), ('8244-12704', 0.115137), ('8318-6102', 0.12908), ('8329-6102', 0.142887),\n",
    "#              ('8439-3703', 0.138619), ('8448-3703', 0.138746), ('8464-6101', 0.125582), ('9049-1901', 0.131457)]\n",
    "\n",
    "# obj1_43214 = [('8135-1902', 0.117997)]\n",
    "\n",
    "# ha_list2_uncertain = ['8454-6102(?)', '8552-9102(?)', '8717-1902(?)']\n",
    "\n",
    "problems = [('7991-12705', 0.113153), ('8132-6101', 0.129403), ('8244-12704', 0.115137)]\n",
    "\n",
    "outlier = [('8616-3703', 0.135063), ('7992-9102', 0.119399), ('8318-6102', 0.12908)]\n",
    "\n",
    "ha_list = [('8133-12705', 0.130943), ('8256-12704', 0.12611), ('8720-12702', 0.134953), \n",
    "           ('8721-3701', 0.118101), ('7815-6103', 0.135043),  ('8132-12703', 0.116056), \n",
    "           ('8133-12704', 0.134471), ('8137-3702', 0.131997), ('8143-6101', 0.126168),  \n",
    "           ('8329-6102', 0.142887), ('8439-3703', 0.138619), ('8448-3703', 0.138746), ('8464-6101', 0.125582), \n",
    "           ('9049-1901', 0.131457)]"
   ]
  },
  {
   "cell_type": "code",
   "execution_count": 227,
   "id": "administrative-tsunami",
   "metadata": {},
   "outputs": [],
   "source": [
    "def Mpc_to_cm(Mpc):\n",
    "    return Mpc * 3.08568*(10**24)\n",
    "\n",
    "def luminosity_calc(luminosity_distance, fluxarea):\n",
    "    return 4 * np.pi * (luminosity_distance**2) * fluxarea * (1e-17)"
   ]
  },
  {
   "cell_type": "code",
   "execution_count": 228,
   "id": "black-remark",
   "metadata": {},
   "outputs": [],
   "source": [
    "ha_lum_dist = [615.1, 590.5, 635.6, 550.2, 636.0, 539.9, 633.1, 620.5, 590.8, 676.3, 654.3, \n",
    "               655.0, 587.9, 617.7]\n",
    "ha_lum_dist_outlier = [636.1, 556.7, 605.6,]\n",
    "ha_lum_dist_problems = [525.4, 607.3, 535.3]"
   ]
  },
  {
   "cell_type": "code",
   "execution_count": 229,
   "id": "crude-peter",
   "metadata": {},
   "outputs": [],
   "source": [
    "csv_input = pd.read_csv('ha_list.csv')\n",
    "csv_input['D_L Mpc'] = ha_lum_dist\n",
    "csv_input.to_csv('ha_list.csv', index=False)"
   ]
  },
  {
   "cell_type": "code",
   "execution_count": 230,
   "id": "thorough-natural",
   "metadata": {},
   "outputs": [],
   "source": [
    "ha_table_1 = pd.read_csv('ha_list.csv')\n",
    "# ha_table_1"
   ]
  },
  {
   "cell_type": "code",
   "execution_count": 231,
   "id": "convertible-brake",
   "metadata": {},
   "outputs": [],
   "source": [
    "lum_dist = ha_table_1['D_L Mpc']\n",
    "flux = ha_table_1['flux']\n",
    "\n",
    "lum_dist_cm = []\n",
    "luminosity = []\n",
    "\n",
    "for i in range(len(lum_dist)):\n",
    "    lum_dist_cm.append(Mpc_to_cm(lum_dist[i]))\n",
    "    luminosity.append(luminosity_calc(Mpc_to_cm(lum_dist[i]), flux[i]))"
   ]
  },
  {
   "cell_type": "code",
   "execution_count": 232,
   "id": "suspected-guarantee",
   "metadata": {},
   "outputs": [],
   "source": [
    "csv_input = pd.read_csv('ha_list.csv')\n",
    "csv_input['D_L cm'] = lum_dist_cm\n",
    "csv_input.to_csv('ha_list.csv', index=False)"
   ]
  },
  {
   "cell_type": "code",
   "execution_count": 233,
   "id": "interested-literature",
   "metadata": {},
   "outputs": [],
   "source": [
    "csv_input = pd.read_csv('ha_list.csv')\n",
    "csv_input['L erg/s'] = luminosity\n",
    "csv_input.to_csv('ha_list.csv', index=False)"
   ]
  },
  {
   "cell_type": "code",
   "execution_count": 234,
   "id": "forty-calibration",
   "metadata": {},
   "outputs": [],
   "source": [
    "ha_table_1 = pd.read_csv('ha_list.csv')\n",
    "# ha_table_1"
   ]
  },
  {
   "cell_type": "markdown",
   "id": "unauthorized-phenomenon",
   "metadata": {},
   "source": [
    "# DAP -- Table 1"
   ]
  },
  {
   "cell_type": "code",
   "execution_count": 235,
   "id": "compact-smile",
   "metadata": {},
   "outputs": [],
   "source": [
    "DAP = pd.read_csv('/Users/natachaupra/Desktop/Snr_Prj/Snr-Prj/Data/DAP.csv', sep=',')"
   ]
  },
  {
   "cell_type": "code",
   "execution_count": 236,
   "id": "cordless-orleans",
   "metadata": {},
   "outputs": [],
   "source": [
    "DAP1 = DAP.copy()"
   ]
  },
  {
   "cell_type": "code",
   "execution_count": 237,
   "id": "unlimited-powell",
   "metadata": {},
   "outputs": [],
   "source": [
    "# for i in ha_list:\n",
    "#     print(DAP.loc[DAP['plateifu'] == i[0]])"
   ]
  },
  {
   "cell_type": "code",
   "execution_count": 238,
   "id": "figured-given",
   "metadata": {},
   "outputs": [],
   "source": [
    "idx = [24, 49, 134, 138, 3, 19, 23, 31, 34, 58, 67, 73, 84, 165]\n",
    "idx_outlier = [120, 8, 54]\n",
    "idx_problem = [6, 21, 42]\n",
    "given_lum_dist = []\n",
    "for i in range(len(ha_list)):\n",
    "    given_lum_dist.append((DAP1.loc[DAP['plateifu'] == ha_list[i][0]])['ldist_nsa_z'][idx[i]])"
   ]
  },
  {
   "cell_type": "code",
   "execution_count": 239,
   "id": "fewer-yukon",
   "metadata": {},
   "outputs": [],
   "source": [
    "csv_input = pd.read_csv('ha_list.csv')\n",
    "csv_input['Given D_L Mpc'] = given_lum_dist\n",
    "csv_input.to_csv('ha_list.csv', index=False)\n",
    "ha_table_1 = pd.read_csv('ha_list.csv')"
   ]
  },
  {
   "cell_type": "code",
   "execution_count": 240,
   "id": "chronic-campaign",
   "metadata": {},
   "outputs": [],
   "source": [
    "# ha_table_1"
   ]
  },
  {
   "cell_type": "code",
   "execution_count": 241,
   "id": "accessible-peter",
   "metadata": {},
   "outputs": [],
   "source": [
    "# ha_table_1.rename(columns = {'Given L erg/s':'Given D_L Mpc'}, inplace = True)"
   ]
  },
  {
   "cell_type": "code",
   "execution_count": 242,
   "id": "blocked-carbon",
   "metadata": {},
   "outputs": [],
   "source": [
    "given_flux = []\n",
    "for i in range(len(ha_list)):\n",
    "    given_flux.append((DAP.loc[DAP1['plateifu'] == ha_list[i][0]])['emline_sflux_tot_ha_6564'][idx[i]])"
   ]
  },
  {
   "cell_type": "code",
   "execution_count": 243,
   "id": "amateur-synthetic",
   "metadata": {},
   "outputs": [],
   "source": [
    "csv_input = pd.read_csv('ha_list.csv')\n",
    "csv_input['Given flux'] = given_flux\n",
    "csv_input.to_csv('ha_list.csv', index=False)\n",
    "ha_table_1 = pd.read_csv('ha_list.csv')\n",
    "# ha_table_1"
   ]
  },
  {
   "cell_type": "code",
   "execution_count": 244,
   "id": "adequate-cleaners",
   "metadata": {},
   "outputs": [
    {
     "data": {
      "text/plain": [
       "array([  0.97665149, 336.08143655])"
      ]
     },
     "execution_count": 244,
     "metadata": {},
     "output_type": "execute_result"
    }
   ],
   "source": [
    "res = np.polyfit(ha_table_1['flux'], ha_table_1['Given flux'], 1)\n",
    "res"
   ]
  },
  {
   "cell_type": "code",
   "execution_count": 245,
   "id": "direct-retreat",
   "metadata": {},
   "outputs": [
    {
     "data": {
      "text/plain": [
       "[<matplotlib.lines.Line2D at 0x7fc848d89fd0>]"
      ]
     },
     "execution_count": 245,
     "metadata": {},
     "output_type": "execute_result"
    },
    {
     "data": {
      "image/png": "[encoded data removed]",
      "text/plain": [
       "<Figure size 576x576 with 1 Axes>"
      ]
     },
     "metadata": {
      "needs_background": "light"
     },
     "output_type": "display_data"
    }
   ],
   "source": [
    "plt.figure(figsize = (8,8))\n",
    "plt.grid()\n",
    "plt.xlim(0,6000)\n",
    "plt.ylim(0,6000)\n",
    "plt.xlabel('My Flux')\n",
    "plt.ylabel('Their Flux')\n",
    "plt.title('Flux')\n",
    "plt.plot([0,6000], [0,6000], color = 'salmon')\n",
    "plt.scatter(ha_table_1['flux'], ha_table_1['Given flux'], color = 'mediumseagreen')\n",
    "plt.plot(ha_table_1['flux'], (res[0]*ha_table_1['flux'])+res[1], color = 'mediumseagreen')"
   ]
  },
  {
   "cell_type": "code",
   "execution_count": 246,
   "id": "agreed-myrtle",
   "metadata": {},
   "outputs": [],
   "source": [
    "their_lum = []\n",
    "for i in range(len(idx)):\n",
    "    their_lum.append(luminosity_calc(ha_table_1['D_L cm'][i], ha_table_1['Given flux'][i]))"
   ]
  },
  {
   "cell_type": "code",
   "execution_count": 247,
   "id": "permanent-little",
   "metadata": {},
   "outputs": [],
   "source": [
    "csv_input = pd.read_csv('ha_list.csv')\n",
    "csv_input['Their Lum'] = their_lum\n",
    "csv_input.to_csv('ha_list.csv', index=False)\n",
    "ha_table_1 = pd.read_csv('ha_list.csv')\n",
    "# ha_table_1"
   ]
  },
  {
   "cell_type": "code",
   "execution_count": 248,
   "id": "rocky-logan",
   "metadata": {},
   "outputs": [
    {
     "data": {
      "text/plain": [
       "array([ 0.70684625, 12.33988924])"
      ]
     },
     "execution_count": 248,
     "metadata": {},
     "output_type": "execute_result"
    }
   ],
   "source": [
    "res2 = np.polyfit(np.log10(ha_table_1['L erg/s']), np.log10(ha_table_1['Their Lum']),1)\n",
    "res2"
   ]
  },
  {
   "cell_type": "code",
   "execution_count": 249,
   "id": "paperback-export",
   "metadata": {},
   "outputs": [
    {
     "data": {
      "text/plain": [
       "[<matplotlib.lines.Line2D at 0x7fc85b868950>]"
      ]
     },
     "execution_count": 249,
     "metadata": {},
     "output_type": "execute_result"
    },
    {
     "data": {
      "image/png": "[encoded data removed]",
      "text/plain": [
       "<Figure size 576x576 with 1 Axes>"
      ]
     },
     "metadata": {
      "needs_background": "light"
     },
     "output_type": "display_data"
    }
   ],
   "source": [
    "plt.figure(figsize = (8,8))\n",
    "plt.grid()\n",
    "# plt.xlim(350,650)\n",
    "# plt.ylim(350,650)\n",
    "plt.xlabel('My Values of Luminosity')\n",
    "plt.ylabel('Their Luminosity')\n",
    "plt.title('Luminosity')\n",
    "plt.plot([40,44], [40,44], color = 'salmon')\n",
    "plt.scatter(np.log10(ha_table_1['L erg/s']), np.log10(ha_table_1['Their Lum']), color = 'mediumseagreen')\n",
    "plt.plot(np.log10(ha_table_1['L erg/s']), (res2[0]*np.log10(ha_table_1['L erg/s'])) + res2[1],\n",
    "        color = 'mediumseagreen')"
   ]
  },
  {
   "cell_type": "markdown",
   "id": "alternative-folks",
   "metadata": {},
   "source": [
    "$$ M_{BH} = \\big(2.0^{+0.4}_{-0.3}\\big) \\times 10^6 \\bigg(\\frac{L_{H_\\alpha}}{10^{42} erg s^{-1}}\\bigg)^{0.55 \\pm 0.02} \\times \\bigg(\\frac{FWHM_{H_\\alpha}}{10^3 kms^{-1}}\\bigg)^{2.06 \\pm 0.06} M_\\odot$$"
   ]
  },
  {
   "cell_type": "code",
   "execution_count": 250,
   "id": "human-association",
   "metadata": {},
   "outputs": [],
   "source": [
    "M_BH = np.array((2) * (10**6) * (ha_table_1['L erg/s'] / 10**42)**(0.55) * (ha_table_1['FWHM km/s'] / 10**3)**2.06)"
   ]
  },
  {
   "cell_type": "code",
   "execution_count": 251,
   "id": "dried-refund",
   "metadata": {},
   "outputs": [],
   "source": [
    "log_mbh = [np.log10(i) for i in M_BH]"
   ]
  },
  {
   "cell_type": "code",
   "execution_count": 252,
   "id": "vanilla-camcorder",
   "metadata": {},
   "outputs": [],
   "source": [
    "csv_input = pd.read_csv('ha_list.csv')\n",
    "csv_input['log10 (M_BH / M_sun)'] = log_mbh\n",
    "csv_input.to_csv('ha_list.csv', index=False)\n",
    "ha_table_1 = pd.read_csv('ha_list.csv')\n",
    "# ha_table_1"
   ]
  },
  {
   "cell_type": "markdown",
   "id": "unique-clerk",
   "metadata": {},
   "source": [
    "Carroll and Ostlie \n",
    "\n",
    "$$ M_{BH} = (1.66 \\pm 0.24) \\times 10^8 M_\\odot \\times \\Big(\\frac{\\sigma}{200 kms^{-1}}\\Big)^{4.86 \\pm 0.43} $$ "
   ]
  },
  {
   "cell_type": "code",
   "execution_count": 253,
   "id": "curious-promotion",
   "metadata": {},
   "outputs": [],
   "source": [
    "given_vdis = []\n",
    "for i in range(len(ha_list)):\n",
    "    given_vdis.append(DAP.loc[DAP['plateifu'] == ha_list[i][0]]['stellar_sigma_1re'][idx[i]])"
   ]
  },
  {
   "cell_type": "code",
   "execution_count": 254,
   "id": "tracked-swing",
   "metadata": {},
   "outputs": [
    {
     "data": {
      "text/html": [
       "<div>\n",
       "<style scoped>\n",
       "    .dataframe tbody tr th:only-of-type {\n",
       "        vertical-align: middle;\n",
       "    }\n",
       "\n",
       "    .dataframe tbody tr th {\n",
       "        vertical-align: top;\n",
       "    }\n",
       "\n",
       "    .dataframe thead th {\n",
       "        text-align: right;\n",
       "    }\n",
       "</style>\n",
       "<table border=\"1\" class=\"dataframe\">\n",
       "  <thead>\n",
       "    <tr style=\"text-align: right;\">\n",
       "      <th></th>\n",
       "      <th>mangaid</th>\n",
       "      <th>plateifu</th>\n",
       "      <th>nsa_z</th>\n",
       "      <th>flux</th>\n",
       "      <th>FWHM km/s</th>\n",
       "      <th>D_L Mpc</th>\n",
       "      <th>D_L cm</th>\n",
       "      <th>L erg/s</th>\n",
       "      <th>Given D_L Mpc</th>\n",
       "      <th>Given flux</th>\n",
       "      <th>Their Lum</th>\n",
       "      <th>log10 (M_BH / M_sun)</th>\n",
       "      <th>Given vdis</th>\n",
       "    </tr>\n",
       "  </thead>\n",
       "  <tbody>\n",
       "    <tr>\n",
       "      <th>0</th>\n",
       "      <td>1-377841</td>\n",
       "      <td>8133-12705</td>\n",
       "      <td>0.130943</td>\n",
       "      <td>934.713926</td>\n",
       "      <td>128.518603</td>\n",
       "      <td>615.1</td>\n",
       "      <td>1.898002e+27</td>\n",
       "      <td>4.231378e+41</td>\n",
       "      <td>430.5657</td>\n",
       "      <td>1138.4650</td>\n",
       "      <td>5.153743e+41</td>\n",
       "      <td>4.260065</td>\n",
       "      <td>115.0897</td>\n",
       "    </tr>\n",
       "    <tr>\n",
       "      <th>1</th>\n",
       "      <td>1-558912</td>\n",
       "      <td>8256-12704</td>\n",
       "      <td>0.126110</td>\n",
       "      <td>504.760950</td>\n",
       "      <td>163.529813</td>\n",
       "      <td>590.5</td>\n",
       "      <td>1.822094e+27</td>\n",
       "      <td>2.105897e+41</td>\n",
       "      <td>413.3847</td>\n",
       "      <td>880.6425</td>\n",
       "      <td>3.674101e+41</td>\n",
       "      <td>4.308930</td>\n",
       "      <td>237.1582</td>\n",
       "    </tr>\n",
       "    <tr>\n",
       "      <th>2</th>\n",
       "      <td>1-351719</td>\n",
       "      <td>8720-12702</td>\n",
       "      <td>0.134953</td>\n",
       "      <td>526.320724</td>\n",
       "      <td>181.559223</td>\n",
       "      <td>635.6</td>\n",
       "      <td>1.961258e+27</td>\n",
       "      <td>2.544075e+41</td>\n",
       "      <td>444.8922</td>\n",
       "      <td>668.3733</td>\n",
       "      <td>3.230714e+41</td>\n",
       "      <td>4.447649</td>\n",
       "      <td>149.9343</td>\n",
       "    </tr>\n",
       "    <tr>\n",
       "      <th>3</th>\n",
       "      <td>1-47511</td>\n",
       "      <td>8721-3701</td>\n",
       "      <td>0.118101</td>\n",
       "      <td>957.464989</td>\n",
       "      <td>159.712379</td>\n",
       "      <td>550.2</td>\n",
       "      <td>1.697741e+27</td>\n",
       "      <td>3.467973e+41</td>\n",
       "      <td>385.1212</td>\n",
       "      <td>1069.3070</td>\n",
       "      <td>3.873069e+41</td>\n",
       "      <td>4.406949</td>\n",
       "      <td>152.9260</td>\n",
       "    </tr>\n",
       "    <tr>\n",
       "      <th>4</th>\n",
       "      <td>1-113521</td>\n",
       "      <td>7815-6103</td>\n",
       "      <td>0.135043</td>\n",
       "      <td>1823.267326</td>\n",
       "      <td>132.639932</td>\n",
       "      <td>636.0</td>\n",
       "      <td>1.962492e+27</td>\n",
       "      <td>8.824218e+41</td>\n",
       "      <td>445.2144</td>\n",
       "      <td>2307.7280</td>\n",
       "      <td>1.116890e+42</td>\n",
       "      <td>4.463861</td>\n",
       "      <td>104.5897</td>\n",
       "    </tr>\n",
       "    <tr>\n",
       "      <th>5</th>\n",
       "      <td>1-338629</td>\n",
       "      <td>8132-12703</td>\n",
       "      <td>0.116056</td>\n",
       "      <td>2390.397300</td>\n",
       "      <td>140.608830</td>\n",
       "      <td>539.9</td>\n",
       "      <td>1.665959e+27</td>\n",
       "      <td>8.336973e+41</td>\n",
       "      <td>377.9462</td>\n",
       "      <td>2656.6560</td>\n",
       "      <td>9.265601e+41</td>\n",
       "      <td>4.502491</td>\n",
       "      <td>125.4166</td>\n",
       "    </tr>\n",
       "    <tr>\n",
       "      <th>6</th>\n",
       "      <td>1-338922</td>\n",
       "      <td>8133-12704</td>\n",
       "      <td>0.134471</td>\n",
       "      <td>329.403979</td>\n",
       "      <td>178.011880</td>\n",
       "      <td>633.1</td>\n",
       "      <td>1.953544e+27</td>\n",
       "      <td>1.579738e+41</td>\n",
       "      <td>443.1667</td>\n",
       "      <td>686.8413</td>\n",
       "      <td>3.293917e+41</td>\n",
       "      <td>4.316177</td>\n",
       "      <td>204.2926</td>\n",
       "    </tr>\n",
       "    <tr>\n",
       "      <th>7</th>\n",
       "      <td>1-574402</td>\n",
       "      <td>8137-3702</td>\n",
       "      <td>0.131997</td>\n",
       "      <td>595.560544</td>\n",
       "      <td>181.232614</td>\n",
       "      <td>620.5</td>\n",
       "      <td>1.914664e+27</td>\n",
       "      <td>2.743602e+41</td>\n",
       "      <td>434.3250</td>\n",
       "      <td>1029.4190</td>\n",
       "      <td>4.742282e+41</td>\n",
       "      <td>4.464074</td>\n",
       "      <td>136.5246</td>\n",
       "    </tr>\n",
       "    <tr>\n",
       "      <th>8</th>\n",
       "      <td>1-72322</td>\n",
       "      <td>8143-6101</td>\n",
       "      <td>0.126168</td>\n",
       "      <td>699.448344</td>\n",
       "      <td>149.441168</td>\n",
       "      <td>590.8</td>\n",
       "      <td>1.823020e+27</td>\n",
       "      <td>2.921112e+41</td>\n",
       "      <td>413.5903</td>\n",
       "      <td>1429.5290</td>\n",
       "      <td>5.970155e+41</td>\n",
       "      <td>4.306490</td>\n",
       "      <td>222.9631</td>\n",
       "    </tr>\n",
       "    <tr>\n",
       "      <th>9</th>\n",
       "      <td>1-286804</td>\n",
       "      <td>8329-6102</td>\n",
       "      <td>0.142887</td>\n",
       "      <td>922.266210</td>\n",
       "      <td>312.780365</td>\n",
       "      <td>676.3</td>\n",
       "      <td>2.086845e+27</td>\n",
       "      <td>5.047156e+41</td>\n",
       "      <td>473.4268</td>\n",
       "      <td>987.6719</td>\n",
       "      <td>5.405092e+41</td>\n",
       "      <td>5.097899</td>\n",
       "      <td>163.2049</td>\n",
       "    </tr>\n",
       "    <tr>\n",
       "      <th>10</th>\n",
       "      <td>1-156158</td>\n",
       "      <td>8439-3703</td>\n",
       "      <td>0.138619</td>\n",
       "      <td>1376.077288</td>\n",
       "      <td>143.437798</td>\n",
       "      <td>654.3</td>\n",
       "      <td>2.018960e+27</td>\n",
       "      <td>7.048688e+41</td>\n",
       "      <td>458.0458</td>\n",
       "      <td>1432.6260</td>\n",
       "      <td>7.338348e+41</td>\n",
       "      <td>4.480217</td>\n",
       "      <td>134.9262</td>\n",
       "    </tr>\n",
       "    <tr>\n",
       "      <th>11</th>\n",
       "      <td>1-487379</td>\n",
       "      <td>8448-3703</td>\n",
       "      <td>0.138746</td>\n",
       "      <td>1487.237230</td>\n",
       "      <td>176.947922</td>\n",
       "      <td>655.0</td>\n",
       "      <td>2.021120e+27</td>\n",
       "      <td>7.634392e+41</td>\n",
       "      <td>458.5024</td>\n",
       "      <td>1826.9610</td>\n",
       "      <td>9.378287e+41</td>\n",
       "      <td>4.687118</td>\n",
       "      <td>179.7231</td>\n",
       "    </tr>\n",
       "    <tr>\n",
       "      <th>12</th>\n",
       "      <td>1-258599</td>\n",
       "      <td>8464-6101</td>\n",
       "      <td>0.125582</td>\n",
       "      <td>2791.563681</td>\n",
       "      <td>190.121606</td>\n",
       "      <td>587.9</td>\n",
       "      <td>1.814071e+27</td>\n",
       "      <td>1.154426e+42</td>\n",
       "      <td>411.5134</td>\n",
       "      <td>3033.7410</td>\n",
       "      <td>1.254576e+42</td>\n",
       "      <td>4.850136</td>\n",
       "      <td>363.1804</td>\n",
       "    </tr>\n",
       "    <tr>\n",
       "      <th>13</th>\n",
       "      <td>1-269632</td>\n",
       "      <td>9049-1901</td>\n",
       "      <td>0.131457</td>\n",
       "      <td>1398.883011</td>\n",
       "      <td>128.491435</td>\n",
       "      <td>617.7</td>\n",
       "      <td>1.906025e+27</td>\n",
       "      <td>6.386284e+41</td>\n",
       "      <td>432.3984</td>\n",
       "      <td>1903.7520</td>\n",
       "      <td>8.691149e+41</td>\n",
       "      <td>4.358197</td>\n",
       "      <td>126.7388</td>\n",
       "    </tr>\n",
       "  </tbody>\n",
       "</table>\n",
       "</div>"
      ],
      "text/plain": [
       "     mangaid    plateifu     nsa_z         flux   FWHM km/s  D_L Mpc  \\\n",
       "0   1-377841  8133-12705  0.130943   934.713926  128.518603    615.1   \n",
       "1   1-558912  8256-12704  0.126110   504.760950  163.529813    590.5   \n",
       "2   1-351719  8720-12702  0.134953   526.320724  181.559223    635.6   \n",
       "3    1-47511   8721-3701  0.118101   957.464989  159.712379    550.2   \n",
       "4   1-113521   7815-6103  0.135043  1823.267326  132.639932    636.0   \n",
       "5   1-338629  8132-12703  0.116056  2390.397300  140.608830    539.9   \n",
       "6   1-338922  8133-12704  0.134471   329.403979  178.011880    633.1   \n",
       "7   1-574402   8137-3702  0.131997   595.560544  181.232614    620.5   \n",
       "8    1-72322   8143-6101  0.126168   699.448344  149.441168    590.8   \n",
       "9   1-286804   8329-6102  0.142887   922.266210  312.780365    676.3   \n",
       "10  1-156158   8439-3703  0.138619  1376.077288  143.437798    654.3   \n",
       "11  1-487379   8448-3703  0.138746  1487.237230  176.947922    655.0   \n",
       "12  1-258599   8464-6101  0.125582  2791.563681  190.121606    587.9   \n",
       "13  1-269632   9049-1901  0.131457  1398.883011  128.491435    617.7   \n",
       "\n",
       "          D_L cm       L erg/s  Given D_L Mpc  Given flux     Their Lum  \\\n",
       "0   1.898002e+27  4.231378e+41       430.5657   1138.4650  5.153743e+41   \n",
       "1   1.822094e+27  2.105897e+41       413.3847    880.6425  3.674101e+41   \n",
       "2   1.961258e+27  2.544075e+41       444.8922    668.3733  3.230714e+41   \n",
       "3   1.697741e+27  3.467973e+41       385.1212   1069.3070  3.873069e+41   \n",
       "4   1.962492e+27  8.824218e+41       445.2144   2307.7280  1.116890e+42   \n",
       "5   1.665959e+27  8.336973e+41       377.9462   2656.6560  9.265601e+41   \n",
       "6   1.953544e+27  1.579738e+41       443.1667    686.8413  3.293917e+41   \n",
       "7   1.914664e+27  2.743602e+41       434.3250   1029.4190  4.742282e+41   \n",
       "8   1.823020e+27  2.921112e+41       413.5903   1429.5290  5.970155e+41   \n",
       "9   2.086845e+27  5.047156e+41       473.4268    987.6719  5.405092e+41   \n",
       "10  2.018960e+27  7.048688e+41       458.0458   1432.6260  7.338348e+41   \n",
       "11  2.021120e+27  7.634392e+41       458.5024   1826.9610  9.378287e+41   \n",
       "12  1.814071e+27  1.154426e+42       411.5134   3033.7410  1.254576e+42   \n",
       "13  1.906025e+27  6.386284e+41       432.3984   1903.7520  8.691149e+41   \n",
       "\n",
       "    log10 (M_BH / M_sun)  Given vdis  \n",
       "0               4.260065    115.0897  \n",
       "1               4.308930    237.1582  \n",
       "2               4.447649    149.9343  \n",
       "3               4.406949    152.9260  \n",
       "4               4.463861    104.5897  \n",
       "5               4.502491    125.4166  \n",
       "6               4.316177    204.2926  \n",
       "7               4.464074    136.5246  \n",
       "8               4.306490    222.9631  \n",
       "9               5.097899    163.2049  \n",
       "10              4.480217    134.9262  \n",
       "11              4.687118    179.7231  \n",
       "12              4.850136    363.1804  \n",
       "13              4.358197    126.7388  "
      ]
     },
     "execution_count": 254,
     "metadata": {},
     "output_type": "execute_result"
    }
   ],
   "source": [
    "csv_input = pd.read_csv('ha_list.csv')\n",
    "csv_input['Given vdis'] = given_vdis\n",
    "csv_input.to_csv('ha_list.csv', index=False)\n",
    "ha_table_1 = pd.read_csv('ha_list.csv')\n",
    "ha_table_1"
   ]
  },
  {
   "cell_type": "code",
   "execution_count": 255,
   "id": "cutting-provision",
   "metadata": {},
   "outputs": [
    {
     "data": {
      "text/plain": [
       "array([7.0537395 , 8.5797877 , 7.61198115, 7.65368157, 6.85181845,\n",
       "       7.23510772, 8.26493012, 7.41422735, 8.44951466, 7.79098563,\n",
       "       7.38937027, 7.99447727, 9.47929719, 7.25724292])"
      ]
     },
     "execution_count": 255,
     "metadata": {},
     "output_type": "execute_result"
    }
   ],
   "source": [
    "a = 1.66 * 10**8\n",
    "b = 4.86\n",
    "M_BH_Carroll_Ostlie = np.log10(a * (np.array(given_vdis)/200)**b)\n",
    "M_BH_Carroll_Ostlie"
   ]
  },
  {
   "cell_type": "code",
   "execution_count": 256,
   "id": "consistent-ranking",
   "metadata": {},
   "outputs": [
    {
     "data": {
      "text/plain": [
       "<matplotlib.collections.PathCollection at 0x7fc85b86d490>"
      ]
     },
     "execution_count": 256,
     "metadata": {},
     "output_type": "execute_result"
    },
    {
     "data": {
      "image/png": "[encoded data removed]",
      "text/plain": [
       "<Figure size 576x576 with 1 Axes>"
      ]
     },
     "metadata": {
      "needs_background": "light"
     },
     "output_type": "display_data"
    }
   ],
   "source": [
    "plt.figure(figsize = (8,8))\n",
    "plt.grid()\n",
    "# plt.xlim(350,650)\n",
    "# plt.ylim(350,650)\n",
    "plt.xlabel('My M_BH')\n",
    "plt.ylabel('Carroll and Ostlie')\n",
    "plt.title('log(M_BH/M_sun)')\n",
    "plt.plot([3,10], [3,10], color = 'salmon')\n",
    "plt.scatter(ha_table_1['log10 (M_BH / M_sun)'], M_BH_Carroll_Ostlie, color = 'mediumseagreen')"
   ]
  },
  {
   "cell_type": "code",
   "execution_count": null,
   "id": "supported-letter",
   "metadata": {},
   "outputs": [],
   "source": []
  }
 ],
 "metadata": {
  "kernelspec": {
   "display_name": "Python 3",
   "language": "python",
   "name": "python3"
  },
  "language_info": {
   "codemirror_mode": {
    "name": "ipython",
    "version": 3
   },
   "file_extension": ".py",
   "mimetype": "text/x-python",
   "name": "python",
   "nbconvert_exporter": "python",
   "pygments_lexer": "ipython3",
   "version": "3.7.9"
  }
 },
 "nbformat": 4,
 "nbformat_minor": 5
}
