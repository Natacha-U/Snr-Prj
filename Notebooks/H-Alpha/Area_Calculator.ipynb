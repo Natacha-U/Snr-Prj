{
 "cells": [
  {
   "cell_type": "code",
   "execution_count": 11,
   "id": "growing-british",
   "metadata": {},
   "outputs": [],
   "source": [
    "import pandas as pd\n",
    "import csv\n",
    "import numpy as np\n",
    "import matplotlib.pyplot as plt"
   ]
  },
  {
   "cell_type": "code",
   "execution_count": 12,
   "id": "equipped-animation",
   "metadata": {},
   "outputs": [],
   "source": [
    "def area_finder(height1, height2, width):\n",
    "    area = (height1)*(width)*(1/2) + (height2*width)\n",
    "    return area"
   ]
  },
  {
   "cell_type": "code",
   "execution_count": 13,
   "id": "parliamentary-refrigerator",
   "metadata": {},
   "outputs": [
    {
     "name": "stdout",
     "output_type": "stream",
     "text": [
      "4268.0\n",
      "2178.0\n"
     ]
    }
   ],
   "source": [
    "a = 198\n",
    "b = 95\n",
    "c = 22\n",
    "print(area_finder(a, b, c))\n",
    "print(area_finder(a, b, c) - b*c)"
   ]
  },
  {
   "cell_type": "code",
   "execution_count": 14,
   "id": "quality-procurement",
   "metadata": {},
   "outputs": [
    {
     "data": {
      "text/plain": [
       "(2090, 2128)"
      ]
     },
     "execution_count": 14,
     "metadata": {},
     "output_type": "execute_result"
    }
   ],
   "source": [
    "4268-2178, 3526-1398"
   ]
  },
  {
   "cell_type": "markdown",
   "id": "alike-spice",
   "metadata": {},
   "source": [
    "## ------"
   ]
  },
  {
   "cell_type": "code",
   "execution_count": 79,
   "id": "drawn-timeline",
   "metadata": {},
   "outputs": [],
   "source": [
    "# ha_list = [('8133-12705', 0.130943), ('8256-12704', 0.12611), ('8616-3703', 0.135063),\n",
    "#              ('8720-12702', 0.134953), ('8721-3701', 0.118101)]\n",
    "# #('8137-9101', 0.118865),\n",
    "\n",
    "# ha_list_uncertain = ['8155-6103(?)', '8254-6103(?)', '8338-12705(?)', '8606-12704(?)']\n",
    "\n",
    "# ha_list2 = [('7815-6103', 0.135043), ('7991-12705', 0.113153), ('7992-9102', 0.119399), ('8132-6101', 0.129403),\n",
    "#              ('8132-12703', 0.116056), ('8133-12704', 0.134471), ('8137-3702', 0.131997),\n",
    "#              ('8143-6101', 0.126168), ('8244-12704', 0.115137), ('8318-6102', 0.12908), ('8329-6102', 0.142887),\n",
    "#              ('8439-3703', 0.138619), ('8448-3703', 0.138746), ('8464-6101', 0.125582), ('9049-1901', 0.131457)]\n",
    "\n",
    "# obj1_43214 = [('8135-1902', 0.117997)]\n",
    "\n",
    "# ha_list2_uncertain = ['8454-6102(?)', '8552-9102(?)', '8717-1902(?)']\n",
    "\n",
    "problems = [('7991-12705', 0.113153), ('8132-6101', 0.129403), ('8244-12704', 0.115137)]\n",
    "\n",
    "ha_list = [('8133-12705', 0.130943), ('8256-12704', 0.12611), ('8616-3703', 0.135063), ('8720-12702', 0.134953), \n",
    "           ('8721-3701', 0.118101), ('7815-6103', 0.135043), ('7992-9102', 0.119399), ('8132-12703', 0.116056), \n",
    "           ('8133-12704', 0.134471), ('8137-3702', 0.131997), ('8143-6101', 0.126168),  ('8318-6102', 0.12908), \n",
    "           ('8329-6102', 0.142887), ('8439-3703', 0.138619), ('8448-3703', 0.138746), ('8464-6101', 0.125582), \n",
    "           ('9049-1901', 0.131457)]"
   ]
  },
  {
   "cell_type": "code",
   "execution_count": 80,
   "id": "administrative-tsunami",
   "metadata": {},
   "outputs": [],
   "source": [
    "def Mpc_to_cm(Mpc):\n",
    "    return Mpc * 3.08568*(10**24)\n",
    "\n",
    "def luminosity_calc(luminosity_distance, fluxarea):\n",
    "    return 4 * np.pi * (luminosity_distance**2) * fluxarea * (1e-17)"
   ]
  },
  {
   "cell_type": "code",
   "execution_count": 81,
   "id": "black-remark",
   "metadata": {},
   "outputs": [],
   "source": [
    "ha_lum_dist = [615.1, 590.5, 636.1, 635.6, 550.2, 636.0, 556.7, 539.9, 633.1, 620.5, 590.8, 605.6, 676.3, 654.3, \n",
    "               655.0, 587.9, 617.7]\n",
    "ha_lum_dist_problems = [525.4, 607.3, 535.3]"
   ]
  },
  {
   "cell_type": "code",
   "execution_count": 82,
   "id": "crude-peter",
   "metadata": {},
   "outputs": [],
   "source": [
    "# csv_input = pd.read_csv('ha_list.csv')\n",
    "# csv_input['D_L Mpc'] = ha_lum_dist\n",
    "# csv_input.to_csv('ha_list.csv', index=False)"
   ]
  },
  {
   "cell_type": "code",
   "execution_count": 84,
   "id": "thorough-natural",
   "metadata": {},
   "outputs": [],
   "source": [
    "ha_table_1 = pd.read_csv('ha_list.csv')\n",
    "# ha_table_1"
   ]
  },
  {
   "cell_type": "code",
   "execution_count": 85,
   "id": "convertible-brake",
   "metadata": {},
   "outputs": [],
   "source": [
    "lum_dist = ha_table_1['D_L Mpc']\n",
    "flux = ha_table_1['flux']\n",
    "\n",
    "lum_dist_cm = []\n",
    "luminosity = []\n",
    "\n",
    "for i in range(len(lum_dist)):\n",
    "    lum_dist_cm.append(Mpc_to_cm(lum_dist[i]))\n",
    "    luminosity.append(luminosity_calc(Mpc_to_cm(lum_dist[i]), flux[i]))"
   ]
  },
  {
   "cell_type": "code",
   "execution_count": 86,
   "id": "suspected-guarantee",
   "metadata": {},
   "outputs": [],
   "source": [
    "# csv_input = pd.read_csv('ha_list.csv')\n",
    "# csv_input['D_L cm'] = lum_dist_cm\n",
    "# csv_input.to_csv('ha_list.csv', index=False)"
   ]
  },
  {
   "cell_type": "code",
   "execution_count": 87,
   "id": "interested-literature",
   "metadata": {},
   "outputs": [],
   "source": [
    "# csv_input = pd.read_csv('ha_list.csv')\n",
    "# csv_input['L erg/s'] = luminosity\n",
    "# csv_input.to_csv('ha_list.csv', index=False)"
   ]
  },
  {
   "cell_type": "code",
   "execution_count": 88,
   "id": "forty-calibration",
   "metadata": {},
   "outputs": [],
   "source": [
    "# ha_table_1"
   ]
  },
  {
   "cell_type": "markdown",
   "id": "unauthorized-phenomenon",
   "metadata": {},
   "source": [
    "# DAP -- Table 1"
   ]
  },
  {
   "cell_type": "code",
   "execution_count": 89,
   "id": "compact-smile",
   "metadata": {},
   "outputs": [],
   "source": [
    "DAP = pd.read_csv('/Users/natachaupra/Desktop/Snr_Prj/Snr-Prj/Data/DAP.csv', sep=',')"
   ]
  },
  {
   "cell_type": "code",
   "execution_count": 90,
   "id": "cordless-orleans",
   "metadata": {},
   "outputs": [],
   "source": [
    "DAP1 = DAP.copy()"
   ]
  },
  {
   "cell_type": "code",
   "execution_count": 91,
   "id": "unlimited-powell",
   "metadata": {},
   "outputs": [],
   "source": [
    "# for i in ha_list:\n",
    "#     print(DAP.loc[DAP['plateifu'] == i[0]])"
   ]
  },
  {
   "cell_type": "code",
   "execution_count": 92,
   "id": "figured-given",
   "metadata": {},
   "outputs": [],
   "source": [
    "idx = [24, 49, 120, 134, 138, 3, 8, 19, 23, 31, 34, 54, 58, 67, 73, 84, 165]\n",
    "idx_problem = [6, 21, 42]\n",
    "given_lum_dist = []\n",
    "for i in range(len(ha_list)):\n",
    "    given_lum_dist.append((DAP.loc[DAP['plateifu'] == ha_list[i][0]])['ldist_nsa_z'][idx[i]])"
   ]
  },
  {
   "cell_type": "code",
   "execution_count": 94,
   "id": "fewer-yukon",
   "metadata": {},
   "outputs": [],
   "source": [
    "# csv_input = pd.read_csv('ha_list.csv')\n",
    "# csv_input['Given D_L Mpc'] = given_lum_dist\n",
    "# csv_input.to_csv('ha_list.csv', index=False)\n",
    "# ha_table_1 = pd.read_csv('ha_list.csv')"
   ]
  },
  {
   "cell_type": "code",
   "execution_count": 35,
   "id": "chronic-campaign",
   "metadata": {},
   "outputs": [],
   "source": [
    "# ha_table_1"
   ]
  },
  {
   "cell_type": "code",
   "execution_count": 36,
   "id": "accessible-peter",
   "metadata": {},
   "outputs": [],
   "source": [
    "# ha_table_1.rename(columns = {'Given L erg/s':'Given D_L Mpc'}, inplace = True)"
   ]
  },
  {
   "cell_type": "code",
   "execution_count": 95,
   "id": "blocked-carbon",
   "metadata": {},
   "outputs": [],
   "source": [
    "given_flux = []\n",
    "for i in range(len(ha_list)):\n",
    "    given_flux.append((DAP.loc[DAP['plateifu'] == ha_list[i][0]])['emline_sflux_tot_ha_6564'][idx[i]])"
   ]
  },
  {
   "cell_type": "code",
   "execution_count": 97,
   "id": "amateur-synthetic",
   "metadata": {},
   "outputs": [],
   "source": [
    "# csv_input = pd.read_csv('ha_list.csv')\n",
    "# csv_input['Given flux'] = given_flux\n",
    "# csv_input.to_csv('ha_list.csv', index=False)\n",
    "# ha_table_1 = pd.read_csv('ha_list.csv')\n",
    "# ha_table_1"
   ]
  },
  {
   "cell_type": "code",
   "execution_count": 98,
   "id": "direct-retreat",
   "metadata": {},
   "outputs": [
    {
     "data": {
      "text/plain": [
       "<matplotlib.collections.PathCollection at 0x7fb3a8b38d10>"
      ]
     },
     "execution_count": 98,
     "metadata": {},
     "output_type": "execute_result"
    },
    {
     "data": {
      "image/png": "[encoded data removed]",
      "text/plain": [
       "<Figure size 576x576 with 1 Axes>"
      ]
     },
     "metadata": {
      "needs_background": "light"
     },
     "output_type": "display_data"
    }
   ],
   "source": [
    "plt.figure(figsize = (8,8))\n",
    "plt.grid()\n",
    "plt.xlim(0,6000)\n",
    "plt.ylim(0,6000)\n",
    "plt.xlabel('My Flux')\n",
    "plt.ylabel('Their Flux')\n",
    "plt.title('Flux')\n",
    "plt.plot([0,6000], [0,6000], color = 'salmon')\n",
    "plt.scatter(ha_table_1['flux'], ha_table_1['Given flux'], color = 'mediumseagreen')"
   ]
  },
  {
   "cell_type": "code",
   "execution_count": 99,
   "id": "agreed-myrtle",
   "metadata": {},
   "outputs": [],
   "source": [
    "their_lum = []\n",
    "for i in range(len(idx)):\n",
    "    their_lum.append(luminosity_calc(ha_table_1['D_L cm'][i], ha_table_1['Given flux'][i]))"
   ]
  },
  {
   "cell_type": "code",
   "execution_count": 131,
   "id": "permanent-little",
   "metadata": {},
   "outputs": [],
   "source": [
    "# csv_input = pd.read_csv('ha_list.csv')\n",
    "# csv_input['Their Lum'] = their_lum\n",
    "# csv_input.to_csv('ha_list.csv', index=False)\n",
    "# ha_table_1 = pd.read_csv('ha_list.csv')\n",
    "# ha_table_1"
   ]
  },
  {
   "cell_type": "code",
   "execution_count": 102,
   "id": "paperback-export",
   "metadata": {},
   "outputs": [
    {
     "data": {
      "text/plain": [
       "<matplotlib.collections.PathCollection at 0x7fb3ba9fe950>"
      ]
     },
     "execution_count": 102,
     "metadata": {},
     "output_type": "execute_result"
    },
    {
     "data": {
      "image/png": "[encoded data removed]",
      "text/plain": [
       "<Figure size 576x576 with 1 Axes>"
      ]
     },
     "metadata": {
      "needs_background": "light"
     },
     "output_type": "display_data"
    }
   ],
   "source": [
    "plt.figure(figsize = (8,8))\n",
    "plt.grid()\n",
    "# plt.xlim(350,650)\n",
    "# plt.ylim(350,650)\n",
    "plt.xlabel('My Values of Luminosity')\n",
    "plt.ylabel('Their Luminosity')\n",
    "plt.title('Luminosity')\n",
    "plt.plot([40,44], [40,44], color = 'salmon')\n",
    "plt.scatter(np.log10(ha_table_1['L erg/s']), np.log10(ha_table_1['Their Lum']), color = 'mediumseagreen')"
   ]
  },
  {
   "cell_type": "markdown",
   "id": "alternative-folks",
   "metadata": {},
   "source": [
    "$$ M_{BH} = \\big(2.0^{+0.4}_{-0.3}\\big) \\times 10^6 \\bigg(\\frac{L_{H_\\alpha}}{10^{42} erg s^{-1}}\\bigg)^{0.55 \\pm 0.02} \\times \\bigg(\\frac{FWHM_{H_\\alpha}}{10^3 kms^{-1}}\\bigg)^{2.06 \\pm 0.06} M_\\odot$$"
   ]
  },
  {
   "cell_type": "code",
   "execution_count": 127,
   "id": "human-association",
   "metadata": {},
   "outputs": [],
   "source": [
    "M_BH = np.array((2) * (10**6) * (ha_table_1['L erg/s'] / 10**42)**(0.55) * (ha_table_1['FWHM km/s'] / 10**3)**2.06)"
   ]
  },
  {
   "cell_type": "code",
   "execution_count": 128,
   "id": "dried-refund",
   "metadata": {},
   "outputs": [],
   "source": [
    "log_mbh = [np.log10(i) for i in M_BH]"
   ]
  },
  {
   "cell_type": "code",
   "execution_count": 130,
   "id": "vanilla-camcorder",
   "metadata": {},
   "outputs": [
    {
     "data": {
      "text/html": [
       "<div>\n",
       "<style scoped>\n",
       "    .dataframe tbody tr th:only-of-type {\n",
       "        vertical-align: middle;\n",
       "    }\n",
       "\n",
       "    .dataframe tbody tr th {\n",
       "        vertical-align: top;\n",
       "    }\n",
       "\n",
       "    .dataframe thead th {\n",
       "        text-align: right;\n",
       "    }\n",
       "</style>\n",
       "<table border=\"1\" class=\"dataframe\">\n",
       "  <thead>\n",
       "    <tr style=\"text-align: right;\">\n",
       "      <th></th>\n",
       "      <th>mangaid</th>\n",
       "      <th>plateifu</th>\n",
       "      <th>nsa_z</th>\n",
       "      <th>flux</th>\n",
       "      <th>FWHM km/s</th>\n",
       "      <th>D_L Mpc</th>\n",
       "      <th>D_L cm</th>\n",
       "      <th>L erg/s</th>\n",
       "      <th>Given D_L Mpc</th>\n",
       "      <th>Given flux</th>\n",
       "      <th>Their Lum</th>\n",
       "      <th>log10 M_BH / M_sun</th>\n",
       "    </tr>\n",
       "  </thead>\n",
       "  <tbody>\n",
       "    <tr>\n",
       "      <th>0</th>\n",
       "      <td>1-377841</td>\n",
       "      <td>8133-12705</td>\n",
       "      <td>0.130943</td>\n",
       "      <td>934.712571</td>\n",
       "      <td>128.518385</td>\n",
       "      <td>615.1</td>\n",
       "      <td>1.898002e+27</td>\n",
       "      <td>4.231372e+41</td>\n",
       "      <td>430.5657</td>\n",
       "      <td>1138.4650</td>\n",
       "      <td>5.153743e+41</td>\n",
       "      <td>4.260063</td>\n",
       "    </tr>\n",
       "    <tr>\n",
       "      <th>1</th>\n",
       "      <td>1-558912</td>\n",
       "      <td>8256-12704</td>\n",
       "      <td>0.126110</td>\n",
       "      <td>504.760943</td>\n",
       "      <td>163.529811</td>\n",
       "      <td>590.5</td>\n",
       "      <td>1.822094e+27</td>\n",
       "      <td>2.105897e+41</td>\n",
       "      <td>413.3847</td>\n",
       "      <td>880.6425</td>\n",
       "      <td>3.674101e+41</td>\n",
       "      <td>4.308930</td>\n",
       "    </tr>\n",
       "    <tr>\n",
       "      <th>2</th>\n",
       "      <td>1-180308</td>\n",
       "      <td>8616-3703</td>\n",
       "      <td>0.135063</td>\n",
       "      <td>5559.944176</td>\n",
       "      <td>490.239950</td>\n",
       "      <td>636.1</td>\n",
       "      <td>1.962801e+27</td>\n",
       "      <td>2.691738e+42</td>\n",
       "      <td>445.2860</td>\n",
       "      <td>1656.7860</td>\n",
       "      <td>8.021006e+41</td>\n",
       "      <td>5.899790</td>\n",
       "    </tr>\n",
       "    <tr>\n",
       "      <th>3</th>\n",
       "      <td>1-351719</td>\n",
       "      <td>8720-12702</td>\n",
       "      <td>0.134953</td>\n",
       "      <td>526.323773</td>\n",
       "      <td>181.560194</td>\n",
       "      <td>635.6</td>\n",
       "      <td>1.961258e+27</td>\n",
       "      <td>2.544090e+41</td>\n",
       "      <td>444.8922</td>\n",
       "      <td>668.3733</td>\n",
       "      <td>3.230714e+41</td>\n",
       "      <td>4.447655</td>\n",
       "    </tr>\n",
       "    <tr>\n",
       "      <th>4</th>\n",
       "      <td>1-47511</td>\n",
       "      <td>8721-3701</td>\n",
       "      <td>0.118101</td>\n",
       "      <td>957.464724</td>\n",
       "      <td>159.712334</td>\n",
       "      <td>550.2</td>\n",
       "      <td>1.697741e+27</td>\n",
       "      <td>3.467972e+41</td>\n",
       "      <td>385.1212</td>\n",
       "      <td>1069.3070</td>\n",
       "      <td>3.873069e+41</td>\n",
       "      <td>4.406949</td>\n",
       "    </tr>\n",
       "    <tr>\n",
       "      <th>5</th>\n",
       "      <td>1-113521</td>\n",
       "      <td>7815-6103</td>\n",
       "      <td>0.135043</td>\n",
       "      <td>1823.267326</td>\n",
       "      <td>132.639932</td>\n",
       "      <td>636.0</td>\n",
       "      <td>1.962492e+27</td>\n",
       "      <td>8.824218e+41</td>\n",
       "      <td>445.2144</td>\n",
       "      <td>2307.7280</td>\n",
       "      <td>1.116890e+42</td>\n",
       "      <td>4.463861</td>\n",
       "    </tr>\n",
       "    <tr>\n",
       "      <th>6</th>\n",
       "      <td>1-22948</td>\n",
       "      <td>7992-9102</td>\n",
       "      <td>0.119399</td>\n",
       "      <td>2028.892153</td>\n",
       "      <td>544.028962</td>\n",
       "      <td>556.7</td>\n",
       "      <td>1.717798e+27</td>\n",
       "      <td>7.523381e+41</td>\n",
       "      <td>389.6841</td>\n",
       "      <td>980.3219</td>\n",
       "      <td>3.635154e+41</td>\n",
       "      <td>5.688439</td>\n",
       "    </tr>\n",
       "    <tr>\n",
       "      <th>7</th>\n",
       "      <td>1-338629</td>\n",
       "      <td>8132-12703</td>\n",
       "      <td>0.116056</td>\n",
       "      <td>2390.393861</td>\n",
       "      <td>140.608608</td>\n",
       "      <td>539.9</td>\n",
       "      <td>1.665959e+27</td>\n",
       "      <td>8.336961e+41</td>\n",
       "      <td>377.9462</td>\n",
       "      <td>2656.6560</td>\n",
       "      <td>9.265601e+41</td>\n",
       "      <td>4.502489</td>\n",
       "    </tr>\n",
       "    <tr>\n",
       "      <th>8</th>\n",
       "      <td>1-338922</td>\n",
       "      <td>8133-12704</td>\n",
       "      <td>0.134471</td>\n",
       "      <td>329.403967</td>\n",
       "      <td>178.011876</td>\n",
       "      <td>633.1</td>\n",
       "      <td>1.953544e+27</td>\n",
       "      <td>1.579738e+41</td>\n",
       "      <td>443.1667</td>\n",
       "      <td>686.8413</td>\n",
       "      <td>3.293917e+41</td>\n",
       "      <td>4.316177</td>\n",
       "    </tr>\n",
       "    <tr>\n",
       "      <th>9</th>\n",
       "      <td>1-574402</td>\n",
       "      <td>8137-3702</td>\n",
       "      <td>0.131997</td>\n",
       "      <td>595.560345</td>\n",
       "      <td>181.232544</td>\n",
       "      <td>620.5</td>\n",
       "      <td>1.914664e+27</td>\n",
       "      <td>2.743601e+41</td>\n",
       "      <td>434.3250</td>\n",
       "      <td>1029.4190</td>\n",
       "      <td>4.742282e+41</td>\n",
       "      <td>4.464073</td>\n",
       "    </tr>\n",
       "    <tr>\n",
       "      <th>10</th>\n",
       "      <td>1-72322</td>\n",
       "      <td>8143-6101</td>\n",
       "      <td>0.126168</td>\n",
       "      <td>699.448346</td>\n",
       "      <td>149.441169</td>\n",
       "      <td>590.8</td>\n",
       "      <td>1.823020e+27</td>\n",
       "      <td>2.921112e+41</td>\n",
       "      <td>413.5903</td>\n",
       "      <td>1429.5290</td>\n",
       "      <td>5.970155e+41</td>\n",
       "      <td>4.306490</td>\n",
       "    </tr>\n",
       "    <tr>\n",
       "      <th>11</th>\n",
       "      <td>1-284293</td>\n",
       "      <td>8318-6102</td>\n",
       "      <td>0.129080</td>\n",
       "      <td>980.663830</td>\n",
       "      <td>133.920898</td>\n",
       "      <td>605.6</td>\n",
       "      <td>1.868688e+27</td>\n",
       "      <td>4.303319e+41</td>\n",
       "      <td>423.9317</td>\n",
       "      <td>2352.4330</td>\n",
       "      <td>1.032287e+42</td>\n",
       "      <td>4.300930</td>\n",
       "    </tr>\n",
       "    <tr>\n",
       "      <th>12</th>\n",
       "      <td>1-286804</td>\n",
       "      <td>8329-6102</td>\n",
       "      <td>0.142887</td>\n",
       "      <td>922.266168</td>\n",
       "      <td>312.780356</td>\n",
       "      <td>676.3</td>\n",
       "      <td>2.086845e+27</td>\n",
       "      <td>5.047156e+41</td>\n",
       "      <td>473.4268</td>\n",
       "      <td>987.6719</td>\n",
       "      <td>5.405092e+41</td>\n",
       "      <td>5.097899</td>\n",
       "    </tr>\n",
       "    <tr>\n",
       "      <th>13</th>\n",
       "      <td>1-156158</td>\n",
       "      <td>8439-3703</td>\n",
       "      <td>0.138619</td>\n",
       "      <td>1376.077286</td>\n",
       "      <td>143.437798</td>\n",
       "      <td>654.3</td>\n",
       "      <td>2.018960e+27</td>\n",
       "      <td>7.048688e+41</td>\n",
       "      <td>458.0458</td>\n",
       "      <td>1432.6260</td>\n",
       "      <td>7.338348e+41</td>\n",
       "      <td>4.480217</td>\n",
       "    </tr>\n",
       "    <tr>\n",
       "      <th>14</th>\n",
       "      <td>1-487379</td>\n",
       "      <td>8448-3703</td>\n",
       "      <td>0.138746</td>\n",
       "      <td>1487.237260</td>\n",
       "      <td>176.947925</td>\n",
       "      <td>655.0</td>\n",
       "      <td>2.021120e+27</td>\n",
       "      <td>7.634393e+41</td>\n",
       "      <td>458.5024</td>\n",
       "      <td>1826.9610</td>\n",
       "      <td>9.378287e+41</td>\n",
       "      <td>4.687118</td>\n",
       "    </tr>\n",
       "    <tr>\n",
       "      <th>15</th>\n",
       "      <td>1-258599</td>\n",
       "      <td>8464-6101</td>\n",
       "      <td>0.125582</td>\n",
       "      <td>2791.555670</td>\n",
       "      <td>190.121130</td>\n",
       "      <td>587.9</td>\n",
       "      <td>1.814071e+27</td>\n",
       "      <td>1.154423e+42</td>\n",
       "      <td>411.5134</td>\n",
       "      <td>3033.7410</td>\n",
       "      <td>1.254576e+42</td>\n",
       "      <td>4.850133</td>\n",
       "    </tr>\n",
       "    <tr>\n",
       "      <th>16</th>\n",
       "      <td>1-269632</td>\n",
       "      <td>9049-1901</td>\n",
       "      <td>0.131457</td>\n",
       "      <td>1398.883011</td>\n",
       "      <td>128.491435</td>\n",
       "      <td>617.7</td>\n",
       "      <td>1.906025e+27</td>\n",
       "      <td>6.386284e+41</td>\n",
       "      <td>432.3984</td>\n",
       "      <td>1903.7520</td>\n",
       "      <td>8.691149e+41</td>\n",
       "      <td>4.358197</td>\n",
       "    </tr>\n",
       "  </tbody>\n",
       "</table>\n",
       "</div>"
      ],
      "text/plain": [
       "     mangaid    plateifu     nsa_z         flux   FWHM km/s  D_L Mpc  \\\n",
       "0   1-377841  8133-12705  0.130943   934.712571  128.518385    615.1   \n",
       "1   1-558912  8256-12704  0.126110   504.760943  163.529811    590.5   \n",
       "2   1-180308   8616-3703  0.135063  5559.944176  490.239950    636.1   \n",
       "3   1-351719  8720-12702  0.134953   526.323773  181.560194    635.6   \n",
       "4    1-47511   8721-3701  0.118101   957.464724  159.712334    550.2   \n",
       "5   1-113521   7815-6103  0.135043  1823.267326  132.639932    636.0   \n",
       "6    1-22948   7992-9102  0.119399  2028.892153  544.028962    556.7   \n",
       "7   1-338629  8132-12703  0.116056  2390.393861  140.608608    539.9   \n",
       "8   1-338922  8133-12704  0.134471   329.403967  178.011876    633.1   \n",
       "9   1-574402   8137-3702  0.131997   595.560345  181.232544    620.5   \n",
       "10   1-72322   8143-6101  0.126168   699.448346  149.441169    590.8   \n",
       "11  1-284293   8318-6102  0.129080   980.663830  133.920898    605.6   \n",
       "12  1-286804   8329-6102  0.142887   922.266168  312.780356    676.3   \n",
       "13  1-156158   8439-3703  0.138619  1376.077286  143.437798    654.3   \n",
       "14  1-487379   8448-3703  0.138746  1487.237260  176.947925    655.0   \n",
       "15  1-258599   8464-6101  0.125582  2791.555670  190.121130    587.9   \n",
       "16  1-269632   9049-1901  0.131457  1398.883011  128.491435    617.7   \n",
       "\n",
       "          D_L cm       L erg/s  Given D_L Mpc  Given flux     Their Lum  \\\n",
       "0   1.898002e+27  4.231372e+41       430.5657   1138.4650  5.153743e+41   \n",
       "1   1.822094e+27  2.105897e+41       413.3847    880.6425  3.674101e+41   \n",
       "2   1.962801e+27  2.691738e+42       445.2860   1656.7860  8.021006e+41   \n",
       "3   1.961258e+27  2.544090e+41       444.8922    668.3733  3.230714e+41   \n",
       "4   1.697741e+27  3.467972e+41       385.1212   1069.3070  3.873069e+41   \n",
       "5   1.962492e+27  8.824218e+41       445.2144   2307.7280  1.116890e+42   \n",
       "6   1.717798e+27  7.523381e+41       389.6841    980.3219  3.635154e+41   \n",
       "7   1.665959e+27  8.336961e+41       377.9462   2656.6560  9.265601e+41   \n",
       "8   1.953544e+27  1.579738e+41       443.1667    686.8413  3.293917e+41   \n",
       "9   1.914664e+27  2.743601e+41       434.3250   1029.4190  4.742282e+41   \n",
       "10  1.823020e+27  2.921112e+41       413.5903   1429.5290  5.970155e+41   \n",
       "11  1.868688e+27  4.303319e+41       423.9317   2352.4330  1.032287e+42   \n",
       "12  2.086845e+27  5.047156e+41       473.4268    987.6719  5.405092e+41   \n",
       "13  2.018960e+27  7.048688e+41       458.0458   1432.6260  7.338348e+41   \n",
       "14  2.021120e+27  7.634393e+41       458.5024   1826.9610  9.378287e+41   \n",
       "15  1.814071e+27  1.154423e+42       411.5134   3033.7410  1.254576e+42   \n",
       "16  1.906025e+27  6.386284e+41       432.3984   1903.7520  8.691149e+41   \n",
       "\n",
       "    log10 M_BH / M_sun  \n",
       "0             4.260063  \n",
       "1             4.308930  \n",
       "2             5.899790  \n",
       "3             4.447655  \n",
       "4             4.406949  \n",
       "5             4.463861  \n",
       "6             5.688439  \n",
       "7             4.502489  \n",
       "8             4.316177  \n",
       "9             4.464073  \n",
       "10            4.306490  \n",
       "11            4.300930  \n",
       "12            5.097899  \n",
       "13            4.480217  \n",
       "14            4.687118  \n",
       "15            4.850133  \n",
       "16            4.358197  "
      ]
     },
     "execution_count": 130,
     "metadata": {},
     "output_type": "execute_result"
    }
   ],
   "source": [
    "# csv_input = pd.read_csv('ha_list.csv')\n",
    "# csv_input['log10 (M_BH / M_sun)'] = log_mbh\n",
    "# csv_input.to_csv('ha_list.csv', index=False)\n",
    "# ha_table_1 = pd.read_csv('ha_list.csv')\n",
    "ha_table_1"
   ]
  },
  {
   "cell_type": "markdown",
   "id": "unique-clerk",
   "metadata": {},
   "source": [
    "Carroll and Ostlie \n",
    "\n",
    "$$ M_{BH} = (1.66 \\pm 0.24) \\times 10^8 M_\\odot \\times \\Big(\\frac{\\sigma}{200 kms^{-1}}\\Big)^{4.86 \\pm 0.43} $$ "
   ]
  },
  {
   "cell_type": "code",
   "execution_count": 140,
   "id": "curious-promotion",
   "metadata": {},
   "outputs": [],
   "source": [
    "given_vdis = []\n",
    "for i in range(len(ha_list)):\n",
    "    given_vdis.append(DAP.loc[DAP['plateifu'] == ha_list[i][0]]['stellar_sigma_1re'][idx[i]])"
   ]
  },
  {
   "cell_type": "code",
   "execution_count": 145,
   "id": "tracked-swing",
   "metadata": {},
   "outputs": [],
   "source": [
    "# csv_input = pd.read_csv('ha_list.csv')\n",
    "# csv_input['Given vdis'] = given_vdis\n",
    "# csv_input.to_csv('ha_list.csv', index=False)\n",
    "ha_table_1 = pd.read_csv('ha_list.csv')\n",
    "# ha_table_1"
   ]
  },
  {
   "cell_type": "code",
   "execution_count": 153,
   "id": "cutting-provision",
   "metadata": {},
   "outputs": [
    {
     "data": {
      "text/plain": [
       "array([7.0537395 , 8.5797877 , 7.62754242, 7.61198115, 7.65368157,\n",
       "       6.85181845, 7.39895027, 7.23510772, 8.26493012, 7.41422735,\n",
       "       8.44951466, 7.96119917, 7.79098563, 7.38937027, 7.99447727,\n",
       "       9.47929719, 7.25724292])"
      ]
     },
     "execution_count": 153,
     "metadata": {},
     "output_type": "execute_result"
    }
   ],
   "source": [
    "a = 1.66 * 10**8\n",
    "b = 4.86\n",
    "M_BH_Carroll_Ostlie = np.log10(a * (np.array(given_vdis)/200)**b)\n",
    "M_BH_Carroll_Ostlie"
   ]
  },
  {
   "cell_type": "code",
   "execution_count": 159,
   "id": "consistent-ranking",
   "metadata": {},
   "outputs": [
    {
     "data": {
      "text/plain": [
       "<matplotlib.collections.PathCollection at 0x7fb3bb4413d0>"
      ]
     },
     "execution_count": 159,
     "metadata": {},
     "output_type": "execute_result"
    },
    {
     "data": {
      "image/png": "[encoded data removed]",
      "text/plain": [
       "<Figure size 576x576 with 1 Axes>"
      ]
     },
     "metadata": {
      "needs_background": "light"
     },
     "output_type": "display_data"
    }
   ],
   "source": [
    "plt.figure(figsize = (8,8))\n",
    "plt.grid()\n",
    "# plt.xlim(350,650)\n",
    "# plt.ylim(350,650)\n",
    "plt.xlabel('My M_BH')\n",
    "plt.ylabel('Carroll and Ostlie')\n",
    "plt.title('log(M_BH/M_sun)')\n",
    "plt.plot([3,10], [3,10], color = 'salmon')\n",
    "plt.scatter(ha_table_1['log10 M_BH / M_sun'], M_BH_Carroll_Ostlie, color = 'mediumseagreen')"
   ]
  },
  {
   "cell_type": "code",
   "execution_count": null,
   "id": "supported-letter",
   "metadata": {},
   "outputs": [],
   "source": []
  }
 ],
 "metadata": {
  "kernelspec": {
   "display_name": "Python 3",
   "language": "python",
   "name": "python3"
  },
  "language_info": {
   "codemirror_mode": {
    "name": "ipython",
    "version": 3
   },
   "file_extension": ".py",
   "mimetype": "text/x-python",
   "name": "python",
   "nbconvert_exporter": "python",
   "pygments_lexer": "ipython3",
   "version": "3.7.9"
  }
 },
 "nbformat": 4,
 "nbformat_minor": 5
}
