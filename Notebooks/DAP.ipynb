{
 "cells": [
  {
   "cell_type": "code",
   "execution_count": 1,
   "id": "bound-surfing",
   "metadata": {},
   "outputs": [],
   "source": [
    "import numpy as np\n",
    "import matplotlib.pyplot as plt\n",
    "from io import StringIO\n",
    "import pandas as pd"
   ]
  },
  {
   "cell_type": "code",
   "execution_count": 3,
   "id": "clinical-botswana",
   "metadata": {},
   "outputs": [],
   "source": [
    "df = pd.read_csv('/Users/natachaupra/Desktop/Snr_Prj/Snr-Prj/Data/DAP.csv', sep=',')"
   ]
  },
  {
   "cell_type": "code",
   "execution_count": 13,
   "id": "posted-oxide",
   "metadata": {},
   "outputs": [
    {
     "data": {
      "text/plain": [
       "(array([1]),)"
      ]
     },
     "execution_count": 13,
     "metadata": {},
     "output_type": "execute_result"
    }
   ],
   "source": [
    "np.where(df['mangaid'] == '1-113468')"
   ]
  },
  {
   "cell_type": "code",
   "execution_count": 17,
   "id": "familiar-circus",
   "metadata": {},
   "outputs": [
    {
     "data": {
      "text/plain": [
       "plate                             7815\n",
       "ifudesign                         3701\n",
       "plateifu                     7815-3701\n",
       "mangaid                       1-113468\n",
       "drpallindx                        5194\n",
       "                             ...      \n",
       "specindex_1re_dn4000           1.77188\n",
       "specindex_1re_tiocvd          1.274944\n",
       "sfr_1re                       0.087606\n",
       "sfr_tot                       0.335814\n",
       "htmID                   14095036955707\n",
       "Name: 1, Length: 620, dtype: object"
      ]
     },
     "execution_count": 17,
     "metadata": {},
     "output_type": "execute_result"
    }
   ],
   "source": [
    "df.loc[1]"
   ]
  },
  {
   "cell_type": "code",
   "execution_count": null,
   "id": "starting-consent",
   "metadata": {},
   "outputs": [],
   "source": []
  }
 ],
 "metadata": {
  "kernelspec": {
   "display_name": "Python 3",
   "language": "python",
   "name": "python3"
  },
  "language_info": {
   "codemirror_mode": {
    "name": "ipython",
    "version": 3
   },
   "file_extension": ".py",
   "mimetype": "text/x-python",
   "name": "python",
   "nbconvert_exporter": "python",
   "pygments_lexer": "ipython3",
   "version": "3.7.9"
  }
 },
 "nbformat": 4,
 "nbformat_minor": 5
}
