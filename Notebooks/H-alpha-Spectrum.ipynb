{
 "cells": [
  {
   "cell_type": "code",
   "execution_count": 7,
   "id": "extraordinary-casting",
   "metadata": {},
   "outputs": [],
   "source": [
    "from astropy.io import fits \n",
    "import math\n",
    "import matplotlib.pyplot as plt\n",
    "import numpy as np\n",
    "import scipy\n",
    "from scipy.optimize import curve_fit"
   ]
  },
  {
   "cell_type": "code",
   "execution_count": 8,
   "id": "adjusted-preserve",
   "metadata": {},
   "outputs": [],
   "source": [
    "data = fits.open(\"/Users/natachaupra/Downloads/manga-8312-12701-LOGCUBE.fits.gz\")"
   ]
  },
  {
   "cell_type": "code",
   "execution_count": 9,
   "id": "separate-danish",
   "metadata": {},
   "outputs": [],
   "source": [
    "wave = data['WAVE'].data"
   ]
  },
  {
   "cell_type": "code",
   "execution_count": 10,
   "id": "advised-cornell",
   "metadata": {},
   "outputs": [],
   "source": [
    "flux = np.transpose(data['FLUX'].data, axes=(2, 1, 0))"
   ]
  },
  {
   "cell_type": "code",
   "execution_count": 11,
   "id": "casual-somalia",
   "metadata": {},
   "outputs": [],
   "source": [
    "ivar = np.transpose(data[\"IVAR\"].data, axes=(2, 1, 0))"
   ]
  },
  {
   "cell_type": "markdown",
   "id": "mysterious-balloon",
   "metadata": {},
   "source": [
    "## Choose 1 wavelength at H$\\alpha$"
   ]
  },
  {
   "cell_type": "code",
   "execution_count": 12,
   "id": "excellent-emergency",
   "metadata": {},
   "outputs": [],
   "source": [
    "wave_index = np.where(wave <= 6563)"
   ]
  },
  {
   "cell_type": "code",
   "execution_count": 13,
   "id": "velvet-guatemala",
   "metadata": {},
   "outputs": [
    {
     "data": {
      "text/plain": [
       "(6562.9636672922, 2582)"
      ]
     },
     "execution_count": 13,
     "metadata": {},
     "output_type": "execute_result"
    }
   ],
   "source": [
    "# We'll go with this wavelength for now\n",
    "wave[wave_index[-1][-1]], wave_index[-1][-1]"
   ]
  },
  {
   "cell_type": "markdown",
   "id": "stretch-interstate",
   "metadata": {},
   "source": [
    "## Try to do the loop with just one wavelength first\n",
    "\n",
    "#### There must be a better idea than a double for loop I'm having rn =.="
   ]
  },
  {
   "cell_type": "code",
   "execution_count": 14,
   "id": "addressed-color",
   "metadata": {
    "scrolled": true
   },
   "outputs": [],
   "source": [
    "lst = []\n",
    "for i in range(76):\n",
    "    for j in range(76):\n",
    "\n",
    "        sigma = np.sqrt(1 / ivar[i][j][wave_index[-1][-1]]) if ivar[i][j][wave_index[-1][-1]] != 0 else 0.0\n",
    "#         print(sigma)\n",
    "#         print(sigma)\n",
    "#         print(ivar[i][j][wave_index[-1][-1]])\n",
    "\n",
    "        if flux[i][j][wave_index[-1][-1]] < sigma:\n",
    "#             print('1',flux[i][j][wave_index[-1][-1]], sigma)\n",
    "            lst.append(0)\n",
    "        else:\n",
    "#             print('0',flux[i][j][wave_index[-1][-1]],sigma)\n",
    "            lst.append(flux[i][j][wave_index[-1][-1]])\n",
    "lst = np.array(lst)\n",
    "res = lst.sum()"
   ]
  },
  {
   "cell_type": "code",
   "execution_count": 15,
   "id": "fresh-notice",
   "metadata": {},
   "outputs": [
    {
     "data": {
      "text/plain": [
       "144.46164772845805"
      ]
     },
     "execution_count": 15,
     "metadata": {},
     "output_type": "execute_result"
    }
   ],
   "source": [
    "# Apparently it's 0.0 for every wavelength I've tried. And I've tried quite a few wavelength already.\n",
    "\n",
    "# It's not now, I was just stupid and use np.append wrongly hehehe :)\n",
    "\n",
    "res"
   ]
  },
  {
   "cell_type": "markdown",
   "id": "convertible-japanese",
   "metadata": {},
   "source": [
    "## Trying to do loop with multiple wavelengths at once while I still can't figure out how to do just one wavelenth alone =.=\n",
    "\n",
    "I got it now =.= I was just being stupid hehe :)"
   ]
  },
  {
   "cell_type": "markdown",
   "id": "legislative-harbor",
   "metadata": {},
   "source": [
    "### Get the range of wavelengths first \n",
    "\n",
    "wavelength chosen from H$\\alpha$ region from the observed plot in the first notebook"
   ]
  },
  {
   "cell_type": "code",
   "execution_count": 16,
   "id": "accepted-craft",
   "metadata": {},
   "outputs": [],
   "source": [
    "wavelength_range = np.where((wave >= 6720) & (wave <= 6790))[0]"
   ]
  },
  {
   "cell_type": "code",
   "execution_count": 17,
   "id": "instant-ireland",
   "metadata": {},
   "outputs": [
    {
     "data": {
      "text/plain": [
       "array([2685, 2686, 2687, 2688, 2689, 2690, 2691, 2692, 2693, 2694, 2695,\n",
       "       2696, 2697, 2698, 2699, 2700, 2701, 2702, 2703, 2704, 2705, 2706,\n",
       "       2707, 2708, 2709, 2710, 2711, 2712, 2713, 2714, 2715, 2716, 2717,\n",
       "       2718, 2719, 2720, 2721, 2722, 2723, 2724, 2725, 2726, 2727, 2728,\n",
       "       2729])"
      ]
     },
     "execution_count": 17,
     "metadata": {},
     "output_type": "execute_result"
    }
   ],
   "source": [
    "wavelength_range"
   ]
  },
  {
   "cell_type": "code",
   "execution_count": 18,
   "id": "orange-submission",
   "metadata": {},
   "outputs": [],
   "source": [
    "flux_for_compare = []\n",
    "ivar_for_compare = []\n",
    "\n",
    "for i in wavelength_range:\n",
    "    flux_for_compare.append(flux[:,:,i].flatten())\n",
    "    ivar_for_compare.append(ivar[:,:,i].flatten())\n",
    "\n",
    "flux_for_compare = np.array(flux_for_compare)\n",
    "ivar_for_compare = np.array(ivar_for_compare)"
   ]
  },
  {
   "cell_type": "markdown",
   "id": "civil-business",
   "metadata": {},
   "source": [
    "## Now the loop!!!\n",
    "\n",
    "Hell yeah this is fun. I'm excited !!\n",
    "\n",
    "\n",
    "There is definitely a better way to do this than what I did down below, but yeah... \n",
    "(Take this for now. Let me at least get the idea of how to do this first)"
   ]
  },
  {
   "cell_type": "code",
   "execution_count": 19,
   "id": "dental-bachelor",
   "metadata": {},
   "outputs": [],
   "source": [
    "result = []\n",
    "sumres = []\n",
    "\n",
    "for i in range(len(wavelength_range)):\n",
    "    for j in range(5776):\n",
    "        sigma = np.sqrt(1 / ivar_for_compare[i][j]) if ivar_for_compare[i][j] != 0 else 0\n",
    "        \n",
    "        if flux_for_compare[i][j] < sigma:\n",
    "            result.append(0)\n",
    "        else:\n",
    "            result.append(flux_for_compare[i][j])\n",
    "    sumres.append(sum(result))\n",
    "    result = []\n"
   ]
  },
  {
   "cell_type": "code",
   "execution_count": 20,
   "id": "improved-leonard",
   "metadata": {},
   "outputs": [],
   "source": [
    "result_2sigma = []\n",
    "sumres_2sigma = []\n",
    "\n",
    "for i in range(len(wavelength_range)):\n",
    "    for j in range(5776):\n",
    "        sigma = np.sqrt(1 / ivar_for_compare[i][j]) if ivar_for_compare[i][j] != 0 else 0\n",
    "        \n",
    "        if flux_for_compare[i][j] < (2*sigma):\n",
    "            result_2sigma.append(0)\n",
    "        else:\n",
    "            result_2sigma.append(flux_for_compare[i][j])\n",
    "    sumres_2sigma.append(sum(result_2sigma))\n",
    "    result_2sigma = []"
   ]
  },
  {
   "cell_type": "code",
   "execution_count": 21,
   "id": "double-smith",
   "metadata": {},
   "outputs": [],
   "source": [
    "result_3sigma = []\n",
    "sumres_3sigma = []\n",
    "\n",
    "for i in range(len(wavelength_range)):\n",
    "    for j in range(5776):\n",
    "        sigma = np.sqrt(1 / ivar_for_compare[i][j]) if ivar_for_compare[i][j] != 0 else 0\n",
    "        \n",
    "        if flux_for_compare[i][j] < (3*sigma):\n",
    "            result_3sigma.append(0)\n",
    "        else:\n",
    "            result_3sigma.append(flux_for_compare[i][j])\n",
    "    sumres_3sigma.append(sum(result_3sigma))\n",
    "    result_3sigma = []"
   ]
  },
  {
   "cell_type": "code",
   "execution_count": 22,
   "id": "outdoor-absorption",
   "metadata": {},
   "outputs": [],
   "source": [
    "y = sumres\n",
    "y2 = sumres_2sigma\n",
    "y3 = sumres_3sigma\n",
    "x = [wave[i] for i in wavelength_range]"
   ]
  },
  {
   "cell_type": "code",
   "execution_count": 23,
   "id": "exciting-williams",
   "metadata": {},
   "outputs": [
    {
     "data": {
      "text/plain": [
       "<matplotlib.legend.Legend at 0x7f9921b52390>"
      ]
     },
     "execution_count": 23,
     "metadata": {},
     "output_type": "execute_result"
    },
    {
     "data": {
      "image/png": "[encoded data removed]",
      "text/plain": [
       "<Figure size 1008x720 with 1 Axes>"
      ]
     },
     "metadata": {
      "needs_background": "light"
     },
     "output_type": "display_data"
    }
   ],
   "source": [
    "plt.figure(figsize = (14,10))\n",
    "plt.grid()\n",
    "plt.plot(x, y, color = 'midnightblue', label = ' 1 sigma') \n",
    "plt.plot(x, y2, color = 'deeppink', label = '2 sigma')\n",
    "plt.plot(x, y3, color = 'limegreen', label = '3 sigma')\n",
    "plt.xlabel('observed wavelength')\n",
    "plt.ylabel('flux density')\n",
    "plt.legend()"
   ]
  },
  {
   "cell_type": "markdown",
   "id": "global-there",
   "metadata": {},
   "source": [
    "# Waittttt, the picture above is not different from the one in the first notebook loey na...\n",
    "\n",
    "#### Update :\n",
    "\n",
    "After doing it with 2sigma and 3sigma, the graph looks slightly different, as in it lowers (nothing unexpected), but the peak part is roughly the same, which again, not surprising."
   ]
  },
  {
   "cell_type": "markdown",
   "id": "promotional-oakland",
   "metadata": {},
   "source": [
    "## Trying the center of flux (?) method "
   ]
  },
  {
   "cell_type": "code",
   "execution_count": 24,
   "id": "political-persian",
   "metadata": {},
   "outputs": [],
   "source": [
    "thingy = np.array(flux[:,:,2708].flatten())"
   ]
  },
  {
   "cell_type": "code",
   "execution_count": 25,
   "id": "incident-webcam",
   "metadata": {},
   "outputs": [],
   "source": [
    "coord = [i for i in range(76)]*76"
   ]
  },
  {
   "cell_type": "code",
   "execution_count": 26,
   "id": "cosmetic-minneapolis",
   "metadata": {},
   "outputs": [],
   "source": [
    "x_coord = np.array([[i]*76 for i in range(76)]).flatten()\n",
    "y_coord = np.array([i for i in range(76)]*76)\n",
    "x = 0\n",
    "y = 0\n",
    "total_thingy = thingy.sum()"
   ]
  },
  {
   "cell_type": "code",
   "execution_count": 27,
   "id": "breeding-allowance",
   "metadata": {},
   "outputs": [],
   "source": [
    "for i in range(5776):\n",
    "    x += thingy[i]*x_coord[i]\n",
    "    y += thingy[i]*y_coord[i]"
   ]
  },
  {
   "cell_type": "code",
   "execution_count": 28,
   "id": "standing-deployment",
   "metadata": {},
   "outputs": [
    {
     "name": "stdout",
     "output_type": "stream",
     "text": [
      "(35.36015284552771, 37.2278245556943)\n"
     ]
    }
   ],
   "source": [
    "print((x/total_thingy, y/total_thingy))\n",
    "\n",
    "# It's actually kinda center na, given center is (35,35)\n",
    "# Hmmm...this method is amazing! Props to P'Guitar !!!!!!!! "
   ]
  },
  {
   "cell_type": "code",
   "execution_count": null,
   "id": "breathing-little",
   "metadata": {},
   "outputs": [],
   "source": []
  },
  {
   "cell_type": "code",
   "execution_count": null,
   "id": "mathematical-reggae",
   "metadata": {},
   "outputs": [],
   "source": []
  }
 ],
 "metadata": {
  "kernelspec": {
   "display_name": "Python 3",
   "language": "python",
   "name": "python3"
  },
  "language_info": {
   "codemirror_mode": {
    "name": "ipython",
    "version": 3
   },
   "file_extension": ".py",
   "mimetype": "text/x-python",
   "name": "python",
   "nbconvert_exporter": "python",
   "pygments_lexer": "ipython3",
   "version": "3.7.9"
  }
 },
 "nbformat": 4,
 "nbformat_minor": 5
}
