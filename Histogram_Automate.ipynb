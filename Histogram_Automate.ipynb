{
 "cells": [
  {
   "cell_type": "code",
   "execution_count": 1,
   "id": "collectible-merchant",
   "metadata": {},
   "outputs": [],
   "source": [
    "# Idea \n",
    "\n",
    "# Extract the 76*76 flux densities and flatten it to make 5776 array \n",
    "# Have 4563 of those array\n",
    "# Make bins list \n",
    "# Histogram each one of them to get 4563 plots (4563 set of x values and y values) - Full histogram\n",
    "#------------------------------------------------------------- Me dead here *sad*\n",
    "# Make gaussian function\n",
    "# Curve_fit all the 4563 histogram with the gaussian function - Still full histogram\n",
    "# Get the peak of the gaussian curve\n",
    "# Cut the histogram at that peak \n",
    "# Cut the x and the y dataset accordingly \n",
    "# Curve_fit and get the sigma "
   ]
  },
  {
   "cell_type": "code",
   "execution_count": 2,
   "id": "subject-metabolism",
   "metadata": {},
   "outputs": [],
   "source": [
    "from astropy.io import fits \n",
    "import math\n",
    "import matplotlib.pyplot as plt\n",
    "import numpy as np\n",
    "import scipy\n",
    "from scipy.optimize import curve_fit"
   ]
  },
  {
   "cell_type": "markdown",
   "id": "moving-lancaster",
   "metadata": {},
   "source": [
    "## Import data"
   ]
  },
  {
   "cell_type": "code",
   "execution_count": 3,
   "id": "graduate-machinery",
   "metadata": {},
   "outputs": [],
   "source": [
    "data = fits.open(\"/Users/natachaupra/Downloads/manga-8312-12701-LOGCUBE.fits.gz\")"
   ]
  },
  {
   "cell_type": "code",
   "execution_count": 4,
   "id": "married-capital",
   "metadata": {},
   "outputs": [],
   "source": [
    "wave = data['WAVE'].data"
   ]
  },
  {
   "cell_type": "code",
   "execution_count": 5,
   "id": "incredible-stability",
   "metadata": {},
   "outputs": [],
   "source": [
    "flux = np.transpose(data['FLUX'].data, axes=(2, 1, 0))"
   ]
  },
  {
   "cell_type": "code",
   "execution_count": 6,
   "id": "infinite-powell",
   "metadata": {},
   "outputs": [],
   "source": [
    "ivar = np.transpose(data[\"IVAR\"].data, axes=(2, 1, 0))"
   ]
  },
  {
   "cell_type": "markdown",
   "id": "graduate-knitting",
   "metadata": {},
   "source": [
    "### Get flux density and then flatten them out (Doing only 3 for now - let's see how it goes)"
   ]
  },
  {
   "cell_type": "code",
   "execution_count": 7,
   "id": "genetic-hebrew",
   "metadata": {},
   "outputs": [
    {
     "name": "stdout",
     "output_type": "stream",
     "text": [
      "3349 3347 3334 3336 3346 3350 3356 3359\n"
     ]
    }
   ],
   "source": [
    "first = np.array(flux[:,:,500]).flatten()\n",
    "second = np.array(flux[:,:,1000]).flatten()\n",
    "third = np.array(flux[:,:,1500]).flatten()\n",
    "fourth = np.array(flux[:,:,2000]).flatten()\n",
    "fifth = np.array(flux[:,:,2500]).flatten()\n",
    "sixth = np.array(flux[:,:,3000]).flatten()\n",
    "seventh = np.array(flux[:,:,3500]).flatten()\n",
    "eighth = np.array(flux[:,:,4000]).flatten()\n",
    "\n",
    "#delete zeros \n",
    "first = np.delete(first, np.where(first == 0.0))\n",
    "second = np.delete(second, np.where(second == 0.0))\n",
    "third = np.delete(third, np.where(third == 0.0))\n",
    "fourth = np.delete(fourth, np.where(fourth == 0.0))\n",
    "fifth = np.delete(fifth, np.where(fifth == 0.0))\n",
    "sixth = np.delete(sixth, np.where(sixth == 0.0))\n",
    "seventh = np.delete(seventh, np.where(seventh == 0.0))\n",
    "eighth = np.delete(eighth, np.where(eighth == 0.0))\n",
    "\n",
    "\n",
    "\n",
    "print(len(first),len(second),len(third),len(fourth),len(fifth),len(sixth),len(seventh),len(eighth))"
   ]
  },
  {
   "cell_type": "code",
   "execution_count": 8,
   "id": "sublime-charlotte",
   "metadata": {},
   "outputs": [],
   "source": [
    "flux_density = (first,second,third,fourth,fifth,sixth,seventh,eighth)\n",
    "# print(type(flux_density))\n",
    "# print(flux_density)\n",
    "# print(len(flux_density))\n",
    "flux_density = np.array(flux_density,dtype = 'object')"
   ]
  },
  {
   "cell_type": "markdown",
   "id": "unique-parking",
   "metadata": {},
   "source": [
    "# Process !!!!"
   ]
  },
  {
   "cell_type": "code",
   "execution_count": 9,
   "id": "familiar-ethernet",
   "metadata": {},
   "outputs": [],
   "source": [
    "# first I will have to histogram it (done)\n",
    "# then I will have to make the gaussian function (done)\n",
    "# then I will have to curve_fit the gaussian onto the full histogram (done)\n",
    "# next I will have to find the peak of the gaussian (done)\n",
    "# after that I will have to cut at said peak (done)\n",
    "# then I will have to curve_fit again at the new half histogram (done)\n",
    "# obtain the sigma value (done)"
   ]
  },
  {
   "cell_type": "markdown",
   "id": "aging-values",
   "metadata": {},
   "source": [
    "##### Note to self"
   ]
  },
  {
   "cell_type": "code",
   "execution_count": 10,
   "id": "painted-archives",
   "metadata": {},
   "outputs": [],
   "source": [
    "# can use for loop here, but use one for loop to complete the whole process until I get sigma "
   ]
  },
  {
   "cell_type": "markdown",
   "id": "handmade-hayes",
   "metadata": {},
   "source": [
    "### Make histogram function "
   ]
  },
  {
   "cell_type": "code",
   "execution_count": 11,
   "id": "illegal-lloyd",
   "metadata": {},
   "outputs": [],
   "source": [
    "def histogram(array, bins_lst):\n",
    "    y,x = np.histogram(array, bins = bins_lst)\n",
    "    return (y,x)\n",
    "# returns a tuple of (y,x)"
   ]
  },
  {
   "cell_type": "markdown",
   "id": "fantastic-ratio",
   "metadata": {},
   "source": [
    "### Make gaussian function"
   ]
  },
  {
   "cell_type": "code",
   "execution_count": 12,
   "id": "forbidden-bunch",
   "metadata": {},
   "outputs": [],
   "source": [
    "def gaussian(x, amp, mean, sigma):\n",
    "    return amp * np.exp(-(x-mean)**2 / (2*sigma**2))"
   ]
  },
  {
   "cell_type": "markdown",
   "id": "color-poverty",
   "metadata": {},
   "source": [
    "### Make gaussian with fixed mean and amplitude (use the mean and amplitude from the first curve_fit)\n",
    "\n",
    "#### Me, 2 days later : \"And what is the difference between this one and the previous one again ?\""
   ]
  },
  {
   "cell_type": "code",
   "execution_count": 13,
   "id": "controversial-passport",
   "metadata": {},
   "outputs": [],
   "source": [
    "def gaussian_fixed(x, amp, mean, sigma):\n",
    "    return amp * np.exp(-(x-mean)**2 / (2*sigma**2))"
   ]
  },
  {
   "cell_type": "markdown",
   "id": "interpreted-airplane",
   "metadata": {},
   "source": [
    "### Make bins_lst "
   ]
  },
  {
   "cell_type": "code",
   "execution_count": 14,
   "id": "moving-quest",
   "metadata": {},
   "outputs": [],
   "source": [
    "# counter = -0.04\n",
    "# bins_lst = [-0.04]\n",
    "# for i in range(3500):\n",
    "#     counter += 0.0003\n",
    "#     bins_lst.append(counter)\n",
    "\n",
    "\n",
    "bins_lst = np.arange(-0.04,1,0.0003)\n",
    "# bins_lst = np.arange(-0.04,0.1,0.0005)\n",
    "#use np.arange - one liner \n"
   ]
  },
  {
   "cell_type": "markdown",
   "id": "democratic-pharmacy",
   "metadata": {},
   "source": [
    "# Loop the thing "
   ]
  },
  {
   "cell_type": "code",
   "execution_count": 15,
   "id": "cubic-relation",
   "metadata": {
    "scrolled": false
   },
   "outputs": [
    {
     "name": "stdout",
     "output_type": "stream",
     "text": [
      "sigma with fixed mean and amplitude =  0.022961532752457416\n",
      "\n",
      "sigma with fixed mean and amplitude =  0.016954438334396443\n",
      "\n",
      "sigma with fixed mean and amplitude =  0.012958321924591808\n",
      "\n",
      "sigma with fixed mean and amplitude =  0.012039090677404008\n",
      "\n",
      "sigma with fixed mean and amplitude =  0.009663866104978673\n",
      "\n",
      "sigma with fixed mean and amplitude =  0.008858118587841565\n",
      "\n",
      "sigma with fixed mean and amplitude =  0.00794618444538643\n",
      "\n",
      "sigma with fixed mean and amplitude =  0.010187582672117824\n",
      "\n",
      "CPU times: user 25.1 s, sys: 5.45 s, total: 30.6 s\n",
      "Wall time: 23.1 s\n"
     ]
    },
    {
     "data": {
      "image/png": "[encoded data removed]",
      "text/plain": [
       "<Figure size 1080x360 with 2 Axes>"
      ]
     },
     "metadata": {
      "needs_background": "light"
     },
     "output_type": "display_data"
    },
    {
     "data": {
      "image/png": "[encoded data removed]",
      "text/plain": [
       "<Figure size 1080x360 with 2 Axes>"
      ]
     },
     "metadata": {
      "needs_background": "light"
     },
     "output_type": "display_data"
    },
    {
     "data": {
      "image/png": "[encoded data removed]",
      "text/plain": [
       "<Figure size 1080x360 with 2 Axes>"
      ]
     },
     "metadata": {
      "needs_background": "light"
     },
     "output_type": "display_data"
    },
    {
     "data": {
      "image/png": "[encoded data removed]",
      "text/plain": [
       "<Figure size 1080x360 with 2 Axes>"
      ]
     },
     "metadata": {
      "needs_background": "light"
     },
     "output_type": "display_data"
    },
    {
     "data": {
      "image/png": "[encoded data removed]",
      "text/plain": [
       "<Figure size 1080x360 with 2 Axes>"
      ]
     },
     "metadata": {
      "needs_background": "light"
     },
     "output_type": "display_data"
    },
    {
     "data": {
      "image/png": "[encoded data removed]",
      "text/plain": [
       "<Figure size 1080x360 with 2 Axes>"
      ]
     },
     "metadata": {
      "needs_background": "light"
     },
     "output_type": "display_data"
    },
    {
     "data": {
      "image/png": "[encoded data removed]",
      "text/plain": [
       "<Figure size 1080x360 with 2 Axes>"
      ]
     },
     "metadata": {
      "needs_background": "light"
     },
     "output_type": "display_data"
    },
    {
     "data": {
      "image/png": "[encoded data removed]",
      "text/plain": [
       "<Figure size 1080x360 with 2 Axes>"
      ]
     },
     "metadata": {
      "needs_background": "light"
     },
     "output_type": "display_data"
    }
   ],
   "source": [
    "%%time\n",
    "\n",
    "for i in flux_density:\n",
    "    \n",
    "    # Sort i for later use\n",
    "    \n",
    "    i = sorted(i) \n",
    "\n",
    "    # histogram on every wavelength in my flux_density array to get x, y data \n",
    "    # making a subplot\n",
    "    \n",
    "#     fig, ((ax1, ax2),(ax3,ax4),(ax5,ax6)) = plt.subplots(3,2,figsize = (15,15))\n",
    "    fig, (ax1,ax6) = plt.subplots(1,2, figsize = (15,5))\n",
    "    \n",
    "    ax1.hist(i, bins = bins_lst, color = 'indigo')\n",
    "    ax1.set_xlim(-0.05,0.2)\n",
    "    ax1.grid()\n",
    "    ax1.set_title('Whole histogram')\n",
    "    \n",
    "    yx = histogram(i, bins_lst)\n",
    "\n",
    "    y = yx[0]\n",
    "    x = yx[1]\n",
    "    \n",
    "    # Remove the right-most bin edge value\n",
    "    \n",
    "    x = np.delete(x, -1)\n",
    "    \n",
    "    # ------------------------------------------------------\n",
    "    \n",
    "    # gaussian fit the whole histogram\n",
    "    \n",
    "    popt, pcov = curve_fit(gaussian, x, y)\n",
    "    \n",
    "    # ------------------------------------------------------\n",
    "    \n",
    "    # mean would be the second element in popt ---> popt[1]\n",
    "    # this is where I will cut the histogram (by prolly slicing the array)\n",
    "    # cut the mean in the x data array \n",
    "    \n",
    "    amp = popt[0]\n",
    "    mean = popt[1] \n",
    "    \n",
    "    index = np.where(x > mean)\n",
    "    \n",
    "#     print(index,index[0],index[0][0])\n",
    "    # ------------------------------------------------------\n",
    "    \n",
    "    # cut the x and the y data to only half histogram\n",
    "    \n",
    "    x = x[:index[0][0]]\n",
    "    y = y[:index[0][0]]\n",
    "        \n",
    "    cut = np.where(i < mean)\n",
    "    \n",
    "    i = i[:cut[-1][-1]]\n",
    "    \n",
    "    # ------------------------------------------------------\n",
    "    \n",
    "    ax1.axvline(x = mean, color = 'gold')\n",
    "    \n",
    "    # Plot the cut histogram (ax2)\n",
    "    \n",
    "#     ax2.grid()\n",
    "#     ax2.hist(i, bins = bins_lst, color = 'palevioletred')\n",
    "#     ax2.axvline( x = mean, color = 'royalblue')\n",
    "#     ax2.set_xlim(-0.05, 0.02)\n",
    "#     ax2.set_title('Histogram after the cut')\n",
    "    \n",
    "    #-------------------------------------------------------\n",
    "    \n",
    "    # Curve_fit again to get the sigma values\n",
    "    \n",
    "#     popt1, pcov1 = curve_fit(gaussian, x, y)\n",
    "#     popt2, pcov2 = curve_fit(lambda x, amp, sigma: gaussian(x, amp, mean, sigma), x, y, p0 = [amp, 0.008])\n",
    "#     popt3, pcov3 = curve_fit(lambda x, mean, sigma: gaussian(x, amp, mean, sigma), x, y, p0 = [mean, 0.008])\n",
    "    popt4, pcov4 = curve_fit(lambda x, sigma: gaussian_fixed(x, amp, mean, sigma), x, y, p0 = [0.008])\n",
    "    \n",
    "    #-------------------------------------------------------\n",
    "    \n",
    "    # Plot the gaussian distribution\n",
    "    \n",
    "#     ax3.plot(x,gaussian(x, popt1[0], popt1[1], popt1[2]), color = 'black')\n",
    "#     ax3.hist(i, bins = bins_lst, color = 'palevioletred')\n",
    "#     ax3.grid()\n",
    "#     ax3.set_title('Fix nothing')\n",
    "#     ax3.axvline(x = mean, color = 'royalblue')\n",
    "#     ax3.set_xlim(-0.05, 0.02)\n",
    "\n",
    "    \n",
    "#     ax2.plot(i,gaussian(i, popt2[0], mean, popt2[1]), color = 'black')\n",
    "#     ax2.hist(i, bins = bins_lst, color = 'mediumaquamarine')\n",
    "#     ax2.grid()\n",
    "#     ax2.set_title('Fix mean only')\n",
    "#     ax2.axvline(x = mean, color = 'crimson')\n",
    "#     ax2.set_xlim(-0.05, 0.02)\n",
    "    \n",
    "#     ax5.plot(i,gaussian(i, amp, popt3[0], popt3[1]), color = 'black')\n",
    "#     ax5.hist(i, bins = bins_lst, color = 'palevioletred')\n",
    "#     ax5.grid()\n",
    "#     ax5.set_title('Fix amplitude only')\n",
    "#     ax5.axvline(x = mean, color = 'royalblue')\n",
    "#     ax5.set_xlim(-0.05, 0.02)\n",
    "    \n",
    "    ax6.plot(i,gaussian(i, amp, mean, popt4[0]), color = 'aqua', linewidth = 3)\n",
    "    ax6.hist(i, bins = bins_lst, color = 'indigo')\n",
    "    ax6.grid()\n",
    "    ax6.set_title('Fix mean and amplitude')\n",
    "    ax6.axvline(x = mean, color = 'gold')\n",
    "    ax6.set_xlim(-0.05, 0.02)\n",
    "        \n",
    "    #-------------------------------------------------------\n",
    "#     print('sigma = ', popt1[2])\n",
    "#     print('sigma with fixed mean only = ', popt2[-1])\n",
    "#     print('sigma with fixed amplitude only = ', popt3[-1])\n",
    "    print('sigma with fixed mean and amplitude = ', popt4[0])\n",
    "    print()"
   ]
  },
  {
   "cell_type": "markdown",
   "id": "instrumental-uniform",
   "metadata": {},
   "source": [
    "### The question is : the sigma I just found above is it the avg sigma of the whole wavelength ? Or what sigma is this ? \n",
    "\n",
    "I guess it is the avg sigma of the whole wavelength, given the method I did to obtain it, plus the IVAR value is very similar to this too.\n",
    "\n",
    "The reason the number ain't exact I guess it's because the peak where I cut the histogram. "
   ]
  },
  {
   "cell_type": "code",
   "execution_count": 16,
   "id": "published-dairy",
   "metadata": {},
   "outputs": [
    {
     "data": {
      "text/plain": [
       "(4063.4975290390294,\n",
       " 4559.319216592223,\n",
       " 5115.640300070042,\n",
       " 5739.842822249425,\n",
       " 6440.209571356517,\n",
       " 7226.033988634146,\n",
       " 8107.743486660741,\n",
       " 9097.037814779893)"
      ]
     },
     "execution_count": 16,
     "metadata": {},
     "output_type": "execute_result"
    }
   ],
   "source": [
    "wave[500],wave[1000],wave[1500],wave[2000],wave[2500],wave[3000],wave[3500],wave[4000]"
   ]
  },
  {
   "cell_type": "code",
   "execution_count": null,
   "id": "actual-folks",
   "metadata": {},
   "outputs": [],
   "source": []
  },
  {
   "cell_type": "markdown",
   "id": "associate-signal",
   "metadata": {},
   "source": [
    "## Checking the IVAR data "
   ]
  },
  {
   "cell_type": "code",
   "execution_count": 17,
   "id": "tight-demand",
   "metadata": {},
   "outputs": [],
   "source": [
    "first_ivar = np.array(ivar[:, :, 3000]).flatten()\n",
    "second_ivar = np.array(ivar[:,:,3001]).flatten()\n",
    "third_ivar = np.array(ivar[:,:,3002]).flatten()"
   ]
  },
  {
   "cell_type": "code",
   "execution_count": 18,
   "id": "inside-psychiatry",
   "metadata": {},
   "outputs": [],
   "source": [
    "iv = (first_ivar,second_ivar,third_ivar)\n",
    "iv = np.array(iv)"
   ]
  },
  {
   "cell_type": "code",
   "execution_count": 19,
   "id": "unsigned-spirituality",
   "metadata": {},
   "outputs": [],
   "source": [
    "ivar1 = np.sqrt(first_ivar)\n",
    "ivar2 = np.sqrt(second_ivar)\n",
    "ivar3 = np.sqrt(third_ivar)"
   ]
  },
  {
   "cell_type": "code",
   "execution_count": 20,
   "id": "corresponding-above",
   "metadata": {},
   "outputs": [],
   "source": [
    "ivar1 = np.sum(ivar1)\n",
    "ivar2 = np.sum(ivar2)\n",
    "ivar3 = np.sum(ivar3)"
   ]
  },
  {
   "cell_type": "code",
   "execution_count": 21,
   "id": "varying-hepatitis",
   "metadata": {},
   "outputs": [],
   "source": [
    "ivar1 = ivar1 / len(first_ivar)\n",
    "ivar2 = ivar2 / len(second_ivar)\n",
    "ivar3 = ivar3 / len(third_ivar)"
   ]
  },
  {
   "cell_type": "code",
   "execution_count": 22,
   "id": "finished-dollar",
   "metadata": {},
   "outputs": [
    {
     "data": {
      "text/plain": [
       "(0.01244221564496603, 0.012096115005237471, 0.01206497482949587)"
      ]
     },
     "execution_count": 22,
     "metadata": {},
     "output_type": "execute_result"
    }
   ],
   "source": [
    "ivar1 = 1/ivar1\n",
    "ivar2 = 1/ivar2\n",
    "ivar3 = 1/ivar3\n",
    "ivar1, ivar2, ivar3"
   ]
  },
  {
   "cell_type": "code",
   "execution_count": 23,
   "id": "exciting-reasoning",
   "metadata": {},
   "outputs": [
    {
     "name": "stdout",
     "output_type": "stream",
     "text": [
      "sigma (?) when divided by array with zero removed =  0.007214158621016488\n",
      "sigma (?) when divided by array without zero removed =  0.01244221564496603\n",
      "\n",
      "sigma (?) when divided by array with zero removed =  0.00701348496408246\n",
      "sigma (?) when divided by array without zero removed =  0.012096115005237471\n",
      "\n",
      "sigma (?) when divided by array with zero removed =  0.00699542948476137\n",
      "sigma (?) when divided by array without zero removed =  0.01206497482949587\n",
      "\n"
     ]
    }
   ],
   "source": [
    "for i in iv: \n",
    "    iv_ = np.sqrt(i)\n",
    "    iv_ = np.sum(iv_)\n",
    "    iv_1 = iv_ / len(first_ivar)\n",
    "    iv_ = iv_ / len(first)\n",
    "    iv_ = 1/iv_\n",
    "    iv_1 = 1/iv_1\n",
    "    print('sigma (?) when divided by array with zero removed = ', iv_)\n",
    "    print('sigma (?) when divided by array without zero removed = ', iv_1)\n",
    "    print()"
   ]
  },
  {
   "cell_type": "code",
   "execution_count": 24,
   "id": "liquid-landing",
   "metadata": {
    "scrolled": false
   },
   "outputs": [
    {
     "name": "stdout",
     "output_type": "stream",
     "text": [
      "2000 23874.238\n",
      "2001 19319.613\n",
      "2002 18916.715\n",
      "2003 22113.229\n",
      "2004 17397.844\n",
      "2005 19840.232\n",
      "2006 21807.203\n",
      "2007 16925.672\n",
      "2008 19495.807\n",
      "2009 22749.51\n",
      "2010 17979.549\n",
      "2011 19201.924\n",
      "2012 21790.82\n",
      "2013 15735.417\n",
      "2014 19183.996\n",
      "2015 23237.174\n",
      "2016 17247.97\n",
      "2017 18912.695\n",
      "2018 24741.701\n",
      "2019 21371.926\n",
      "2020 20801.332\n",
      "2021 25653.646\n",
      "2022 21053.041\n",
      "2023 22697.424\n",
      "2024 24862.094\n",
      "2025 20374.793\n",
      "2026 23060.332\n",
      "2027 25254.879\n",
      "2028 20508.422\n",
      "2029 23325.84\n",
      "2030 25006.717\n",
      "2031 21371.596\n",
      "2032 24575.75\n",
      "2033 25212.508\n",
      "2034 19294.266\n",
      "2035 20757.625\n",
      "2036 20775.219\n",
      "2037 17939.002\n",
      "2038 21550.32\n",
      "2039 20525.357\n",
      "2040 15354.682\n",
      "2041 14994.906\n",
      "2042 16742.207\n",
      "2043 10211.479\n",
      "2044 3042.3552\n",
      "2045 0.0\n",
      "2046 0.0\n",
      "2047 0.0\n",
      "2048 0.0\n",
      "2049 0.0\n",
      "2050 0.0\n",
      "2051 0.0\n",
      "2052 0.0\n",
      "2053 0.0\n",
      "2054 0.0\n",
      "2055 0.0\n",
      "2056 0.0\n",
      "2057 0.0\n",
      "2058 0.0\n",
      "2059 0.0\n",
      "2060 26728.957\n",
      "2061 22478.182\n",
      "2062 16923.184\n",
      "2063 22629.273\n",
      "2064 29218.176\n",
      "2065 24405.434\n",
      "2066 20953.775\n",
      "2067 29306.28\n",
      "2068 23305.79\n",
      "2069 22386.883\n",
      "2070 28641.412\n",
      "2071 20542.768\n",
      "2072 20091.77\n",
      "2073 26285.908\n",
      "2074 19661.19\n",
      "2075 18020.688\n",
      "2076 23030.936\n",
      "2077 16810.996\n",
      "2078 19315.865\n",
      "2079 22841.05\n",
      "2080 18211.746\n",
      "2081 18862.023\n",
      "2082 22447.762\n",
      "2083 15654.656\n",
      "2084 17601.285\n",
      "2085 20597.414\n",
      "2086 17734.22\n",
      "2087 19805.748\n",
      "2088 21020.18\n",
      "2089 17015.67\n",
      "2090 20324.816\n",
      "2091 23257.648\n",
      "2092 18395.943\n",
      "2093 20311.863\n",
      "2094 22774.494\n",
      "2095 21687.303\n",
      "2096 22958.41\n",
      "2097 24219.564\n",
      "2098 25265.824\n",
      "2099 26754.604\n",
      "2100 25258.729\n",
      "2101 24183.59\n",
      "2102 26939.607\n",
      "2103 26990.236\n",
      "2104 25585.0\n",
      "2105 27148.129\n",
      "2106 27051.703\n",
      "2107 27176.818\n",
      "2108 28781.078\n",
      "2109 26413.525\n",
      "2110 21631.889\n",
      "2111 22207.47\n",
      "2112 20815.033\n",
      "2113 18783.193\n",
      "2114 20429.035\n",
      "2115 21584.082\n",
      "2116 21383.71\n",
      "2117 16469.338\n",
      "2118 10231.654\n",
      "2119 6092.9956\n",
      "2120 6002.0703\n",
      "2121 0.0\n",
      "2122 0.0\n",
      "2123 0.0\n",
      "2124 0.0\n",
      "2125 0.0\n",
      "2126 0.0\n",
      "2127 0.0\n",
      "2128 0.0\n",
      "2129 0.0\n",
      "2130 0.0\n",
      "2131 0.0\n",
      "2132 0.0\n",
      "2133 0.0\n",
      "2134 0.0\n",
      "2135 8911.58\n",
      "2136 14182.095\n",
      "2137 17130.746\n",
      "2138 22401.635\n",
      "2139 28190.29\n",
      "2140 29897.723\n",
      "2141 28324.908\n",
      "2142 27488.57\n",
      "2143 29862.924\n",
      "2144 30158.543\n",
      "2145 29032.332\n",
      "2146 29933.969\n",
      "2147 28711.707\n",
      "2148 27556.793\n",
      "2149 26084.873\n",
      "2150 25390.523\n",
      "2151 23760.924\n",
      "2152 21970.531\n",
      "2153 22835.0\n",
      "2154 22817.518\n",
      "2155 21338.934\n",
      "2156 22852.506\n",
      "2157 22195.43\n",
      "2158 20251.107\n",
      "2159 20307.207\n",
      "2160 19300.336\n",
      "2161 18087.398\n",
      "2162 20985.922\n",
      "2163 20500.004\n",
      "2164 18014.88\n",
      "2165 22314.209\n",
      "2166 19896.479\n",
      "2167 18248.352\n",
      "2168 20379.354\n",
      "2169 19076.607\n",
      "2170 17672.13\n",
      "2171 23315.676\n",
      "2172 20138.324\n",
      "2173 18537.684\n",
      "2174 24541.91\n",
      "2175 23433.217\n",
      "2176 19129.916\n",
      "2177 25444.518\n",
      "2178 24025.86\n",
      "2179 20458.365\n",
      "2180 26503.434\n",
      "2181 21914.309\n",
      "2182 19268.168\n",
      "2183 26732.27\n",
      "2184 23673.303\n",
      "2185 19130.422\n",
      "2186 25532.29\n",
      "2187 18338.031\n",
      "2188 15082.312\n",
      "2189 18111.623\n",
      "2190 13813.493\n",
      "2191 17153.258\n",
      "2192 22646.564\n",
      "2193 14692.031\n",
      "2194 6679.304\n",
      "2195 6139.1567\n",
      "2196 6065.9053\n",
      "2197 0.0\n",
      "2198 0.0\n",
      "2199 0.0\n",
      "2200 0.0\n",
      "2201 0.0\n",
      "2202 0.0\n",
      "2203 0.0\n",
      "2204 0.0\n",
      "2205 0.0\n",
      "2206 0.0\n",
      "2207 0.0\n",
      "2208 0.0\n",
      "2209 0.0\n",
      "2210 0.0\n",
      "2211 8865.295\n",
      "2212 8940.652\n",
      "2213 11581.254\n",
      "2214 18857.69\n",
      "2215 25230.395\n",
      "2216 22658.363\n",
      "2217 23511.098\n",
      "2218 27522.732\n",
      "2219 21515.926\n",
      "2220 26928.547\n",
      "2221 28345.014\n",
      "2222 22347.53\n",
      "2223 27101.396\n",
      "2224 26489.182\n",
      "2225 20937.725\n",
      "2226 22697.455\n",
      "2227 20664.1\n",
      "2228 16576.695\n",
      "2229 19582.807\n",
      "2230 19077.912\n",
      "2231 17438.914\n",
      "2232 20110.12\n",
      "2233 18402.416\n",
      "2234 16296.728\n",
      "2235 19338.959\n",
      "2236 16351.385\n",
      "2237 14842.503\n",
      "2238 18734.041\n",
      "2239 16643.01\n",
      "2240 15278.798\n",
      "2241 19362.723\n",
      "2242 16887.223\n",
      "2243 15486.697\n",
      "2244 20431.67\n",
      "2245 17429.736\n",
      "2246 16099.506\n",
      "2247 22150.213\n",
      "2248 22175.77\n",
      "2249 17146.568\n",
      "2250 22402.783\n",
      "2251 22344.44\n",
      "2252 20294.66\n",
      "2253 26346.887\n",
      "2254 24243.75\n",
      "2255 21719.9\n",
      "2256 26840.596\n",
      "2257 22082.67\n",
      "2258 19884.775\n",
      "2259 26609.664\n",
      "2260 24298.568\n",
      "2261 22263.297\n",
      "2262 24567.719\n",
      "2263 20359.197\n",
      "2264 17384.143\n",
      "2265 18134.055\n",
      "2266 17471.445\n",
      "2267 18726.326\n",
      "2268 20672.697\n",
      "2269 16695.48\n",
      "2270 10196.853\n",
      "2271 6172.22\n",
      "2272 6118.145\n",
      "2273 0.0\n",
      "2274 0.0\n",
      "2275 0.0\n",
      "2276 0.0\n",
      "2277 0.0\n",
      "2278 0.0\n",
      "2279 0.0\n",
      "2280 0.0\n",
      "2281 0.0\n",
      "2282 0.0\n",
      "2283 0.0\n",
      "2284 0.0\n",
      "2285 0.0\n",
      "2286 0.0\n",
      "2287 8773.464\n",
      "2288 8878.312\n",
      "2289 8942.773\n",
      "2290 14124.033\n",
      "2291 19383.37\n",
      "2292 17354.72\n",
      "2293 22990.625\n",
      "2294 28932.484\n",
      "2295 22621.602\n",
      "2296 25734.607\n",
      "2297 28027.154\n",
      "2298 22684.398\n",
      "2299 25058.36\n",
      "2300 25318.252\n",
      "2301 21429.285\n",
      "2302 22608.896\n",
      "2303 22042.678\n",
      "2304 18940.488\n",
      "2305 22164.309\n",
      "2306 22300.102\n",
      "2307 18945.299\n",
      "2308 20515.281\n",
      "2309 20173.03\n",
      "2310 17332.236\n",
      "2311 19032.637\n",
      "2312 18446.684\n",
      "2313 17251.23\n",
      "2314 18001.18\n",
      "2315 18340.652\n",
      "2316 17170.146\n",
      "2317 18312.018\n",
      "2318 18846.834\n",
      "2319 18941.102\n",
      "2320 19959.793\n",
      "2321 20542.95\n",
      "2322 20528.88\n",
      "2323 22296.654\n",
      "2324 24222.828\n",
      "2325 23006.379\n",
      "2326 21266.781\n",
      "2327 23753.232\n",
      "2328 25628.271\n",
      "2329 23741.678\n",
      "2330 25002.55\n",
      "2331 27669.992\n",
      "2332 26400.76\n",
      "2333 26711.004\n",
      "2334 26892.422\n",
      "2335 23750.367\n",
      "2336 26861.805\n",
      "2337 28261.963\n",
      "2338 23228.28\n",
      "2339 23530.357\n",
      "2340 24417.508\n",
      "2341 19521.236\n",
      "2342 21129.555\n",
      "2343 20199.89\n",
      "2344 17238.357\n",
      "2345 16270.877\n",
      "2346 16537.031\n",
      "2347 8203.017\n",
      "2348 3042.3552\n",
      "2349 0.0\n",
      "2350 0.0\n",
      "2351 0.0\n",
      "2352 0.0\n",
      "2353 0.0\n",
      "2354 0.0\n",
      "2355 0.0\n",
      "2356 0.0\n",
      "2357 0.0\n",
      "2358 0.0\n",
      "2359 0.0\n",
      "2360 0.0\n",
      "2361 0.0\n",
      "2362 0.0\n",
      "2363 8635.77\n",
      "2364 8769.21\n",
      "2365 8866.601\n",
      "2366 13313.853\n",
      "2367 23038.385\n",
      "2368 21030.787\n",
      "2369 22465.613\n",
      "2370 25967.533\n",
      "2371 29094.979\n",
      "2372 27342.666\n",
      "2373 24908.547\n",
      "2374 25864.793\n",
      "2375 25989.814\n",
      "2376 24383.736\n",
      "2377 25609.205\n",
      "2378 22852.617\n",
      "2379 21112.525\n",
      "2380 24067.77\n",
      "2381 20915.596\n",
      "2382 20540.113\n",
      "2383 20066.059\n",
      "2384 16849.342\n",
      "2385 17229.326\n",
      "2386 18848.842\n",
      "2387 14407.306\n",
      "2388 15674.434\n",
      "2389 17423.139\n",
      "2390 14096.022\n",
      "2391 14027.132\n",
      "2392 16639.4\n",
      "2393 12801.4795\n",
      "2394 14937.395\n",
      "2395 18729.104\n",
      "2396 14716.607\n",
      "2397 16799.377\n",
      "2398 22199.4\n",
      "2399 17447.932\n",
      "2400 19014.191\n",
      "2401 23560.11\n",
      "2402 17659.045\n",
      "2403 18450.262\n",
      "2404 24875.117\n",
      "2405 18437.736\n",
      "2406 20846.275\n",
      "2407 27338.629\n",
      "2408 21051.766\n",
      "2409 22420.402\n",
      "2410 27073.18\n",
      "2411 21055.598\n",
      "2412 22046.018\n",
      "2413 26767.027\n",
      "2414 21474.408\n",
      "2415 21592.713\n",
      "2416 24228.266\n",
      "2417 21641.705\n",
      "2418 23950.781\n",
      "2419 22483.615\n",
      "2420 17447.787\n",
      "2421 15453.757\n",
      "2422 19413.324\n",
      "2423 11431.621\n",
      "2424 3254.1125\n",
      "2425 0.0\n",
      "2426 0.0\n",
      "2427 0.0\n",
      "2428 0.0\n",
      "2429 0.0\n",
      "2430 0.0\n",
      "2431 0.0\n",
      "2432 0.0\n",
      "2433 0.0\n",
      "2434 0.0\n",
      "2435 0.0\n",
      "2436 0.0\n",
      "2437 0.0\n",
      "2438 0.0\n",
      "2439 0.0\n",
      "2440 8613.918\n",
      "2441 8742.859\n",
      "2442 8832.275\n",
      "2443 26268.877\n",
      "2444 15217.244\n",
      "2445 12942.358\n",
      "2446 18744.855\n",
      "2447 26228.943\n",
      "2448 21704.51\n",
      "2449 19560.49\n",
      "2450 26292.61\n",
      "2451 21260.28\n",
      "2452 20931.84\n",
      "2453 25147.062\n",
      "2454 18424.754\n",
      "2455 18018.893\n",
      "2456 23116.703\n",
      "2457 17454.99\n",
      "2458 17436.865\n",
      "2459 21004.648\n",
      "2460 15456.059\n",
      "2461 15261.976\n",
      "2462 18909.754\n",
      "2463 13629.824\n",
      "2464 13355.597\n",
      "2465 17167.436\n",
      "2466 12795.789\n",
      "2467 13826.439\n",
      "2468 16634.35\n",
      "2469 12810.232\n",
      "2470 14905.103\n",
      "2471 18665.1\n",
      "2472 15405.101\n",
      "2473 16665.908\n",
      "2474 20352.898\n",
      "2475 19646.32\n",
      "2476 21101.1\n",
      "2477 22195.365\n",
      "2478 21656.377\n",
      "2479 23751.63\n",
      "2480 25124.67\n",
      "2481 22226.17\n",
      "2482 24255.541\n",
      "2483 24791.9\n",
      "2484 25086.436\n",
      "2485 27270.893\n",
      "2486 26949.982\n",
      "2487 25033.205\n",
      "2488 28299.066\n",
      "2489 29209.994\n",
      "2490 25766.746\n",
      "2491 25391.514\n",
      "2492 24282.9\n",
      "2493 26681.203\n",
      "2494 29002.377\n",
      "2495 27224.07\n",
      "2496 25842.791\n",
      "2497 19900.984\n",
      "2498 11785.973\n",
      "2499 6344.389\n"
     ]
    }
   ],
   "source": [
    "for i in range(2000,2500):\n",
    "    print(i, first_ivar[i])\n",
    "    \n",
    "# ivar at each spaxel at a random wavelength (index 3000 in this case) has different values "
   ]
  },
  {
   "cell_type": "code",
   "execution_count": null,
   "id": "later-extension",
   "metadata": {},
   "outputs": [],
   "source": []
  }
 ],
 "metadata": {
  "kernelspec": {
   "display_name": "Python 3",
   "language": "python",
   "name": "python3"
  },
  "language_info": {
   "codemirror_mode": {
    "name": "ipython",
    "version": 3
   },
   "file_extension": ".py",
   "mimetype": "text/x-python",
   "name": "python",
   "nbconvert_exporter": "python",
   "pygments_lexer": "ipython3",
   "version": "3.7.9"
  }
 },
 "nbformat": 4,
 "nbformat_minor": 5
}
