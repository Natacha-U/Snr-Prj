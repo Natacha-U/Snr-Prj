{
 "cells": [
  {
   "cell_type": "code",
   "execution_count": 1,
   "id": "material-return",
   "metadata": {},
   "outputs": [],
   "source": [
    "from astropy.io import fits \n",
    "import math\n",
    "import matplotlib.pyplot as plt\n",
    "import numpy as np\n",
    "import scipy\n",
    "from scipy.optimize import curve_fit"
   ]
  },
  {
   "cell_type": "code",
   "execution_count": 4,
   "id": "accompanied-bryan",
   "metadata": {},
   "outputs": [],
   "source": [
    "data = fits.open(\"/Users/natachaupra/Desktop/Project/Senior-Project/manga-8312-12701-LOGCUBE.fits.gz\")"
   ]
  },
  {
   "cell_type": "code",
   "execution_count": 5,
   "id": "offensive-entry",
   "metadata": {},
   "outputs": [],
   "source": [
    "drpall = fits.open('/Users/natachaupra/Desktop/Project/Senior-Project/drpall-v2_4_3.fits')"
   ]
  },
  {
   "cell_type": "code",
   "execution_count": 6,
   "id": "vertical-cambodia",
   "metadata": {},
   "outputs": [],
   "source": [
    "wave = data['WAVE'].data"
   ]
  },
  {
   "cell_type": "code",
   "execution_count": 7,
   "id": "acoustic-primary",
   "metadata": {},
   "outputs": [],
   "source": [
    "flux = np.transpose(data['FLUX'].data, axes=(2, 1, 0))"
   ]
  },
  {
   "cell_type": "code",
   "execution_count": 8,
   "id": "engaged-sunglasses",
   "metadata": {},
   "outputs": [],
   "source": [
    "ivar = np.transpose(data[\"IVAR\"].data, axes=(2, 1, 0))"
   ]
  },
  {
   "cell_type": "markdown",
   "id": "suffering-passenger",
   "metadata": {},
   "source": [
    "### Choose the wavelength at O[III]"
   ]
  },
  {
   "cell_type": "code",
   "execution_count": 9,
   "id": "rational-cornell",
   "metadata": {},
   "outputs": [],
   "source": [
    "wave_index = np.where(wave <= 5007)"
   ]
  },
  {
   "cell_type": "code",
   "execution_count": 10,
   "id": "religious-circle",
   "metadata": {},
   "outputs": [
    {
     "data": {
      "text/plain": [
       "(5006.10552528821, 1406)"
      ]
     },
     "execution_count": 10,
     "metadata": {},
     "output_type": "execute_result"
    }
   ],
   "source": [
    "# We'll go with this wavelength for now\n",
    "wave[wave_index[-1][-1]], wave_index[-1][-1]"
   ]
  },
  {
   "cell_type": "markdown",
   "id": "split-eight",
   "metadata": {},
   "source": [
    "## Try to do the loop with just one wavelength first\n",
    "\n",
    "#### There must be a better idea than a double for loop I'm having rn =.="
   ]
  },
  {
   "cell_type": "code",
   "execution_count": 11,
   "id": "modular-howard",
   "metadata": {},
   "outputs": [],
   "source": [
    "lst = []\n",
    "for i in range(76):\n",
    "    for j in range(76):\n",
    "\n",
    "        sigma = np.sqrt(1 / ivar[i][j][wave_index[-1][-1]]) if ivar[i][j][wave_index[-1][-1]] != 0 else 0.0\n",
    "#         print(sigma)\n",
    "#         print(sigma)\n",
    "#         print(ivar[i][j][wave_index[-1][-1]])\n",
    "\n",
    "        if flux[i][j][wave_index[-1][-1]] < sigma:\n",
    "#             print('1',flux[i][j][wave_index[-1][-1]], sigma)\n",
    "            lst.append(0)\n",
    "        else:\n",
    "#             print('0',flux[i][j][wave_index[-1][-1]],sigma)\n",
    "            lst.append(flux[i][j][wave_index[-1][-1]])\n",
    "lst = np.array(lst)\n",
    "res = lst.sum()"
   ]
  },
  {
   "cell_type": "markdown",
   "id": "veterinary-kelly",
   "metadata": {},
   "source": [
    "### Get the range of wavelengths first \n",
    "\n",
    "wavelength chosen from H$\\alpha$ region from the observed plot in the first notebook"
   ]
  },
  {
   "cell_type": "code",
   "execution_count": 12,
   "id": "brief-pitch",
   "metadata": {},
   "outputs": [],
   "source": [
    "wavelength_range = np.where((wave >= 4980) & (wave <= 5025))[0]"
   ]
  },
  {
   "cell_type": "code",
   "execution_count": 17,
   "id": "alternate-appliance",
   "metadata": {},
   "outputs": [
    {
     "data": {
      "text/plain": [
       "39"
      ]
     },
     "execution_count": 17,
     "metadata": {},
     "output_type": "execute_result"
    }
   ],
   "source": [
    "wavelength_range\n",
    "len(wavelength_range)"
   ]
  },
  {
   "cell_type": "code",
   "execution_count": 26,
   "id": "seven-failing",
   "metadata": {},
   "outputs": [],
   "source": [
    "flux_for_compare = []\n",
    "ivar_for_compare = []\n",
    "\n",
    "for i in wavelength_range:\n",
    "    flux_for_compare.append(flux[:,:,i].flatten())\n",
    "    ivar_for_compare.append(ivar[:,:,i].flatten())\n",
    "\n",
    "flux_for_compare = np.array(flux_for_compare)\n",
    "ivar_for_compare = np.array(ivar_for_compare)\n",
    "\n",
    "# flux_for_compare, ivar_for_compare"
   ]
  },
  {
   "cell_type": "markdown",
   "id": "hydraulic-football",
   "metadata": {},
   "source": [
    "## Now the loop!!!\n",
    "\n",
    "Hell yeah this is fun. I'm excited !!\n",
    "\n",
    "\n",
    "There is definitely a better way to do this than what I did down below, but yeah... \n",
    "(Take this for now. Let me at least get the idea of how to do this first)"
   ]
  },
  {
   "cell_type": "code",
   "execution_count": 27,
   "id": "impossible-mailman",
   "metadata": {},
   "outputs": [],
   "source": [
    "result = []\n",
    "sumres = []\n",
    "\n",
    "for i in range(len(wavelength_range)):\n",
    "    for j in range(5776):\n",
    "        sigma = np.sqrt(1 / ivar_for_compare[i][j]) if ivar_for_compare[i][j] != 0 else 0\n",
    "        \n",
    "        if flux_for_compare[i][j] < sigma:\n",
    "            result.append(0)\n",
    "        else:\n",
    "            result.append(flux_for_compare[i][j])\n",
    "    sumres.append(sum(result))\n",
    "    result = []\n"
   ]
  },
  {
   "cell_type": "code",
   "execution_count": 28,
   "id": "possible-vehicle",
   "metadata": {},
   "outputs": [],
   "source": [
    "result_2sigma = []\n",
    "sumres_2sigma = []\n",
    "\n",
    "for i in range(len(wavelength_range)):\n",
    "    for j in range(5776):\n",
    "        sigma = np.sqrt(1 / ivar_for_compare[i][j]) if ivar_for_compare[i][j] != 0 else 0\n",
    "        \n",
    "        if flux_for_compare[i][j] < (2*sigma):\n",
    "            result_2sigma.append(0)\n",
    "        else:\n",
    "            result_2sigma.append(flux_for_compare[i][j])\n",
    "    sumres_2sigma.append(sum(result_2sigma))\n",
    "    result_2sigma = []"
   ]
  },
  {
   "cell_type": "code",
   "execution_count": 29,
   "id": "protecting-european",
   "metadata": {},
   "outputs": [],
   "source": [
    "result_3sigma = []\n",
    "sumres_3sigma = []\n",
    "\n",
    "for i in range(len(wavelength_range)):\n",
    "    for j in range(5776):\n",
    "        sigma = np.sqrt(1 / ivar_for_compare[i][j]) if ivar_for_compare[i][j] != 0 else 0\n",
    "        \n",
    "        if flux_for_compare[i][j] < (3*sigma):\n",
    "            result_3sigma.append(0)\n",
    "        else:\n",
    "            result_3sigma.append(flux_for_compare[i][j])\n",
    "    sumres_3sigma.append(sum(result_3sigma))\n",
    "    result_3sigma = []"
   ]
  },
  {
   "cell_type": "code",
   "execution_count": 30,
   "id": "similar-billion",
   "metadata": {},
   "outputs": [],
   "source": [
    "y = sumres\n",
    "y2 = sumres_2sigma\n",
    "y3 = sumres_3sigma\n",
    "x = [wave[i] for i in wavelength_range]"
   ]
  },
  {
   "cell_type": "code",
   "execution_count": 31,
   "id": "right-somerset",
   "metadata": {},
   "outputs": [
    {
     "data": {
      "text/plain": [
       "<matplotlib.legend.Legend at 0x7fb44b9c11d0>"
      ]
     },
     "execution_count": 31,
     "metadata": {},
     "output_type": "execute_result"
    },
    {
     "data": {
      "image/png": "[encoded data removed]",
      "text/plain": [
       "<Figure size 1008x720 with 1 Axes>"
      ]
     },
     "metadata": {
      "needs_background": "light"
     },
     "output_type": "display_data"
    }
   ],
   "source": [
    "plt.figure(figsize = (14,10))\n",
    "plt.grid()\n",
    "plt.plot(x, y, color = 'midnightblue', label = ' 1 sigma') \n",
    "plt.plot(x, y2, color = 'deeppink', label = '2 sigma')\n",
    "plt.plot(x, y3, color = 'limegreen', label = '3 sigma')\n",
    "plt.xlabel('observed wavelength')\n",
    "plt.ylabel('flux density')\n",
    "plt.legend()"
   ]
  },
  {
   "cell_type": "code",
   "execution_count": 21,
   "id": "floral-complement",
   "metadata": {},
   "outputs": [
    {
     "data": {
      "text/plain": [
       "<matplotlib.legend.Legend at 0x7fd22a427150>"
      ]
     },
     "execution_count": 21,
     "metadata": {},
     "output_type": "execute_result"
    },
    {
     "data": {
      "image/png": "[encoded data removed]",
      "text/plain": [
       "<Figure size 1008x720 with 1 Axes>"
      ]
     },
     "metadata": {
      "needs_background": "light"
     },
     "output_type": "display_data"
    }
   ],
   "source": [
    "plt.figure(figsize = (14,10))\n",
    "plt.grid()\n",
    "plt.plot(x, y3, color = 'limegreen', label = '3 sigma')\n",
    "plt.axvline(x = 5000, linewidth = 2, color = 'blue')\n",
    "plt.axvline(x = 5010, linewidth = 2, color = 'blue')\n",
    "plt.legend()"
   ]
  },
  {
   "cell_type": "code",
   "execution_count": 22,
   "id": "flying-firewall",
   "metadata": {},
   "outputs": [],
   "source": [
    "x = np.array(x)\n",
    "sum_index = np.where(np.logical_and(x > 5000, x < 5011))"
   ]
  },
  {
   "cell_type": "code",
   "execution_count": 23,
   "id": "thrown-financing",
   "metadata": {},
   "outputs": [
    {
     "name": "stdout",
     "output_type": "stream",
     "text": [
      "1421.305369099602\n"
     ]
    }
   ],
   "source": [
    "y3 = np.array(y3)\n",
    "sum_y3 = np.sum(y3[sum_index])\n",
    "print(sum_y3)"
   ]
  },
  {
   "cell_type": "code",
   "execution_count": 24,
   "id": "chicken-federation",
   "metadata": {},
   "outputs": [],
   "source": [
    "tbdata = drpall[1].data"
   ]
  },
  {
   "cell_type": "code",
   "execution_count": 25,
   "id": "neither-aspect",
   "metadata": {},
   "outputs": [],
   "source": [
    "zindex = np.where(tbdata['mangaid'] == '1-210866')"
   ]
  },
  {
   "cell_type": "code",
   "execution_count": 26,
   "id": "lovely-netscape",
   "metadata": {},
   "outputs": [
    {
     "data": {
      "text/plain": [
       "0.0293829"
      ]
     },
     "execution_count": 26,
     "metadata": {},
     "output_type": "execute_result"
    }
   ],
   "source": [
    "redshift = tbdata['nsa_z'][41]\n",
    "redshift"
   ]
  },
  {
   "cell_type": "markdown",
   "id": "international-ending",
   "metadata": {},
   "source": [
    "<img src=\"Screenshots_/Distance_0.png\">"
   ]
  },
  {
   "cell_type": "markdown",
   "id": "fuzzy-gamma",
   "metadata": {},
   "source": [
    "$$ L = 4\\pi d^2 \\int^{\\lambda_2}_{\\lambda_1} f_\\lambda d\\lambda$$"
   ]
  },
  {
   "cell_type": "code",
   "execution_count": 27,
   "id": "affiliated-cookbook",
   "metadata": {},
   "outputs": [],
   "source": [
    "# LD = luminosity distance\n",
    "LD = 3.99595e26\n",
    "luminosity = 4*np.pi*(LD**2)*sum_y3*(1e-17)"
   ]
  },
  {
   "cell_type": "code",
   "execution_count": 28,
   "id": "agreed-association",
   "metadata": {},
   "outputs": [
    {
     "name": "stdout",
     "output_type": "stream",
     "text": [
      "2.8519200828707176e+40 erg/s\n"
     ]
    }
   ],
   "source": [
    "print(luminosity, 'erg/s')"
   ]
  },
  {
   "cell_type": "markdown",
   "id": "chicken-behavior",
   "metadata": {},
   "source": [
    "<img src=\"Screenshots_/TextFromThePaper.jpeg\">"
   ]
  },
  {
   "cell_type": "code",
   "execution_count": 29,
   "id": "abandoned-extraction",
   "metadata": {},
   "outputs": [
    {
     "name": "stdout",
     "output_type": "stream",
     "text": [
      "log(M_BH / M_sun) =  90.82411849490302\n",
      "M_BH / M_sun =  2.782361056459237e+39\n",
      "M_BH =  5.564722112918474e+69\n"
     ]
    }
   ],
   "source": [
    "# With lambda_edd = 1\n",
    "# This is M_BH / M_sun\n",
    "M_BH = (3200 * luminosity) / (1 * 3.28 * 10**4)\n",
    "print('log(M_BH / M_sun) = ', np.log(M_BH))\n",
    "print('M_BH / M_sun = ', M_BH)\n",
    "print('M_BH = ', M_BH*2*10**30)"
   ]
  },
  {
   "cell_type": "markdown",
   "id": "decimal-performer",
   "metadata": {},
   "source": [
    "#### I'm pretty sure something went wrong somewhere...it doesn't feel right\n",
    "\n",
    "#### I didn't check the object selection criteria of this paper very carefully, so I can't say that my answer is wrong just because the order of magnitude doesn't match/close with them"
   ]
  },
  {
   "cell_type": "code",
   "execution_count": 30,
   "id": "interpreted-soccer",
   "metadata": {},
   "outputs": [
    {
     "name": "stdout",
     "output_type": "stream",
     "text": [
      "log(M_BH / M_sun) =  13.491776778932927\n",
      "M_BH / M_sun =  723442.8123918973\n",
      "M_BH =  1.4468856247837946e+36\n"
     ]
    }
   ],
   "source": [
    "# Now what if I understood the text above wrong ? \n",
    "# Let's try again \n",
    "\n",
    "# Luminosity of the sun = 3.846 * 10**33\n",
    "SL = 3.846 * 10**33\n",
    "lumi = luminosity / SL\n",
    "M_BH_= (3200 * lumi) / (1 * 3.28 * 10**4)\n",
    "print('log(M_BH / M_sun) = ', np.log(M_BH_))\n",
    "print('M_BH / M_sun = ', M_BH_)\n",
    "print('M_BH = ', M_BH_*2*10**30)"
   ]
  },
  {
   "cell_type": "markdown",
   "id": "exciting-sussex",
   "metadata": {},
   "source": [
    "<img src=\"Screenshots_/TableData.jpeg\">"
   ]
  },
  {
   "cell_type": "code",
   "execution_count": 31,
   "id": "collaborative-family",
   "metadata": {},
   "outputs": [
    {
     "data": {
      "text/plain": [
       "1.4753910715072005"
      ]
     },
     "execution_count": 31,
     "metadata": {},
     "output_type": "execute_result"
    }
   ],
   "source": [
    "dLambda = (wave[-1] - wave[0])/len(wave)\n",
    "dLambda"
   ]
  },
  {
   "cell_type": "code",
   "execution_count": 32,
   "id": "interracial-machinery",
   "metadata": {},
   "outputs": [
    {
     "data": {
      "text/plain": [
       "(4562, 4562)"
      ]
     },
     "execution_count": 32,
     "metadata": {},
     "output_type": "execute_result"
    }
   ],
   "source": [
    "dlambda = np.array([])\n",
    "for i in range(len(wave)-1):\n",
    "    dlambda = np.append(dlambda, wave[i+1] - wave[i])\n",
    "waveindex = [i for i in range(1,4563)]\n",
    "len(dlambda), len(waveindex)"
   ]
  },
  {
   "cell_type": "code",
   "execution_count": 40,
   "id": "sunset-penguin",
   "metadata": {},
   "outputs": [
    {
     "data": {
      "text/plain": [
       "4562"
      ]
     },
     "execution_count": 40,
     "metadata": {},
     "output_type": "execute_result"
    }
   ],
   "source": []
  },
  {
   "cell_type": "code",
   "execution_count": 50,
   "id": "spatial-membership",
   "metadata": {},
   "outputs": [
    {
     "data": {
      "image/png": "[encoded data removed]",
      "text/plain": [
       "<Figure size 432x288 with 1 Axes>"
      ]
     },
     "metadata": {
      "needs_background": "light"
     },
     "output_type": "display_data"
    }
   ],
   "source": [
    "# plt.figure(figsize = (15,7))\n",
    "plt.grid()\n",
    "plt.title('Wavelength vs Difference between each wavelength')\n",
    "# plt.xlim(2000,2100)\n",
    "plt.xlabel('Wavelength (Ang)')\n",
    "plt.ylabel('Difference between each wavelength (Ang)')\n",
    "plt.scatter(wave[0:-1], dlambda, marker=\".\", color = 'lightsteelblue')\n",
    "# plt.scatter(waveindex, dlambda, marker =\".\")\n",
    "plt.savefig('Screenshots_/dlambda1.png')"
   ]
  },
  {
   "cell_type": "code",
   "execution_count": 34,
   "id": "analyzed-bridal",
   "metadata": {},
   "outputs": [
    {
     "data": {
      "text/plain": [
       "(array([1401, 1402, 1403, 1404, 1405, 1406, 1407, 1408, 1409, 1410]),)"
      ]
     },
     "execution_count": 34,
     "metadata": {},
     "output_type": "execute_result"
    }
   ],
   "source": [
    "sum_index_new = np.where(np.logical_and(wave > 5000, wave< 5011))\n",
    "sum_index_new"
   ]
  },
  {
   "cell_type": "code",
   "execution_count": 35,
   "id": "crude-carol",
   "metadata": {},
   "outputs": [
    {
     "name": "stdout",
     "output_type": "stream",
     "text": [
      "1638.3364034289273\n"
     ]
    }
   ],
   "source": [
    "sum_y3_with_dlambda = np.sum(y3[sum_index]*dlambda[sum_index_new])\n",
    "print(sum_y3_with_dlambda)"
   ]
  },
  {
   "cell_type": "code",
   "execution_count": 36,
   "id": "collectible-travel",
   "metadata": {},
   "outputs": [
    {
     "name": "stdout",
     "output_type": "stream",
     "text": [
      "3.287403673425304e+40 erg/s\n"
     ]
    },
    {
     "data": {
      "text/plain": [
       "2.8519200828707176e+40"
      ]
     },
     "execution_count": 36,
     "metadata": {},
     "output_type": "execute_result"
    }
   ],
   "source": [
    "# LD = luminosity distance\n",
    "LD = 3.99595e26\n",
    "luminosity_withdlambda = 4*np.pi*(LD**2)*sum_y3_with_dlambda*(1e-17)\n",
    "\n",
    "print(luminosity_withdlambda, 'erg/s')\n",
    "luminosity"
   ]
  },
  {
   "cell_type": "code",
   "execution_count": 37,
   "id": "prescription-leisure",
   "metadata": {},
   "outputs": [
    {
     "name": "stdout",
     "output_type": "stream",
     "text": [
      "M_BH / M_sun =  833911.3614208754 solar masses\n"
     ]
    },
    {
     "data": {
      "text/plain": [
       "723442.8123918973"
      ]
     },
     "execution_count": 37,
     "metadata": {},
     "output_type": "execute_result"
    }
   ],
   "source": [
    "# Now what if I understood the text above wrong ? \n",
    "# Let's try again \n",
    "\n",
    "# Luminosity of the sun = 3.846 * 10**33\n",
    "SL = 3.846 * 10**33\n",
    "lumi_withdlambda = luminosity_withdlambda / SL\n",
    "M_BH_withdlambda= (3200 * lumi_withdlambda) / (1 * 3.28 * 10**4)\n",
    "# print('log(M_BH / M_sun) = ', np.log(M_BH_withdlambda))\n",
    "print('M_BH / M_sun = ', M_BH_withdlambda, 'solar masses')\n",
    "# print('M_BH = ', M_BH_withdlambda*2*10**30)\n",
    "M_BH_"
   ]
  },
  {
   "cell_type": "code",
   "execution_count": 39,
   "id": "capital-action",
   "metadata": {},
   "outputs": [
    {
     "data": {
      "text/plain": [
       "(3621.5959848601933, 10353.805444147549)"
      ]
     },
     "execution_count": 39,
     "metadata": {},
     "output_type": "execute_result"
    }
   ],
   "source": [
    "wave[0], wave[-1]"
   ]
  },
  {
   "cell_type": "code",
   "execution_count": null,
   "id": "southern-duncan",
   "metadata": {},
   "outputs": [],
   "source": []
  }
 ],
 "metadata": {
  "kernelspec": {
   "display_name": "Python 3",
   "language": "python",
   "name": "python3"
  },
  "language_info": {
   "codemirror_mode": {
    "name": "ipython",
    "version": 3
   },
   "file_extension": ".py",
   "mimetype": "text/x-python",
   "name": "python",
   "nbconvert_exporter": "python",
   "pygments_lexer": "ipython3",
   "version": "3.7.9"
  }
 },
 "nbformat": 4,
 "nbformat_minor": 5
}
