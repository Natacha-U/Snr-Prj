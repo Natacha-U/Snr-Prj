{
 "cells": [
  {
   "cell_type": "code",
   "execution_count": 1,
   "id": "million-daisy",
   "metadata": {},
   "outputs": [],
   "source": [
    "import numpy as np\n",
    "import matplotlib.pyplot as plt\n",
    "from io import StringIO\n",
    "import pandas as pd"
   ]
  },
  {
   "cell_type": "code",
   "execution_count": 2,
   "id": "wrapped-arrest",
   "metadata": {},
   "outputs": [],
   "source": [
    "mangaid = ['1-156039', \n",
    "           '1-22948', \n",
    "           '1-258599',\n",
    "           '1-269632', \n",
    "           '1-284293', \n",
    "           '1-43214', \n",
    "           '1-574402', \n",
    "           '1-72322']"
   ]
  },
  {
   "cell_type": "code",
   "execution_count": 3,
   "id": "caroline-establishment",
   "metadata": {},
   "outputs": [],
   "source": [
    "# log(BHM / M_sol)\n",
    "# With the subtraction\n",
    "\n",
    "BHM = np.array([6.815562082509417,\n",
    "                6.71948883891525, \n",
    "                7.33128032916919, \n",
    "                6.839322249505392, \n",
    "                6.827554980631541, \n",
    "                7.681937925706926, \n",
    "                7.0965842507199905, \n",
    "                7.123886031520744])\n",
    "\n",
    "BHM_ub = np.array([6.882988679919784,\n",
    "                   6.8269667680669635,\n",
    "                   7.4345306610627935,\n",
    "                   7.001535501567974,\n",
    "                   6.9721968203332105,\n",
    "                   7.776998486988183,\n",
    "                   7.152161602269709,\n",
    "                   7.1647433217242265])\n",
    "\n",
    "BHM_lb = np.array([6.774740623806335,\n",
    "                   6.624029835721038,\n",
    "                   7.218649709251427,\n",
    "                   6.686113578192184,\n",
    "                   6.724212947960884,\n",
    "                   7.58675043978049,\n",
    "                   7.048771820893122,\n",
    "                   7.096588344779924])"
   ]
  },
  {
   "cell_type": "code",
   "execution_count": 4,
   "id": "mounted-title",
   "metadata": {},
   "outputs": [
    {
     "data": {
      "text/plain": [
       "[array([0.0674266 , 0.10747793, 0.10325033, 0.16221325, 0.14464184,\n",
       "        0.09506056, 0.05557735, 0.04085729]),\n",
       " array([0.04082146, 0.095459  , 0.11263062, 0.15320867, 0.10334203,\n",
       "        0.09518749, 0.04781243, 0.02729769])]"
      ]
     },
     "execution_count": 4,
     "metadata": {},
     "output_type": "execute_result"
    }
   ],
   "source": [
    "BHM_ub_diff = BHM_ub - BHM\n",
    "BHM_lb_diff = BHM - BHM_lb\n",
    "BHM_error = [BHM_ub_diff, BHM_lb_diff]\n",
    "BHM_error"
   ]
  },
  {
   "cell_type": "code",
   "execution_count": 5,
   "id": "inclusive-quest",
   "metadata": {},
   "outputs": [],
   "source": [
    "lum_bf_log = [2.5780731024004132e+41,\n",
    "              2.0664361189734796e+41,\n",
    "              8.453050712719442e+41,\n",
    "              2.7230486141546844e+41,\n",
    "              2.650257827861534e+41,\n",
    "              1.895269924657014e+42,\n",
    "              4.9239926502490926e+41,\n",
    "              5.2434746995154335e+41]\n",
    "\n",
    "lum_bf_log_ub = [3.0110767481436343e+41,\n",
    "                 2.6466707232804426e+41,\n",
    "                 1.0721703829894839e+42,\n",
    "                 3.956112625035119e+41,\n",
    "                 3.697685460585818e+41,\n",
    "                 2.35902005100795e+42,\n",
    "                 5.59621959171796e+41,\n",
    "                 5.7607160229934675e+41]\n",
    "\n",
    "lum_bf_log_lb = [2.346787515072984e+41,\n",
    "                 1.6586814244020647e+41,\n",
    "                 6.522030937178081e+41,\n",
    "                 1.9135804416437893e+41,\n",
    "                 2.08903681334351e+41,\n",
    "                 1.5222415959893917e+42,\n",
    "                 4.410674067288182e+41,\n",
    "                 4.924039068559433e+41]"
   ]
  },
  {
   "cell_type": "code",
   "execution_count": 6,
   "id": "directed-opposition",
   "metadata": {},
   "outputs": [],
   "source": [
    "lum = np.array([7.82628594790119,\n",
    "                7.730212704307023, \n",
    "                8.342004194560964, \n",
    "                7.850046114897165, \n",
    "                7.838278846023314,\n",
    "                8.692661791098699, \n",
    "                8.107308116111763, \n",
    "                8.134609896912517])\n",
    "\n",
    "lum_ub = np.array([7.893712545311557,\n",
    "                   7.837690633458736,\n",
    "                   8.445254526454567,\n",
    "                   8.012259366959748,\n",
    "                   7.9829206857249835,\n",
    "                   8.787722352379955,\n",
    "                   8.162885467661482,\n",
    "                   8.175467187116])\n",
    " \n",
    "lum_lb = np.array([7.785464489198108,\n",
    "                   7.634753701112811,\n",
    "                   8.2293735746432,\n",
    "                   7.696837443583957,\n",
    "                   7.734936813352657,\n",
    "                   8.597474305172263,\n",
    "                   8.059495686284894,\n",
    "                   8.107312210171697])"
   ]
  },
  {
   "cell_type": "code",
   "execution_count": 7,
   "id": "ordered-agreement",
   "metadata": {},
   "outputs": [
    {
     "data": {
      "text/plain": [
       "[array([0.0674266 , 0.10747793, 0.10325033, 0.16221325, 0.14464184,\n",
       "        0.09506056, 0.05557735, 0.04085729]),\n",
       " array([0.04082146, 0.095459  , 0.11263062, 0.15320867, 0.10334203,\n",
       "        0.09518749, 0.04781243, 0.02729769])]"
      ]
     },
     "execution_count": 7,
     "metadata": {},
     "output_type": "execute_result"
    }
   ],
   "source": [
    "lum_ub_diff = lum_ub - lum\n",
    "lum_lb_diff = lum - lum_lb\n",
    "lum_error = [lum_ub_diff, lum_lb_diff]\n",
    "lum_error"
   ]
  },
  {
   "cell_type": "code",
   "execution_count": 8,
   "id": "anticipated-excitement",
   "metadata": {},
   "outputs": [],
   "source": [
    "# for i in range(8):\n",
    "#     print(i)\n",
    "#     print(lum_error[1][i], BHM_error[1][i])\n",
    "#     print(lum_error[1][i] == BHM_error[1][i])"
   ]
  },
  {
   "cell_type": "code",
   "execution_count": 9,
   "id": "continuous-founder",
   "metadata": {},
   "outputs": [],
   "source": [
    "lum_dist = np.array([533.1,\n",
    "                     556.7,\n",
    "                     587.9,\n",
    "                     617.7,\n",
    "                     605.6,\n",
    "                     549.6,\n",
    "                     620.5,\n",
    "                     590.8])"
   ]
  },
  {
   "cell_type": "code",
   "execution_count": 10,
   "id": "norman-tsunami",
   "metadata": {},
   "outputs": [],
   "source": [
    "flux = np.array([758.1693569562042,\n",
    "                 557.2728773803908,\n",
    "                 2044.0660206541372,\n",
    "                 596.4699334581728,\n",
    "                 603.9552456592205,\n",
    "                 5244.039902714659,\n",
    "                 1068.8633578390657,\n",
    "                 1255.528479208609])"
   ]
  },
  {
   "cell_type": "code",
   "execution_count": 11,
   "id": "closing-corner",
   "metadata": {},
   "outputs": [],
   "source": [
    "flux_ub = np.array([885.5086846685033,\n",
    "                    713.74953036226,\n",
    "                    2592.6581097198673,\n",
    "                    866.5663264114205,\n",
    "                    842.6487820321281,\n",
    "                    6527.19442114737,\n",
    "                    1214.78533557637,\n",
    "                    1379.3797895449093])\n",
    "flux_ub_diff = flux_ub - flux"
   ]
  },
  {
   "cell_type": "code",
   "execution_count": 12,
   "id": "spoken-outdoors",
   "metadata": {},
   "outputs": [],
   "source": [
    "flux_lb = np.array([690.1520284894491,\n",
    "                    447.3103047062093,\n",
    "                    1577.1184010857412,\n",
    "                    419.1600519950521,\n",
    "                    476.06113206429995,\n",
    "                    4211.904366279141,\n",
    "                    957.4360135685508,\n",
    "                    1179.0409294591475])\n",
    "flux_lb_diff = flux - flux_lb"
   ]
  },
  {
   "cell_type": "code",
   "execution_count": 13,
   "id": "italic-resort",
   "metadata": {},
   "outputs": [
    {
     "data": {
      "text/plain": [
       "[array([  68.01732847,  109.96257267,  466.94761957,  177.30988146,\n",
       "         127.89411359, 1032.13553644,  111.42734427,   76.48754975]),\n",
       " array([ 127.33932771,  156.47665298,  548.59208907,  270.09639295,\n",
       "         238.69353637, 1283.15451843,  145.92197774,  123.85131034])]"
      ]
     },
     "execution_count": 13,
     "metadata": {},
     "output_type": "execute_result"
    }
   ],
   "source": [
    "asymmetric_error = [flux_lb_diff, flux_ub_diff]\n",
    "asymmetric_error"
   ]
  },
  {
   "cell_type": "code",
   "execution_count": 14,
   "id": "relevant-signature",
   "metadata": {},
   "outputs": [],
   "source": [
    "x_axis = np.arange(len(mangaid))"
   ]
  },
  {
   "cell_type": "markdown",
   "id": "treated-cartridge",
   "metadata": {},
   "source": [
    "### BH mass"
   ]
  },
  {
   "cell_type": "code",
   "execution_count": 15,
   "id": "remarkable-showcase",
   "metadata": {},
   "outputs": [],
   "source": [
    "# plt.figure(figsize = (15, 8))\n",
    "# plt.grid()\n",
    "# plt.xlabel('mangaid')\n",
    "# plt.ylabel('log(M_BH / M_sol)')\n",
    "# plt.bar(x_axis - 0.2, BHM, 0.4, color = 'deeppink', label = 'with subtraction')\n",
    "# plt.bar(x_axis + 0.2, BHM_without_subtract, 0.4, color = 'cyan', label = 'without subtraction')\n",
    "# plt.xticks(x_axis, mangaid)\n",
    "# plt.legend()\n",
    "# plt.title('BH MASS')\n",
    "# # plt.savefig('Images/bar_BHM.png', bbox_inches = 'tight')"
   ]
  },
  {
   "cell_type": "code",
   "execution_count": 16,
   "id": "alternative-reggae",
   "metadata": {},
   "outputs": [],
   "source": [
    "# plt.figure(figsize = (15,7))\n",
    "# plt.grid()\n",
    "# plt.ylim(0,8.5)\n",
    "# plt.scatter(mangaid, BHM, s = 100, color = 'tomato', marker = '*', label = 'with subtraction')\n",
    "# plt.scatter(mangaid, BHM_without_subtract, s = 130, color = 'limegreen', marker = '*', \n",
    "#             label = 'without subtraction')\n",
    "# plt.legend()\n",
    "# plt.xlabel('mangaid')\n",
    "# plt.ylabel('log(M_BH / M_sol)')\n",
    "# plt.title('BH MASS')\n",
    "# # plt.savefig('Images/scatter_BHM.png', bbox_inches = 'tight')"
   ]
  },
  {
   "cell_type": "markdown",
   "id": "qualified-celebration",
   "metadata": {},
   "source": [
    "### Luminosity"
   ]
  },
  {
   "cell_type": "code",
   "execution_count": 17,
   "id": "actual-specification",
   "metadata": {},
   "outputs": [],
   "source": [
    "# plt.figure(figsize = (15, 8))\n",
    "# plt.grid()\n",
    "# plt.xlabel('mangaid')\n",
    "# plt.ylabel('log(luminosity / sol_lum)')\n",
    "# plt.bar(x_axis - 0.2, lum, 0.4, color = 'yellow', label = 'with subtraction')\n",
    "# plt.bar(x_axis + 0.2, lum_without_subtract, 0.4, color = 'darkorchid', label = 'without subtraction')\n",
    "# plt.xticks(x_axis, mangaid)\n",
    "# plt.legend()\n",
    "# plt.title('Luminosity')\n",
    "# # plt.savefig('Images/bar_luminosity.png', bbox_inches = 'tight')"
   ]
  },
  {
   "cell_type": "code",
   "execution_count": 18,
   "id": "pharmaceutical-amplifier",
   "metadata": {},
   "outputs": [],
   "source": [
    "# plt.figure(figsize = (15,7))\n",
    "# plt.grid()\n",
    "# plt.ylim(0,10)\n",
    "# plt.scatter(mangaid, lum, s = 100, color = 'turquoise', marker = '*', label = 'with subtraction')\n",
    "# plt.scatter(mangaid, lum_without_subtract, s = 130, color = 'fuchsia', marker = '*', \n",
    "#             label = 'without subtraction')\n",
    "# plt.legend()\n",
    "# plt.xlabel('mangaid')\n",
    "# plt.ylabel('log(luminosity / sol_lum)')\n",
    "# plt.title('Luminosity')\n",
    "# # plt.savefig('Images/scatter_luminosity.png', bbox_inches = 'tight')"
   ]
  },
  {
   "cell_type": "markdown",
   "id": "prepared-discrimination",
   "metadata": {},
   "source": [
    "## Why...just why ? "
   ]
  },
  {
   "cell_type": "code",
   "execution_count": 19,
   "id": "loving-brave",
   "metadata": {},
   "outputs": [],
   "source": [
    "# plt.figure(figsize = (18,10))\n",
    "# plt.grid()\n",
    "# plt.xlabel('log [OIII] luminosity (in solar luminosity)')\n",
    "# plt.ylabel('log MBH (in solar mass)')\n",
    "# plt.scatter(lum, BHM, marker = 'o', color = 'dodgerblue')\n",
    "\n",
    "# a, b = np.polyfit(lum, BHM, 1)\n",
    "# plt.plot(lum, a*lum + b, linewidth = 0.5, color = 'salmon')\n",
    "\n",
    "# for i in range(len(mangaid)):\n",
    "#     plt.text(lum[i], BHM[i], '({})'.format(mangaid[i]))\n",
    "\n",
    "# # plt.savefig('Images/Expectations.png')"
   ]
  },
  {
   "cell_type": "markdown",
   "id": "gothic-ratio",
   "metadata": {},
   "source": [
    "## [OIII] lum from the file"
   ]
  },
  {
   "cell_type": "code",
   "execution_count": 20,
   "id": "hydraulic-luxembourg",
   "metadata": {},
   "outputs": [],
   "source": [
    "# convert txt to csv and make dataframe\n",
    "df = pd.read_csv('/Users/natachaupra/Desktop/Snr_Prj/Snr-Prj/DAP.csv', sep=',')"
   ]
  },
  {
   "cell_type": "code",
   "execution_count": 21,
   "id": "norman-combat",
   "metadata": {},
   "outputs": [],
   "source": [
    "df1 = df.copy()"
   ]
  },
  {
   "cell_type": "code",
   "execution_count": 22,
   "id": "obvious-helicopter",
   "metadata": {},
   "outputs": [],
   "source": [
    "pd.set_option(\"display.max_rows\", None)\n",
    "# df1"
   ]
  },
  {
   "cell_type": "code",
   "execution_count": 23,
   "id": "super-crack",
   "metadata": {},
   "outputs": [],
   "source": [
    "df2 = df1[['mangaid', 'dapdone','emline_sflux_cen_oiii_5008', 'emline_sflux_1re_oiii_5008', \n",
    "           'emline_sflux_tot_oiii_5008','emline_ssb_1re_oiii_5008', 'emline_ssb_peak_oiii_5008', \n",
    "           'emline_sew_1re_oiii_5008', 'emline_sflux_cen_oiii_5008', 'ldist_nsa_z', 'stellar_sigma_1re',\n",
    "           'ha_gsigma_1re']]"
   ]
  },
  {
   "cell_type": "code",
   "execution_count": 24,
   "id": "talented-douglas",
   "metadata": {},
   "outputs": [],
   "source": [
    "df4 = df1[['emline_gflux_cen_oiii_5008', 'emline_gflux_1re_oiii_5008', 'emline_gflux_tot_oiii_5008',\n",
    "          'emline_gsb_1re_oiii_5008', 'emline_gsb_peak_oiii_5008', 'emline_gew_1re_oiii_5008', \n",
    "          'emline_gew_peak_oiii_5008']]"
   ]
  },
  {
   "cell_type": "code",
   "execution_count": 25,
   "id": "enormous-wellington",
   "metadata": {},
   "outputs": [
    {
     "data": {
      "text/html": [
       "<div>\n",
       "<style scoped>\n",
       "    .dataframe tbody tr th:only-of-type {\n",
       "        vertical-align: middle;\n",
       "    }\n",
       "\n",
       "    .dataframe tbody tr th {\n",
       "        vertical-align: top;\n",
       "    }\n",
       "\n",
       "    .dataframe thead th {\n",
       "        text-align: right;\n",
       "    }\n",
       "</style>\n",
       "<table border=\"1\" class=\"dataframe\">\n",
       "  <thead>\n",
       "    <tr style=\"text-align: right;\">\n",
       "      <th></th>\n",
       "      <th>mangaid</th>\n",
       "      <th>dapdone</th>\n",
       "      <th>emline_sflux_cen_oiii_5008</th>\n",
       "      <th>emline_sflux_1re_oiii_5008</th>\n",
       "      <th>emline_sflux_tot_oiii_5008</th>\n",
       "      <th>emline_ssb_1re_oiii_5008</th>\n",
       "      <th>emline_ssb_peak_oiii_5008</th>\n",
       "      <th>emline_sew_1re_oiii_5008</th>\n",
       "      <th>emline_sflux_cen_oiii_5008</th>\n",
       "      <th>ldist_nsa_z</th>\n",
       "      <th>stellar_sigma_1re</th>\n",
       "      <th>ha_gsigma_1re</th>\n",
       "    </tr>\n",
       "  </thead>\n",
       "  <tbody>\n",
       "    <tr>\n",
       "      <th>68</th>\n",
       "      <td>1-156039</td>\n",
       "      <td>True</td>\n",
       "      <td>0.615939</td>\n",
       "      <td>1.220571</td>\n",
       "      <td>4.781555</td>\n",
       "      <td>0.01185</td>\n",
       "      <td>0.186177</td>\n",
       "      <td>0.03172</td>\n",
       "      <td>0.615939</td>\n",
       "      <td>373.1945</td>\n",
       "      <td>240.6849</td>\n",
       "      <td>450.6529</td>\n",
       "    </tr>\n",
       "  </tbody>\n",
       "</table>\n",
       "</div>"
      ],
      "text/plain": [
       "     mangaid  dapdone  emline_sflux_cen_oiii_5008  emline_sflux_1re_oiii_5008  \\\n",
       "68  1-156039     True                    0.615939                    1.220571   \n",
       "\n",
       "    emline_sflux_tot_oiii_5008  emline_ssb_1re_oiii_5008  \\\n",
       "68                    4.781555                   0.01185   \n",
       "\n",
       "    emline_ssb_peak_oiii_5008  emline_sew_1re_oiii_5008  \\\n",
       "68                   0.186177                   0.03172   \n",
       "\n",
       "    emline_sflux_cen_oiii_5008  ldist_nsa_z  stellar_sigma_1re  ha_gsigma_1re  \n",
       "68                    0.615939     373.1945           240.6849       450.6529  "
      ]
     },
     "execution_count": 25,
     "metadata": {},
     "output_type": "execute_result"
    }
   ],
   "source": [
    "df2.loc[df2['mangaid'] == mangaid[0]]"
   ]
  },
  {
   "cell_type": "code",
   "execution_count": 26,
   "id": "liked-charity",
   "metadata": {},
   "outputs": [
    {
     "data": {
      "text/html": [
       "<div>\n",
       "<style scoped>\n",
       "    .dataframe tbody tr th:only-of-type {\n",
       "        vertical-align: middle;\n",
       "    }\n",
       "\n",
       "    .dataframe tbody tr th {\n",
       "        vertical-align: top;\n",
       "    }\n",
       "\n",
       "    .dataframe thead th {\n",
       "        text-align: right;\n",
       "    }\n",
       "</style>\n",
       "<table border=\"1\" class=\"dataframe\">\n",
       "  <thead>\n",
       "    <tr style=\"text-align: right;\">\n",
       "      <th></th>\n",
       "      <th>mangaid</th>\n",
       "      <th>dapdone</th>\n",
       "      <th>emline_sflux_cen_oiii_5008</th>\n",
       "      <th>emline_sflux_1re_oiii_5008</th>\n",
       "      <th>emline_sflux_tot_oiii_5008</th>\n",
       "      <th>emline_ssb_1re_oiii_5008</th>\n",
       "      <th>emline_ssb_peak_oiii_5008</th>\n",
       "      <th>emline_sew_1re_oiii_5008</th>\n",
       "      <th>emline_sflux_cen_oiii_5008</th>\n",
       "      <th>ldist_nsa_z</th>\n",
       "      <th>stellar_sigma_1re</th>\n",
       "      <th>ha_gsigma_1re</th>\n",
       "    </tr>\n",
       "  </thead>\n",
       "  <tbody>\n",
       "    <tr>\n",
       "      <th>8</th>\n",
       "      <td>1-22948</td>\n",
       "      <td>True</td>\n",
       "      <td>421.8831</td>\n",
       "      <td>825.0736</td>\n",
       "      <td>880.6146</td>\n",
       "      <td>5.15671</td>\n",
       "      <td>26.3755</td>\n",
       "      <td>10.89063</td>\n",
       "      <td>421.8831</td>\n",
       "      <td>389.6841</td>\n",
       "      <td>135.54</td>\n",
       "      <td>215.1192</td>\n",
       "    </tr>\n",
       "  </tbody>\n",
       "</table>\n",
       "</div>"
      ],
      "text/plain": [
       "   mangaid  dapdone  emline_sflux_cen_oiii_5008  emline_sflux_1re_oiii_5008  \\\n",
       "8  1-22948     True                    421.8831                    825.0736   \n",
       "\n",
       "   emline_sflux_tot_oiii_5008  emline_ssb_1re_oiii_5008  \\\n",
       "8                    880.6146                   5.15671   \n",
       "\n",
       "   emline_ssb_peak_oiii_5008  emline_sew_1re_oiii_5008  \\\n",
       "8                    26.3755                  10.89063   \n",
       "\n",
       "   emline_sflux_cen_oiii_5008  ldist_nsa_z  stellar_sigma_1re  ha_gsigma_1re  \n",
       "8                    421.8831     389.6841             135.54       215.1192  "
      ]
     },
     "execution_count": 26,
     "metadata": {},
     "output_type": "execute_result"
    }
   ],
   "source": [
    "df2.loc[df2['mangaid'] == mangaid[1]]"
   ]
  },
  {
   "cell_type": "code",
   "execution_count": 27,
   "id": "wooden-consortium",
   "metadata": {},
   "outputs": [
    {
     "data": {
      "text/html": [
       "<div>\n",
       "<style scoped>\n",
       "    .dataframe tbody tr th:only-of-type {\n",
       "        vertical-align: middle;\n",
       "    }\n",
       "\n",
       "    .dataframe tbody tr th {\n",
       "        vertical-align: top;\n",
       "    }\n",
       "\n",
       "    .dataframe thead th {\n",
       "        text-align: right;\n",
       "    }\n",
       "</style>\n",
       "<table border=\"1\" class=\"dataframe\">\n",
       "  <thead>\n",
       "    <tr style=\"text-align: right;\">\n",
       "      <th></th>\n",
       "      <th>mangaid</th>\n",
       "      <th>dapdone</th>\n",
       "      <th>emline_sflux_cen_oiii_5008</th>\n",
       "      <th>emline_sflux_1re_oiii_5008</th>\n",
       "      <th>emline_sflux_tot_oiii_5008</th>\n",
       "      <th>emline_ssb_1re_oiii_5008</th>\n",
       "      <th>emline_ssb_peak_oiii_5008</th>\n",
       "      <th>emline_sew_1re_oiii_5008</th>\n",
       "      <th>emline_sflux_cen_oiii_5008</th>\n",
       "      <th>ldist_nsa_z</th>\n",
       "      <th>stellar_sigma_1re</th>\n",
       "      <th>ha_gsigma_1re</th>\n",
       "    </tr>\n",
       "  </thead>\n",
       "  <tbody>\n",
       "    <tr>\n",
       "      <th>84</th>\n",
       "      <td>1-258599</td>\n",
       "      <td>True</td>\n",
       "      <td>937.6492</td>\n",
       "      <td>2095.584</td>\n",
       "      <td>2586.609</td>\n",
       "      <td>18.38232</td>\n",
       "      <td>60.21983</td>\n",
       "      <td>36.82235</td>\n",
       "      <td>937.6492</td>\n",
       "      <td>411.5134</td>\n",
       "      <td>363.1804</td>\n",
       "      <td>153.1301</td>\n",
       "    </tr>\n",
       "  </tbody>\n",
       "</table>\n",
       "</div>"
      ],
      "text/plain": [
       "     mangaid  dapdone  emline_sflux_cen_oiii_5008  emline_sflux_1re_oiii_5008  \\\n",
       "84  1-258599     True                    937.6492                    2095.584   \n",
       "\n",
       "    emline_sflux_tot_oiii_5008  emline_ssb_1re_oiii_5008  \\\n",
       "84                    2586.609                  18.38232   \n",
       "\n",
       "    emline_ssb_peak_oiii_5008  emline_sew_1re_oiii_5008  \\\n",
       "84                   60.21983                  36.82235   \n",
       "\n",
       "    emline_sflux_cen_oiii_5008  ldist_nsa_z  stellar_sigma_1re  ha_gsigma_1re  \n",
       "84                    937.6492     411.5134           363.1804       153.1301  "
      ]
     },
     "execution_count": 27,
     "metadata": {},
     "output_type": "execute_result"
    }
   ],
   "source": [
    "df2.loc[df2['mangaid'] == mangaid[2]]"
   ]
  },
  {
   "cell_type": "code",
   "execution_count": 28,
   "id": "southwest-removal",
   "metadata": {},
   "outputs": [
    {
     "data": {
      "text/html": [
       "<div>\n",
       "<style scoped>\n",
       "    .dataframe tbody tr th:only-of-type {\n",
       "        vertical-align: middle;\n",
       "    }\n",
       "\n",
       "    .dataframe tbody tr th {\n",
       "        vertical-align: top;\n",
       "    }\n",
       "\n",
       "    .dataframe thead th {\n",
       "        text-align: right;\n",
       "    }\n",
       "</style>\n",
       "<table border=\"1\" class=\"dataframe\">\n",
       "  <thead>\n",
       "    <tr style=\"text-align: right;\">\n",
       "      <th></th>\n",
       "      <th>mangaid</th>\n",
       "      <th>dapdone</th>\n",
       "      <th>emline_sflux_cen_oiii_5008</th>\n",
       "      <th>emline_sflux_1re_oiii_5008</th>\n",
       "      <th>emline_sflux_tot_oiii_5008</th>\n",
       "      <th>emline_ssb_1re_oiii_5008</th>\n",
       "      <th>emline_ssb_peak_oiii_5008</th>\n",
       "      <th>emline_sew_1re_oiii_5008</th>\n",
       "      <th>emline_sflux_cen_oiii_5008</th>\n",
       "      <th>ldist_nsa_z</th>\n",
       "      <th>stellar_sigma_1re</th>\n",
       "      <th>ha_gsigma_1re</th>\n",
       "    </tr>\n",
       "  </thead>\n",
       "  <tbody>\n",
       "    <tr>\n",
       "      <th>165</th>\n",
       "      <td>1-269632</td>\n",
       "      <td>True</td>\n",
       "      <td>310.3747</td>\n",
       "      <td>677.6347</td>\n",
       "      <td>763.6225</td>\n",
       "      <td>5.019516</td>\n",
       "      <td>19.89272</td>\n",
       "      <td>7.764029</td>\n",
       "      <td>310.3747</td>\n",
       "      <td>432.3984</td>\n",
       "      <td>126.7388</td>\n",
       "      <td>118.8854</td>\n",
       "    </tr>\n",
       "  </tbody>\n",
       "</table>\n",
       "</div>"
      ],
      "text/plain": [
       "      mangaid  dapdone  emline_sflux_cen_oiii_5008  \\\n",
       "165  1-269632     True                    310.3747   \n",
       "\n",
       "     emline_sflux_1re_oiii_5008  emline_sflux_tot_oiii_5008  \\\n",
       "165                    677.6347                    763.6225   \n",
       "\n",
       "     emline_ssb_1re_oiii_5008  emline_ssb_peak_oiii_5008  \\\n",
       "165                  5.019516                   19.89272   \n",
       "\n",
       "     emline_sew_1re_oiii_5008  emline_sflux_cen_oiii_5008  ldist_nsa_z  \\\n",
       "165                  7.764029                    310.3747     432.3984   \n",
       "\n",
       "     stellar_sigma_1re  ha_gsigma_1re  \n",
       "165           126.7388       118.8854  "
      ]
     },
     "execution_count": 28,
     "metadata": {},
     "output_type": "execute_result"
    }
   ],
   "source": [
    "df2.loc[df2['mangaid'] == mangaid[3]]"
   ]
  },
  {
   "cell_type": "code",
   "execution_count": 29,
   "id": "moral-attitude",
   "metadata": {},
   "outputs": [
    {
     "data": {
      "text/html": [
       "<div>\n",
       "<style scoped>\n",
       "    .dataframe tbody tr th:only-of-type {\n",
       "        vertical-align: middle;\n",
       "    }\n",
       "\n",
       "    .dataframe tbody tr th {\n",
       "        vertical-align: top;\n",
       "    }\n",
       "\n",
       "    .dataframe thead th {\n",
       "        text-align: right;\n",
       "    }\n",
       "</style>\n",
       "<table border=\"1\" class=\"dataframe\">\n",
       "  <thead>\n",
       "    <tr style=\"text-align: right;\">\n",
       "      <th></th>\n",
       "      <th>mangaid</th>\n",
       "      <th>dapdone</th>\n",
       "      <th>emline_sflux_cen_oiii_5008</th>\n",
       "      <th>emline_sflux_1re_oiii_5008</th>\n",
       "      <th>emline_sflux_tot_oiii_5008</th>\n",
       "      <th>emline_ssb_1re_oiii_5008</th>\n",
       "      <th>emline_ssb_peak_oiii_5008</th>\n",
       "      <th>emline_sew_1re_oiii_5008</th>\n",
       "      <th>emline_sflux_cen_oiii_5008</th>\n",
       "      <th>ldist_nsa_z</th>\n",
       "      <th>stellar_sigma_1re</th>\n",
       "      <th>ha_gsigma_1re</th>\n",
       "    </tr>\n",
       "  </thead>\n",
       "  <tbody>\n",
       "    <tr>\n",
       "      <th>54</th>\n",
       "      <td>1-284293</td>\n",
       "      <td>True</td>\n",
       "      <td>240.2331</td>\n",
       "      <td>600.6941</td>\n",
       "      <td>749.2232</td>\n",
       "      <td>3.080482</td>\n",
       "      <td>15.07118</td>\n",
       "      <td>7.474648</td>\n",
       "      <td>240.2331</td>\n",
       "      <td>423.9317</td>\n",
       "      <td>176.9117</td>\n",
       "      <td>269.9844</td>\n",
       "    </tr>\n",
       "  </tbody>\n",
       "</table>\n",
       "</div>"
      ],
      "text/plain": [
       "     mangaid  dapdone  emline_sflux_cen_oiii_5008  emline_sflux_1re_oiii_5008  \\\n",
       "54  1-284293     True                    240.2331                    600.6941   \n",
       "\n",
       "    emline_sflux_tot_oiii_5008  emline_ssb_1re_oiii_5008  \\\n",
       "54                    749.2232                  3.080482   \n",
       "\n",
       "    emline_ssb_peak_oiii_5008  emline_sew_1re_oiii_5008  \\\n",
       "54                   15.07118                  7.474648   \n",
       "\n",
       "    emline_sflux_cen_oiii_5008  ldist_nsa_z  stellar_sigma_1re  ha_gsigma_1re  \n",
       "54                    240.2331     423.9317           176.9117       269.9844  "
      ]
     },
     "execution_count": 29,
     "metadata": {},
     "output_type": "execute_result"
    }
   ],
   "source": [
    "df2.loc[df2['mangaid'] == mangaid[4]]"
   ]
  },
  {
   "cell_type": "code",
   "execution_count": 30,
   "id": "muslim-mission",
   "metadata": {},
   "outputs": [
    {
     "data": {
      "text/html": [
       "<div>\n",
       "<style scoped>\n",
       "    .dataframe tbody tr th:only-of-type {\n",
       "        vertical-align: middle;\n",
       "    }\n",
       "\n",
       "    .dataframe tbody tr th {\n",
       "        vertical-align: top;\n",
       "    }\n",
       "\n",
       "    .dataframe thead th {\n",
       "        text-align: right;\n",
       "    }\n",
       "</style>\n",
       "<table border=\"1\" class=\"dataframe\">\n",
       "  <thead>\n",
       "    <tr style=\"text-align: right;\">\n",
       "      <th></th>\n",
       "      <th>mangaid</th>\n",
       "      <th>dapdone</th>\n",
       "      <th>emline_sflux_cen_oiii_5008</th>\n",
       "      <th>emline_sflux_1re_oiii_5008</th>\n",
       "      <th>emline_sflux_tot_oiii_5008</th>\n",
       "      <th>emline_ssb_1re_oiii_5008</th>\n",
       "      <th>emline_ssb_peak_oiii_5008</th>\n",
       "      <th>emline_sew_1re_oiii_5008</th>\n",
       "      <th>emline_sflux_cen_oiii_5008</th>\n",
       "      <th>ldist_nsa_z</th>\n",
       "      <th>stellar_sigma_1re</th>\n",
       "      <th>ha_gsigma_1re</th>\n",
       "    </tr>\n",
       "  </thead>\n",
       "  <tbody>\n",
       "    <tr>\n",
       "      <th>30</th>\n",
       "      <td>1-43214</td>\n",
       "      <td>True</td>\n",
       "      <td>2693.01</td>\n",
       "      <td>1352.847</td>\n",
       "      <td>6344.681</td>\n",
       "      <td>150.3164</td>\n",
       "      <td>166.1201</td>\n",
       "      <td>31.65118</td>\n",
       "      <td>2693.01</td>\n",
       "      <td>384.7559</td>\n",
       "      <td>-999.0</td>\n",
       "      <td>753.1595</td>\n",
       "    </tr>\n",
       "  </tbody>\n",
       "</table>\n",
       "</div>"
      ],
      "text/plain": [
       "    mangaid  dapdone  emline_sflux_cen_oiii_5008  emline_sflux_1re_oiii_5008  \\\n",
       "30  1-43214     True                     2693.01                    1352.847   \n",
       "\n",
       "    emline_sflux_tot_oiii_5008  emline_ssb_1re_oiii_5008  \\\n",
       "30                    6344.681                  150.3164   \n",
       "\n",
       "    emline_ssb_peak_oiii_5008  emline_sew_1re_oiii_5008  \\\n",
       "30                   166.1201                  31.65118   \n",
       "\n",
       "    emline_sflux_cen_oiii_5008  ldist_nsa_z  stellar_sigma_1re  ha_gsigma_1re  \n",
       "30                     2693.01     384.7559             -999.0       753.1595  "
      ]
     },
     "execution_count": 30,
     "metadata": {},
     "output_type": "execute_result"
    }
   ],
   "source": [
    "df2.loc[df2['mangaid'] == mangaid[5]]"
   ]
  },
  {
   "cell_type": "code",
   "execution_count": 31,
   "id": "chemical-verification",
   "metadata": {},
   "outputs": [
    {
     "data": {
      "text/html": [
       "<div>\n",
       "<style scoped>\n",
       "    .dataframe tbody tr th:only-of-type {\n",
       "        vertical-align: middle;\n",
       "    }\n",
       "\n",
       "    .dataframe tbody tr th {\n",
       "        vertical-align: top;\n",
       "    }\n",
       "\n",
       "    .dataframe thead th {\n",
       "        text-align: right;\n",
       "    }\n",
       "</style>\n",
       "<table border=\"1\" class=\"dataframe\">\n",
       "  <thead>\n",
       "    <tr style=\"text-align: right;\">\n",
       "      <th></th>\n",
       "      <th>mangaid</th>\n",
       "      <th>dapdone</th>\n",
       "      <th>emline_sflux_cen_oiii_5008</th>\n",
       "      <th>emline_sflux_1re_oiii_5008</th>\n",
       "      <th>emline_sflux_tot_oiii_5008</th>\n",
       "      <th>emline_ssb_1re_oiii_5008</th>\n",
       "      <th>emline_ssb_peak_oiii_5008</th>\n",
       "      <th>emline_sew_1re_oiii_5008</th>\n",
       "      <th>emline_sflux_cen_oiii_5008</th>\n",
       "      <th>ldist_nsa_z</th>\n",
       "      <th>stellar_sigma_1re</th>\n",
       "      <th>ha_gsigma_1re</th>\n",
       "    </tr>\n",
       "  </thead>\n",
       "  <tbody>\n",
       "    <tr>\n",
       "      <th>31</th>\n",
       "      <td>1-574402</td>\n",
       "      <td>True</td>\n",
       "      <td>354.5117</td>\n",
       "      <td>1017.098</td>\n",
       "      <td>1323.864</td>\n",
       "      <td>7.647352</td>\n",
       "      <td>21.11577</td>\n",
       "      <td>23.16815</td>\n",
       "      <td>354.5117</td>\n",
       "      <td>434.325</td>\n",
       "      <td>136.5246</td>\n",
       "      <td>152.2433</td>\n",
       "    </tr>\n",
       "  </tbody>\n",
       "</table>\n",
       "</div>"
      ],
      "text/plain": [
       "     mangaid  dapdone  emline_sflux_cen_oiii_5008  emline_sflux_1re_oiii_5008  \\\n",
       "31  1-574402     True                    354.5117                    1017.098   \n",
       "\n",
       "    emline_sflux_tot_oiii_5008  emline_ssb_1re_oiii_5008  \\\n",
       "31                    1323.864                  7.647352   \n",
       "\n",
       "    emline_ssb_peak_oiii_5008  emline_sew_1re_oiii_5008  \\\n",
       "31                   21.11577                  23.16815   \n",
       "\n",
       "    emline_sflux_cen_oiii_5008  ldist_nsa_z  stellar_sigma_1re  ha_gsigma_1re  \n",
       "31                    354.5117      434.325           136.5246       152.2433  "
      ]
     },
     "execution_count": 31,
     "metadata": {},
     "output_type": "execute_result"
    }
   ],
   "source": [
    "df2.loc[df2['mangaid'] == mangaid[6]]"
   ]
  },
  {
   "cell_type": "code",
   "execution_count": 32,
   "id": "about-conjunction",
   "metadata": {},
   "outputs": [
    {
     "data": {
      "text/html": [
       "<div>\n",
       "<style scoped>\n",
       "    .dataframe tbody tr th:only-of-type {\n",
       "        vertical-align: middle;\n",
       "    }\n",
       "\n",
       "    .dataframe tbody tr th {\n",
       "        vertical-align: top;\n",
       "    }\n",
       "\n",
       "    .dataframe thead th {\n",
       "        text-align: right;\n",
       "    }\n",
       "</style>\n",
       "<table border=\"1\" class=\"dataframe\">\n",
       "  <thead>\n",
       "    <tr style=\"text-align: right;\">\n",
       "      <th></th>\n",
       "      <th>mangaid</th>\n",
       "      <th>dapdone</th>\n",
       "      <th>emline_sflux_cen_oiii_5008</th>\n",
       "      <th>emline_sflux_1re_oiii_5008</th>\n",
       "      <th>emline_sflux_tot_oiii_5008</th>\n",
       "      <th>emline_ssb_1re_oiii_5008</th>\n",
       "      <th>emline_ssb_peak_oiii_5008</th>\n",
       "      <th>emline_sew_1re_oiii_5008</th>\n",
       "      <th>emline_sflux_cen_oiii_5008</th>\n",
       "      <th>ldist_nsa_z</th>\n",
       "      <th>stellar_sigma_1re</th>\n",
       "      <th>ha_gsigma_1re</th>\n",
       "    </tr>\n",
       "  </thead>\n",
       "  <tbody>\n",
       "    <tr>\n",
       "      <th>34</th>\n",
       "      <td>1-72322</td>\n",
       "      <td>True</td>\n",
       "      <td>395.5347</td>\n",
       "      <td>1364.73</td>\n",
       "      <td>1679.07</td>\n",
       "      <td>3.678516</td>\n",
       "      <td>24.70059</td>\n",
       "      <td>10.24312</td>\n",
       "      <td>395.5347</td>\n",
       "      <td>413.5903</td>\n",
       "      <td>222.9631</td>\n",
       "      <td>144.7777</td>\n",
       "    </tr>\n",
       "  </tbody>\n",
       "</table>\n",
       "</div>"
      ],
      "text/plain": [
       "    mangaid  dapdone  emline_sflux_cen_oiii_5008  emline_sflux_1re_oiii_5008  \\\n",
       "34  1-72322     True                    395.5347                     1364.73   \n",
       "\n",
       "    emline_sflux_tot_oiii_5008  emline_ssb_1re_oiii_5008  \\\n",
       "34                     1679.07                  3.678516   \n",
       "\n",
       "    emline_ssb_peak_oiii_5008  emline_sew_1re_oiii_5008  \\\n",
       "34                   24.70059                  10.24312   \n",
       "\n",
       "    emline_sflux_cen_oiii_5008  ldist_nsa_z  stellar_sigma_1re  ha_gsigma_1re  \n",
       "34                    395.5347     413.5903           222.9631       144.7777  "
      ]
     },
     "execution_count": 32,
     "metadata": {},
     "output_type": "execute_result"
    }
   ],
   "source": [
    "df2.loc[df2['mangaid'] == mangaid[7]]"
   ]
  },
  {
   "cell_type": "markdown",
   "id": "atmospheric-interview",
   "metadata": {},
   "source": [
    "1. **emline_sflux_cen_oiii_5008** = Summed emission-line flux integrated within a 2.5 arcsec aperture at the galaxy center. Measurements specifically for OIII_5008.\n",
    "\n",
    "\n",
    "2. **emline_sflux_1re_oiii_5008** = Summed emission-line flux integrated within 1 effective-radius aperture at the galaxy. Measurements specifically for OIII_5008.\n",
    "\n",
    "\n",
    "3. **emline_sflux_tot_oiii_5008** = Total integrated flux of each summed emission measurement within the full MaNGA field-of-view. Measurements specifically for OIII_5008.\n",
    "\n",
    "\n",
    "4. **emline_ssb_1re_oiii_5008** = Mean emission-line surface-brightness from the summed flux measurements within 1 R_{e}. Measurements specifically for OIII_5008.\n",
    "\n",
    "\n",
    "5. **emline_ssb_peak_oiii_5008** = Peak summed-flux emission-line surface brightness. Measurements specificallyfor OIII_5008.\n",
    "\n",
    "\n",
    "6. **emline_sew_1re_oiii_5008** = Mean emission-line equivalent width from the summed flux measurements within 1 R_{e}. Measurements specifically for OIII_5008.\n",
    "\n",
    "\n",
    "7. **emline_sew_peak_oiii_5008** = Peak emission-line equivalent width from the summed flux measurements. Measurements specifically for OIII_5008.\n",
    "\n",
    "\n",
    "8. **emline_gflux_cen_oiii_5008** = Gaussian-fitted emission-line flux integrated within a 2.5 arcsec aperture at the galaxy center. Measurements specifically for OIII_5008.\n",
    "\n",
    "\n",
    "9. **emline_gflux_1re_oiii_5008** = Gaussian-fitted emission-line flux integrated within 1 effective-radius aperture at the galaxy. Measurements specifically for OIII_5008.\n",
    "\n",
    "\n",
    "10. **emline_gflux_tot_oiii_5008** = Total integrated flux of the Gaussian fit to each emission line within the full MaNGA field-of-view. Measurements specifically for OIII_5008.\n",
    "\n",
    "\n",
    "11. **emline_gsb_1re_oiii_5008** = Mean emission-line surface-brightness from the Gaussian-fitted flux measurements within 1 R_{e}. Measurements specifically for OIII_5008.\n",
    "\n",
    "\n",
    "12. **emline_gsb_peak_oiii_5008** = Peak Gaussian-fitted emission-line surface brightness. Measurements specifically for OIII_5008.\n",
    "\n",
    "\n",
    "13. **emline_gew_1re_oiii_5008** = Mean emission-line equivalent width from the Gaussian-fitted flux measurements within 1 R_{e}. Measurements specifically for OIII_5008.\n",
    "\n",
    "\n",
    "14. **emline_gew_peak_oiii_5008** = Peak emission-line equivalent width from the Gaussian-fitted flux measurements. Measurements specifically for OIII_5008.\n",
    "\n",
    "\n",
    "15. **emline_sflux_cen_oiii_5008** = Summed emission-line flux integrated within a 2.5 arcsec aperture at the galaxy center. Measurements specifically for OIII_5008.\n",
    "\n",
    "\n",
    "16. **ldist_nsa_z** = Luminosity distance based on NSA_Z and a standard cosmology (h=1; +¬_{M}=0.3; +¬_{+¢}=0.7)\n",
    "\n",
    "\n",
    "17. **stellar_sigma_1re** = Flux-weighted mean stellar velocity dispersion of all spaxels within 1 R_{e}.\n",
    "\n",
    "\n",
    "18. **ha_gsigma_1re** = Flux-weighted H-alpha velocity dispersion (from Gaussian fit) of all spaxels within 1 R_{e}.\n"
   ]
  },
  {
   "cell_type": "code",
   "execution_count": 33,
   "id": "accessory-reaction",
   "metadata": {},
   "outputs": [],
   "source": [
    "index = [68, 8, 84, 165, 54, 30, 31, 34]"
   ]
  },
  {
   "cell_type": "code",
   "execution_count": 34,
   "id": "compact-grant",
   "metadata": {},
   "outputs": [],
   "source": [
    "df_ldist = df1[['ldist_nsa_z']]\n",
    "df_flux = df1[['emline_sflux_tot_oiii_5008']]\n",
    "df_vdis = df1[['stellar_sigma_1re']]\n",
    "df_ha_vdis = df1[['ha_gsigma_1re']]\n",
    "nsa_z = df1[['mangaid','nsa_z']]"
   ]
  },
  {
   "cell_type": "markdown",
   "id": "round-lithuania",
   "metadata": {},
   "source": [
    "## Luminosity Distance "
   ]
  },
  {
   "cell_type": "code",
   "execution_count": 35,
   "id": "noticed-oxide",
   "metadata": {},
   "outputs": [
    {
     "data": {
      "text/plain": [
       "array([373.1945, 389.6841, 411.5134, 432.3984, 423.9317, 384.7559,\n",
       "       434.325 , 413.5903])"
      ]
     },
     "execution_count": 35,
     "metadata": {},
     "output_type": "execute_result"
    }
   ],
   "source": [
    "file_lum_dist = np.array([df_ldist.loc[index[num]][0] for num in range(8)])\n",
    "file_lum_dist"
   ]
  },
  {
   "cell_type": "code",
   "execution_count": 36,
   "id": "balanced-bermuda",
   "metadata": {},
   "outputs": [
    {
     "name": "stdout",
     "output_type": "stream",
     "text": [
      "[1.42847764 1.42859306 1.42862906 1.42854368 1.428532   1.42843813\n",
      " 1.42865366 1.42846677]\n",
      "avg factor = 1.428541749716345\n"
     ]
    }
   ],
   "source": [
    "lum_dist_factor = lum_dist/file_lum_dist\n",
    "print(lum_dist_factor)\n",
    "avg = np.average(lum_dist_factor)\n",
    "print('avg factor =' , np.average(lum_dist_factor))\n",
    "\n",
    "# which is the value of the h thing. They use h = 1"
   ]
  },
  {
   "cell_type": "code",
   "execution_count": 37,
   "id": "mysterious-topic",
   "metadata": {},
   "outputs": [
    {
     "data": {
      "text/plain": [
       "[<matplotlib.lines.Line2D at 0x7fc7491d0f50>]"
      ]
     },
     "execution_count": 37,
     "metadata": {},
     "output_type": "execute_result"
    },
    {
     "data": {
      "image/png": "[encoded data removed]",
      "text/plain": [
       "<Figure size 576x576 with 1 Axes>"
      ]
     },
     "metadata": {
      "needs_background": "light"
     },
     "output_type": "display_data"
    }
   ],
   "source": [
    "plt.figure(figsize = (8,8))\n",
    "plt.grid()\n",
    "plt.xlim(350,650)\n",
    "plt.ylim(350,650)\n",
    "plt.xlabel('My Values of Luminosity Distance (Mpc)')\n",
    "plt.ylabel('Their Luminosity Distance (Mpc)')\n",
    "plt.title('Luminosity Distance')\n",
    "plt.scatter(lum_dist, file_lum_dist, marker = 'o', color = 'dodgerblue')\n",
    "\n",
    "# a, b = np.polyfit(lum_dist, file_lum_dist, 1)\n",
    "# plt.plot(lum_dist, a*lum_dist + b, linewidth = 1, color = 'salmon')\n",
    "\n",
    "plt.plot([300,700], [300,700], color = 'salmon')\n",
    "\n",
    "# for i in range(len(mangaid)):\n",
    "#     plt.text(lum_dist[i], file_lum_dist[i], '({})'.format(mangaid[i]))\n",
    "    \n",
    "# plt.savefig('Images/Lum_dist.png', bbox_inches = 'tight')"
   ]
  },
  {
   "cell_type": "markdown",
   "id": "corporate-economy",
   "metadata": {},
   "source": [
    "^ My values are greater than their values, but the graph shows a perfect straight line, so is it just a problem of a different factor of multiplication or sth ? \n",
    "\n",
    "Yes, it is. The factor of $h$"
   ]
  },
  {
   "cell_type": "markdown",
   "id": "developing-stock",
   "metadata": {},
   "source": [
    "## Flux"
   ]
  },
  {
   "cell_type": "code",
   "execution_count": 38,
   "id": "analyzed-identifier",
   "metadata": {},
   "outputs": [
    {
     "data": {
      "text/plain": [
       "array([4.781555e+00, 8.806146e+02, 2.586609e+03, 7.636225e+02,\n",
       "       7.492232e+02, 6.344681e+03, 1.323864e+03, 1.679070e+03])"
      ]
     },
     "execution_count": 38,
     "metadata": {},
     "output_type": "execute_result"
    }
   ],
   "source": [
    "file_flux = np.array([df_flux.loc[index[num]][0] for num in range(len(mangaid))])\n",
    "file_flux"
   ]
  },
  {
   "cell_type": "code",
   "execution_count": 39,
   "id": "interim-chicken",
   "metadata": {},
   "outputs": [
    {
     "name": "stdout",
     "output_type": "stream",
     "text": [
      "[158.56125402   0.63282266   0.79024933   0.78110576   0.80610857\n",
      "   0.82652538   0.80738154   0.74775231]\n"
     ]
    }
   ],
   "source": [
    "flux_factor = flux/file_flux\n",
    "print(flux_factor)"
   ]
  },
  {
   "cell_type": "code",
   "execution_count": 40,
   "id": "retained-orchestra",
   "metadata": {},
   "outputs": [],
   "source": [
    "# plt.figure(figsize = (15,10))\n",
    "# plt.grid()\n",
    "# plt.xlim(0, 7000)\n",
    "# plt.ylim(0, 7000)\n",
    "# plt.xlabel('My Values of Flux')\n",
    "# plt.ylabel('Their Flux - emline_sflux_tot_oiii_5008')\n",
    "# plt.title('Flux')\n",
    "# plt.scatter(flux, file_flux, marker = '+', color = 'firebrick', s = 50)\n",
    "\n",
    "# a, b = np.polyfit(flux, file_flux, 1)\n",
    "# plt.plot(flux, a*flux + b, linewidth = 0.7, color = 'lightseagreen')\n",
    "\n",
    "# # for i in range(len(mangaid)):\n",
    "# #     plt.text(flux[i], file_flux[i], '({})'.format(mangaid[i]))"
   ]
  },
  {
   "cell_type": "code",
   "execution_count": 41,
   "id": "hispanic-welsh",
   "metadata": {},
   "outputs": [
    {
     "data": {
      "text/plain": [
       "[<matplotlib.lines.Line2D at 0x7fc739ec4d90>]"
      ]
     },
     "execution_count": 41,
     "metadata": {},
     "output_type": "execute_result"
    },
    {
     "data": {
      "image/png": "[encoded data removed]",
      "text/plain": [
       "<Figure size 576x576 with 1 Axes>"
      ]
     },
     "metadata": {
      "needs_background": "light"
     },
     "output_type": "display_data"
    }
   ],
   "source": [
    "plt.figure(figsize = (8,8))\n",
    "plt.grid()\n",
    "plt.xlim(-100, 7000)\n",
    "plt.ylim(-100, 7000)\n",
    "plt.xlabel('My Values of Flux ' + '[erg s$^{-1}$ cm$^{-2}$]')\n",
    "plt.ylabel('Their Flux - emline_sflux_tot_oiii_5008 '  \n",
    "           + '[erg s$^{-1}$ cm$^{-2}$]')\n",
    "plt.title('Flux')\n",
    "plt.errorbar(flux, file_flux, xerr = asymmetric_error, fmt = '.', color = 'tomato', ms = 10, capsize = 5)\n",
    "\n",
    "plt.plot([-100,7000], [-100,7000], color = 'royalblue')\n",
    "\n",
    "# plt.show()\n",
    "\n",
    "# a, b = np.polyfit(flux, file_flux, 1)\n",
    "# plt.plot(flux, a*flux + b, linewidth = 0.7, color = 'lightseagreen')\n",
    "\n",
    "# for i in range(len(mangaid)):\n",
    "#     plt.text(flux[i], file_flux[i], '({})'.format(mangaid[i]))\n",
    "\n",
    "# plt.savefig('Images/Flux_result.png', bbox_inches = 'tight')"
   ]
  },
  {
   "cell_type": "code",
   "execution_count": 42,
   "id": "competent-antique",
   "metadata": {},
   "outputs": [
    {
     "data": {
      "text/plain": [
       "<matplotlib.legend.Legend at 0x7fc7286e7fd0>"
      ]
     },
     "execution_count": 42,
     "metadata": {},
     "output_type": "execute_result"
    },
    {
     "data": {
      "image/png": "[encoded data removed]",
      "text/plain": [
       "<Figure size 1080x720 with 1 Axes>"
      ]
     },
     "metadata": {
      "needs_background": "light"
     },
     "output_type": "display_data"
    }
   ],
   "source": [
    "plt.figure(figsize = (15,10))\n",
    "plt.grid()\n",
    "plt.ylim(0, 7000)\n",
    "plt.ylabel('Flux')\n",
    "plt.title('Flux - mine vs theirs')\n",
    "plt.xlabel('MaNGA ID')\n",
    "# plt.scatter(x_axis - 0.2, flux, s = 12, color = 'deeppink', label = 'Mine')\n",
    "plt.errorbar(x_axis, flux, yerr = asymmetric_error, fmt = '.', color = 'deeppink', ms = 10, capsize = 5, \n",
    "             label = 'Mine', linewidth = 0.8)\n",
    "plt.scatter(x_axis, file_flux, color = 'limegreen', label = 'Theirs')\n",
    "plt.xticks(x_axis, mangaid)\n",
    "plt.legend()"
   ]
  },
  {
   "cell_type": "markdown",
   "id": "checked-therapist",
   "metadata": {},
   "source": [
    "## Luminosity\n",
    "\n",
    "Calculate their luminosity with my luminosity distance and their flux"
   ]
  },
  {
   "cell_type": "code",
   "execution_count": 43,
   "id": "dominant-island",
   "metadata": {},
   "outputs": [],
   "source": [
    "def Mpc_to_cm(Mpc):\n",
    "    return Mpc * 3.08568*(10**24)\n",
    "def luminosity_calc(my_luminosity_distance, theirFlux):\n",
    "    return 4 * np.pi * (my_luminosity_distance**2) * theirFlux * (1e-17)"
   ]
  },
  {
   "cell_type": "code",
   "execution_count": 44,
   "id": "inappropriate-trademark",
   "metadata": {},
   "outputs": [
    {
     "name": "stdout",
     "output_type": "stream",
     "text": [
      "533.1 4.781555 1.644976008e+27\n",
      "556.7 880.6146 1.717798056e+27\n",
      "587.9 2586.609 1.814071272e+27\n",
      "617.7 763.6225 1.906024536e+27\n",
      "605.6 749.2232 1.868687808e+27\n",
      "549.6 6344.681 1.695889728e+27\n",
      "620.5 1323.864 1.91466444e+27\n",
      "590.8 1679.07 1.823019744e+27\n"
     ]
    }
   ],
   "source": [
    "oiiilum = np.array([])\n",
    "for i in range(len(lum_dist)):\n",
    "    ld = Mpc_to_cm(lum_dist[i])\n",
    "    print(lum_dist[i], file_flux[i] ,ld)\n",
    "#     print(ld)\n",
    "    oiiilum = np.append(oiiilum, luminosity_calc(ld, file_flux[i]) \n",
    "                        / (3.846 * 10**33))"
   ]
  },
  {
   "cell_type": "code",
   "execution_count": 45,
   "id": "stock-hunger",
   "metadata": {},
   "outputs": [],
   "source": [
    "oiiilum_log = np.log10(oiiilum)"
   ]
  },
  {
   "cell_type": "code",
   "execution_count": 46,
   "id": "unique-start",
   "metadata": {},
   "outputs": [
    {
     "data": {
      "text/plain": [
       "array([5.62608888, 7.92893068, 8.44424006, 7.95733627, 7.93188531,\n",
       "       8.77540559, 8.2002293 , 8.26085213])"
      ]
     },
     "execution_count": 46,
     "metadata": {},
     "output_type": "execute_result"
    }
   ],
   "source": [
    "oiiilum_log"
   ]
  },
  {
   "cell_type": "code",
   "execution_count": 47,
   "id": "institutional-being",
   "metadata": {},
   "outputs": [
    {
     "data": {
      "text/plain": [
       "Text(0.5, 1.0, 'M_BH vs [OIII] Luminosity')"
      ]
     },
     "execution_count": 47,
     "metadata": {},
     "output_type": "execute_result"
    },
    {
     "data": {
      "image/png": "[encoded data removed]",
      "text/plain": [
       "<Figure size 576x576 with 1 Axes>"
      ]
     },
     "metadata": {
      "needs_background": "light"
     },
     "output_type": "display_data"
    }
   ],
   "source": [
    "plt.figure(figsize = (8,8))\n",
    "plt.grid()\n",
    "plt.xlim(0,10)\n",
    "plt.ylim(0,10)\n",
    "plt.scatter(BHM, oiiilum_log, color = 'plum')\n",
    "plt.plot([0,10],[0,10], color = 'lightsteelblue', linewidth = 1.2)\n",
    "plt.xlabel('log (BH Mass / Solar Mass)')\n",
    "plt.ylabel('log ([OIII] Luminosity / Solar Luminosity)')\n",
    "plt.title('M_BH vs [OIII] Luminosity')\n",
    "\n",
    "# plt.savefig('Images/BHMvsLum.png', bbox_inches = 'tight')"
   ]
  },
  {
   "cell_type": "code",
   "execution_count": 48,
   "id": "incoming-hotel",
   "metadata": {},
   "outputs": [
    {
     "name": "stdout",
     "output_type": "stream",
     "text": [
      "[0.82547687 1.17999016 1.15180974 1.16346854 1.16174609 1.14234268\n",
      " 1.15551778 1.15959914]\n"
     ]
    }
   ],
   "source": [
    "print(oiiilum_log/BHM)"
   ]
  },
  {
   "cell_type": "markdown",
   "id": "preliminary-aging",
   "metadata": {},
   "source": [
    "## Velocity Dispersion"
   ]
  },
  {
   "cell_type": "markdown",
   "id": "published-flight",
   "metadata": {},
   "source": [
    "<img src = 'Images/veldis_derivation.jpeg' style = \"width:600pt\"/>"
   ]
  },
  {
   "cell_type": "code",
   "execution_count": 77,
   "id": "european-inquiry",
   "metadata": {},
   "outputs": [],
   "source": [
    "file_vdis = np.array([df_vdis.loc[index[num]][0] for num in range(len(mangaid))])\n",
    "file_vdis = np.log10(np.abs(file_vdis)/200)"
   ]
  },
  {
   "cell_type": "code",
   "execution_count": 78,
   "id": "immune-auditor",
   "metadata": {},
   "outputs": [
    {
     "data": {
      "text/plain": [
       "(7, 7)"
      ]
     },
     "execution_count": 78,
     "metadata": {},
     "output_type": "execute_result"
    }
   ],
   "source": [
    "file_vdis_copy = np.delete(file_vdis, 5)\n",
    "# file_vdis_copy = np.log10(file_vdis_copy)\n",
    "bhm_copy = np.delete(BHM, 5)\n",
    "mangaid_copy = np.delete(mangaid, 5)\n",
    "len(file_vdis_copy), len(bhm_copy)"
   ]
  },
  {
   "cell_type": "code",
   "execution_count": 85,
   "id": "suffering-dover",
   "metadata": {},
   "outputs": [
    {
     "name": "stdout",
     "output_type": "stream",
     "text": [
      "0.8452225464471461 6.988895408008821\n",
      "c 8.220108088040055\n",
      "m 4.86\n"
     ]
    },
    {
     "data": {
      "text/plain": [
       "[<matplotlib.lines.Line2D at 0x7fc73bb748d0>]"
      ]
     },
     "execution_count": 85,
     "metadata": {},
     "output_type": "execute_result"
    },
    {
     "data": {
      "image/png": "[encoded data removed]",
      "text/plain": [
       "<Figure size 576x576 with 1 Axes>"
      ]
     },
     "metadata": {
      "needs_background": "light"
     },
     "output_type": "display_data"
    }
   ],
   "source": [
    "plt.figure(figsize = (8,8))\n",
    "plt.grid()\n",
    "plt.xlabel('Their Velocity Dispersion [kms$^{-1}$] - log(sigma/200)')\n",
    "plt.ylabel('log (M_BH / M_sun)')\n",
    "plt.title('BHM - Velocity Dispersion')\n",
    "plt.scatter(file_vdis_copy, bhm_copy,  marker = 'o', color = 'mediumblue')\n",
    "\n",
    "# plt.plot([0,8], [0,8], color = 'gold', linewidth = 2)\n",
    "# plt.xlim(1,4)\n",
    "# plt.ylim(6,8)\n",
    "\n",
    "a, b = np.polyfit(file_vdis_copy, bhm_copy,1)\n",
    "plt.plot(file_vdis_copy, a*file_vdis_copy + b, linewidth = 0.7, color = 'gold')\n",
    "print(a, b)\n",
    "\n",
    "m = 4.86\n",
    "c = np.log10(1.66*(10**8))\n",
    "c2 = np.log10((1.66+0.24)*(10**8))\n",
    "c3 = np.log10((1.66-0.24)*(10**8))\n",
    "print('c', c)\n",
    "print('m', m)\n",
    "\n",
    "y = m*file_vdis_copy + c\n",
    "# y2 = (m+0.43)*file_vdis_copy + c\n",
    "# y3 = (m-0.43)*file_vdis_copy + c\n",
    "# y4 = m*file_vdis_copy + c2\n",
    "# y5 = m*file_vdis_copy + c3\n",
    "\n",
    "plt.plot(file_vdis_copy, y)\n",
    "# plt.scatter(0, c)\n",
    "# plt.plot(file_vdis_copy, y2)\n",
    "# plt.plot(file_vdis_copy, y3)\n",
    "# plt.plot(file_vdis_copy, y4)\n",
    "# plt.plot(file_vdis_copy, y5)\n",
    "\n",
    "# for i in range(len(mangaid_copy)):\n",
    "#     plt.text(bhm_copy[i], file_vdis_copy[i], '({})'.format(mangaid[i]))\n",
    "\n",
    "# plt.savefig('Images/BHM_vdis.png', bbox_inches = 'tight')"
   ]
  },
  {
   "cell_type": "markdown",
   "id": "civilian-franchise",
   "metadata": {},
   "source": [
    "## H$\\alpha$ velocity dispersion"
   ]
  },
  {
   "cell_type": "code",
   "execution_count": 52,
   "id": "floating-excerpt",
   "metadata": {},
   "outputs": [],
   "source": [
    "file_ha_vdis = np.array([df_ha_vdis.loc[index[num]][0] for num in range(len(mangaid))])\n",
    "file_ha_vdis = np.log10(np.abs(file_ha_vdis))"
   ]
  },
  {
   "cell_type": "code",
   "execution_count": 53,
   "id": "foreign-furniture",
   "metadata": {},
   "outputs": [
    {
     "data": {
      "text/plain": [
       "[<matplotlib.lines.Line2D at 0x7fc7585a54d0>]"
      ]
     },
     "execution_count": 53,
     "metadata": {},
     "output_type": "execute_result"
    },
    {
     "data": {
      "image/png": "[encoded data removed]",
      "text/plain": [
       "<Figure size 576x576 with 1 Axes>"
      ]
     },
     "metadata": {
      "needs_background": "light"
     },
     "output_type": "display_data"
    }
   ],
   "source": [
    "plt.figure(figsize = (8,8))\n",
    "plt.grid()\n",
    "plt.xlabel('Their H'+ r'$\\alpha$'+' Velocity Dispersion [kms$^{-1}$]')\n",
    "plt.ylabel('log (M_BH / M_sun)')\n",
    "plt.title('BHM - Velocity Dispersion')\n",
    "plt.scatter(file_ha_vdis, BHM, marker = 'o', color = 'crimson')\n",
    "\n",
    "# plt.plot([0,10], [0,10], color = 'limegreen', linewidth = 2)\n",
    "# plt.xlim(1.5,3.5)\n",
    "# plt.ylim(6.5,8)\n",
    "\n",
    "a, b = np.polyfit(file_ha_vdis, BHM, 1)\n",
    "plt.plot(file_ha_vdis, a*file_ha_vdis + b, linewidth = 0.7, color = 'gold')\n",
    "\n",
    "plt.plot(file_ha_vdis, m*file_ha_vdis + c)\n",
    "\n",
    "# for i in range(len(mangaid_copy)):\n",
    "#     plt.text(bhm_copy[i], file_vdis_copy[i], '({})'.format(mangaid[i]))\n",
    "\n",
    "# plt.savefig('Images/BHM_ha_vdis.png', bbox_inches = 'tight')"
   ]
  },
  {
   "cell_type": "code",
   "execution_count": 54,
   "id": "female-method",
   "metadata": {},
   "outputs": [
    {
     "data": {
      "text/plain": [
       "array([0.1147, 0.1194, 0.1256, 0.1315, 0.1291, 0.118 , 0.132 , 0.1262])"
      ]
     },
     "execution_count": 54,
     "metadata": {},
     "output_type": "execute_result"
    }
   ],
   "source": [
    "rs = np.array(np.round([nsa_z.loc[index[num]][1] for num in range(8)],4))\n",
    "rs"
   ]
  },
  {
   "cell_type": "markdown",
   "id": "synthetic-professional",
   "metadata": {},
   "source": [
    "## Luminosity uncertainty"
   ]
  },
  {
   "cell_type": "code",
   "execution_count": 55,
   "id": "illegal-doctrine",
   "metadata": {},
   "outputs": [
    {
     "data": {
      "text/plain": [
       "(1179.0409294591475, 1255.528479208609, 1379.3797895449093)"
      ]
     },
     "execution_count": 55,
     "metadata": {},
     "output_type": "execute_result"
    }
   ],
   "source": [
    "fe = (flux_lb[-1], flux[-1], flux_ub[-1])\n",
    "# fe = np.log10(fe)\n",
    "fe"
   ]
  },
  {
   "cell_type": "code",
   "execution_count": 56,
   "id": "structured-scanning",
   "metadata": {},
   "outputs": [
    {
     "data": {
      "text/plain": [
       "(9.864476384826157, -6.092060117797851)"
      ]
     },
     "execution_count": 56,
     "metadata": {},
     "output_type": "execute_result"
    }
   ],
   "source": [
    "(fe[-1] - fe[1])*100 / fe[1], (fe[0] - fe[1])*100 / fe[1]"
   ]
  },
  {
   "cell_type": "code",
   "execution_count": 57,
   "id": "neural-grade",
   "metadata": {},
   "outputs": [],
   "source": [
    "sol_luminosity = 3.846 * 10**(-8)"
   ]
  },
  {
   "cell_type": "code",
   "execution_count": 58,
   "id": "written-store",
   "metadata": {},
   "outputs": [
    {
     "data": {
      "text/plain": [
       "(4.924, 5.2435, 5.7607)"
      ]
     },
     "execution_count": 58,
     "metadata": {},
     "output_type": "execute_result"
    }
   ],
   "source": [
    "le = (4.924, 5.2435, 5.7607) # absolute values\n",
    "le"
   ]
  },
  {
   "cell_type": "code",
   "execution_count": 59,
   "id": "reported-stock",
   "metadata": {},
   "outputs": [
    {
     "data": {
      "text/plain": [
       "(9.863640698007053, -6.093258319824538)"
      ]
     },
     "execution_count": 59,
     "metadata": {},
     "output_type": "execute_result"
    }
   ],
   "source": [
    "(le[-1] - le[1])*100 / le[1], (le[0] - le[1])*100 / le[1]"
   ]
  },
  {
   "cell_type": "code",
   "execution_count": 60,
   "id": "liberal-spread",
   "metadata": {},
   "outputs": [
    {
     "data": {
      "text/plain": [
       "([2.312855873274293e+40,\n",
       "  4.077546945714149e+40,\n",
       "  1.931019775541361e+41,\n",
       "  8.094681725108951e+40,\n",
       "  5.612210145180242e+40,\n",
       "  3.730283286676222e+41,\n",
       "  5.133185829609107e+40,\n",
       "  3.1943563095600086e+40],\n",
       " [4.330036457432211e+40,\n",
       "  5.80234604306963e+40,\n",
       "  2.2686531171753967e+41,\n",
       "  1.2330640108804344e+41,\n",
       "  1.0474276327242836e+41,\n",
       "  4.637501263509362e+41,\n",
       "  6.722269414688673e+40,\n",
       "  5.17241323478034e+40])"
      ]
     },
     "execution_count": 60,
     "metadata": {},
     "output_type": "execute_result"
    }
   ],
   "source": [
    "lum_bf_log_ub_error = [lum_bf_log_ub[i] - lum_bf_log[i] for i in range(8)]\n",
    "lum_bf_log_lb_error = [lum_bf_log[i] - lum_bf_log_lb[i] for i in range(8)]\n",
    "lum_bf_log_lb_error, lum_bf_log_ub_error"
   ]
  },
  {
   "cell_type": "markdown",
   "id": "novel-trauma",
   "metadata": {},
   "source": [
    "<img src = 'Images/Lum_uncertainty.png' style = \"width : 550px;\"/>"
   ]
  },
  {
   "cell_type": "code",
   "execution_count": 61,
   "id": "otherwise-seven",
   "metadata": {},
   "outputs": [
    {
     "data": {
      "text/plain": [
       "[0.07294249872712269,\n",
       " 0.12194554893137001,\n",
       " 0.11655715357999026,\n",
       " 0.19665932256046154,\n",
       " 0.17164067446682724,\n",
       " 0.1062667212917418,\n",
       " 0.05929018826863206,\n",
       " 0.04284087660794936]"
      ]
     },
     "execution_count": 61,
     "metadata": {},
     "output_type": "execute_result"
    }
   ],
   "source": [
    "# The error for each of the log(lum / sol lum) value\n",
    "# upper bound\n",
    "u = [(1/(np.log(10)*lum_bf_log[i])) * lum_bf_log_ub_error[i] for i in range(8)]\n",
    "u"
   ]
  },
  {
   "cell_type": "code",
   "execution_count": 62,
   "id": "accessible-cinema",
   "metadata": {},
   "outputs": [
    {
     "data": {
      "text/plain": [
       "[0.9320193411369541,\n",
       " 1.5775186737542928,\n",
       " 1.3972320183677949,\n",
       " 2.5051995833152856,\n",
       " 2.1897750493261374,\n",
       " 1.2224877010694137,\n",
       " 0.7313178112819454,\n",
       " 0.5266494294238937]"
      ]
     },
     "execution_count": 62,
     "metadata": {},
     "output_type": "execute_result"
    }
   ],
   "source": [
    "# percentage error for each of the log(lum / sol lum) value\n",
    "# upper bound\n",
    "q = [u[i]*100/lum[i] for i in range(8)]\n",
    "q"
   ]
  },
  {
   "cell_type": "code",
   "execution_count": 63,
   "id": "serious-notion",
   "metadata": {},
   "outputs": [
    {
     "data": {
      "text/plain": [
       "[0.038961678094593624,\n",
       " 0.08569614719591725,\n",
       " 0.09921048169056491,\n",
       " 0.1291007287825899,\n",
       " 0.09196659554062711,\n",
       " 0.08547813829909147,\n",
       " 0.04527452493801803,\n",
       " 0.026457480925824842]"
      ]
     },
     "execution_count": 63,
     "metadata": {},
     "output_type": "execute_result"
    }
   ],
   "source": [
    "# The error for each of the log(lum / sol lum) value\n",
    "# lower bound\n",
    "r = [(1/(np.log(10)*lum_bf_log[i])) * lum_bf_log_lb_error[i] for i in range(8)]\n",
    "r"
   ]
  },
  {
   "cell_type": "code",
   "execution_count": 64,
   "id": "approximate-xerox",
   "metadata": {},
   "outputs": [
    {
     "data": {
      "text/plain": [
       "[0.4978310063541973,\n",
       " 1.1085871821893096,\n",
       " 1.1892883218070154,\n",
       " 1.6445856099825105,\n",
       " 1.17330089101494,\n",
       " 0.9833367540725125,\n",
       " 0.5584409065204189,\n",
       " 0.32524584781707544]"
      ]
     },
     "execution_count": 64,
     "metadata": {},
     "output_type": "execute_result"
    }
   ],
   "source": [
    "# percentage error for each of the log(lum / sol lum) value\n",
    "# lower bound\n",
    "s = [r[i]*100/lum[i] for i in range(8)]\n",
    "s"
   ]
  },
  {
   "cell_type": "code",
   "execution_count": 65,
   "id": "designed-regard",
   "metadata": {},
   "outputs": [],
   "source": [
    "lum_uncertainty = [r, u]"
   ]
  },
  {
   "cell_type": "code",
   "execution_count": 66,
   "id": "associate-picture",
   "metadata": {},
   "outputs": [
    {
     "data": {
      "text/plain": [
       "<ErrorbarContainer object of 3 artists>"
      ]
     },
     "execution_count": 66,
     "metadata": {},
     "output_type": "execute_result"
    },
    {
     "data": {
      "image/png": "[encoded data removed]",
      "text/plain": [
       "<Figure size 576x576 with 1 Axes>"
      ]
     },
     "metadata": {
      "needs_background": "light"
     },
     "output_type": "display_data"
    }
   ],
   "source": [
    "plt.figure(figsize = (8,8))\n",
    "plt.grid()\n",
    "plt.xlim(0,10)\n",
    "plt.ylim(0,10)\n",
    "plt.title('[OIII] luminosity')\n",
    "plt.xlabel('My luminosity [erg s$^{-1}$]')\n",
    "plt.ylabel('Their Luminosity (Calculated using their flux and my lum distance) [erg s$^{-1}$]')\n",
    "plt.plot([-5,15], [-5,15], color = 'peachpuff', linewidth = 1.5)\n",
    "# plt.errorbar(lum, oiiilum_log, color = 'slateblue', xerr = lum_uncertainty)\n",
    "plt.errorbar(lum, oiiilum_log, xerr = lum_uncertainty, fmt = '.', color = 'slateblue', ms = 10, capsize = 5, \n",
    "             label = 'Mine', linewidth = 0.8)\n",
    "\n",
    "\n",
    "# plt.savefig('Images/lum_results.png', bbox_inches = 'tight')"
   ]
  },
  {
   "cell_type": "code",
   "execution_count": 67,
   "id": "hidden-annex",
   "metadata": {},
   "outputs": [
    {
     "data": {
      "text/plain": [
       "Text(0, 0.5, 'log(L$_{[OIII]}$ / L$_\\\\odot$) from the catalog [erg s$^{-1}$]')"
      ]
     },
     "execution_count": 67,
     "metadata": {},
     "output_type": "execute_result"
    },
    {
     "data": {
      "image/png": "[encoded data removed]",
      "text/plain": [
       "<Figure size 936x432 with 2 Axes>"
      ]
     },
     "metadata": {
      "needs_background": "light"
     },
     "output_type": "display_data"
    }
   ],
   "source": [
    "fig, (f, l) = plt.subplots(1,2, figsize = (13,6))\n",
    "\n",
    "f.grid()\n",
    "f.errorbar(flux, file_flux, xerr = asymmetric_error, fmt = '.', color = 'tomato', ms = 10, capsize = 5)\n",
    "f.plot([-500,7000], [-500,7000], color = 'royalblue')\n",
    "f.set_xlim(-500,7000)\n",
    "f.set_ylim(-500,7000)\n",
    "f.set_xlabel('Flux$_{[OIII]}$ in this work' + ' [erg s$^{-1}$ cm$^{-2}$]')\n",
    "f.set_ylabel('Flux$_{[OIII]}$ from the catalog '  \n",
    "           + '[erg s$^{-1}$ cm$^{-2}$]')\n",
    "f.set_title('Flux')\n",
    "\n",
    "\n",
    "l.grid()\n",
    "l.errorbar(lum, oiiilum_log, xerr = lum_uncertainty, fmt = '.', color = 'slateblue', ms = 10, capsize = 5)\n",
    "l.plot([5.5,9], [5.5,9], color = 'peachpuff', linewidth = 2)\n",
    "l.set_xlim(5.5,9)\n",
    "l.set_ylim(5.5,9)\n",
    "l.set_title('[OIII] Luminosity')\n",
    "l.set_xlabel('log(L$_{[OIII]}$ / L$_\\odot$) in this work [erg s$^{-1}$]')\n",
    "l.set_ylabel('log(L$_{[OIII]}$ / L$_\\odot$) from the catalog [erg s$^{-1}$]')\n",
    "\n",
    "# plt.savefig('Images/fluxandlum_sidebyside.png', bbox_inches = 'tight')"
   ]
  },
  {
   "cell_type": "code",
   "execution_count": null,
   "id": "innocent-plasma",
   "metadata": {},
   "outputs": [],
   "source": []
  }
 ],
 "metadata": {
  "kernelspec": {
   "display_name": "Python 3",
   "language": "python",
   "name": "python3"
  },
  "language_info": {
   "codemirror_mode": {
    "name": "ipython",
    "version": 3
   },
   "file_extension": ".py",
   "mimetype": "text/x-python",
   "name": "python",
   "nbconvert_exporter": "python",
   "pygments_lexer": "ipython3",
   "version": "3.7.9"
  }
 },
 "nbformat": 4,
 "nbformat_minor": 5
}
